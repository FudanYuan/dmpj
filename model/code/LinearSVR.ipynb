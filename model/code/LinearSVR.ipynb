{
 "cells": [
  {
   "cell_type": "code",
   "execution_count": 5,
   "metadata": {
    "collapsed": true
   },
   "outputs": [],
   "source": [
    "import numpy as np\n",
    "import matplotlib.pyplot as plt\n",
    "import pandas as pd\n",
    "import seaborn as sns\n",
    "%matplotlib inline"
   ]
  },
  {
   "cell_type": "markdown",
   "metadata": {},
   "source": [
    "# 加载数据集"
   ]
  },
  {
   "cell_type": "code",
   "execution_count": 6,
   "metadata": {},
   "outputs": [
    {
     "data": {
      "text/html": [
       "<div>\n",
       "<style scoped>\n",
       "    .dataframe tbody tr th:only-of-type {\n",
       "        vertical-align: middle;\n",
       "    }\n",
       "\n",
       "    .dataframe tbody tr th {\n",
       "        vertical-align: top;\n",
       "    }\n",
       "\n",
       "    .dataframe thead th {\n",
       "        text-align: right;\n",
       "    }\n",
       "</style>\n",
       "<table border=\"1\" class=\"dataframe\">\n",
       "  <thead>\n",
       "    <tr style=\"text-align: right;\">\n",
       "      <th></th>\n",
       "      <th>vehicle_id</th>\n",
       "      <th>charge_start_time</th>\n",
       "      <th>charge_end_time</th>\n",
       "      <th>charge_duration</th>\n",
       "      <th>mileage</th>\n",
       "      <th>delta_mileage</th>\n",
       "      <th>charge_start_soc</th>\n",
       "      <th>charge_end_soc</th>\n",
       "      <th>charge_delta_soc</th>\n",
       "      <th>charge_start_U</th>\n",
       "      <th>charge_end_U</th>\n",
       "      <th>charge_start_I</th>\n",
       "      <th>charge_end_I</th>\n",
       "      <th>charge_max_temp</th>\n",
       "      <th>charge_min_temp</th>\n",
       "      <th>charge_energy</th>\n",
       "    </tr>\n",
       "  </thead>\n",
       "  <tbody>\n",
       "    <tr>\n",
       "      <th>count</th>\n",
       "      <td>162.0</td>\n",
       "      <td>1.620000e+02</td>\n",
       "      <td>1.620000e+02</td>\n",
       "      <td>162.000000</td>\n",
       "      <td>162.000000</td>\n",
       "      <td>162.000000</td>\n",
       "      <td>162.000000</td>\n",
       "      <td>162.000000</td>\n",
       "      <td>162.000000</td>\n",
       "      <td>162.000000</td>\n",
       "      <td>162.000000</td>\n",
       "      <td>162.000000</td>\n",
       "      <td>162.000000</td>\n",
       "      <td>162.000000</td>\n",
       "      <td>162.000000</td>\n",
       "      <td>162.000000</td>\n",
       "    </tr>\n",
       "    <tr>\n",
       "      <th>mean</th>\n",
       "      <td>1.0</td>\n",
       "      <td>2.020000e+13</td>\n",
       "      <td>2.020000e+13</td>\n",
       "      <td>15883.666667</td>\n",
       "      <td>77945.406173</td>\n",
       "      <td>123.654938</td>\n",
       "      <td>43.360494</td>\n",
       "      <td>90.997531</td>\n",
       "      <td>47.637037</td>\n",
       "      <td>366.024074</td>\n",
       "      <td>394.508025</td>\n",
       "      <td>-16.294444</td>\n",
       "      <td>-15.526543</td>\n",
       "      <td>14.333333</td>\n",
       "      <td>7.672840</td>\n",
       "      <td>16.211284</td>\n",
       "    </tr>\n",
       "    <tr>\n",
       "      <th>std</th>\n",
       "      <td>0.0</td>\n",
       "      <td>0.000000e+00</td>\n",
       "      <td>0.000000e+00</td>\n",
       "      <td>10978.078015</td>\n",
       "      <td>6585.411095</td>\n",
       "      <td>393.165645</td>\n",
       "      <td>15.410408</td>\n",
       "      <td>19.314629</td>\n",
       "      <td>17.782778</td>\n",
       "      <td>4.556884</td>\n",
       "      <td>7.131550</td>\n",
       "      <td>11.866594</td>\n",
       "      <td>14.030844</td>\n",
       "      <td>3.735011</td>\n",
       "      <td>4.505111</td>\n",
       "      <td>5.349017</td>\n",
       "    </tr>\n",
       "    <tr>\n",
       "      <th>min</th>\n",
       "      <td>1.0</td>\n",
       "      <td>2.020000e+13</td>\n",
       "      <td>2.020000e+13</td>\n",
       "      <td>750.000000</td>\n",
       "      <td>69180.200000</td>\n",
       "      <td>19.700000</td>\n",
       "      <td>10.400000</td>\n",
       "      <td>19.200000</td>\n",
       "      <td>4.000000</td>\n",
       "      <td>357.200000</td>\n",
       "      <td>372.800000</td>\n",
       "      <td>-41.300000</td>\n",
       "      <td>-41.200000</td>\n",
       "      <td>7.000000</td>\n",
       "      <td>-2.000000</td>\n",
       "      <td>3.209000</td>\n",
       "    </tr>\n",
       "    <tr>\n",
       "      <th>25%</th>\n",
       "      <td>1.0</td>\n",
       "      <td>2.020000e+13</td>\n",
       "      <td>2.020000e+13</td>\n",
       "      <td>2932.500000</td>\n",
       "      <td>73095.425000</td>\n",
       "      <td>72.100000</td>\n",
       "      <td>34.000000</td>\n",
       "      <td>93.200000</td>\n",
       "      <td>32.900000</td>\n",
       "      <td>362.450000</td>\n",
       "      <td>389.025000</td>\n",
       "      <td>-29.275000</td>\n",
       "      <td>-15.900000</td>\n",
       "      <td>12.000000</td>\n",
       "      <td>4.250000</td>\n",
       "      <td>11.378750</td>\n",
       "    </tr>\n",
       "    <tr>\n",
       "      <th>50%</th>\n",
       "      <td>1.0</td>\n",
       "      <td>2.020000e+13</td>\n",
       "      <td>2.020000e+13</td>\n",
       "      <td>21204.500000</td>\n",
       "      <td>76811.650000</td>\n",
       "      <td>89.100000</td>\n",
       "      <td>39.200000</td>\n",
       "      <td>100.000000</td>\n",
       "      <td>48.600000</td>\n",
       "      <td>365.650000</td>\n",
       "      <td>398.200000</td>\n",
       "      <td>-7.700000</td>\n",
       "      <td>-7.700000</td>\n",
       "      <td>14.000000</td>\n",
       "      <td>7.000000</td>\n",
       "      <td>18.266500</td>\n",
       "    </tr>\n",
       "    <tr>\n",
       "      <th>75%</th>\n",
       "      <td>1.0</td>\n",
       "      <td>2.020000e+13</td>\n",
       "      <td>2.020000e+13</td>\n",
       "      <td>26070.500000</td>\n",
       "      <td>81057.450000</td>\n",
       "      <td>106.525000</td>\n",
       "      <td>56.800000</td>\n",
       "      <td>100.000000</td>\n",
       "      <td>64.800000</td>\n",
       "      <td>370.075000</td>\n",
       "      <td>399.700000</td>\n",
       "      <td>-7.600000</td>\n",
       "      <td>-7.600000</td>\n",
       "      <td>16.000000</td>\n",
       "      <td>10.000000</td>\n",
       "      <td>20.926000</td>\n",
       "    </tr>\n",
       "    <tr>\n",
       "      <th>max</th>\n",
       "      <td>1.0</td>\n",
       "      <td>2.020000e+13</td>\n",
       "      <td>2.020000e+13</td>\n",
       "      <td>29989.000000</td>\n",
       "      <td>94630.700000</td>\n",
       "      <td>5078.300000</td>\n",
       "      <td>75.200000</td>\n",
       "      <td>100.000000</td>\n",
       "      <td>70.800000</td>\n",
       "      <td>377.600000</td>\n",
       "      <td>401.600000</td>\n",
       "      <td>-0.800000</td>\n",
       "      <td>-1.800000</td>\n",
       "      <td>29.000000</td>\n",
       "      <td>23.000000</td>\n",
       "      <td>24.043000</td>\n",
       "    </tr>\n",
       "  </tbody>\n",
       "</table>\n",
       "</div>"
      ],
      "text/plain": [
       "       vehicle_id  charge_start_time  charge_end_time  charge_duration  \\\n",
       "count       162.0       1.620000e+02     1.620000e+02       162.000000   \n",
       "mean          1.0       2.020000e+13     2.020000e+13     15883.666667   \n",
       "std           0.0       0.000000e+00     0.000000e+00     10978.078015   \n",
       "min           1.0       2.020000e+13     2.020000e+13       750.000000   \n",
       "25%           1.0       2.020000e+13     2.020000e+13      2932.500000   \n",
       "50%           1.0       2.020000e+13     2.020000e+13     21204.500000   \n",
       "75%           1.0       2.020000e+13     2.020000e+13     26070.500000   \n",
       "max           1.0       2.020000e+13     2.020000e+13     29989.000000   \n",
       "\n",
       "            mileage  delta_mileage  charge_start_soc  charge_end_soc  \\\n",
       "count    162.000000     162.000000        162.000000      162.000000   \n",
       "mean   77945.406173     123.654938         43.360494       90.997531   \n",
       "std     6585.411095     393.165645         15.410408       19.314629   \n",
       "min    69180.200000      19.700000         10.400000       19.200000   \n",
       "25%    73095.425000      72.100000         34.000000       93.200000   \n",
       "50%    76811.650000      89.100000         39.200000      100.000000   \n",
       "75%    81057.450000     106.525000         56.800000      100.000000   \n",
       "max    94630.700000    5078.300000         75.200000      100.000000   \n",
       "\n",
       "       charge_delta_soc  charge_start_U  charge_end_U  charge_start_I  \\\n",
       "count        162.000000      162.000000    162.000000      162.000000   \n",
       "mean          47.637037      366.024074    394.508025      -16.294444   \n",
       "std           17.782778        4.556884      7.131550       11.866594   \n",
       "min            4.000000      357.200000    372.800000      -41.300000   \n",
       "25%           32.900000      362.450000    389.025000      -29.275000   \n",
       "50%           48.600000      365.650000    398.200000       -7.700000   \n",
       "75%           64.800000      370.075000    399.700000       -7.600000   \n",
       "max           70.800000      377.600000    401.600000       -0.800000   \n",
       "\n",
       "       charge_end_I  charge_max_temp  charge_min_temp  charge_energy  \n",
       "count    162.000000       162.000000       162.000000     162.000000  \n",
       "mean     -15.526543        14.333333         7.672840      16.211284  \n",
       "std       14.030844         3.735011         4.505111       5.349017  \n",
       "min      -41.200000         7.000000        -2.000000       3.209000  \n",
       "25%      -15.900000        12.000000         4.250000      11.378750  \n",
       "50%       -7.700000        14.000000         7.000000      18.266500  \n",
       "75%       -7.600000        16.000000        10.000000      20.926000  \n",
       "max       -1.800000        29.000000        23.000000      24.043000  "
      ]
     },
     "execution_count": 6,
     "metadata": {},
     "output_type": "execute_result"
    }
   ],
   "source": [
    "vehicle_id=1\n",
    "data_root='./'\n",
    "dataset=pd.read_csv(data_root+'perfect_%d.csv'% vehicle_id)\n",
    "header=dataset.columns.values.tolist()\n",
    "dataset.describe()"
   ]
  },
  {
   "cell_type": "code",
   "execution_count": 7,
   "metadata": {},
   "outputs": [
    {
     "name": "stderr",
     "output_type": "stream",
     "text": [
      "D:\\anaconda-a\\lib\\site-packages\\matplotlib\\axes\\_axes.py:6462: UserWarning: The 'normed' kwarg is deprecated, and has been replaced by the 'density' kwarg.\n",
      "  warnings.warn(\"The 'normed' kwarg is deprecated, and has been \"\n"
     ]
    },
    {
     "data": {
      "image/png": "[encoded data removed]",
      "text/plain": [
       "<Figure size 432x288 with 1 Axes>"
      ]
     },
     "metadata": {},
     "output_type": "display_data"
    }
   ],
   "source": [
    "sns.distplot(dataset['charge_energy']);"
   ]
  },
  {
   "cell_type": "markdown",
   "metadata": {},
   "source": [
    "# 特征选择"
   ]
  },
  {
   "cell_type": "code",
   "execution_count": 8,
   "metadata": {
    "collapsed": true
   },
   "outputs": [],
   "source": [
    "features=['charge_duration', 'charge_start_soc', 'charge_start_U']\n",
    "X=dataset[header[3:14]]\n",
    "y=dataset[header[15]]"
   ]
  },
  {
   "cell_type": "markdown",
   "metadata": {},
   "source": [
    "# 划分训练集和测试集"
   ]
  },
  {
   "cell_type": "code",
   "execution_count": 9,
   "metadata": {},
   "outputs": [
    {
     "name": "stdout",
     "output_type": "stream",
     "text": [
      "(121, 11)\n",
      "(121,)\n",
      "(41, 11)\n",
      "(41,)\n"
     ]
    }
   ],
   "source": [
    "from sklearn.model_selection import train_test_split\n",
    "X_train,X_test,y_train,y_test=train_test_split(X,y,test_size=0.25,random_state=42)\n",
    "print(X_train.shape)\n",
    "print(y_train.shape)\n",
    "print(X_test.shape)\n",
    "print(y_test.shape)"
   ]
  },
  {
   "cell_type": "markdown",
   "metadata": {},
   "source": [
    "# 数据标准化"
   ]
  },
  {
   "cell_type": "code",
   "execution_count": 10,
   "metadata": {},
   "outputs": [
    {
     "data": {
      "text/plain": [
       "array([[0.12346523, 0.53257107, 0.01120863, ..., 0.29135802, 1.        ,\n",
       "        0.40909091],\n",
       "       [0.05437942, 0.30466592, 0.01031906, ..., 0.27160494, 0.0128866 ,\n",
       "        0.31818182],\n",
       "       [0.07489996, 0.35387517, 0.01622979, ..., 0.37037037, 0.01546392,\n",
       "        0.36363636],\n",
       "       ...,\n",
       "       [0.91360854, 0.05619929, 0.0268256 , ..., 0.83209877, 0.86082474,\n",
       "        0.54545455],\n",
       "       [0.07934608, 0.33830377, 0.01342269, ..., 0.37037037, 0.97680412,\n",
       "        0.5       ],\n",
       "       [0.14022367, 0.37810652, 0.02648954, ..., 0.29876543, 0.97680412,\n",
       "        0.5       ]])"
      ]
     },
     "execution_count": 10,
     "metadata": {},
     "output_type": "execute_result"
    }
   ],
   "source": [
    "from sklearn import preprocessing\n",
    "scaler=preprocessing.MinMaxScaler()\n",
    "X_train_scaled=scaler.fit_transform(X_train.astype(np.float64))\n",
    "X_test_scaled=scaler.fit_transform(X_test.astype(np.float64))\n",
    "X_train_scaled"
   ]
  },
  {
   "cell_type": "markdown",
   "metadata": {},
   "source": [
    "# 参数选择"
   ]
  },
  {
   "cell_type": "code",
   "execution_count": 11,
   "metadata": {},
   "outputs": [
    {
     "data": {
      "text/plain": [
       "(121, 11)"
      ]
     },
     "execution_count": 11,
     "metadata": {},
     "output_type": "execute_result"
    }
   ],
   "source": [
    "from sklearn.feature_selection import VarianceThreshold\n",
    "#设置方差的阈值为0.08\n",
    "sel=VarianceThreshold(threshold=0.08)\n",
    "X_sel=sel.fit_transform(X_train.astype(np.float64))\n",
    "X_sel.shape"
   ]
  },
  {
   "cell_type": "markdown",
   "metadata": {},
   "source": [
    "# 线性回归SVM"
   ]
  },
  {
   "cell_type": "code",
   "execution_count": 12,
   "metadata": {},
   "outputs": [
    {
     "name": "stdout",
     "output_type": "stream",
     "text": [
      "Running time: 0.0009945697964468536 Seconds\n"
     ]
    },
    {
     "data": {
      "text/plain": [
       "0.9267301477692318"
      ]
     },
     "execution_count": 12,
     "metadata": {},
     "output_type": "execute_result"
    }
   ],
   "source": [
    "import time\n",
    "from sklearn.svm import SVR\n",
    "from sklearn import svm\n",
    "l_svr=svm.LinearSVR()\n",
    "#记录训练开始时间\n",
    "time_start=time.clock()\n",
    "l_svr.fit(X_train_scaled,y_train)\n",
    "#记录训练结束时间\n",
    "time_end=time.clock()\n",
    "print('Running time: %s Seconds'%(time_end-time_start))\n",
    "l_svr.score(X_test_scaled,y_test)"
   ]
  },
  {
   "cell_type": "markdown",
   "metadata": {},
   "source": [
    "# 预测结果并评价"
   ]
  },
  {
   "cell_type": "code",
   "execution_count": 13,
   "metadata": {},
   "outputs": [
    {
     "name": "stdout",
     "output_type": "stream",
     "text": [
      "MSE: 1.7311573713086137\n",
      "RMSE: 1.3157345367925148\n",
      "MAE: 1.1584904547458312\n",
      "error_rate: 0.598240\n"
     ]
    }
   ],
   "source": [
    "y_pred=l_svr.predict(X_test_scaled)\n",
    "\n",
    "#评估模型\n",
    "from sklearn import metrics\n",
    "# 用scikit-learn计算MSE\n",
    "print(\"MSE:\",metrics.mean_squared_error(y_test, y_pred))\n",
    "# 用scikit-learn计算RMSE\n",
    "print(\"RMSE:\",np.sqrt(metrics.mean_squared_error(y_test, y_pred)))\n",
    "# 用scikit-learn计算MAE\n",
    "print(\"MAE:\",metrics.mean_absolute_error(y_test, y_pred))\n",
    "# 计算精确度\n",
    "# for i in range(len(y_pred)):\n",
    "#     if y_pred[i] < 0:\n",
    "#         y_pred[i] = 0.4\n",
    "\n",
    "error_array = np.array(((y_test - y_pred) / y_test))\n",
    "error_rate = np.sqrt(np.sum(np.power(error_array,2)))\n",
    "print(\"error_rate: %f\" % error_rate)"
   ]
  },
  {
   "cell_type": "markdown",
   "metadata": {},
   "source": [
    "# 真实值与预测值越接近y=x表明预测越准确"
   ]
  },
  {
   "cell_type": "code",
   "execution_count": 14,
   "metadata": {},
   "outputs": [
    {
     "data": {
      "image/png": "[encoded data removed]",
      "text/plain": [
       "<Figure size 432x288 with 1 Axes>"
      ]
     },
     "metadata": {},
     "output_type": "display_data"
    }
   ],
   "source": [
    "fig, ax = plt.subplots()\n",
    "ax.scatter(y_test, y_pred)\n",
    "ax.plot([y.min(), y.max()], [y.min(), y.max()], 'k--', lw=4)\n",
    "ax.set_xlabel('Measured')\n",
    "ax.set_ylabel('Predicted')\n",
    "plt.show()"
   ]
  },
  {
   "cell_type": "markdown",
   "metadata": {},
   "source": [
    "### Linear SVR"
   ]
  },
  {
   "cell_type": "code",
   "execution_count": 15,
   "metadata": {},
   "outputs": [
    {
     "name": "stdout",
     "output_type": "stream",
     "text": [
      "Running time: 0.001477261684108555 Seconds\n"
     ]
    },
    {
     "data": {
      "text/plain": [
       "0.8774953725932754"
      ]
     },
     "execution_count": 15,
     "metadata": {},
     "output_type": "execute_result"
    }
   ],
   "source": [
    "import time\n",
    "from sklearn.svm import SVR\n",
    "from sklearn import svm\n",
    "l_svr=svm.LinearSVR(epsilon=0.1,loss='squared_epsilon_insensitive')\n",
    "#记录训练开始时间\n",
    "time_start=time.clock()\n",
    "l_svr.fit(X_train_scaled,y_train)\n",
    "#记录训练结束时间\n",
    "time_end=time.clock()\n",
    "print('Running time: %s Seconds'%(time_end-time_start))\n",
    "l_svr.score(X_test_scaled,y_test)"
   ]
  },
  {
   "cell_type": "markdown",
   "metadata": {},
   "source": [
    "# 预测结果并评价 "
   ]
  },
  {
   "cell_type": "code",
   "execution_count": 17,
   "metadata": {},
   "outputs": [
    {
     "name": "stdout",
     "output_type": "stream",
     "text": [
      "MSE: 2.8944345088430516\n",
      "RMSE: 1.7013037673628575\n",
      "MAE: 1.5007436013973463\n",
      "error_rate: 0.772234\n"
     ]
    },
    {
     "data": {
      "image/png": "[encoded data removed]",
      "text/plain": [
       "<Figure size 432x288 with 1 Axes>"
      ]
     },
     "metadata": {},
     "output_type": "display_data"
    }
   ],
   "source": [
    "y_pred=l_svr.predict(X_test_scaled)\n",
    "\n",
    "#评估模型\n",
    "from sklearn import metrics\n",
    "# 用scikit-learn计算MSE\n",
    "print(\"MSE:\",metrics.mean_squared_error(y_test, y_pred))\n",
    "# 用scikit-learn计算RMSE\n",
    "print(\"RMSE:\",np.sqrt(metrics.mean_squared_error(y_test, y_pred)))\n",
    "# 用scikit-learn计算MAE\n",
    "print(\"MAE:\",metrics.mean_absolute_error(y_test, y_pred))\n",
    "# 计算精确度\n",
    "# for i in range(len(y_pred)):\n",
    "#     if y_pred[i] < 0:\n",
    "#         y_pred[i] = 0.4\n",
    "\n",
    "error_array = np.array(((y_test - y_pred) / y_test))\n",
    "error_rate = np.sqrt(np.sum(np.power(error_array,2)))\n",
    "print(\"error_rate: %f\" % error_rate)\n",
    "\n",
    "fig, ax = plt.subplots()\n",
    "ax.scatter(y_test, y_pred)\n",
    "ax.plot([y.min(), y.max()], [y.min(), y.max()], 'k--', lw=4)\n",
    "ax.set_xlabel('Measured')\n",
    "ax.set_ylabel('Predicted')\n",
    "plt.show()"
   ]
  },
  {
   "cell_type": "code",
   "execution_count": null,
   "metadata": {
    "collapsed": true
   },
   "outputs": [],
   "source": []
  }
 ],
 "metadata": {
  "kernelspec": {
   "display_name": "Python 3",
   "language": "python",
   "name": "python3"
  },
  "language_info": {
   "codemirror_mode": {
    "name": "ipython",
    "version": 3
   },
   "file_extension": ".py",
   "mimetype": "text/x-python",
   "name": "python",
   "nbconvert_exporter": "python",
   "pygments_lexer": "ipython3",
   "version": "3.6.2"
  }
 },
 "nbformat": 4,
 "nbformat_minor": 2
}
