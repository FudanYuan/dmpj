{
 "cells": [
  {
   "cell_type": "markdown",
   "metadata": {},
   "source": [
    "## 新能源电动汽车动力电池充电能量预测（三）——特征工程"
   ]
  },
  {
   "cell_type": "code",
   "execution_count": 1,
   "metadata": {
    "collapsed": true
   },
   "outputs": [],
   "source": [
    "import pandas as pd\n",
    "import matplotlib.pyplot as plt\n",
    "import seaborn as sns\n",
    "%matplotlib inline\n",
    "import numpy as np\n",
    "from datetime import date, datetime\n",
    "from package import utils\n",
    "from scipy import stats"
   ]
  },
  {
   "cell_type": "markdown",
   "metadata": {},
   "source": [
    "### 数据导入"
   ]
  },
  {
   "cell_type": "code",
   "execution_count": 2,
   "metadata": {},
   "outputs": [
    {
     "data": {
      "text/html": [
       "<div>\n",
       "<style scoped>\n",
       "    .dataframe tbody tr th:only-of-type {\n",
       "        vertical-align: middle;\n",
       "    }\n",
       "\n",
       "    .dataframe tbody tr th {\n",
       "        vertical-align: top;\n",
       "    }\n",
       "\n",
       "    .dataframe thead th {\n",
       "        text-align: right;\n",
       "    }\n",
       "</style>\n",
       "<table border=\"1\" class=\"dataframe\">\n",
       "  <thead>\n",
       "    <tr style=\"text-align: right;\">\n",
       "      <th></th>\n",
       "      <th>vehicle_id</th>\n",
       "      <th>charge_start_time</th>\n",
       "      <th>charge_end_time</th>\n",
       "      <th>mileage</th>\n",
       "      <th>charge_start_soc</th>\n",
       "      <th>charge_end_soc</th>\n",
       "      <th>charge_start_U</th>\n",
       "      <th>charge_end_U</th>\n",
       "      <th>charge_start_I</th>\n",
       "      <th>charge_end_I</th>\n",
       "      <th>charge_max_temp</th>\n",
       "      <th>charge_min_temp</th>\n",
       "      <th>charge_energy</th>\n",
       "    </tr>\n",
       "  </thead>\n",
       "  <tbody>\n",
       "    <tr>\n",
       "      <th>count</th>\n",
       "      <td>5860.00</td>\n",
       "      <td>5.86e+03</td>\n",
       "      <td>5.86e+03</td>\n",
       "      <td>5860.00</td>\n",
       "      <td>5853.00</td>\n",
       "      <td>5817.00</td>\n",
       "      <td>5860.00</td>\n",
       "      <td>5860.00</td>\n",
       "      <td>5860.00</td>\n",
       "      <td>5860.00</td>\n",
       "      <td>5860.00</td>\n",
       "      <td>5860.00</td>\n",
       "      <td>5.86e+03</td>\n",
       "    </tr>\n",
       "    <tr>\n",
       "      <th>mean</th>\n",
       "      <td>5.17</td>\n",
       "      <td>2.02e+13</td>\n",
       "      <td>2.02e+13</td>\n",
       "      <td>108324.26</td>\n",
       "      <td>48.88</td>\n",
       "      <td>70.32</td>\n",
       "      <td>460.68</td>\n",
       "      <td>439.73</td>\n",
       "      <td>-44.82</td>\n",
       "      <td>-19.69</td>\n",
       "      <td>29.46</td>\n",
       "      <td>15.67</td>\n",
       "      <td>2.34e+01</td>\n",
       "    </tr>\n",
       "    <tr>\n",
       "      <th>std</th>\n",
       "      <td>3.06</td>\n",
       "      <td>3.99e+09</td>\n",
       "      <td>3.99e+09</td>\n",
       "      <td>31142.88</td>\n",
       "      <td>30.08</td>\n",
       "      <td>34.48</td>\n",
       "      <td>103.54</td>\n",
       "      <td>157.18</td>\n",
       "      <td>55.86</td>\n",
       "      <td>40.51</td>\n",
       "      <td>10.69</td>\n",
       "      <td>13.02</td>\n",
       "      <td>2.44e+01</td>\n",
       "    </tr>\n",
       "    <tr>\n",
       "      <th>min</th>\n",
       "      <td>1.00</td>\n",
       "      <td>2.02e+13</td>\n",
       "      <td>2.02e+13</td>\n",
       "      <td>45631.70</td>\n",
       "      <td>0.80</td>\n",
       "      <td>0.00</td>\n",
       "      <td>252.00</td>\n",
       "      <td>0.00</td>\n",
       "      <td>-202.00</td>\n",
       "      <td>-400.00</td>\n",
       "      <td>-2.00</td>\n",
       "      <td>-7.00</td>\n",
       "      <td>1.00e-03</td>\n",
       "    </tr>\n",
       "    <tr>\n",
       "      <th>25%</th>\n",
       "      <td>2.00</td>\n",
       "      <td>2.02e+13</td>\n",
       "      <td>2.02e+13</td>\n",
       "      <td>83569.40</td>\n",
       "      <td>25.00</td>\n",
       "      <td>34.00</td>\n",
       "      <td>345.20</td>\n",
       "      <td>372.50</td>\n",
       "      <td>-64.50</td>\n",
       "      <td>-16.10</td>\n",
       "      <td>21.00</td>\n",
       "      <td>2.00</td>\n",
       "      <td>3.85e+00</td>\n",
       "    </tr>\n",
       "    <tr>\n",
       "      <th>50%</th>\n",
       "      <td>5.00</td>\n",
       "      <td>2.02e+13</td>\n",
       "      <td>2.02e+13</td>\n",
       "      <td>106180.00</td>\n",
       "      <td>42.00</td>\n",
       "      <td>86.00</td>\n",
       "      <td>533.60</td>\n",
       "      <td>394.70</td>\n",
       "      <td>-21.00</td>\n",
       "      <td>-7.70</td>\n",
       "      <td>31.00</td>\n",
       "      <td>15.00</td>\n",
       "      <td>1.65e+01</td>\n",
       "    </tr>\n",
       "    <tr>\n",
       "      <th>75%</th>\n",
       "      <td>8.00</td>\n",
       "      <td>2.02e+13</td>\n",
       "      <td>2.02e+13</td>\n",
       "      <td>129317.50</td>\n",
       "      <td>68.00</td>\n",
       "      <td>100.00</td>\n",
       "      <td>551.30</td>\n",
       "      <td>565.60</td>\n",
       "      <td>-7.50</td>\n",
       "      <td>-1.00</td>\n",
       "      <td>37.00</td>\n",
       "      <td>27.00</td>\n",
       "      <td>3.26e+01</td>\n",
       "    </tr>\n",
       "    <tr>\n",
       "      <th>max</th>\n",
       "      <td>10.00</td>\n",
       "      <td>2.02e+13</td>\n",
       "      <td>2.02e+13</td>\n",
       "      <td>184014.00</td>\n",
       "      <td>100.00</td>\n",
       "      <td>100.00</td>\n",
       "      <td>595.30</td>\n",
       "      <td>604.80</td>\n",
       "      <td>-0.10</td>\n",
       "      <td>9.00</td>\n",
       "      <td>52.00</td>\n",
       "      <td>44.00</td>\n",
       "      <td>1.10e+02</td>\n",
       "    </tr>\n",
       "  </tbody>\n",
       "</table>\n",
       "</div>"
      ],
      "text/plain": [
       "       vehicle_id  charge_start_time  charge_end_time    mileage  \\\n",
       "count     5860.00           5.86e+03         5.86e+03    5860.00   \n",
       "mean         5.17           2.02e+13         2.02e+13  108324.26   \n",
       "std          3.06           3.99e+09         3.99e+09   31142.88   \n",
       "min          1.00           2.02e+13         2.02e+13   45631.70   \n",
       "25%          2.00           2.02e+13         2.02e+13   83569.40   \n",
       "50%          5.00           2.02e+13         2.02e+13  106180.00   \n",
       "75%          8.00           2.02e+13         2.02e+13  129317.50   \n",
       "max         10.00           2.02e+13         2.02e+13  184014.00   \n",
       "\n",
       "       charge_start_soc  charge_end_soc  charge_start_U  charge_end_U  \\\n",
       "count           5853.00         5817.00         5860.00       5860.00   \n",
       "mean              48.88           70.32          460.68        439.73   \n",
       "std               30.08           34.48          103.54        157.18   \n",
       "min                0.80            0.00          252.00          0.00   \n",
       "25%               25.00           34.00          345.20        372.50   \n",
       "50%               42.00           86.00          533.60        394.70   \n",
       "75%               68.00          100.00          551.30        565.60   \n",
       "max              100.00          100.00          595.30        604.80   \n",
       "\n",
       "       charge_start_I  charge_end_I  charge_max_temp  charge_min_temp  \\\n",
       "count         5860.00       5860.00          5860.00          5860.00   \n",
       "mean           -44.82        -19.69            29.46            15.67   \n",
       "std             55.86         40.51            10.69            13.02   \n",
       "min           -202.00       -400.00            -2.00            -7.00   \n",
       "25%            -64.50        -16.10            21.00             2.00   \n",
       "50%            -21.00         -7.70            31.00            15.00   \n",
       "75%             -7.50         -1.00            37.00            27.00   \n",
       "max             -0.10          9.00            52.00            44.00   \n",
       "\n",
       "       charge_energy  \n",
       "count       5.86e+03  \n",
       "mean        2.34e+01  \n",
       "std         2.44e+01  \n",
       "min         1.00e-03  \n",
       "25%         3.85e+00  \n",
       "50%         1.65e+01  \n",
       "75%         3.26e+01  \n",
       "max         1.10e+02  "
      ]
     },
     "execution_count": 2,
     "metadata": {},
     "output_type": "execute_result"
    }
   ],
   "source": [
    "# 导入经过数据筛选后的数据集合\n",
    "dataset = pd.read_csv('./energy_predict_data/train_data_filter/predict_data_e_train_filter_by_count.csv')\n",
    "# 数据字段\n",
    "header = dataset.columns.values.tolist()\n",
    "# 数据集大小\n",
    "count = np.max(dataset['vehicle_id'])\n",
    "# 数据描述\n",
    "pd.set_option('precision', 2)\n",
    "dataset.describe()"
   ]
  },
  {
   "cell_type": "markdown",
   "metadata": {},
   "source": [
    "### 相关性分析"
   ]
  },
  {
   "cell_type": "code",
   "execution_count": 3,
   "metadata": {},
   "outputs": [
    {
     "data": {
      "image/png": "[encoded data removed]",
      "text/plain": [
       "<Figure size 720x720 with 2 Axes>"
      ]
     },
     "metadata": {},
     "output_type": "display_data"
    }
   ],
   "source": [
    "# 总数据相关性勘探\n",
    "corr=dataset[header[1:]].corr()\n",
    "plt.figure(figsize=(10, 10))\n",
    "sns.heatmap(corr, vmax=0.8, linewidths=0.01,\n",
    "            square=True,annot=True,cmap='YlGnBu',linecolor=\"white\")\n",
    "plt.title('Correlation between features for whole vehicles');"
   ]
  },
  {
   "cell_type": "code",
   "execution_count": 4,
   "metadata": {
    "scrolled": true
   },
   "outputs": [
    {
     "ename": "NameError",
     "evalue": "name 'vehicle_ids_filter' is not defined",
     "output_type": "error",
     "traceback": [
      "\u001b[0;31m---------------------------------------------------------------------------\u001b[0m",
      "\u001b[0;31mNameError\u001b[0m                                 Traceback (most recent call last)",
      "\u001b[0;32m<ipython-input-4-e2b1c7515144>\u001b[0m in \u001b[0;36m<module>\u001b[0;34m()\u001b[0m\n\u001b[1;32m      1\u001b[0m \u001b[0;31m# 对不同车的数据进行相关性分析，会发现更多信息。\u001b[0m\u001b[0;34m\u001b[0m\u001b[0;34m\u001b[0m\u001b[0m\n\u001b[0;32m----> 2\u001b[0;31m \u001b[0;32mfor\u001b[0m \u001b[0mi\u001b[0m \u001b[0;32min\u001b[0m \u001b[0mvehicle_ids_filter\u001b[0m\u001b[0;34m:\u001b[0m\u001b[0;34m\u001b[0m\u001b[0m\n\u001b[0m\u001b[1;32m      3\u001b[0m     \u001b[0mdata\u001b[0m \u001b[0;34m=\u001b[0m \u001b[0mdataset\u001b[0m\u001b[0;34m[\u001b[0m\u001b[0;34m(\u001b[0m\u001b[0mdataset\u001b[0m\u001b[0;34m[\u001b[0m\u001b[0;34m'vehicle_id'\u001b[0m\u001b[0;34m]\u001b[0m\u001b[0;34m==\u001b[0m\u001b[0mi\u001b[0m\u001b[0;34m)\u001b[0m\u001b[0;34m]\u001b[0m\u001b[0;34m\u001b[0m\u001b[0m\n\u001b[1;32m      4\u001b[0m     \u001b[0mdata\u001b[0m \u001b[0;34m=\u001b[0m \u001b[0mdata\u001b[0m\u001b[0;34m[\u001b[0m\u001b[0mheader\u001b[0m\u001b[0;34m[\u001b[0m\u001b[0;36m1\u001b[0m\u001b[0;34m:\u001b[0m\u001b[0;34m]\u001b[0m\u001b[0;34m]\u001b[0m\u001b[0;34m\u001b[0m\u001b[0m\n\u001b[1;32m      5\u001b[0m     \u001b[0mcorr\u001b[0m\u001b[0;34m=\u001b[0m\u001b[0mdata\u001b[0m\u001b[0;34m.\u001b[0m\u001b[0mcorr\u001b[0m\u001b[0;34m(\u001b[0m\u001b[0;34m)\u001b[0m\u001b[0;34m\u001b[0m\u001b[0m\n",
      "\u001b[0;31mNameError\u001b[0m: name 'vehicle_ids_filter' is not defined"
     ]
    }
   ],
   "source": [
    "# 对不同车的数据进行相关性分析，会发现更多信息。\n",
    "for i in cou:\n",
    "    data = dataset[(dataset['vehicle_id']==i)]\n",
    "    data = data[header[1:]]\n",
    "    corr=data.corr()\n",
    "    plt.figure(figsize=(10, 10))\n",
    "    sns.heatmap(corr, vmax=0.8, linewidths=0.01,\n",
    "                square=True,annot=True,cmap='YlGnBu',linecolor=\"white\")\n",
    "    plt.title('Correlation between features for vehicle # %d' % i);"
   ]
  },
  {
   "cell_type": "markdown",
   "metadata": {},
   "source": [
    ">观察：对于这10辆车，发现对充电能量影响较大的有：charge_start_soc、charge_start_U、charge_min_temp。"
   ]
  },
  {
   "cell_type": "markdown",
   "metadata": {},
   "source": [
    "#### 特征工程。增加新的特征集——充电时间间隔（charge_duration）与SOC变化值（charge_delta_soc）以及里程变化值（delta_mileage，两次充电间该汽车行驶里程数，对于提供的数据集来说，每辆车第一条记录，距上一次充电间的行驶里程是不确定的。接下来，我们将会用聚类的方法对该值进行填充）；"
   ]
  },
  {
   "cell_type": "code",
   "execution_count": null,
   "metadata": {
    "collapsed": true
   },
   "outputs": [],
   "source": [
    "# 增加充电时间间隔属性\n",
    "charge_end_time_array = np.array(utils.calVecTimeStamp(dataset['charge_end_time']))\n",
    "charge_start_time_array = np.array(utils.calVecTimeStamp(dataset['charge_start_time']))\n",
    "dataset['charge_duration'] = (charge_end_time_array - charge_start_time_array).tolist()\n",
    "\n",
    "# 增加充电SOC变化量\n",
    "charge_start_soc_array = np.array(dataset['charge_start_soc'])\n",
    "charge_end_soc_array = np.array(dataset['charge_end_soc'])\n",
    "dataset['charge_delta_soc'] = (charge_end_soc_array - charge_start_soc_array).tolist()\n",
    "\n",
    "# 增加充电前汽车行驶里程数，要分车进行\n",
    "delta_mileage_list_all = []\n",
    "for i in range(1, count+1):\n",
    "    delta_mileage_list_all.append(np.NaN)\n",
    "    mileage_list = dataset[dataset['vehicle_id']==i]['mileage'].tolist()\n",
    "    for j in range(1, len(mileage_list)):\n",
    "        delta_mileage_list_all.append(mileage_list[j] - mileage_list[j-1])\n",
    "dataset['delta_mileage'] = delta_mileage_list_all\n",
    "\n",
    "# 重构数据集\n",
    "header.insert(3, 'charge_duration')\n",
    "header.insert(5, 'delta_mileage')\n",
    "header.insert(8, 'charge_delta_soc')\n",
    "\n",
    "dataset = dataset[header]"
   ]
  },
  {
   "cell_type": "markdown",
   "metadata": {},
   "source": [
    "##### 特征工程后的数据集"
   ]
  },
  {
   "cell_type": "code",
   "execution_count": null,
   "metadata": {
    "collapsed": true,
    "scrolled": true
   },
   "outputs": [],
   "source": [
    "pd.set_option('precision', 2)\n",
    "dataset.describe()"
   ]
  },
  {
   "cell_type": "markdown",
   "metadata": {},
   "source": [
    "##### 查看特征工程前后的相关性的变化"
   ]
  },
  {
   "cell_type": "code",
   "execution_count": null,
   "metadata": {
    "collapsed": true,
    "scrolled": true
   },
   "outputs": [],
   "source": [
    "# 对不同车的数据进行相关性分析，会发现更多信息\n",
    "for i in vehicle_ids_filter:\n",
    "    data = dataset[(dataset['vehicle_id']==i)]\n",
    "    data = data[header[1:]]\n",
    "    \n",
    "    # 相关性可视化\n",
    "    corr=data.corr()\n",
    "    plt.figure(figsize=(10, 10))\n",
    "    sns.heatmap(corr, vmax=0.8, linewidths=0.01,\n",
    "                square=True,annot=True,cmap='YlGnBu',linecolor=\"white\")\n",
    "    plt.title('Correlation between features for vehicle # %d' % i);\n",
    "    \n",
    "    # 保存data\n",
    "    data.to_csv(\"./energy_predict_data/train_whole_21/with_outlier/predict_data_e_train_%d.csv\" % i, index=False)"
   ]
  },
  {
   "cell_type": "markdown",
   "metadata": {},
   "source": [
    "##### 第三步，数据清洗，去除异常数据。"
   ]
  },
  {
   "cell_type": "markdown",
   "metadata": {},
   "source": [
    "##### **数据异常分析**。通过观察数据集可以发现，有相当一部分记录的充电能量值非常小。"
   ]
  },
  {
   "cell_type": "code",
   "execution_count": null,
   "metadata": {
    "collapsed": true
   },
   "outputs": [],
   "source": [
    "dataset[(dataset['charge_energy'] < 0.1)].describe()"
   ]
  },
  {
   "cell_type": "markdown",
   "metadata": {},
   "source": [
    ">通过观察，可以得到如下结论：充电能量很小时：\n",
    "* 充电时间间隔很短\n",
    "* 充电前里程变化量很小，且一般为0\n",
    "* 和上一记录几乎重复\n",
    "* 起始SOC很大，接近100。\n",
    "\n",
    ">其实，这种情况在实际中应该是比较常见。比如，刚刚充电时就有人来了把车开走了，或者是由于某些原因，导致充电过程很短，又或者是电池已经充满，继续充电能量也不会增加太多。而这些数据对训练模型没有任何帮助，因此需要这种数据记录应该视为异常。在后面的数据预处理中会将这类异常数据删去。\n",
    "\n",
    ">通过观察，若一条数据记录满足如下条件（1）和条件（2）（3）（4）中的任意一条，则视为异常数据：\n",
    "1. 充电能量小于0.1\n",
    "2. 充电时间持续时长小于10min\n",
    "3. 充电开始SOC大于99\n",
    "4. 充电SOC变化量小于0"
   ]
  },
  {
   "cell_type": "code",
   "execution_count": null,
   "metadata": {
    "collapsed": true
   },
   "outputs": [],
   "source": [
    "# 异常数据\n",
    "dataset_outlier = dataset[(dataset['charge_energy'] < 0.1)\n",
    "                          & ((dataset['charge_duration'] < 600) \n",
    "                             | (dataset['charge_start_soc'] > 99) \n",
    "                             | (dataset['charge_delta_soc'] < 0))]\n",
    "# 正常数据\n",
    "dataset_filter = dataset[~((dataset['charge_energy'] < 0.1)\n",
    "                          & ((dataset['charge_duration'] < 600) \n",
    "                             | (dataset['charge_start_soc'] > 99) \n",
    "                             | (dataset['charge_delta_soc'] < 0)))]\n",
    "\n",
    "# 查看异常数据所占比重\n",
    "rate_list = []\n",
    "for i in range(count):\n",
    "    rate = len(dataset_outlier[dataset_outlier['vehicle_id'] == i+1]) / len(dataset[dataset['vehicle_id'] == i+1])\n",
    "    rate_list.append(rate * 100)\n",
    "plt.figure(1)\n",
    "plt.grid(True)\n",
    "plt.xlabel('vehicle_id')\n",
    "plt.ylabel('rate')\n",
    "plt.axis([1, 21, 0, 100])\n",
    "#添加标题\n",
    "plt.title('The rate of outlier data')\n",
    "plt.plot(rate_list)\n",
    "plt.show()\n",
    "print(len(dataset_outlier))"
   ]
  },
  {
   "cell_type": "markdown",
   "metadata": {},
   "source": [
    ">经过筛选，可发现数据集中共有1072条记录被视为了异常数据。其中，第4辆车充电记录中有接近50%的数据是异常数据。"
   ]
  },
  {
   "cell_type": "markdown",
   "metadata": {},
   "source": [
    "##### 删除异常值后的数据量分布情况"
   ]
  },
  {
   "cell_type": "code",
   "execution_count": null,
   "metadata": {
    "collapsed": true,
    "scrolled": false
   },
   "outputs": [],
   "source": [
    "# 更新数据集\n",
    "dataset = dataset_filter\n",
    "sns.countplot(x='vehicle_id', data=dataset)"
   ]
  },
  {
   "cell_type": "markdown",
   "metadata": {},
   "source": [
    "##### 去除异常值后的相关性分析"
   ]
  },
  {
   "cell_type": "code",
   "execution_count": null,
   "metadata": {
    "collapsed": true,
    "scrolled": true
   },
   "outputs": [],
   "source": [
    "# 对不同车的数据进行相关性分析，会发现更多信息\n",
    "for i in range(1, count+1):\n",
    "    data = dataset[(dataset['vehicle_id']==i)]\n",
    "    data = data[header[1:]]\n",
    "    \n",
    "    # 相关性可视化\n",
    "    corr=data.corr()\n",
    "    plt.figure(figsize=(10, 10))\n",
    "    sns.heatmap(corr, vmax=0.8, linewidths=0.01,\n",
    "                square=True,annot=True,cmap='YlGnBu',linecolor=\"white\")\n",
    "    plt.title('Correlation between features for vehicle # %d' % i);\n",
    "    \n",
    "    # 保存data\n",
    "    data.to_csv(\"./energy_predict_data/train_whole_21/without_outlier/predict_data_e_train_%d.csv\" % i, index=False)"
   ]
  },
  {
   "cell_type": "markdown",
   "metadata": {},
   "source": [
    "#### 第四步，进行数据填充。因为有空值，所以需要对缺失数据进行填充。这一步，采用聚类思想进行数据填充：根据完整数据集中（除去充电开始时间、充电结束时间列外，并增加了充电时间间隔列）特征信息进行聚类，然后对含有缺失值记录按照欧式距离寻找距其最近的类，然后用该类中心属性值对缺失值进行填充。"
   ]
  },
  {
   "cell_type": "code",
   "execution_count": null,
   "metadata": {
    "collapsed": true
   },
   "outputs": [],
   "source": [
    "# 异常检测之后的数据缺失情况\n",
    "dataset.isnull().sum()"
   ]
  },
  {
   "cell_type": "markdown",
   "metadata": {},
   "source": [
    "##### 数据分为完美数据集和含缺失属性的数据集，用完美数据集做聚类。"
   ]
  },
  {
   "cell_type": "code",
   "execution_count": null,
   "metadata": {
    "collapsed": true
   },
   "outputs": [],
   "source": [
    "# 完美数据集\n",
    "dataset_without_null = dataset[~dataset.T.isnull().any()]\n",
    "dataset_without_null.head()"
   ]
  },
  {
   "cell_type": "markdown",
   "metadata": {},
   "source": [
    "#### 用完美数据集做聚类"
   ]
  },
  {
   "cell_type": "code",
   "execution_count": null,
   "metadata": {
    "collapsed": true
   },
   "outputs": [],
   "source": [
    "from sklearn.cluster import KMeans\n",
    "#聚类和填充需要操作的列名\n",
    "compute_header = ['charge_duration', 'delta_mileage', 'charge_delta_soc', 'charge_energy']\n",
    "cluster_source = dataset_without_null[compute_header]\n",
    "kmeans = KMeans(n_clusters=3, random_state=0).fit(cluster_source)\n",
    "cluster = kmeans.cluster_centers_\n",
    "labels = kmeans.labels_\n",
    "sns.countplot(labels)"
   ]
  },
  {
   "cell_type": "code",
   "execution_count": null,
   "metadata": {
    "collapsed": true
   },
   "outputs": [],
   "source": [
    "from scipy import stats\n",
    "fig = plt.figure()\n",
    "sns.distplot(dataset_without_null['charge_energy']);\n",
    "fig = plt.figure()\n",
    "stats.probplot(dataset_without_null['charge_energy'], plot=plt)"
   ]
  },
  {
   "cell_type": "markdown",
   "metadata": {},
   "source": [
    "##### 利用聚类结果进行数据填充"
   ]
  },
  {
   "cell_type": "code",
   "execution_count": null,
   "metadata": {
    "collapsed": true
   },
   "outputs": [],
   "source": [
    "dataset_with_null = dataset[dataset.T.isnull().any()]\n",
    "null_index_list = dataset_with_null.index.tolist()\n",
    "sns.countplot(x='vehicle_id', data=dataset_with_null)"
   ]
  },
  {
   "cell_type": "code",
   "execution_count": null,
   "metadata": {
    "collapsed": true
   },
   "outputs": [],
   "source": [
    "#转化为array\n",
    "dataset_with_null_values = dataset_with_null[compute_header].values\n",
    "for i in range(len(dataset_with_null_values)):\n",
    "    maxD = float('inf')\n",
    "    maxV = []\n",
    "    data = dataset_with_null_values[i]\n",
    "    for center in cluster:\n",
    "        dis = utils.distance(center, data)\n",
    "        if dis < maxD:\n",
    "            maxD = dis\n",
    "            maxV = center\n",
    "    dataset_with_null_values[i] = utils.filling(maxV,data)\n",
    "    "
   ]
  },
  {
   "cell_type": "code",
   "execution_count": null,
   "metadata": {
    "collapsed": true
   },
   "outputs": [],
   "source": [
    "#填充结果覆盖到不完美数据集\n",
    "dataset_with_null_filled = pd.DataFrame(dataset_with_null_values,columns=compute_header)\n",
    "dataset_with_null_filled.describe()"
   ]
  },
  {
   "cell_type": "code",
   "execution_count": null,
   "metadata": {
    "collapsed": true,
    "scrolled": true
   },
   "outputs": [],
   "source": [
    "for column in compute_header:\n",
    "    for i in range(len(dataset_with_null)):\n",
    "        dataset_with_null[column].loc[i] = dataset_with_null_filled[column].loc[i]"
   ]
  },
  {
   "cell_type": "code",
   "execution_count": null,
   "metadata": {
    "collapsed": true
   },
   "outputs": [],
   "source": [
    "dataset_with_null.isnull().sum()"
   ]
  },
  {
   "cell_type": "markdown",
   "metadata": {},
   "source": [
    "##### 保存填充后的集合"
   ]
  },
  {
   "cell_type": "code",
   "execution_count": null,
   "metadata": {
    "collapsed": true
   },
   "outputs": [],
   "source": [
    "dataset_whole = pd.DataFrame(np.insert(dataset_without_null.values, null_index_list, dataset_with_null_filled.values, axis=0), columns=dataset_without_null.columns)"
   ]
  }
 ],
 "metadata": {
  "kernelspec": {
   "display_name": "Python 3",
   "language": "python",
   "name": "python3"
  },
  "language_info": {
   "codemirror_mode": {
    "name": "ipython",
    "version": 3
   },
   "file_extension": ".py",
   "mimetype": "text/x-python",
   "name": "python",
   "nbconvert_exporter": "python",
   "pygments_lexer": "ipython3",
   "version": "3.6.2"
  }
 },
 "nbformat": 4,
 "nbformat_minor": 2
}
