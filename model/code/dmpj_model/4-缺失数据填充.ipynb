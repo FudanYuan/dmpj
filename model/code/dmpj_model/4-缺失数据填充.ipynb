{
 "cells": [
  {
   "cell_type": "markdown",
   "metadata": {},
   "source": [
    "## 新能源电动汽车动力电池充电能量预测（四）——缺失数据填充"
   ]
  },
  {
   "cell_type": "code",
   "execution_count": 1,
   "metadata": {
    "collapsed": true
   },
   "outputs": [],
   "source": [
    "import pandas as pd\n",
    "import matplotlib.pyplot as plt\n",
    "import seaborn as sns\n",
    "%matplotlib inline\n",
    "import numpy as np\n",
    "from datetime import date, datetime\n",
    "from package import utils\n",
    "from scipy import stats"
   ]
  },
  {
   "cell_type": "markdown",
   "metadata": {},
   "source": [
    "### 数据导入"
   ]
  },
  {
   "cell_type": "code",
   "execution_count": 2,
   "metadata": {},
   "outputs": [
    {
     "data": {
      "text/html": [
       "<div>\n",
       "<style scoped>\n",
       "    .dataframe tbody tr th:only-of-type {\n",
       "        vertical-align: middle;\n",
       "    }\n",
       "\n",
       "    .dataframe tbody tr th {\n",
       "        vertical-align: top;\n",
       "    }\n",
       "\n",
       "    .dataframe thead th {\n",
       "        text-align: right;\n",
       "    }\n",
       "</style>\n",
       "<table border=\"1\" class=\"dataframe\">\n",
       "  <thead>\n",
       "    <tr style=\"text-align: right;\">\n",
       "      <th></th>\n",
       "      <th>vehicle_id</th>\n",
       "      <th>charge_start_time</th>\n",
       "      <th>charge_end_time</th>\n",
       "      <th>charge_duration</th>\n",
       "      <th>mileage</th>\n",
       "      <th>delta_mileage</th>\n",
       "      <th>charge_start_soc</th>\n",
       "      <th>charge_end_soc</th>\n",
       "      <th>charge_delta_soc</th>\n",
       "      <th>charge_start_U</th>\n",
       "      <th>charge_end_U</th>\n",
       "      <th>charge_start_I</th>\n",
       "      <th>charge_end_I</th>\n",
       "      <th>charge_max_temp</th>\n",
       "      <th>charge_min_temp</th>\n",
       "      <th>charge_energy</th>\n",
       "    </tr>\n",
       "  </thead>\n",
       "  <tbody>\n",
       "    <tr>\n",
       "      <th>count</th>\n",
       "      <td>5860.00</td>\n",
       "      <td>5.86e+03</td>\n",
       "      <td>5.86e+03</td>\n",
       "      <td>5860.00</td>\n",
       "      <td>5860.00</td>\n",
       "      <td>5850.00</td>\n",
       "      <td>5853.00</td>\n",
       "      <td>5817.00</td>\n",
       "      <td>5816.00</td>\n",
       "      <td>5860.00</td>\n",
       "      <td>5860.00</td>\n",
       "      <td>5860.00</td>\n",
       "      <td>5860.00</td>\n",
       "      <td>5860.00</td>\n",
       "      <td>5860.00</td>\n",
       "      <td>5.86e+03</td>\n",
       "    </tr>\n",
       "    <tr>\n",
       "      <th>mean</th>\n",
       "      <td>5.17</td>\n",
       "      <td>2.02e+13</td>\n",
       "      <td>2.02e+13</td>\n",
       "      <td>3576.89</td>\n",
       "      <td>108324.26</td>\n",
       "      <td>81.67</td>\n",
       "      <td>48.88</td>\n",
       "      <td>70.32</td>\n",
       "      <td>21.35</td>\n",
       "      <td>460.68</td>\n",
       "      <td>439.73</td>\n",
       "      <td>-44.82</td>\n",
       "      <td>-19.69</td>\n",
       "      <td>29.46</td>\n",
       "      <td>15.67</td>\n",
       "      <td>2.34e+01</td>\n",
       "    </tr>\n",
       "    <tr>\n",
       "      <th>std</th>\n",
       "      <td>3.06</td>\n",
       "      <td>3.99e+09</td>\n",
       "      <td>3.99e+09</td>\n",
       "      <td>4511.58</td>\n",
       "      <td>31142.88</td>\n",
       "      <td>202.77</td>\n",
       "      <td>30.08</td>\n",
       "      <td>34.48</td>\n",
       "      <td>31.98</td>\n",
       "      <td>103.54</td>\n",
       "      <td>157.18</td>\n",
       "      <td>55.86</td>\n",
       "      <td>40.51</td>\n",
       "      <td>10.69</td>\n",
       "      <td>13.02</td>\n",
       "      <td>2.44e+01</td>\n",
       "    </tr>\n",
       "    <tr>\n",
       "      <th>min</th>\n",
       "      <td>1.00</td>\n",
       "      <td>2.02e+13</td>\n",
       "      <td>2.02e+13</td>\n",
       "      <td>10.00</td>\n",
       "      <td>45631.70</td>\n",
       "      <td>-250.20</td>\n",
       "      <td>0.80</td>\n",
       "      <td>0.00</td>\n",
       "      <td>-100.00</td>\n",
       "      <td>252.00</td>\n",
       "      <td>0.00</td>\n",
       "      <td>-202.00</td>\n",
       "      <td>-400.00</td>\n",
       "      <td>-2.00</td>\n",
       "      <td>-7.00</td>\n",
       "      <td>1.00e-03</td>\n",
       "    </tr>\n",
       "    <tr>\n",
       "      <th>25%</th>\n",
       "      <td>2.00</td>\n",
       "      <td>2.02e+13</td>\n",
       "      <td>2.02e+13</td>\n",
       "      <td>730.00</td>\n",
       "      <td>83569.40</td>\n",
       "      <td>14.00</td>\n",
       "      <td>25.00</td>\n",
       "      <td>34.00</td>\n",
       "      <td>0.00</td>\n",
       "      <td>345.20</td>\n",
       "      <td>372.50</td>\n",
       "      <td>-64.50</td>\n",
       "      <td>-16.10</td>\n",
       "      <td>21.00</td>\n",
       "      <td>2.00</td>\n",
       "      <td>3.85e+00</td>\n",
       "    </tr>\n",
       "    <tr>\n",
       "      <th>50%</th>\n",
       "      <td>5.00</td>\n",
       "      <td>2.02e+13</td>\n",
       "      <td>2.02e+13</td>\n",
       "      <td>2380.00</td>\n",
       "      <td>106180.00</td>\n",
       "      <td>69.50</td>\n",
       "      <td>42.00</td>\n",
       "      <td>86.00</td>\n",
       "      <td>21.00</td>\n",
       "      <td>533.60</td>\n",
       "      <td>394.70</td>\n",
       "      <td>-21.00</td>\n",
       "      <td>-7.70</td>\n",
       "      <td>31.00</td>\n",
       "      <td>15.00</td>\n",
       "      <td>1.65e+01</td>\n",
       "    </tr>\n",
       "    <tr>\n",
       "      <th>75%</th>\n",
       "      <td>8.00</td>\n",
       "      <td>2.02e+13</td>\n",
       "      <td>2.02e+13</td>\n",
       "      <td>4559.25</td>\n",
       "      <td>129317.50</td>\n",
       "      <td>115.00</td>\n",
       "      <td>68.00</td>\n",
       "      <td>100.00</td>\n",
       "      <td>44.00</td>\n",
       "      <td>551.30</td>\n",
       "      <td>565.60</td>\n",
       "      <td>-7.50</td>\n",
       "      <td>-1.00</td>\n",
       "      <td>37.00</td>\n",
       "      <td>27.00</td>\n",
       "      <td>3.26e+01</td>\n",
       "    </tr>\n",
       "    <tr>\n",
       "      <th>max</th>\n",
       "      <td>10.00</td>\n",
       "      <td>2.02e+13</td>\n",
       "      <td>2.02e+13</td>\n",
       "      <td>42770.00</td>\n",
       "      <td>184014.00</td>\n",
       "      <td>9703.00</td>\n",
       "      <td>100.00</td>\n",
       "      <td>100.00</td>\n",
       "      <td>88.00</td>\n",
       "      <td>595.30</td>\n",
       "      <td>604.80</td>\n",
       "      <td>-0.10</td>\n",
       "      <td>9.00</td>\n",
       "      <td>52.00</td>\n",
       "      <td>44.00</td>\n",
       "      <td>1.10e+02</td>\n",
       "    </tr>\n",
       "  </tbody>\n",
       "</table>\n",
       "</div>"
      ],
      "text/plain": [
       "       vehicle_id  charge_start_time  charge_end_time  charge_duration  \\\n",
       "count     5860.00           5.86e+03         5.86e+03          5860.00   \n",
       "mean         5.17           2.02e+13         2.02e+13          3576.89   \n",
       "std          3.06           3.99e+09         3.99e+09          4511.58   \n",
       "min          1.00           2.02e+13         2.02e+13            10.00   \n",
       "25%          2.00           2.02e+13         2.02e+13           730.00   \n",
       "50%          5.00           2.02e+13         2.02e+13          2380.00   \n",
       "75%          8.00           2.02e+13         2.02e+13          4559.25   \n",
       "max         10.00           2.02e+13         2.02e+13         42770.00   \n",
       "\n",
       "         mileage  delta_mileage  charge_start_soc  charge_end_soc  \\\n",
       "count    5860.00        5850.00           5853.00         5817.00   \n",
       "mean   108324.26          81.67             48.88           70.32   \n",
       "std     31142.88         202.77             30.08           34.48   \n",
       "min     45631.70        -250.20              0.80            0.00   \n",
       "25%     83569.40          14.00             25.00           34.00   \n",
       "50%    106180.00          69.50             42.00           86.00   \n",
       "75%    129317.50         115.00             68.00          100.00   \n",
       "max    184014.00        9703.00            100.00          100.00   \n",
       "\n",
       "       charge_delta_soc  charge_start_U  charge_end_U  charge_start_I  \\\n",
       "count           5816.00         5860.00       5860.00         5860.00   \n",
       "mean              21.35          460.68        439.73          -44.82   \n",
       "std               31.98          103.54        157.18           55.86   \n",
       "min             -100.00          252.00          0.00         -202.00   \n",
       "25%                0.00          345.20        372.50          -64.50   \n",
       "50%               21.00          533.60        394.70          -21.00   \n",
       "75%               44.00          551.30        565.60           -7.50   \n",
       "max               88.00          595.30        604.80           -0.10   \n",
       "\n",
       "       charge_end_I  charge_max_temp  charge_min_temp  charge_energy  \n",
       "count       5860.00          5860.00          5860.00       5.86e+03  \n",
       "mean         -19.69            29.46            15.67       2.34e+01  \n",
       "std           40.51            10.69            13.02       2.44e+01  \n",
       "min         -400.00            -2.00            -7.00       1.00e-03  \n",
       "25%          -16.10            21.00             2.00       3.85e+00  \n",
       "50%           -7.70            31.00            15.00       1.65e+01  \n",
       "75%           -1.00            37.00            27.00       3.26e+01  \n",
       "max            9.00            52.00            44.00       1.10e+02  "
      ]
     },
     "execution_count": 2,
     "metadata": {},
     "output_type": "execute_result"
    }
   ],
   "source": [
    "# 导入经过异常检测后的数据集合\n",
    "dataset = pd.read_csv('./energy_predict_data/train_data_filter/3_outlier_detection/predict_data_e_train.csv')\n",
    "# 数据字段\n",
    "header = dataset.columns.values.tolist()\n",
    "# 数据集大小\n",
    "count = np.max(dataset['vehicle_id'])\n",
    "# 数据描述\n",
    "pd.set_option('precision', 2)\n",
    "dataset.describe()"
   ]
  },
  {
   "cell_type": "markdown",
   "metadata": {},
   "source": [
    "#### 数据缺失情况"
   ]
  },
  {
   "cell_type": "code",
   "execution_count": 3,
   "metadata": {
    "scrolled": false
   },
   "outputs": [
    {
     "data": {
      "text/plain": [
       "vehicle_id            0\n",
       "charge_start_time     0\n",
       "charge_end_time       0\n",
       "charge_duration       0\n",
       "mileage               0\n",
       "delta_mileage        10\n",
       "charge_start_soc      7\n",
       "charge_end_soc       43\n",
       "charge_delta_soc     44\n",
       "charge_start_U        0\n",
       "charge_end_U          0\n",
       "charge_start_I        0\n",
       "charge_end_I          0\n",
       "charge_max_temp       0\n",
       "charge_min_temp       0\n",
       "charge_energy         1\n",
       "dtype: int64"
      ]
     },
     "execution_count": 3,
     "metadata": {},
     "output_type": "execute_result"
    }
   ],
   "source": [
    "dataset.isnull().sum()"
   ]
  },
  {
   "cell_type": "markdown",
   "metadata": {},
   "source": [
    "#### 每辆车上含有缺失值的数量分布"
   ]
  },
  {
   "cell_type": "code",
   "execution_count": 4,
   "metadata": {},
   "outputs": [
    {
     "name": "stderr",
     "output_type": "stream",
     "text": [
      "/Users/Jeremy/miniconda3/envs/test/lib/python3.6/site-packages/seaborn/categorical.py:1460: FutureWarning: remove_na is deprecated and is a private function. Do not use.\n",
      "  stat_data = remove_na(group_data)\n"
     ]
    },
    {
     "data": {
      "text/plain": [
       "<matplotlib.axes._subplots.AxesSubplot at 0x112ecb710>"
      ]
     },
     "execution_count": 4,
     "metadata": {},
     "output_type": "execute_result"
    },
    {
     "data": {
      "image/png": "[encoded data removed]",
      "text/plain": [
       "<Figure size 432x288 with 1 Axes>"
      ]
     },
     "metadata": {},
     "output_type": "display_data"
    }
   ],
   "source": [
    "# 缺失数据集\n",
    "dataset_with_null = dataset[dataset.T.isnull().any()]\n",
    "null_index_list = dataset_with_null.index.tolist()\n",
    "for i in range(len(null_index_list)):\n",
    "    null_index_list[i] = null_index_list[i] - i\n",
    "sns.countplot(x='vehicle_id', data=dataset_with_null)"
   ]
  },
  {
   "cell_type": "markdown",
   "metadata": {},
   "source": [
    ">观察1：整体来说，缺失情况不是很严重；只有delta_mileage、charge_start_soc、charge_end_soc、charge_delta_soc、charge_energy这些字段存在缺失。\n",
    "\n",
    ">观察2：相对来说，第4辆车缺失较多。\n",
    "\n",
    ">方法：采用聚类思想进行数据填充：选择参与聚类的字段是很重要的，根据第2步特征工程的结论，我们选择charge_duration、delta_mileage、charge_start_soc、charge_delta_soc、charge_start_U、charge_min_temp这些特征信息进行聚类。然后，对含有缺失值记录按照欧式距离寻找距其最近的类，然后用该类中心属性值对缺失值进行填充。"
   ]
  },
  {
   "cell_type": "markdown",
   "metadata": {},
   "source": [
    "### 数据填充。"
   ]
  },
  {
   "cell_type": "markdown",
   "metadata": {},
   "source": [
    "#### 获取完美数据集"
   ]
  },
  {
   "cell_type": "code",
   "execution_count": 5,
   "metadata": {},
   "outputs": [],
   "source": [
    "# 完美数据集\n",
    "dataset_without_null = dataset[~dataset.T.isnull().any()]"
   ]
  },
  {
   "cell_type": "code",
   "execution_count": 6,
   "metadata": {},
   "outputs": [
    {
     "name": "stderr",
     "output_type": "stream",
     "text": [
      "/Users/Jeremy/miniconda3/envs/test/lib/python3.6/site-packages/matplotlib/axes/_axes.py:6462: UserWarning: The 'normed' kwarg is deprecated, and has been replaced by the 'density' kwarg.\n",
      "  warnings.warn(\"The 'normed' kwarg is deprecated, and has been \"\n"
     ]
    },
    {
     "data": {
      "text/plain": [
       "((array([-3.67398566, -3.44096839, -3.31265616, ...,  3.31265616,\n",
       "          3.44096839,  3.67398566]),\n",
       "  array([  1.00000000e-03,   1.00000000e-03,   2.00000000e-03, ...,\n",
       "           1.03674000e+02,   1.03722000e+02,   1.09842000e+02])),\n",
       " (22.524000401376956, 23.423421533161065, 0.91950082021191804))"
      ]
     },
     "execution_count": 6,
     "metadata": {},
     "output_type": "execute_result"
    },
    {
     "data": {
      "image/png": "[encoded data removed]",
      "text/plain": [
       "<Figure size 432x288 with 1 Axes>"
      ]
     },
     "metadata": {},
     "output_type": "display_data"
    },
    {
     "data": {
      "image/png": "[encoded data removed]",
      "text/plain": [
       "<Figure size 432x288 with 1 Axes>"
      ]
     },
     "metadata": {},
     "output_type": "display_data"
    }
   ],
   "source": [
    "from scipy import stats\n",
    "fig = plt.figure()\n",
    "sns.distplot(dataset_without_null['charge_energy']);\n",
    "fig = plt.figure()\n",
    "stats.probplot(dataset_without_null['charge_energy'], plot=plt)"
   ]
  },
  {
   "cell_type": "markdown",
   "metadata": {},
   "source": [
    "#### 使用KMeans对用完美数据集进行聚类"
   ]
  },
  {
   "cell_type": "code",
   "execution_count": 7,
   "metadata": {},
   "outputs": [
    {
     "name": "stdout",
     "output_type": "stream",
     "text": [
      "<bound method KMeans.score of KMeans(algorithm='auto', copy_x=True, init='k-means++', max_iter=300,\n",
      "    n_clusters=5, n_init=10, n_jobs=1, precompute_distances='auto',\n",
      "    random_state=3, tol=0.0001, verbose=0)>\n"
     ]
    },
    {
     "name": "stderr",
     "output_type": "stream",
     "text": [
      "/Users/Jeremy/miniconda3/envs/test/lib/python3.6/site-packages/seaborn/categorical.py:1460: FutureWarning: remove_na is deprecated and is a private function. Do not use.\n",
      "  stat_data = remove_na(group_data)\n"
     ]
    },
    {
     "data": {
      "text/plain": [
       "<matplotlib.axes._subplots.AxesSubplot at 0x117f41240>"
      ]
     },
     "execution_count": 7,
     "metadata": {},
     "output_type": "execute_result"
    },
    {
     "data": {
      "image/png": "[encoded data removed]",
      "text/plain": [
       "<Figure size 432x288 with 1 Axes>"
      ]
     },
     "metadata": {},
     "output_type": "display_data"
    }
   ],
   "source": [
    "from sklearn.cluster import KMeans\n",
    "#聚类和填充需要操作的列名\n",
    "compute_header = ['charge_duration', 'delta_mileage', 'charge_start_soc', 'charge_delta_soc', 'charge_min_temp', 'charge_energy']\n",
    "cluster_source = dataset_without_null[compute_header]\n",
    "kmeans = KMeans(n_clusters=5, random_state=3).fit(cluster_source)\n",
    "cluster = kmeans.cluster_centers_\n",
    "labels = kmeans.labels_\n",
    "print(kmeans.score)\n",
    "sns.countplot(labels)"
   ]
  },
  {
   "cell_type": "markdown",
   "metadata": {},
   "source": [
    "#### 利用聚类结果进行数据填充"
   ]
  },
  {
   "cell_type": "code",
   "execution_count": 8,
   "metadata": {
    "collapsed": true
   },
   "outputs": [],
   "source": [
    "#转化为array\n",
    "dataset_with_null_values = dataset_with_null[compute_header].values\n",
    "for i in range(len(dataset_with_null_values)):\n",
    "    maxD = float('inf')\n",
    "    maxV = []\n",
    "    data = dataset_with_null_values[i]\n",
    "    for center in cluster:\n",
    "        dis = utils.distance(center, data)\n",
    "        if dis < maxD:\n",
    "            maxD = dis\n",
    "            maxV = center\n",
    "    dataset_with_null_values[i] = utils.filling(maxV,data)\n",
    "    "
   ]
  },
  {
   "cell_type": "code",
   "execution_count": 9,
   "metadata": {},
   "outputs": [
    {
     "data": {
      "text/html": [
       "<div>\n",
       "<style scoped>\n",
       "    .dataframe tbody tr th:only-of-type {\n",
       "        vertical-align: middle;\n",
       "    }\n",
       "\n",
       "    .dataframe tbody tr th {\n",
       "        vertical-align: top;\n",
       "    }\n",
       "\n",
       "    .dataframe thead th {\n",
       "        text-align: right;\n",
       "    }\n",
       "</style>\n",
       "<table border=\"1\" class=\"dataframe\">\n",
       "  <thead>\n",
       "    <tr style=\"text-align: right;\">\n",
       "      <th></th>\n",
       "      <th>charge_duration</th>\n",
       "      <th>delta_mileage</th>\n",
       "      <th>charge_start_soc</th>\n",
       "      <th>charge_delta_soc</th>\n",
       "      <th>charge_min_temp</th>\n",
       "      <th>charge_energy</th>\n",
       "    </tr>\n",
       "  </thead>\n",
       "  <tbody>\n",
       "    <tr>\n",
       "      <th>count</th>\n",
       "      <td>55.00</td>\n",
       "      <td>55.00</td>\n",
       "      <td>55.00</td>\n",
       "      <td>55.00</td>\n",
       "      <td>55.00</td>\n",
       "      <td>55.00</td>\n",
       "    </tr>\n",
       "    <tr>\n",
       "      <th>mean</th>\n",
       "      <td>4438.27</td>\n",
       "      <td>95.14</td>\n",
       "      <td>34.36</td>\n",
       "      <td>33.72</td>\n",
       "      <td>8.69</td>\n",
       "      <td>21.03</td>\n",
       "    </tr>\n",
       "    <tr>\n",
       "      <th>std</th>\n",
       "      <td>2259.49</td>\n",
       "      <td>70.84</td>\n",
       "      <td>12.20</td>\n",
       "      <td>15.35</td>\n",
       "      <td>5.14</td>\n",
       "      <td>15.11</td>\n",
       "    </tr>\n",
       "    <tr>\n",
       "      <th>min</th>\n",
       "      <td>50.00</td>\n",
       "      <td>9.30</td>\n",
       "      <td>6.40</td>\n",
       "      <td>0.80</td>\n",
       "      <td>1.00</td>\n",
       "      <td>0.08</td>\n",
       "    </tr>\n",
       "    <tr>\n",
       "      <th>25%</th>\n",
       "      <td>3960.00</td>\n",
       "      <td>76.90</td>\n",
       "      <td>29.40</td>\n",
       "      <td>38.14</td>\n",
       "      <td>5.00</td>\n",
       "      <td>16.86</td>\n",
       "    </tr>\n",
       "    <tr>\n",
       "      <th>50%</th>\n",
       "      <td>4800.00</td>\n",
       "      <td>89.40</td>\n",
       "      <td>33.20</td>\n",
       "      <td>38.14</td>\n",
       "      <td>8.00</td>\n",
       "      <td>20.19</td>\n",
       "    </tr>\n",
       "    <tr>\n",
       "      <th>75%</th>\n",
       "      <td>5224.00</td>\n",
       "      <td>102.35</td>\n",
       "      <td>37.00</td>\n",
       "      <td>38.14</td>\n",
       "      <td>11.00</td>\n",
       "      <td>21.74</td>\n",
       "    </tr>\n",
       "    <tr>\n",
       "      <th>max</th>\n",
       "      <td>15700.00</td>\n",
       "      <td>573.10</td>\n",
       "      <td>80.40</td>\n",
       "      <td>71.00</td>\n",
       "      <td>27.00</td>\n",
       "      <td>80.50</td>\n",
       "    </tr>\n",
       "  </tbody>\n",
       "</table>\n",
       "</div>"
      ],
      "text/plain": [
       "       charge_duration  delta_mileage  charge_start_soc  charge_delta_soc  \\\n",
       "count            55.00          55.00             55.00             55.00   \n",
       "mean           4438.27          95.14             34.36             33.72   \n",
       "std            2259.49          70.84             12.20             15.35   \n",
       "min              50.00           9.30              6.40              0.80   \n",
       "25%            3960.00          76.90             29.40             38.14   \n",
       "50%            4800.00          89.40             33.20             38.14   \n",
       "75%            5224.00         102.35             37.00             38.14   \n",
       "max           15700.00         573.10             80.40             71.00   \n",
       "\n",
       "       charge_min_temp  charge_energy  \n",
       "count            55.00          55.00  \n",
       "mean              8.69          21.03  \n",
       "std               5.14          15.11  \n",
       "min               1.00           0.08  \n",
       "25%               5.00          16.86  \n",
       "50%               8.00          20.19  \n",
       "75%              11.00          21.74  \n",
       "max              27.00          80.50  "
      ]
     },
     "execution_count": 9,
     "metadata": {},
     "output_type": "execute_result"
    }
   ],
   "source": [
    "#填充结果覆盖到不完美数据集\n",
    "dataset_with_null_filled = pd.DataFrame(dataset_with_null_values,columns=compute_header)\n",
    "dataset_with_null_filled.describe()"
   ]
  },
  {
   "cell_type": "code",
   "execution_count": 10,
   "metadata": {
    "scrolled": false
   },
   "outputs": [],
   "source": [
    "dataset_with_null_filled['charge_end_soc'] = dataset_with_null_filled['charge_start_soc'] + dataset_with_null_filled['charge_delta_soc']\n",
    "temp = pd.DataFrame()\n",
    "for col in compute_header:\n",
    "    temp[col] = dataset_with_null_filled[col]\n",
    "\n",
    "for col in list(set(header).difference(set(compute_header))):\n",
    "    temp[col] = dataset_with_null[col].tolist()\n",
    "\n",
    "temp['charge_end_soc'] = dataset_with_null_filled['charge_end_soc'].tolist()\n",
    "temp = temp[header]\n",
    "\n",
    "# 填充后的完整数据集合\n",
    "dataset_whole = pd.DataFrame(\n",
    "    np.insert(dataset_without_null.values, null_index_list, temp.values, axis=0), \n",
    "    columns=dataset_without_null.columns)"
   ]
  },
  {
   "cell_type": "markdown",
   "metadata": {},
   "source": [
    "### 保存完美数据、缺失数据及填充后的完整数据集"
   ]
  },
  {
   "cell_type": "code",
   "execution_count": 11,
   "metadata": {
    "collapsed": true
   },
   "outputs": [],
   "source": [
    "dataset_with_null.to_csv(\"./energy_predict_data/train_data_filter/4_fill_null/not_perfect/unfilled/predict_data_e_train.csv\", index=False)\n",
    "dataset_without_null.to_csv(\"./energy_predict_data/train_data_filter/4_fill_null/perfect/predict_data_e_train.csv\", index=False)\n",
    "temp.to_csv(\"./energy_predict_data/train_data_filter/4_fill_null/not_perfect/filled_by_kmeans/predict_data_e_train.csv\", index=False)\n",
    "dataset_whole.to_csv(\"./energy_predict_data/train_data_filter/4_fill_null/whole/filled_by_kmeans/predict_data_e_train.csv\", index=False)\n",
    "\n",
    "for i in range(1, count+1):\n",
    "    data_with_null = dataset_with_null[(dataset_with_null['vehicle_id']==i)]\n",
    "    data_with_null.to_csv(\"./energy_predict_data/train_data_filter/4_fill_null/not_perfect/unfilled/predict_data_e_train_%d.csv\" % i, index=False)\n",
    "    \n",
    "    data_without_null = dataset_without_null[(dataset_without_null['vehicle_id']==i)]\n",
    "    data_without_null.to_csv(\"./energy_predict_data/train_data_filter/4_fill_null/perfect/predict_data_e_train_%d.csv\" % i, index=False)\n",
    "    \n",
    "    data_fill_null = temp[(temp['vehicle_id']==i)]\n",
    "    data_fill_null.to_csv(\"./energy_predict_data/train_data_filter/4_fill_null/not_perfect/filled_by_kmeans/predict_data_e_train_%d.csv\" % i, index=False)\n",
    "    \n",
    "    data_whole = dataset_whole[(dataset_whole['vehicle_id']==i)]\n",
    "    data_whole.to_csv(\"./energy_predict_data/train_data_filter/4_fill_null/whole/filled_by_kmeans/predict_data_e_train_%d.csv\" % i, index=False)\n",
    "    "
   ]
  },
  {
   "cell_type": "code",
   "execution_count": null,
   "metadata": {
    "collapsed": true
   },
   "outputs": [],
   "source": []
  }
 ],
 "metadata": {
  "kernelspec": {
   "display_name": "Python 3",
   "language": "python",
   "name": "python3"
  },
  "language_info": {
   "codemirror_mode": {
    "name": "ipython",
    "version": 3
   },
   "file_extension": ".py",
   "mimetype": "text/x-python",
   "name": "python",
   "nbconvert_exporter": "python",
   "pygments_lexer": "ipython3",
   "version": "3.6.2"
  }
 },
 "nbformat": 4,
 "nbformat_minor": 2
}
