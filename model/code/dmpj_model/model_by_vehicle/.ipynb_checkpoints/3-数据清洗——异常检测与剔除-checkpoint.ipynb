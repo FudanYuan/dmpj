{
 "cells": [
  {
   "cell_type": "markdown",
   "metadata": {},
   "source": [
    "## 新能源电动汽车动力电池充电能量预测（二）——数据异常检测与剔除"
   ]
  },
  {
   "cell_type": "code",
   "execution_count": 1,
   "metadata": {
    "collapsed": true
   },
   "outputs": [],
   "source": [
    "import pandas as pd\n",
    "import matplotlib.pyplot as plt\n",
    "import seaborn as sns\n",
    "%matplotlib inline\n",
    "import numpy as np\n",
    "from datetime import date, datetime\n",
    "from package import utils\n",
    "from scipy import stats"
   ]
  },
  {
   "cell_type": "markdown",
   "metadata": {},
   "source": [
    "### 数据导入"
   ]
  },
  {
   "cell_type": "code",
   "execution_count": 3,
   "metadata": {
    "collapsed": true
   },
   "outputs": [],
   "source": [
    "# 分别加载初赛、决赛训练集。\n",
    "# 初赛训练集-5辆\n",
    "dataset_1 = pd.read_csv('./energy_predict_data/train_data/predict_data_e_train.csv')\n",
    "# 决赛训练集-16辆\n",
    "dataset_2 = pd.read_csv('./energy_predict_data/train_data_1029/predict_data_e_train_1029.csv')\n",
    "\n",
    "# 因为两训练集合车辆id是有相同的，所以对决赛训练集车辆进行重新编号（id+5即可）\n",
    "dataset_2['vehicle_id'] += 5\n",
    "\n",
    "# 合并两训练集\n",
    "dataset = dataset_1.append(dataset_2)\n",
    "\n",
    "# 保存最终训练集\n",
    "dataset.to_csv(\"./energy_predict_data/train_whole_21/predict_data_e_train_whole_21_vehicles.csv\", index=False)"
   ]
  },
  {
   "cell_type": "markdown",
   "metadata": {},
   "source": [
    "## 数据勘探，即查看数据类型、分布、数据是否缺失、数据是否异常，以及探索影响充电能量的因素。"
   ]
  },
  {
   "cell_type": "markdown",
   "metadata": {},
   "source": [
    "### 数据概览"
   ]
  },
  {
   "cell_type": "code",
   "execution_count": 4,
   "metadata": {},
   "outputs": [
    {
     "name": "stdout",
     "output_type": "stream",
     "text": [
      "总车辆数: 21\n",
      "前5行数据:\n"
     ]
    },
    {
     "data": {
      "text/html": [
       "<div>\n",
       "<style scoped>\n",
       "    .dataframe tbody tr th:only-of-type {\n",
       "        vertical-align: middle;\n",
       "    }\n",
       "\n",
       "    .dataframe tbody tr th {\n",
       "        vertical-align: top;\n",
       "    }\n",
       "\n",
       "    .dataframe thead th {\n",
       "        text-align: right;\n",
       "    }\n",
       "</style>\n",
       "<table border=\"1\" class=\"dataframe\">\n",
       "  <thead>\n",
       "    <tr style=\"text-align: right;\">\n",
       "      <th></th>\n",
       "      <th>vehicle_id</th>\n",
       "      <th>charge_start_time</th>\n",
       "      <th>charge_end_time</th>\n",
       "      <th>mileage</th>\n",
       "      <th>charge_start_soc</th>\n",
       "      <th>charge_end_soc</th>\n",
       "      <th>charge_start_U</th>\n",
       "      <th>charge_end_U</th>\n",
       "      <th>charge_start_I</th>\n",
       "      <th>charge_end_I</th>\n",
       "      <th>charge_max_temp</th>\n",
       "      <th>charge_min_temp</th>\n",
       "      <th>charge_energy</th>\n",
       "    </tr>\n",
       "  </thead>\n",
       "  <tbody>\n",
       "    <tr>\n",
       "      <th>0</th>\n",
       "      <td>1</td>\n",
       "      <td>20171101113839</td>\n",
       "      <td>20171101144639</td>\n",
       "      <td>69054.6</td>\n",
       "      <td>61.2</td>\n",
       "      <td>90.0</td>\n",
       "      <td>367.8</td>\n",
       "      <td>377.3</td>\n",
       "      <td>-7.7</td>\n",
       "      <td>-7.8</td>\n",
       "      <td>21.0</td>\n",
       "      <td>16.0</td>\n",
       "      <td>9.071</td>\n",
       "    </tr>\n",
       "    <tr>\n",
       "      <th>1</th>\n",
       "      <td>1</td>\n",
       "      <td>20171101212850</td>\n",
       "      <td>20171102045945</td>\n",
       "      <td>69180.2</td>\n",
       "      <td>34.0</td>\n",
       "      <td>100.0</td>\n",
       "      <td>363.4</td>\n",
       "      <td>400.6</td>\n",
       "      <td>-7.7</td>\n",
       "      <td>-7.7</td>\n",
       "      <td>19.0</td>\n",
       "      <td>15.0</td>\n",
       "      <td>21.745</td>\n",
       "    </tr>\n",
       "    <tr>\n",
       "      <th>2</th>\n",
       "      <td>1</td>\n",
       "      <td>20171102121246</td>\n",
       "      <td>20171102154916</td>\n",
       "      <td>69284.2</td>\n",
       "      <td>54.0</td>\n",
       "      <td>87.2</td>\n",
       "      <td>367.4</td>\n",
       "      <td>377.0</td>\n",
       "      <td>-7.7</td>\n",
       "      <td>-7.8</td>\n",
       "      <td>23.0</td>\n",
       "      <td>17.0</td>\n",
       "      <td>10.434</td>\n",
       "    </tr>\n",
       "    <tr>\n",
       "      <th>3</th>\n",
       "      <td>1</td>\n",
       "      <td>20171102204546</td>\n",
       "      <td>20171103025825</td>\n",
       "      <td>69377.0</td>\n",
       "      <td>46.0</td>\n",
       "      <td>100.0</td>\n",
       "      <td>366.6</td>\n",
       "      <td>399.0</td>\n",
       "      <td>-7.7</td>\n",
       "      <td>-7.8</td>\n",
       "      <td>21.0</td>\n",
       "      <td>16.0</td>\n",
       "      <td>17.990</td>\n",
       "    </tr>\n",
       "    <tr>\n",
       "      <th>4</th>\n",
       "      <td>1</td>\n",
       "      <td>20171103164054</td>\n",
       "      <td>20171103170824</td>\n",
       "      <td>69431.6</td>\n",
       "      <td>75.2</td>\n",
       "      <td>97.2</td>\n",
       "      <td>372.8</td>\n",
       "      <td>385.8</td>\n",
       "      <td>-29.9</td>\n",
       "      <td>-40.1</td>\n",
       "      <td>18.0</td>\n",
       "      <td>15.0</td>\n",
       "      <td>6.990</td>\n",
       "    </tr>\n",
       "  </tbody>\n",
       "</table>\n",
       "</div>"
      ],
      "text/plain": [
       "   vehicle_id  charge_start_time  charge_end_time  mileage  charge_start_soc  \\\n",
       "0           1     20171101113839   20171101144639  69054.6              61.2   \n",
       "1           1     20171101212850   20171102045945  69180.2              34.0   \n",
       "2           1     20171102121246   20171102154916  69284.2              54.0   \n",
       "3           1     20171102204546   20171103025825  69377.0              46.0   \n",
       "4           1     20171103164054   20171103170824  69431.6              75.2   \n",
       "\n",
       "   charge_end_soc  charge_start_U  charge_end_U  charge_start_I  charge_end_I  \\\n",
       "0            90.0           367.8         377.3            -7.7          -7.8   \n",
       "1           100.0           363.4         400.6            -7.7          -7.7   \n",
       "2            87.2           367.4         377.0            -7.7          -7.8   \n",
       "3           100.0           366.6         399.0            -7.7          -7.8   \n",
       "4            97.2           372.8         385.8           -29.9         -40.1   \n",
       "\n",
       "   charge_max_temp  charge_min_temp  charge_energy  \n",
       "0             21.0             16.0          9.071  \n",
       "1             19.0             15.0         21.745  \n",
       "2             23.0             17.0         10.434  \n",
       "3             21.0             16.0         17.990  \n",
       "4             18.0             15.0          6.990  "
      ]
     },
     "execution_count": 4,
     "metadata": {},
     "output_type": "execute_result"
    }
   ],
   "source": [
    "# 数据字段\n",
    "header = dataset.columns.values.tolist()\n",
    "# 数据集大小\n",
    "count = np.max(dataset['vehicle_id'])\n",
    "print(\"总车辆数: %d\" % count)\n",
    "print(\"前5行数据:\")\n",
    "dataset.head()"
   ]
  },
  {
   "cell_type": "markdown",
   "metadata": {},
   "source": [
    "#### 数据类型"
   ]
  },
  {
   "cell_type": "code",
   "execution_count": 5,
   "metadata": {},
   "outputs": [
    {
     "data": {
      "text/plain": [
       "vehicle_id             int64\n",
       "charge_start_time      int64\n",
       "charge_end_time        int64\n",
       "mileage              float64\n",
       "charge_start_soc     float64\n",
       "charge_end_soc       float64\n",
       "charge_start_U       float64\n",
       "charge_end_U         float64\n",
       "charge_start_I       float64\n",
       "charge_end_I         float64\n",
       "charge_max_temp      float64\n",
       "charge_min_temp      float64\n",
       "charge_energy        float64\n",
       "dtype: object"
      ]
     },
     "execution_count": 5,
     "metadata": {},
     "output_type": "execute_result"
    }
   ],
   "source": [
    "dataset.dtypes"
   ]
  },
  {
   "cell_type": "markdown",
   "metadata": {},
   "source": [
    "#### 基本描述"
   ]
  },
  {
   "cell_type": "code",
   "execution_count": 6,
   "metadata": {},
   "outputs": [
    {
     "data": {
      "text/html": [
       "<div>\n",
       "<style scoped>\n",
       "    .dataframe tbody tr th:only-of-type {\n",
       "        vertical-align: middle;\n",
       "    }\n",
       "\n",
       "    .dataframe tbody tr th {\n",
       "        vertical-align: top;\n",
       "    }\n",
       "\n",
       "    .dataframe thead th {\n",
       "        text-align: right;\n",
       "    }\n",
       "</style>\n",
       "<table border=\"1\" class=\"dataframe\">\n",
       "  <thead>\n",
       "    <tr style=\"text-align: right;\">\n",
       "      <th></th>\n",
       "      <th>vehicle_id</th>\n",
       "      <th>charge_start_time</th>\n",
       "      <th>charge_end_time</th>\n",
       "      <th>mileage</th>\n",
       "      <th>charge_start_soc</th>\n",
       "      <th>charge_end_soc</th>\n",
       "      <th>charge_start_U</th>\n",
       "      <th>charge_end_U</th>\n",
       "      <th>charge_start_I</th>\n",
       "      <th>charge_end_I</th>\n",
       "      <th>charge_max_temp</th>\n",
       "      <th>charge_min_temp</th>\n",
       "      <th>charge_energy</th>\n",
       "    </tr>\n",
       "  </thead>\n",
       "  <tbody>\n",
       "    <tr>\n",
       "      <th>count</th>\n",
       "      <td>7950.00</td>\n",
       "      <td>7.95e+03</td>\n",
       "      <td>7.95e+03</td>\n",
       "      <td>7950.00</td>\n",
       "      <td>7869.00</td>\n",
       "      <td>7745.00</td>\n",
       "      <td>7950.00</td>\n",
       "      <td>7937.00</td>\n",
       "      <td>7950.00</td>\n",
       "      <td>7937.00</td>\n",
       "      <td>7950.00</td>\n",
       "      <td>7950.00</td>\n",
       "      <td>7935.00</td>\n",
       "    </tr>\n",
       "    <tr>\n",
       "      <th>mean</th>\n",
       "      <td>11.19</td>\n",
       "      <td>2.02e+13</td>\n",
       "      <td>2.02e+13</td>\n",
       "      <td>101565.40</td>\n",
       "      <td>45.59</td>\n",
       "      <td>73.71</td>\n",
       "      <td>433.14</td>\n",
       "      <td>426.10</td>\n",
       "      <td>-39.94</td>\n",
       "      <td>-20.40</td>\n",
       "      <td>28.64</td>\n",
       "      <td>16.46</td>\n",
       "      <td>21.91</td>\n",
       "    </tr>\n",
       "    <tr>\n",
       "      <th>std</th>\n",
       "      <td>6.79</td>\n",
       "      <td>3.95e+09</td>\n",
       "      <td>3.95e+09</td>\n",
       "      <td>29830.78</td>\n",
       "      <td>28.31</td>\n",
       "      <td>32.27</td>\n",
       "      <td>100.42</td>\n",
       "      <td>137.67</td>\n",
       "      <td>49.82</td>\n",
       "      <td>37.76</td>\n",
       "      <td>10.52</td>\n",
       "      <td>12.45</td>\n",
       "      <td>21.81</td>\n",
       "    </tr>\n",
       "    <tr>\n",
       "      <th>min</th>\n",
       "      <td>1.00</td>\n",
       "      <td>2.02e+13</td>\n",
       "      <td>2.02e+13</td>\n",
       "      <td>12.90</td>\n",
       "      <td>0.00</td>\n",
       "      <td>0.00</td>\n",
       "      <td>252.00</td>\n",
       "      <td>0.00</td>\n",
       "      <td>-202.00</td>\n",
       "      <td>-400.00</td>\n",
       "      <td>-2.00</td>\n",
       "      <td>-7.00</td>\n",
       "      <td>0.00</td>\n",
       "    </tr>\n",
       "    <tr>\n",
       "      <th>25%</th>\n",
       "      <td>4.00</td>\n",
       "      <td>2.02e+13</td>\n",
       "      <td>2.02e+13</td>\n",
       "      <td>78347.72</td>\n",
       "      <td>24.00</td>\n",
       "      <td>40.00</td>\n",
       "      <td>345.80</td>\n",
       "      <td>374.30</td>\n",
       "      <td>-50.15</td>\n",
       "      <td>-16.40</td>\n",
       "      <td>20.00</td>\n",
       "      <td>4.00</td>\n",
       "      <td>6.89</td>\n",
       "    </tr>\n",
       "    <tr>\n",
       "      <th>50%</th>\n",
       "      <td>10.00</td>\n",
       "      <td>2.02e+13</td>\n",
       "      <td>2.02e+13</td>\n",
       "      <td>95699.85</td>\n",
       "      <td>38.40</td>\n",
       "      <td>89.00</td>\n",
       "      <td>368.80</td>\n",
       "      <td>395.00</td>\n",
       "      <td>-22.20</td>\n",
       "      <td>-7.80</td>\n",
       "      <td>31.00</td>\n",
       "      <td>18.00</td>\n",
       "      <td>17.50</td>\n",
       "    </tr>\n",
       "    <tr>\n",
       "      <th>75%</th>\n",
       "      <td>18.00</td>\n",
       "      <td>2.02e+13</td>\n",
       "      <td>2.02e+13</td>\n",
       "      <td>118719.62</td>\n",
       "      <td>64.00</td>\n",
       "      <td>100.00</td>\n",
       "      <td>542.70</td>\n",
       "      <td>555.00</td>\n",
       "      <td>-7.70</td>\n",
       "      <td>-2.00</td>\n",
       "      <td>36.00</td>\n",
       "      <td>26.00</td>\n",
       "      <td>27.32</td>\n",
       "    </tr>\n",
       "    <tr>\n",
       "      <th>max</th>\n",
       "      <td>21.00</td>\n",
       "      <td>2.02e+13</td>\n",
       "      <td>2.02e+13</td>\n",
       "      <td>184014.00</td>\n",
       "      <td>100.00</td>\n",
       "      <td>100.00</td>\n",
       "      <td>595.30</td>\n",
       "      <td>604.80</td>\n",
       "      <td>-0.10</td>\n",
       "      <td>9.00</td>\n",
       "      <td>52.00</td>\n",
       "      <td>46.00</td>\n",
       "      <td>307.71</td>\n",
       "    </tr>\n",
       "  </tbody>\n",
       "</table>\n",
       "</div>"
      ],
      "text/plain": [
       "       vehicle_id  charge_start_time  charge_end_time    mileage  \\\n",
       "count     7950.00           7.95e+03         7.95e+03    7950.00   \n",
       "mean        11.19           2.02e+13         2.02e+13  101565.40   \n",
       "std          6.79           3.95e+09         3.95e+09   29830.78   \n",
       "min          1.00           2.02e+13         2.02e+13      12.90   \n",
       "25%          4.00           2.02e+13         2.02e+13   78347.72   \n",
       "50%         10.00           2.02e+13         2.02e+13   95699.85   \n",
       "75%         18.00           2.02e+13         2.02e+13  118719.62   \n",
       "max         21.00           2.02e+13         2.02e+13  184014.00   \n",
       "\n",
       "       charge_start_soc  charge_end_soc  charge_start_U  charge_end_U  \\\n",
       "count           7869.00         7745.00         7950.00       7937.00   \n",
       "mean              45.59           73.71          433.14        426.10   \n",
       "std               28.31           32.27          100.42        137.67   \n",
       "min                0.00            0.00          252.00          0.00   \n",
       "25%               24.00           40.00          345.80        374.30   \n",
       "50%               38.40           89.00          368.80        395.00   \n",
       "75%               64.00          100.00          542.70        555.00   \n",
       "max              100.00          100.00          595.30        604.80   \n",
       "\n",
       "       charge_start_I  charge_end_I  charge_max_temp  charge_min_temp  \\\n",
       "count         7950.00       7937.00          7950.00          7950.00   \n",
       "mean           -39.94        -20.40            28.64            16.46   \n",
       "std             49.82         37.76            10.52            12.45   \n",
       "min           -202.00       -400.00            -2.00            -7.00   \n",
       "25%            -50.15        -16.40            20.00             4.00   \n",
       "50%            -22.20         -7.80            31.00            18.00   \n",
       "75%             -7.70         -2.00            36.00            26.00   \n",
       "max             -0.10          9.00            52.00            46.00   \n",
       "\n",
       "       charge_energy  \n",
       "count        7935.00  \n",
       "mean           21.91  \n",
       "std            21.81  \n",
       "min             0.00  \n",
       "25%             6.89  \n",
       "50%            17.50  \n",
       "75%            27.32  \n",
       "max           307.71  "
      ]
     },
     "execution_count": 6,
     "metadata": {},
     "output_type": "execute_result"
    }
   ],
   "source": [
    "pd.set_option('precision', 2)\n",
    "dataset.describe()"
   ]
  },
  {
   "cell_type": "markdown",
   "metadata": {},
   "source": [
    "#### 数据缺失情况"
   ]
  },
  {
   "cell_type": "code",
   "execution_count": 7,
   "metadata": {
    "scrolled": false
   },
   "outputs": [
    {
     "data": {
      "text/plain": [
       "vehicle_id             0\n",
       "charge_start_time      0\n",
       "charge_end_time        0\n",
       "mileage                0\n",
       "charge_start_soc      81\n",
       "charge_end_soc       205\n",
       "charge_start_U         0\n",
       "charge_end_U          13\n",
       "charge_start_I         0\n",
       "charge_end_I          13\n",
       "charge_max_temp        0\n",
       "charge_min_temp        0\n",
       "charge_energy         15\n",
       "dtype: int64"
      ]
     },
     "execution_count": 7,
     "metadata": {},
     "output_type": "execute_result"
    }
   ],
   "source": [
    "dataset.isnull().sum()"
   ]
  },
  {
   "cell_type": "markdown",
   "metadata": {},
   "source": [
    "#### 整体数据分布情况，因为主要是预测充电能量，因此主要看充电能量的分布情况。"
   ]
  },
  {
   "cell_type": "code",
   "execution_count": 8,
   "metadata": {},
   "outputs": [
    {
     "name": "stderr",
     "output_type": "stream",
     "text": [
      "/Users/Jeremy/miniconda3/envs/test/lib/python3.6/site-packages/matplotlib/axes/_axes.py:6462: UserWarning: The 'normed' kwarg is deprecated, and has been replaced by the 'density' kwarg.\n",
      "  warnings.warn(\"The 'normed' kwarg is deprecated, and has been \"\n"
     ]
    },
    {
     "data": {
      "text/plain": [
       "((array([-3.75304618, -3.52464475, -3.39909699, ...,  3.39909699,\n",
       "          3.52464475,  3.75304618]),\n",
       "  array([  0.00000000e+00,   0.00000000e+00,   1.00000000e-03, ...,\n",
       "           1.03722000e+02,   1.09842000e+02,   3.07714000e+02])),\n",
       " (19.870902121671552, 21.909039193446755, 0.9105455925200614))"
      ]
     },
     "execution_count": 8,
     "metadata": {},
     "output_type": "execute_result"
    },
    {
     "data": {
      "image/png": "[encoded data removed]",
      "text/plain": [
       "<Figure size 432x288 with 1 Axes>"
      ]
     },
     "metadata": {},
     "output_type": "display_data"
    },
    {
     "data": {
      "image/png": "[encoded data removed]",
      "text/plain": [
       "<Figure size 432x288 with 1 Axes>"
      ]
     },
     "metadata": {},
     "output_type": "display_data"
    }
   ],
   "source": [
    "from scipy import stats\n",
    "fig = plt.figure()\n",
    "sns.distplot(dataset[dataset['charge_energy'].notnull()]['charge_energy']);\n",
    "fig = plt.figure()\n",
    "stats.probplot(dataset[dataset['charge_energy'].notnull()]['charge_energy'], plot=plt)"
   ]
  },
  {
   "cell_type": "markdown",
   "metadata": {},
   "source": [
    ">观察：数据偏离正态分布，且有相当一部分充电能量集中在0附近，代表充电能量为0，这可能是数据中的异常，需要进行检测和筛选。"
   ]
  },
  {
   "cell_type": "markdown",
   "metadata": {},
   "source": [
    "### 对每辆车的数据情况进行分析"
   ]
  },
  {
   "cell_type": "markdown",
   "metadata": {},
   "source": [
    "#### 每辆车的数据量分布"
   ]
  },
  {
   "cell_type": "code",
   "execution_count": 9,
   "metadata": {
    "scrolled": false
   },
   "outputs": [
    {
     "name": "stderr",
     "output_type": "stream",
     "text": [
      "/Users/Jeremy/miniconda3/envs/test/lib/python3.6/site-packages/seaborn/categorical.py:1460: FutureWarning: remove_na is deprecated and is a private function. Do not use.\n",
      "  stat_data = remove_na(group_data)\n"
     ]
    },
    {
     "data": {
      "text/plain": [
       "<matplotlib.axes._subplots.AxesSubplot at 0x11e48b4a8>"
      ]
     },
     "execution_count": 9,
     "metadata": {},
     "output_type": "execute_result"
    },
    {
     "data": {
      "image/png": "[encoded data removed]",
      "text/plain": [
       "<Figure size 432x288 with 1 Axes>"
      ]
     },
     "metadata": {},
     "output_type": "display_data"
    }
   ],
   "source": [
    "sns.countplot(x='vehicle_id', data=dataset)"
   ]
  },
  {
   "cell_type": "markdown",
   "metadata": {},
   "source": [
    ">观察：数据量分布十分不均匀，有些车的数据量有些小，可能会导致数据量不足而影响模型的训练。因此，考虑数据合并或剔除。"
   ]
  },
  {
   "cell_type": "markdown",
   "metadata": {},
   "source": [
    "#### 每辆车数据的时间跨度"
   ]
  },
  {
   "cell_type": "code",
   "execution_count": 10,
   "metadata": {},
   "outputs": [
    {
     "name": "stdout",
     "output_type": "stream",
     "text": [
      "车辆Id: 1, 开始时间：2017-11-01 11:38:39, 结束时间：2018-04-15 21:13:15\n",
      "车辆Id: 2, 开始时间：2018-04-18 19:12:31, 结束时间：2018-07-13 20:04:19\n",
      "车辆Id: 3, 开始时间：2017-11-01 00:17:54, 结束时间：2018-06-10 22:28:55\n",
      "车辆Id: 4, 开始时间：2017-11-01 00:00:07, 结束时间：2018-07-12 23:06:24\n",
      "车辆Id: 5, 开始时间：2017-11-01 00:00:06, 结束时间：2018-07-13 01:38:46\n",
      "车辆Id: 6, 开始时间：2017-11-03 20:37:11, 结束时间：2018-04-15 19:41:42\n",
      "车辆Id: 7, 开始时间：2017-11-01 16:44:32, 结束时间：2017-12-28 10:36:31\n",
      "车辆Id: 8, 开始时间：2017-11-01 13:54:29, 结束时间：2018-07-13 20:10:46\n",
      "车辆Id: 9, 开始时间：2017-11-01 13:05:48, 结束时间：2018-04-15 18:22:02\n",
      "车辆Id: 10, 开始时间：2018-04-18 23:21:49, 结束时间：2018-07-12 23:26:36\n",
      "车辆Id: 11, 开始时间：2018-04-18 20:21:37, 结束时间：2018-07-12 20:40:36\n",
      "车辆Id: 12, 开始时间：2018-04-18 19:56:36, 结束时间：2018-07-12 18:03:59\n",
      "车辆Id: 13, 开始时间：2018-04-18 23:42:43, 结束时间：2018-07-12 21:29:58\n",
      "车辆Id: 14, 开始时间：2018-04-18 16:59:35, 结束时间：2018-07-13 15:03:09\n",
      "车辆Id: 15, 开始时间：2018-04-18 16:31:54, 结束时间：2018-07-13 12:47:47\n",
      "车辆Id: 16, 开始时间：2017-11-02 23:24:12, 结束时间：2018-07-05 16:29:45\n",
      "车辆Id: 17, 开始时间：2017-11-01 09:51:39, 结束时间：2018-07-12 14:32:24\n",
      "车辆Id: 18, 开始时间：2017-11-01 16:13:40, 结束时间：2018-07-03 18:23:12\n",
      "车辆Id: 19, 开始时间：2017-11-01 00:17:54, 结束时间：2018-06-10 22:28:55\n",
      "车辆Id: 20, 开始时间：2017-11-01 01:45:59, 结束时间：2018-07-13 02:05:05\n",
      "车辆Id: 21, 开始时间：2017-11-01 00:02:23, 结束时间：2018-07-12 22:03:18\n"
     ]
    }
   ],
   "source": [
    "# time_range_by_vehicle = []\n",
    "for id in range(count):\n",
    "    charge_start_time_min = dataset[dataset['vehicle_id'] == id+1]['charge_start_time'].min()\n",
    "    charge_start_time_max = dataset[dataset['vehicle_id'] == id+1]['charge_start_time'].max()\n",
    "    print(\"车辆Id: %d, 开始时间：%s, 结束时间：%s\" %(id+1,\n",
    "                             utils.str2time(str(charge_start_time_min)),\n",
    "                             utils.str2time(str(charge_start_time_max))))"
   ]
  },
  {
   "cell_type": "markdown",
   "metadata": {},
   "source": [
    ">观察：每辆车的时间跨度不是完全一致。{1,6,7,9,2}号车与{10,11,12,13,14,15}号车在时间上有连续的可能性，所以下面从里程数入手，看不同的记录是否属于同一辆车。如果属于同一辆车，可以将不同车辆的数据集进行合并，弥补数据的不足。"
   ]
  },
  {
   "cell_type": "markdown",
   "metadata": {},
   "source": [
    "#### 每辆车的里程数"
   ]
  },
  {
   "cell_type": "code",
   "execution_count": 11,
   "metadata": {},
   "outputs": [
    {
     "data": {
      "image/png": "[encoded data removed]",
      "text/plain": [
       "<Figure size 648x576 with 25 Axes>"
      ]
     },
     "metadata": {},
     "output_type": "display_data"
    }
   ],
   "source": [
    "_, ax = plt.subplots(count//5+1, 5)\n",
    "for id in range(0, count):\n",
    "    row = int(id / 5)\n",
    "    col = int(id % 5)\n",
    "    dataset[dataset['vehicle_id']==id+1]['mileage'].plot(ax=ax[row][col], figsize=(9,8))\n",
    "plt.show()"
   ]
  },
  {
   "cell_type": "markdown",
   "metadata": {},
   "source": [
    ">观察：11、15号车的里程有明显的异常数据，因为，里程数必定是递增的。"
   ]
  },
  {
   "cell_type": "markdown",
   "metadata": {},
   "source": [
    "#### 尝试数据合并"
   ]
  },
  {
   "cell_type": "code",
   "execution_count": 12,
   "metadata": {},
   "outputs": [
    {
     "name": "stdout",
     "output_type": "stream",
     "text": [
      "车辆Id: 1, 开始里程：69054.600000, 结束里程：94630.700000, 行驶里程：25576.100000\n",
      "车辆Id: 6, 开始里程：82965.600000, 结束里程：114807.300000, 行驶里程：31841.700000\n",
      "车辆Id: 7, 开始里程：79977.700000, 结束里程：91968.300000, 行驶里程：11990.600000\n",
      "车辆Id: 9, 开始里程：92441.500000, 结束里程：116993.400000, 行驶里程：24551.900000\n",
      "车辆Id: 2, 开始里程：55462.800000, 结束里程：82719.100000, 行驶里程：27256.300000\n",
      "车辆Id: 10, 开始里程：66090.600000, 结束里程：92469.400000, 行驶里程：26378.800000\n",
      "车辆Id: 11, 开始里程：63438.900000, 结束里程：90666.800000, 行驶里程：27227.900000\n",
      "车辆Id: 12, 开始里程：63160.900000, 结束里程：91365.000000, 行驶里程：28204.100000\n",
      "车辆Id: 13, 开始里程：60581.200000, 结束里程：86342.200000, 行驶里程：25761.000000\n",
      "车辆Id: 14, 开始里程：66546.600000, 结束里程：95907.300000, 行驶里程：29360.700000\n",
      "车辆Id: 15, 开始里程：62072.700000, 结束里程：91490.600000, 行驶里程：29417.900000\n"
     ]
    }
   ],
   "source": [
    "# time_range_by_vehicle = []\n",
    "for id in [1,6,7,9,2,10,11,12,13,14,15]:\n",
    "    mileage_min = dataset[(dataset['vehicle_id'] == id) & (dataset['mileage'] > 50000)]['mileage'].min() # 去除了异常数据\n",
    "    mileage_max = dataset[dataset['vehicle_id'] == id]['mileage'].max()\n",
    "    mileage_delta = mileage_max - mileage_min\n",
    "    print(\"车辆Id: %d, 开始里程：%f, 结束里程：%f, 行驶里程：%f\" %(id, mileage_min, mileage_max, mileage_delta))"
   ]
  },
  {
   "cell_type": "markdown",
   "metadata": {},
   "source": [
    ">观察：通过里程数的比较，可发现，这些车的纪录无法合并。因此，只能选择数据量多的车的记录进行训练。这里选择阈值为300，数据记录大于300的车辆数据参与之后的训练。"
   ]
  },
  {
   "cell_type": "markdown",
   "metadata": {},
   "source": [
    "### 根据记录数量（阈值为300）进行数据过滤"
   ]
  },
  {
   "cell_type": "code",
   "execution_count": 32,
   "metadata": {},
   "outputs": [
    {
     "name": "stderr",
     "output_type": "stream",
     "text": [
      "/Users/Jeremy/miniconda3/envs/test/lib/python3.6/site-packages/ipykernel_launcher.py:18: SettingWithCopyWarning: \n",
      "A value is trying to be set on a copy of a slice from a DataFrame.\n",
      "Try using .loc[row_indexer,col_indexer] = value instead\n",
      "\n",
      "See the caveats in the documentation: http://pandas.pydata.org/pandas-docs/stable/indexing.html#indexing-view-versus-copy\n"
     ]
    },
    {
     "data": {
      "text/html": [
       "<div>\n",
       "<style scoped>\n",
       "    .dataframe tbody tr th:only-of-type {\n",
       "        vertical-align: middle;\n",
       "    }\n",
       "\n",
       "    .dataframe tbody tr th {\n",
       "        vertical-align: top;\n",
       "    }\n",
       "\n",
       "    .dataframe thead th {\n",
       "        text-align: right;\n",
       "    }\n",
       "</style>\n",
       "<table border=\"1\" class=\"dataframe\">\n",
       "  <thead>\n",
       "    <tr style=\"text-align: right;\">\n",
       "      <th></th>\n",
       "      <th>vehicle_id</th>\n",
       "      <th>charge_start_time</th>\n",
       "      <th>charge_end_time</th>\n",
       "      <th>mileage</th>\n",
       "      <th>charge_start_soc</th>\n",
       "      <th>charge_end_soc</th>\n",
       "      <th>charge_start_U</th>\n",
       "      <th>charge_end_U</th>\n",
       "      <th>charge_start_I</th>\n",
       "      <th>charge_end_I</th>\n",
       "      <th>charge_max_temp</th>\n",
       "      <th>charge_min_temp</th>\n",
       "      <th>charge_energy</th>\n",
       "    </tr>\n",
       "  </thead>\n",
       "  <tbody>\n",
       "    <tr>\n",
       "      <th>count</th>\n",
       "      <td>5860.00</td>\n",
       "      <td>5.86e+03</td>\n",
       "      <td>5.86e+03</td>\n",
       "      <td>5860.00</td>\n",
       "      <td>5853.00</td>\n",
       "      <td>5817.00</td>\n",
       "      <td>5860.00</td>\n",
       "      <td>5860.00</td>\n",
       "      <td>5860.00</td>\n",
       "      <td>5860.00</td>\n",
       "      <td>5860.00</td>\n",
       "      <td>5860.00</td>\n",
       "      <td>5.86e+03</td>\n",
       "    </tr>\n",
       "    <tr>\n",
       "      <th>mean</th>\n",
       "      <td>5.17</td>\n",
       "      <td>2.02e+13</td>\n",
       "      <td>2.02e+13</td>\n",
       "      <td>108324.26</td>\n",
       "      <td>48.88</td>\n",
       "      <td>70.32</td>\n",
       "      <td>460.68</td>\n",
       "      <td>439.73</td>\n",
       "      <td>-44.82</td>\n",
       "      <td>-19.69</td>\n",
       "      <td>29.46</td>\n",
       "      <td>15.67</td>\n",
       "      <td>2.34e+01</td>\n",
       "    </tr>\n",
       "    <tr>\n",
       "      <th>std</th>\n",
       "      <td>3.06</td>\n",
       "      <td>3.99e+09</td>\n",
       "      <td>3.99e+09</td>\n",
       "      <td>31142.88</td>\n",
       "      <td>30.08</td>\n",
       "      <td>34.48</td>\n",
       "      <td>103.54</td>\n",
       "      <td>157.18</td>\n",
       "      <td>55.86</td>\n",
       "      <td>40.51</td>\n",
       "      <td>10.69</td>\n",
       "      <td>13.02</td>\n",
       "      <td>2.44e+01</td>\n",
       "    </tr>\n",
       "    <tr>\n",
       "      <th>min</th>\n",
       "      <td>1.00</td>\n",
       "      <td>2.02e+13</td>\n",
       "      <td>2.02e+13</td>\n",
       "      <td>45631.70</td>\n",
       "      <td>0.80</td>\n",
       "      <td>0.00</td>\n",
       "      <td>252.00</td>\n",
       "      <td>0.00</td>\n",
       "      <td>-202.00</td>\n",
       "      <td>-400.00</td>\n",
       "      <td>-2.00</td>\n",
       "      <td>-7.00</td>\n",
       "      <td>1.00e-03</td>\n",
       "    </tr>\n",
       "    <tr>\n",
       "      <th>25%</th>\n",
       "      <td>2.00</td>\n",
       "      <td>2.02e+13</td>\n",
       "      <td>2.02e+13</td>\n",
       "      <td>83569.40</td>\n",
       "      <td>25.00</td>\n",
       "      <td>34.00</td>\n",
       "      <td>345.20</td>\n",
       "      <td>372.50</td>\n",
       "      <td>-64.50</td>\n",
       "      <td>-16.10</td>\n",
       "      <td>21.00</td>\n",
       "      <td>2.00</td>\n",
       "      <td>3.85e+00</td>\n",
       "    </tr>\n",
       "    <tr>\n",
       "      <th>50%</th>\n",
       "      <td>5.00</td>\n",
       "      <td>2.02e+13</td>\n",
       "      <td>2.02e+13</td>\n",
       "      <td>106180.00</td>\n",
       "      <td>42.00</td>\n",
       "      <td>86.00</td>\n",
       "      <td>533.60</td>\n",
       "      <td>394.70</td>\n",
       "      <td>-21.00</td>\n",
       "      <td>-7.70</td>\n",
       "      <td>31.00</td>\n",
       "      <td>15.00</td>\n",
       "      <td>1.65e+01</td>\n",
       "    </tr>\n",
       "    <tr>\n",
       "      <th>75%</th>\n",
       "      <td>8.00</td>\n",
       "      <td>2.02e+13</td>\n",
       "      <td>2.02e+13</td>\n",
       "      <td>129317.50</td>\n",
       "      <td>68.00</td>\n",
       "      <td>100.00</td>\n",
       "      <td>551.30</td>\n",
       "      <td>565.60</td>\n",
       "      <td>-7.50</td>\n",
       "      <td>-1.00</td>\n",
       "      <td>37.00</td>\n",
       "      <td>27.00</td>\n",
       "      <td>3.26e+01</td>\n",
       "    </tr>\n",
       "    <tr>\n",
       "      <th>max</th>\n",
       "      <td>10.00</td>\n",
       "      <td>2.02e+13</td>\n",
       "      <td>2.02e+13</td>\n",
       "      <td>184014.00</td>\n",
       "      <td>100.00</td>\n",
       "      <td>100.00</td>\n",
       "      <td>595.30</td>\n",
       "      <td>604.80</td>\n",
       "      <td>-0.10</td>\n",
       "      <td>9.00</td>\n",
       "      <td>52.00</td>\n",
       "      <td>44.00</td>\n",
       "      <td>1.10e+02</td>\n",
       "    </tr>\n",
       "  </tbody>\n",
       "</table>\n",
       "</div>"
      ],
      "text/plain": [
       "       vehicle_id  charge_start_time  charge_end_time    mileage  \\\n",
       "count     5860.00           5.86e+03         5.86e+03    5860.00   \n",
       "mean         5.17           2.02e+13         2.02e+13  108324.26   \n",
       "std          3.06           3.99e+09         3.99e+09   31142.88   \n",
       "min          1.00           2.02e+13         2.02e+13   45631.70   \n",
       "25%          2.00           2.02e+13         2.02e+13   83569.40   \n",
       "50%          5.00           2.02e+13         2.02e+13  106180.00   \n",
       "75%          8.00           2.02e+13         2.02e+13  129317.50   \n",
       "max         10.00           2.02e+13         2.02e+13  184014.00   \n",
       "\n",
       "       charge_start_soc  charge_end_soc  charge_start_U  charge_end_U  \\\n",
       "count           5853.00         5817.00         5860.00       5860.00   \n",
       "mean              48.88           70.32          460.68        439.73   \n",
       "std               30.08           34.48          103.54        157.18   \n",
       "min                0.80            0.00          252.00          0.00   \n",
       "25%               25.00           34.00          345.20        372.50   \n",
       "50%               42.00           86.00          533.60        394.70   \n",
       "75%               68.00          100.00          551.30        565.60   \n",
       "max              100.00          100.00          595.30        604.80   \n",
       "\n",
       "       charge_start_I  charge_end_I  charge_max_temp  charge_min_temp  \\\n",
       "count         5860.00       5860.00          5860.00          5860.00   \n",
       "mean           -44.82        -19.69            29.46            15.67   \n",
       "std             55.86         40.51            10.69            13.02   \n",
       "min           -202.00       -400.00            -2.00            -7.00   \n",
       "25%            -64.50        -16.10            21.00             2.00   \n",
       "50%            -21.00         -7.70            31.00            15.00   \n",
       "75%             -7.50         -1.00            37.00            27.00   \n",
       "max             -0.10          9.00            52.00            44.00   \n",
       "\n",
       "       charge_energy  \n",
       "count       5.86e+03  \n",
       "mean        2.34e+01  \n",
       "std         2.44e+01  \n",
       "min         1.00e-03  \n",
       "25%         3.85e+00  \n",
       "50%         1.65e+01  \n",
       "75%         3.26e+01  \n",
       "max         1.10e+02  "
      ]
     },
     "execution_count": 32,
     "metadata": {},
     "output_type": "execute_result"
    }
   ],
   "source": [
    "# 研究对象更改为满足记录数大于300的车的记录\n",
    "dataset_filter_by_count = pd.DataFrame()\n",
    "\n",
    "# 满足条件的vehicle_id列表\n",
    "vehicle_ids_filter = []\n",
    "for id in range(count):\n",
    "    count_by_vehicle = len(dataset[dataset['vehicle_id'] == id+1])\n",
    "    if count_by_vehicle > 300:\n",
    "        vehicle_ids_filter.append(id+1)\n",
    "        dataset_filter_by_count = dataset_filter_by_count.append(dataset[dataset['vehicle_id'] == id+1])\n",
    "\n",
    "# 对车辆重新编号\n",
    "vehicle_id_counter = 0\n",
    "dataset_filter_by_count_reindex = pd.DataFrame()\n",
    "for id in vehicle_ids_filter:\n",
    "    vehicle_id_counter += 1\n",
    "    temp = dataset_filter_by_count[dataset_filter_by_count['vehicle_id'] == id]\n",
    "    temp['vehicle_id'] = vehicle_id_counter\n",
    "    dataset_filter_by_count_reindex = dataset_filter_by_count_reindex.append(temp)\n",
    "# 保存数据\n",
    "dataset_filter_by_count_reindex.to_csv('./energy_predict_data/train_data_filter/predict_data_e_train_filter_by_count.csv', index=False)\n",
    "dataset_filter_by_count_reindex.describe()"
   ]
  },
  {
   "cell_type": "markdown",
   "metadata": {},
   "source": [
    "### 研究对象更改为这10辆车"
   ]
  },
  {
   "cell_type": "code",
   "execution_count": 36,
   "metadata": {
    "collapsed": true
   },
   "outputs": [],
   "source": [
    "dataset = dataset_filter_by_count_reindex\n",
    "count = np.max(dataset['vehicle_id'])"
   ]
  },
  {
   "cell_type": "markdown",
   "metadata": {},
   "source": [
    "#### 这10辆车的数据分布"
   ]
  },
  {
   "cell_type": "code",
   "execution_count": 37,
   "metadata": {},
   "outputs": [
    {
     "name": "stderr",
     "output_type": "stream",
     "text": [
      "/Users/Jeremy/miniconda3/envs/test/lib/python3.6/site-packages/seaborn/categorical.py:1460: FutureWarning: remove_na is deprecated and is a private function. Do not use.\n",
      "  stat_data = remove_na(group_data)\n"
     ]
    },
    {
     "data": {
      "text/plain": [
       "<matplotlib.axes._subplots.AxesSubplot at 0x11b15dd30>"
      ]
     },
     "execution_count": 37,
     "metadata": {},
     "output_type": "execute_result"
    },
    {
     "data": {
      "image/png": "[encoded data removed]",
      "text/plain": [
       "<Figure size 432x288 with 1 Axes>"
      ]
     },
     "metadata": {},
     "output_type": "display_data"
    }
   ],
   "source": [
    "sns.countplot(x='vehicle_id', data=dataset)"
   ]
  },
  {
   "cell_type": "markdown",
   "metadata": {},
   "source": [
    "#### 10辆车的数据分布情况"
   ]
  },
  {
   "cell_type": "code",
   "execution_count": null,
   "metadata": {
    "collapsed": true
   },
   "outputs": [],
   "source": [
    "for i in :\n",
    "    NONE_VIN = (dataset[\"charge_energy\"].notnull() & (dataset['vehicle_id']==i))\n",
    "    fig = plt.figure()\n",
    "    sns.distplot(dataset[NONE_VIN]['charge_energy']);\n",
    "    fig = plt.figure()\n",
    "    res = stats.probplot(dataset[NONE_VIN]['charge_energy'], plot=plt)"
   ]
  },
  {
   "cell_type": "markdown",
   "metadata": {},
   "source": [
    "##### 相关性分析"
   ]
  },
  {
   "cell_type": "code",
   "execution_count": null,
   "metadata": {
    "collapsed": true
   },
   "outputs": [],
   "source": [
    "# 总数据相关性勘探\n",
    "corr=dataset[header[1:]].corr()\n",
    "plt.figure(figsize=(10, 10))\n",
    "sns.heatmap(corr, vmax=0.8, linewidths=0.01,\n",
    "            square=True,annot=True,cmap='YlGnBu',linecolor=\"white\")\n",
    "plt.title('Correlation between features for whole vehicles');"
   ]
  },
  {
   "cell_type": "code",
   "execution_count": null,
   "metadata": {
    "collapsed": true,
    "scrolled": true
   },
   "outputs": [],
   "source": [
    "# 对不同车的数据进行相关性分析，会发现更多信息，这里只关注了过滤后的数据\n",
    "for i in vehicle_ids_filter:\n",
    "    data = dataset[(dataset['vehicle_id']==i)]\n",
    "    data = data[header[1:]]\n",
    "    corr=data.corr()\n",
    "    plt.figure(figsize=(10, 10))\n",
    "    sns.heatmap(corr, vmax=0.8, linewidths=0.01,\n",
    "                square=True,annot=True,cmap='YlGnBu',linecolor=\"white\")\n",
    "    plt.title('Correlation between features for vehicle # %d' % i);"
   ]
  },
  {
   "cell_type": "markdown",
   "metadata": {},
   "source": [
    ">观察：对于这10辆车，发现对充电能量影响较大的有：charge_start_soc、charge_start_U、charge_min_temp。"
   ]
  },
  {
   "cell_type": "markdown",
   "metadata": {},
   "source": [
    "#### 特征工程。增加新的特征集——充电时间间隔（charge_duration）与SOC变化值（charge_delta_soc）以及里程变化值（delta_mileage，两次充电间该汽车行驶里程数，对于提供的数据集来说，每辆车第一条记录，距上一次充电间的行驶里程是不确定的。接下来，我们将会用聚类的方法对该值进行填充）；"
   ]
  },
  {
   "cell_type": "code",
   "execution_count": null,
   "metadata": {
    "collapsed": true
   },
   "outputs": [],
   "source": [
    "# 增加充电时间间隔属性\n",
    "charge_end_time_array = np.array(utils.calVecTimeStamp(dataset['charge_end_time']))\n",
    "charge_start_time_array = np.array(utils.calVecTimeStamp(dataset['charge_start_time']))\n",
    "dataset['charge_duration'] = (charge_end_time_array - charge_start_time_array).tolist()\n",
    "\n",
    "# 增加充电SOC变化量\n",
    "charge_start_soc_array = np.array(dataset['charge_start_soc'])\n",
    "charge_end_soc_array = np.array(dataset['charge_end_soc'])\n",
    "dataset['charge_delta_soc'] = (charge_end_soc_array - charge_start_soc_array).tolist()\n",
    "\n",
    "# 增加充电前汽车行驶里程数，要分车进行\n",
    "delta_mileage_list_all = []\n",
    "for i in range(1, count+1):\n",
    "    delta_mileage_list_all.append(np.NaN)\n",
    "    mileage_list = dataset[dataset['vehicle_id']==i]['mileage'].tolist()\n",
    "    for j in range(1, len(mileage_list)):\n",
    "        delta_mileage_list_all.append(mileage_list[j] - mileage_list[j-1])\n",
    "dataset['delta_mileage'] = delta_mileage_list_all\n",
    "\n",
    "# 重构数据集\n",
    "header.insert(3, 'charge_duration')\n",
    "header.insert(5, 'delta_mileage')\n",
    "header.insert(8, 'charge_delta_soc')\n",
    "\n",
    "dataset = dataset[header]"
   ]
  },
  {
   "cell_type": "markdown",
   "metadata": {},
   "source": [
    "##### 特征工程后的数据集"
   ]
  },
  {
   "cell_type": "code",
   "execution_count": null,
   "metadata": {
    "collapsed": true,
    "scrolled": true
   },
   "outputs": [],
   "source": [
    "pd.set_option('precision', 2)\n",
    "dataset.describe()"
   ]
  },
  {
   "cell_type": "markdown",
   "metadata": {},
   "source": [
    "##### 查看特征工程前后的相关性的变化"
   ]
  },
  {
   "cell_type": "code",
   "execution_count": null,
   "metadata": {
    "collapsed": true,
    "scrolled": true
   },
   "outputs": [],
   "source": [
    "# 对不同车的数据进行相关性分析，会发现更多信息\n",
    "for i in vehicle_ids_filter:\n",
    "    data = dataset[(dataset['vehicle_id']==i)]\n",
    "    data = data[header[1:]]\n",
    "    \n",
    "    # 相关性可视化\n",
    "    corr=data.corr()\n",
    "    plt.figure(figsize=(10, 10))\n",
    "    sns.heatmap(corr, vmax=0.8, linewidths=0.01,\n",
    "                square=True,annot=True,cmap='YlGnBu',linecolor=\"white\")\n",
    "    plt.title('Correlation between features for vehicle # %d' % i);\n",
    "    \n",
    "    # 保存data\n",
    "    data.to_csv(\"./energy_predict_data/train_whole_21/with_outlier/predict_data_e_train_%d.csv\" % i, index=False)"
   ]
  },
  {
   "cell_type": "markdown",
   "metadata": {},
   "source": [
    "##### 第三步，数据清洗，去除异常数据。"
   ]
  },
  {
   "cell_type": "markdown",
   "metadata": {},
   "source": [
    "##### **数据异常分析**。通过观察数据集可以发现，有相当一部分记录的充电能量值非常小。"
   ]
  },
  {
   "cell_type": "code",
   "execution_count": null,
   "metadata": {
    "collapsed": true
   },
   "outputs": [],
   "source": [
    "dataset[(dataset['charge_energy'] < 0.1)].describe()"
   ]
  },
  {
   "cell_type": "markdown",
   "metadata": {},
   "source": [
    ">通过观察，可以得到如下结论：充电能量很小时：\n",
    "* 充电时间间隔很短\n",
    "* 充电前里程变化量很小，且一般为0\n",
    "* 和上一记录几乎重复\n",
    "* 起始SOC很大，接近100。\n",
    "\n",
    ">其实，这种情况在实际中应该是比较常见。比如，刚刚充电时就有人来了把车开走了，或者是由于某些原因，导致充电过程很短，又或者是电池已经充满，继续充电能量也不会增加太多。而这些数据对训练模型没有任何帮助，因此需要这种数据记录应该视为异常。在后面的数据预处理中会将这类异常数据删去。\n",
    "\n",
    ">通过观察，若一条数据记录满足如下条件（1）和条件（2）（3）（4）中的任意一条，则视为异常数据：\n",
    "1. 充电能量小于0.1\n",
    "2. 充电时间持续时长小于10min\n",
    "3. 充电开始SOC大于99\n",
    "4. 充电SOC变化量小于0"
   ]
  },
  {
   "cell_type": "code",
   "execution_count": null,
   "metadata": {
    "collapsed": true
   },
   "outputs": [],
   "source": [
    "# 异常数据\n",
    "dataset_outlier = dataset[(dataset['charge_energy'] < 0.1)\n",
    "                          & ((dataset['charge_duration'] < 600) \n",
    "                             | (dataset['charge_start_soc'] > 99) \n",
    "                             | (dataset['charge_delta_soc'] < 0))]\n",
    "# 正常数据\n",
    "dataset_filter = dataset[~((dataset['charge_energy'] < 0.1)\n",
    "                          & ((dataset['charge_duration'] < 600) \n",
    "                             | (dataset['charge_start_soc'] > 99) \n",
    "                             | (dataset['charge_delta_soc'] < 0)))]\n",
    "\n",
    "# 查看异常数据所占比重\n",
    "rate_list = []\n",
    "for i in range(count):\n",
    "    rate = len(dataset_outlier[dataset_outlier['vehicle_id'] == i+1]) / len(dataset[dataset['vehicle_id'] == i+1])\n",
    "    rate_list.append(rate * 100)\n",
    "plt.figure(1)\n",
    "plt.grid(True)\n",
    "plt.xlabel('vehicle_id')\n",
    "plt.ylabel('rate')\n",
    "plt.axis([1, 21, 0, 100])\n",
    "#添加标题\n",
    "plt.title('The rate of outlier data')\n",
    "plt.plot(rate_list)\n",
    "plt.show()\n",
    "print(len(dataset_outlier))"
   ]
  },
  {
   "cell_type": "markdown",
   "metadata": {},
   "source": [
    ">经过筛选，可发现数据集中共有1072条记录被视为了异常数据。其中，第4辆车充电记录中有接近50%的数据是异常数据。"
   ]
  },
  {
   "cell_type": "markdown",
   "metadata": {},
   "source": [
    "##### 删除异常值后的数据量分布情况"
   ]
  },
  {
   "cell_type": "code",
   "execution_count": null,
   "metadata": {
    "collapsed": true,
    "scrolled": false
   },
   "outputs": [],
   "source": [
    "# 更新数据集\n",
    "dataset = dataset_filter\n",
    "sns.countplot(x='vehicle_id', data=dataset)"
   ]
  },
  {
   "cell_type": "markdown",
   "metadata": {},
   "source": [
    "##### 去除异常值后的相关性分析"
   ]
  },
  {
   "cell_type": "code",
   "execution_count": null,
   "metadata": {
    "collapsed": true,
    "scrolled": true
   },
   "outputs": [],
   "source": [
    "# 对不同车的数据进行相关性分析，会发现更多信息\n",
    "for i in range(1, count+1):\n",
    "    data = dataset[(dataset['vehicle_id']==i)]\n",
    "    data = data[header[1:]]\n",
    "    \n",
    "    # 相关性可视化\n",
    "    corr=data.corr()\n",
    "    plt.figure(figsize=(10, 10))\n",
    "    sns.heatmap(corr, vmax=0.8, linewidths=0.01,\n",
    "                square=True,annot=True,cmap='YlGnBu',linecolor=\"white\")\n",
    "    plt.title('Correlation between features for vehicle # %d' % i);\n",
    "    \n",
    "    # 保存data\n",
    "    data.to_csv(\"./energy_predict_data/train_whole_21/without_outlier/predict_data_e_train_%d.csv\" % i, index=False)"
   ]
  },
  {
   "cell_type": "markdown",
   "metadata": {},
   "source": [
    "#### 第四步，进行数据填充。因为有空值，所以需要对缺失数据进行填充。这一步，采用聚类思想进行数据填充：根据完整数据集中（除去充电开始时间、充电结束时间列外，并增加了充电时间间隔列）特征信息进行聚类，然后对含有缺失值记录按照欧式距离寻找距其最近的类，然后用该类中心属性值对缺失值进行填充。"
   ]
  },
  {
   "cell_type": "code",
   "execution_count": null,
   "metadata": {
    "collapsed": true
   },
   "outputs": [],
   "source": [
    "# 异常检测之后的数据缺失情况\n",
    "dataset.isnull().sum()"
   ]
  },
  {
   "cell_type": "markdown",
   "metadata": {},
   "source": [
    "##### 数据分为完美数据集和含缺失属性的数据集，用完美数据集做聚类。"
   ]
  },
  {
   "cell_type": "code",
   "execution_count": null,
   "metadata": {
    "collapsed": true
   },
   "outputs": [],
   "source": [
    "# 完美数据集\n",
    "dataset_without_null = dataset[~dataset.T.isnull().any()]\n",
    "dataset_without_null.head()"
   ]
  },
  {
   "cell_type": "markdown",
   "metadata": {},
   "source": [
    "#### 用完美数据集做聚类"
   ]
  },
  {
   "cell_type": "code",
   "execution_count": null,
   "metadata": {
    "collapsed": true
   },
   "outputs": [],
   "source": [
    "from sklearn.cluster import KMeans\n",
    "#聚类和填充需要操作的列名\n",
    "compute_header = ['charge_duration', 'delta_mileage', 'charge_delta_soc', 'charge_energy']\n",
    "cluster_source = dataset_without_null[compute_header]\n",
    "kmeans = KMeans(n_clusters=3, random_state=0).fit(cluster_source)\n",
    "cluster = kmeans.cluster_centers_\n",
    "labels = kmeans.labels_\n",
    "sns.countplot(labels)"
   ]
  },
  {
   "cell_type": "code",
   "execution_count": null,
   "metadata": {
    "collapsed": true
   },
   "outputs": [],
   "source": [
    "from scipy import stats\n",
    "fig = plt.figure()\n",
    "sns.distplot(dataset_without_null['charge_energy']);\n",
    "fig = plt.figure()\n",
    "stats.probplot(dataset_without_null['charge_energy'], plot=plt)"
   ]
  },
  {
   "cell_type": "markdown",
   "metadata": {},
   "source": [
    "##### 利用聚类结果进行数据填充"
   ]
  },
  {
   "cell_type": "code",
   "execution_count": null,
   "metadata": {
    "collapsed": true
   },
   "outputs": [],
   "source": [
    "dataset_with_null = dataset[dataset.T.isnull().any()]\n",
    "null_index_list = dataset_with_null.index.tolist()\n",
    "sns.countplot(x='vehicle_id', data=dataset_with_null)"
   ]
  },
  {
   "cell_type": "code",
   "execution_count": null,
   "metadata": {
    "collapsed": true
   },
   "outputs": [],
   "source": [
    "#转化为array\n",
    "dataset_with_null_values = dataset_with_null[compute_header].values\n",
    "for i in range(len(dataset_with_null_values)):\n",
    "    maxD = float('inf')\n",
    "    maxV = []\n",
    "    data = dataset_with_null_values[i]\n",
    "    for center in cluster:\n",
    "        dis = utils.distance(center, data)\n",
    "        if dis < maxD:\n",
    "            maxD = dis\n",
    "            maxV = center\n",
    "    dataset_with_null_values[i] = utils.filling(maxV,data)\n",
    "    "
   ]
  },
  {
   "cell_type": "code",
   "execution_count": null,
   "metadata": {
    "collapsed": true
   },
   "outputs": [],
   "source": [
    "#填充结果覆盖到不完美数据集\n",
    "dataset_with_null_filled = pd.DataFrame(dataset_with_null_values,columns=compute_header)\n",
    "dataset_with_null_filled.describe()"
   ]
  },
  {
   "cell_type": "code",
   "execution_count": null,
   "metadata": {
    "collapsed": true,
    "scrolled": true
   },
   "outputs": [],
   "source": [
    "for column in compute_header:\n",
    "    for i in range(len(dataset_with_null)):\n",
    "        dataset_with_null[column].loc[i] = dataset_with_null_filled[column].loc[i]"
   ]
  },
  {
   "cell_type": "code",
   "execution_count": null,
   "metadata": {
    "collapsed": true
   },
   "outputs": [],
   "source": [
    "dataset_with_null.isnull().sum()"
   ]
  },
  {
   "cell_type": "markdown",
   "metadata": {},
   "source": [
    "##### 保存填充后的集合"
   ]
  },
  {
   "cell_type": "code",
   "execution_count": null,
   "metadata": {
    "collapsed": true
   },
   "outputs": [],
   "source": [
    "dataset_whole = pd.DataFrame(np.insert(dataset_without_null.values, null_index_list, dataset_with_null_filled.values, axis=0), columns=dataset_without_null.columns)"
   ]
  }
 ],
 "metadata": {
  "kernelspec": {
   "display_name": "Python 3",
   "language": "python",
   "name": "python3"
  },
  "language_info": {
   "codemirror_mode": {
    "name": "ipython",
    "version": 3
   },
   "file_extension": ".py",
   "mimetype": "text/x-python",
   "name": "python",
   "nbconvert_exporter": "python",
   "pygments_lexer": "ipython3",
   "version": "3.6.2"
  }
 },
 "nbformat": 4,
 "nbformat_minor": 2
}
