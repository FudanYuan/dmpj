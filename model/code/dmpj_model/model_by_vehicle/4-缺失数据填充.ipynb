{
 "cells": [
  {
   "cell_type": "markdown",
   "metadata": {},
   "source": [
    "## 新能源电动汽车动力电池充电能量预测（四）——缺失数据填充"
   ]
  },
  {
   "cell_type": "code",
   "execution_count": 1,
   "metadata": {
    "collapsed": true
   },
   "outputs": [],
   "source": [
    "import pandas as pd\n",
    "import matplotlib.pyplot as plt\n",
    "import seaborn as sns\n",
    "%matplotlib inline\n",
    "import numpy as np\n",
    "from datetime import date, datetime\n",
    "from package import utils\n",
    "from scipy import stats"
   ]
  },
  {
   "cell_type": "markdown",
   "metadata": {},
   "source": [
    "### 数据导入"
   ]
  },
  {
   "cell_type": "code",
   "execution_count": 2,
   "metadata": {},
   "outputs": [
    {
     "data": {
      "text/html": [
       "<div>\n",
       "<style scoped>\n",
       "    .dataframe tbody tr th:only-of-type {\n",
       "        vertical-align: middle;\n",
       "    }\n",
       "\n",
       "    .dataframe tbody tr th {\n",
       "        vertical-align: top;\n",
       "    }\n",
       "\n",
       "    .dataframe thead th {\n",
       "        text-align: right;\n",
       "    }\n",
       "</style>\n",
       "<table border=\"1\" class=\"dataframe\">\n",
       "  <thead>\n",
       "    <tr style=\"text-align: right;\">\n",
       "      <th></th>\n",
       "      <th>vehicle_id</th>\n",
       "      <th>charge_start_time</th>\n",
       "      <th>charge_end_time</th>\n",
       "      <th>charge_duration</th>\n",
       "      <th>mileage</th>\n",
       "      <th>delta_mileage</th>\n",
       "      <th>charge_start_soc</th>\n",
       "      <th>charge_end_soc</th>\n",
       "      <th>charge_delta_soc</th>\n",
       "      <th>charge_start_U</th>\n",
       "      <th>charge_end_U</th>\n",
       "      <th>charge_start_I</th>\n",
       "      <th>charge_end_I</th>\n",
       "      <th>charge_max_temp</th>\n",
       "      <th>charge_min_temp</th>\n",
       "      <th>charge_energy</th>\n",
       "    </tr>\n",
       "  </thead>\n",
       "  <tbody>\n",
       "    <tr>\n",
       "      <th>count</th>\n",
       "      <td>4818.00</td>\n",
       "      <td>4.82e+03</td>\n",
       "      <td>4.82e+03</td>\n",
       "      <td>4818.00</td>\n",
       "      <td>4818.00</td>\n",
       "      <td>4810.00</td>\n",
       "      <td>4811.00</td>\n",
       "      <td>4775.00</td>\n",
       "      <td>4774.00</td>\n",
       "      <td>4818.00</td>\n",
       "      <td>4818.00</td>\n",
       "      <td>4818.00</td>\n",
       "      <td>4818.00</td>\n",
       "      <td>4818.00</td>\n",
       "      <td>4818.00</td>\n",
       "      <td>4817.00</td>\n",
       "    </tr>\n",
       "    <tr>\n",
       "      <th>mean</th>\n",
       "      <td>5.43</td>\n",
       "      <td>2.02e+13</td>\n",
       "      <td>2.02e+13</td>\n",
       "      <td>4346.83</td>\n",
       "      <td>111192.41</td>\n",
       "      <td>98.89</td>\n",
       "      <td>38.10</td>\n",
       "      <td>64.18</td>\n",
       "      <td>26.06</td>\n",
       "      <td>440.65</td>\n",
       "      <td>415.62</td>\n",
       "      <td>-54.07</td>\n",
       "      <td>-23.52</td>\n",
       "      <td>28.23</td>\n",
       "      <td>12.69</td>\n",
       "      <td>28.46</td>\n",
       "    </tr>\n",
       "    <tr>\n",
       "      <th>std</th>\n",
       "      <td>2.97</td>\n",
       "      <td>4.04e+09</td>\n",
       "      <td>4.04e+09</td>\n",
       "      <td>4628.47</td>\n",
       "      <td>32314.21</td>\n",
       "      <td>219.60</td>\n",
       "      <td>20.74</td>\n",
       "      <td>34.85</td>\n",
       "      <td>33.43</td>\n",
       "      <td>102.62</td>\n",
       "      <td>162.30</td>\n",
       "      <td>57.55</td>\n",
       "      <td>43.73</td>\n",
       "      <td>10.99</td>\n",
       "      <td>12.03</td>\n",
       "      <td>24.10</td>\n",
       "    </tr>\n",
       "    <tr>\n",
       "      <th>min</th>\n",
       "      <td>1.00</td>\n",
       "      <td>2.02e+13</td>\n",
       "      <td>2.02e+13</td>\n",
       "      <td>10.00</td>\n",
       "      <td>45631.70</td>\n",
       "      <td>-146.40</td>\n",
       "      <td>0.80</td>\n",
       "      <td>0.00</td>\n",
       "      <td>-100.00</td>\n",
       "      <td>252.00</td>\n",
       "      <td>0.00</td>\n",
       "      <td>-202.00</td>\n",
       "      <td>-400.00</td>\n",
       "      <td>-2.00</td>\n",
       "      <td>-7.00</td>\n",
       "      <td>0.10</td>\n",
       "    </tr>\n",
       "    <tr>\n",
       "      <th>25%</th>\n",
       "      <td>3.00</td>\n",
       "      <td>2.02e+13</td>\n",
       "      <td>2.02e+13</td>\n",
       "      <td>1630.00</td>\n",
       "      <td>84895.15</td>\n",
       "      <td>61.00</td>\n",
       "      <td>21.60</td>\n",
       "      <td>32.80</td>\n",
       "      <td>11.20</td>\n",
       "      <td>339.20</td>\n",
       "      <td>370.50</td>\n",
       "      <td>-84.50</td>\n",
       "      <td>-16.20</td>\n",
       "      <td>19.00</td>\n",
       "      <td>0.00</td>\n",
       "      <td>11.51</td>\n",
       "    </tr>\n",
       "    <tr>\n",
       "      <th>50%</th>\n",
       "      <td>5.00</td>\n",
       "      <td>2.02e+13</td>\n",
       "      <td>2.02e+13</td>\n",
       "      <td>3085.50</td>\n",
       "      <td>109703.30</td>\n",
       "      <td>85.95</td>\n",
       "      <td>36.00</td>\n",
       "      <td>79.00</td>\n",
       "      <td>26.40</td>\n",
       "      <td>371.90</td>\n",
       "      <td>375.60</td>\n",
       "      <td>-24.80</td>\n",
       "      <td>-8.60</td>\n",
       "      <td>30.00</td>\n",
       "      <td>9.00</td>\n",
       "      <td>19.87</td>\n",
       "    </tr>\n",
       "    <tr>\n",
       "      <th>75%</th>\n",
       "      <td>8.00</td>\n",
       "      <td>2.02e+13</td>\n",
       "      <td>2.02e+13</td>\n",
       "      <td>4920.00</td>\n",
       "      <td>138055.25</td>\n",
       "      <td>123.00</td>\n",
       "      <td>53.00</td>\n",
       "      <td>100.00</td>\n",
       "      <td>52.00</td>\n",
       "      <td>540.77</td>\n",
       "      <td>565.08</td>\n",
       "      <td>-12.03</td>\n",
       "      <td>-2.00</td>\n",
       "      <td>36.00</td>\n",
       "      <td>23.00</td>\n",
       "      <td>41.44</td>\n",
       "    </tr>\n",
       "    <tr>\n",
       "      <th>max</th>\n",
       "      <td>10.00</td>\n",
       "      <td>2.02e+13</td>\n",
       "      <td>2.02e+13</td>\n",
       "      <td>42770.00</td>\n",
       "      <td>184014.00</td>\n",
       "      <td>9703.00</td>\n",
       "      <td>100.00</td>\n",
       "      <td>100.00</td>\n",
       "      <td>88.00</td>\n",
       "      <td>585.10</td>\n",
       "      <td>604.80</td>\n",
       "      <td>-0.10</td>\n",
       "      <td>9.00</td>\n",
       "      <td>52.00</td>\n",
       "      <td>44.00</td>\n",
       "      <td>109.84</td>\n",
       "    </tr>\n",
       "  </tbody>\n",
       "</table>\n",
       "</div>"
      ],
      "text/plain": [
       "       vehicle_id  charge_start_time  charge_end_time  charge_duration  \\\n",
       "count     4818.00           4.82e+03         4.82e+03          4818.00   \n",
       "mean         5.43           2.02e+13         2.02e+13          4346.83   \n",
       "std          2.97           4.04e+09         4.04e+09          4628.47   \n",
       "min          1.00           2.02e+13         2.02e+13            10.00   \n",
       "25%          3.00           2.02e+13         2.02e+13          1630.00   \n",
       "50%          5.00           2.02e+13         2.02e+13          3085.50   \n",
       "75%          8.00           2.02e+13         2.02e+13          4920.00   \n",
       "max         10.00           2.02e+13         2.02e+13         42770.00   \n",
       "\n",
       "         mileage  delta_mileage  charge_start_soc  charge_end_soc  \\\n",
       "count    4818.00        4810.00           4811.00         4775.00   \n",
       "mean   111192.41          98.89             38.10           64.18   \n",
       "std     32314.21         219.60             20.74           34.85   \n",
       "min     45631.70        -146.40              0.80            0.00   \n",
       "25%     84895.15          61.00             21.60           32.80   \n",
       "50%    109703.30          85.95             36.00           79.00   \n",
       "75%    138055.25         123.00             53.00          100.00   \n",
       "max    184014.00        9703.00            100.00          100.00   \n",
       "\n",
       "       charge_delta_soc  charge_start_U  charge_end_U  charge_start_I  \\\n",
       "count           4774.00         4818.00       4818.00         4818.00   \n",
       "mean              26.06          440.65        415.62          -54.07   \n",
       "std               33.43          102.62        162.30           57.55   \n",
       "min             -100.00          252.00          0.00         -202.00   \n",
       "25%               11.20          339.20        370.50          -84.50   \n",
       "50%               26.40          371.90        375.60          -24.80   \n",
       "75%               52.00          540.77        565.08          -12.03   \n",
       "max               88.00          585.10        604.80           -0.10   \n",
       "\n",
       "       charge_end_I  charge_max_temp  charge_min_temp  charge_energy  \n",
       "count       4818.00          4818.00          4818.00        4817.00  \n",
       "mean         -23.52            28.23            12.69          28.46  \n",
       "std           43.73            10.99            12.03          24.10  \n",
       "min         -400.00            -2.00            -7.00           0.10  \n",
       "25%          -16.20            19.00             0.00          11.51  \n",
       "50%           -8.60            30.00             9.00          19.87  \n",
       "75%           -2.00            36.00            23.00          41.44  \n",
       "max            9.00            52.00            44.00         109.84  "
      ]
     },
     "execution_count": 2,
     "metadata": {},
     "output_type": "execute_result"
    }
   ],
   "source": [
    "# 导入经过异常检测后的数据集合\n",
    "dataset = pd.read_csv('./energy_predict_data/train_data_filter/3_outlier_detection/predict_data_e_train.csv')\n",
    "# 数据字段\n",
    "header = dataset.columns.values.tolist()\n",
    "# 数据集大小\n",
    "count = np.max(dataset['vehicle_id'])\n",
    "# 数据描述\n",
    "pd.set_option('precision', 2)\n",
    "dataset.describe()"
   ]
  },
  {
   "cell_type": "markdown",
   "metadata": {},
   "source": [
    "#### 数据缺失情况"
   ]
  },
  {
   "cell_type": "code",
   "execution_count": 3,
   "metadata": {
    "scrolled": false
   },
   "outputs": [
    {
     "data": {
      "text/plain": [
       "vehicle_id            0\n",
       "charge_start_time     0\n",
       "charge_end_time       0\n",
       "charge_duration       0\n",
       "mileage               0\n",
       "delta_mileage         8\n",
       "charge_start_soc      7\n",
       "charge_end_soc       43\n",
       "charge_delta_soc     44\n",
       "charge_start_U        0\n",
       "charge_end_U          0\n",
       "charge_start_I        0\n",
       "charge_end_I          0\n",
       "charge_max_temp       0\n",
       "charge_min_temp       0\n",
       "charge_energy         1\n",
       "dtype: int64"
      ]
     },
     "execution_count": 3,
     "metadata": {},
     "output_type": "execute_result"
    }
   ],
   "source": [
    "dataset.isnull().sum()"
   ]
  },
  {
   "cell_type": "markdown",
   "metadata": {},
   "source": [
    "#### 每辆车上含有缺失值的数量分布"
   ]
  },
  {
   "cell_type": "code",
   "execution_count": 4,
   "metadata": {},
   "outputs": [
    {
     "name": "stderr",
     "output_type": "stream",
     "text": [
      "/Users/Jeremy/miniconda3/envs/test/lib/python3.6/site-packages/seaborn/categorical.py:1460: FutureWarning: remove_na is deprecated and is a private function. Do not use.\n",
      "  stat_data = remove_na(group_data)\n"
     ]
    },
    {
     "data": {
      "text/plain": [
       "<matplotlib.axes._subplots.AxesSubplot at 0x110acc828>"
      ]
     },
     "execution_count": 4,
     "metadata": {},
     "output_type": "execute_result"
    },
    {
     "data": {
      "image/png": "[encoded data removed]",
      "text/plain": [
       "<Figure size 432x288 with 1 Axes>"
      ]
     },
     "metadata": {},
     "output_type": "display_data"
    }
   ],
   "source": [
    "# 缺失数据集\n",
    "dataset_with_null = dataset[dataset.T.isnull().any()]\n",
    "null_index_list = dataset_with_null.index.tolist()\n",
    "for i in range(len(null_index_list)):\n",
    "    null_index_list[i] = null_index_list[i] - i\n",
    "sns.countplot(x='vehicle_id', data=dataset_with_null)"
   ]
  },
  {
   "cell_type": "markdown",
   "metadata": {},
   "source": [
    ">观察1：整体来说，缺失情况不是很严重；只有delta_mileage、charge_start_soc、charge_end_soc、charge_delta_soc、charge_energy这些字段存在缺失。\n",
    "\n",
    ">观察2：相对来说，第4辆车缺失较多。\n",
    "\n",
    ">方法：采用聚类思想进行数据填充：选择参与聚类的字段是很重要的，根据第2步特征工程的结论，我们选择charge_duration、delta_mileage、charge_start_soc、charge_delta_soc、charge_start_U、charge_min_temp这些特征信息进行聚类。然后，对含有缺失值记录按照欧式距离寻找距其最近的类，然后用该类中心属性值对缺失值进行填充。"
   ]
  },
  {
   "cell_type": "markdown",
   "metadata": {},
   "source": [
    "### 数据填充。"
   ]
  },
  {
   "cell_type": "markdown",
   "metadata": {},
   "source": [
    "#### 获取完美数据集"
   ]
  },
  {
   "cell_type": "code",
   "execution_count": 5,
   "metadata": {},
   "outputs": [],
   "source": [
    "# 完美数据集\n",
    "dataset_without_null = dataset[~dataset.T.isnull().any()]"
   ]
  },
  {
   "cell_type": "code",
   "execution_count": 6,
   "metadata": {},
   "outputs": [
    {
     "name": "stderr",
     "output_type": "stream",
     "text": [
      "/Users/Jeremy/miniconda3/envs/test/lib/python3.6/site-packages/matplotlib/axes/_axes.py:6462: UserWarning: The 'normed' kwarg is deprecated, and has been replaced by the 'density' kwarg.\n",
      "  warnings.warn(\"The 'normed' kwarg is deprecated, and has been \"\n"
     ]
    },
    {
     "data": {
      "text/plain": [
       "((array([-3.62326141, -3.38718526, -3.25703338, ...,  3.25703338,\n",
       "          3.38718526,  3.62326141]),\n",
       "  array([  1.01000000e-01,   1.01000000e-01,   1.02000000e-01, ...,\n",
       "           1.03674000e+02,   1.03722000e+02,   1.09842000e+02])),\n",
       " (22.580521454315804, 28.534501783840501, 0.93345860194622809))"
      ]
     },
     "execution_count": 6,
     "metadata": {},
     "output_type": "execute_result"
    },
    {
     "data": {
      "image/png": "[encoded data removed]",
      "text/plain": [
       "<Figure size 432x288 with 1 Axes>"
      ]
     },
     "metadata": {},
     "output_type": "display_data"
    },
    {
     "data": {
      "image/png": "[encoded data removed]",
      "text/plain": [
       "<Figure size 432x288 with 1 Axes>"
      ]
     },
     "metadata": {},
     "output_type": "display_data"
    }
   ],
   "source": [
    "from scipy import stats\n",
    "fig = plt.figure()\n",
    "sns.distplot(dataset_without_null['charge_energy']);\n",
    "fig = plt.figure()\n",
    "stats.probplot(dataset_without_null['charge_energy'], plot=plt)"
   ]
  },
  {
   "cell_type": "markdown",
   "metadata": {},
   "source": [
    "#### 使用KMeans对用完美数据集进行聚类"
   ]
  },
  {
   "cell_type": "code",
   "execution_count": 7,
   "metadata": {},
   "outputs": [
    {
     "name": "stdout",
     "output_type": "stream",
     "text": [
      "<bound method KMeans.score of KMeans(algorithm='auto', copy_x=True, init='k-means++', max_iter=300,\n",
      "    n_clusters=5, n_init=10, n_jobs=1, precompute_distances='auto',\n",
      "    random_state=3, tol=0.0001, verbose=0)>\n"
     ]
    },
    {
     "name": "stderr",
     "output_type": "stream",
     "text": [
      "/Users/Jeremy/miniconda3/envs/test/lib/python3.6/site-packages/seaborn/categorical.py:1460: FutureWarning: remove_na is deprecated and is a private function. Do not use.\n",
      "  stat_data = remove_na(group_data)\n"
     ]
    },
    {
     "data": {
      "text/plain": [
       "<matplotlib.axes._subplots.AxesSubplot at 0x115bcc160>"
      ]
     },
     "execution_count": 7,
     "metadata": {},
     "output_type": "execute_result"
    },
    {
     "data": {
      "image/png": "[encoded data removed]",
      "text/plain": [
       "<Figure size 432x288 with 1 Axes>"
      ]
     },
     "metadata": {},
     "output_type": "display_data"
    }
   ],
   "source": [
    "from sklearn.cluster import KMeans\n",
    "#聚类和填充需要操作的列名\n",
    "compute_header = ['charge_duration', 'delta_mileage', 'charge_start_soc', 'charge_delta_soc', 'charge_min_temp', 'charge_energy']\n",
    "cluster_source = dataset_without_null[compute_header]\n",
    "kmeans = KMeans(n_clusters=5, random_state=3).fit(cluster_source)\n",
    "cluster = kmeans.cluster_centers_\n",
    "labels = kmeans.labels_\n",
    "print(kmeans.score)\n",
    "sns.countplot(labels)"
   ]
  },
  {
   "cell_type": "markdown",
   "metadata": {},
   "source": [
    "#### 利用聚类结果进行数据填充"
   ]
  },
  {
   "cell_type": "code",
   "execution_count": 8,
   "metadata": {
    "collapsed": true
   },
   "outputs": [],
   "source": [
    "#转化为array\n",
    "dataset_with_null_values = dataset_with_null[compute_header].values\n",
    "for i in range(len(dataset_with_null_values)):\n",
    "    maxD = float('inf')\n",
    "    maxV = []\n",
    "    data = dataset_with_null_values[i]\n",
    "    for center in cluster:\n",
    "        dis = utils.distance(center, data)\n",
    "        if dis < maxD:\n",
    "            maxD = dis\n",
    "            maxV = center\n",
    "    dataset_with_null_values[i] = utils.filling(maxV,data)\n",
    "    "
   ]
  },
  {
   "cell_type": "code",
   "execution_count": 9,
   "metadata": {},
   "outputs": [
    {
     "data": {
      "text/html": [
       "<div>\n",
       "<style scoped>\n",
       "    .dataframe tbody tr th:only-of-type {\n",
       "        vertical-align: middle;\n",
       "    }\n",
       "\n",
       "    .dataframe tbody tr th {\n",
       "        vertical-align: top;\n",
       "    }\n",
       "\n",
       "    .dataframe thead th {\n",
       "        text-align: right;\n",
       "    }\n",
       "</style>\n",
       "<table border=\"1\" class=\"dataframe\">\n",
       "  <thead>\n",
       "    <tr style=\"text-align: right;\">\n",
       "      <th></th>\n",
       "      <th>charge_duration</th>\n",
       "      <th>delta_mileage</th>\n",
       "      <th>charge_start_soc</th>\n",
       "      <th>charge_delta_soc</th>\n",
       "      <th>charge_min_temp</th>\n",
       "      <th>charge_energy</th>\n",
       "    </tr>\n",
       "  </thead>\n",
       "  <tbody>\n",
       "    <tr>\n",
       "      <th>count</th>\n",
       "      <td>53.00</td>\n",
       "      <td>53.00</td>\n",
       "      <td>53.00</td>\n",
       "      <td>53.00</td>\n",
       "      <td>53.00</td>\n",
       "      <td>53.00</td>\n",
       "    </tr>\n",
       "    <tr>\n",
       "      <th>mean</th>\n",
       "      <td>4603.87</td>\n",
       "      <td>98.56</td>\n",
       "      <td>33.29</td>\n",
       "      <td>37.65</td>\n",
       "      <td>8.26</td>\n",
       "      <td>21.82</td>\n",
       "    </tr>\n",
       "    <tr>\n",
       "      <th>std</th>\n",
       "      <td>2129.10</td>\n",
       "      <td>70.84</td>\n",
       "      <td>10.30</td>\n",
       "      <td>14.20</td>\n",
       "      <td>4.72</td>\n",
       "      <td>14.81</td>\n",
       "    </tr>\n",
       "    <tr>\n",
       "      <th>min</th>\n",
       "      <td>280.00</td>\n",
       "      <td>9.30</td>\n",
       "      <td>6.40</td>\n",
       "      <td>0.80</td>\n",
       "      <td>1.00</td>\n",
       "      <td>0.96</td>\n",
       "    </tr>\n",
       "    <tr>\n",
       "      <th>25%</th>\n",
       "      <td>4260.00</td>\n",
       "      <td>81.94</td>\n",
       "      <td>29.20</td>\n",
       "      <td>41.38</td>\n",
       "      <td>5.00</td>\n",
       "      <td>18.07</td>\n",
       "    </tr>\n",
       "    <tr>\n",
       "      <th>50%</th>\n",
       "      <td>4840.00</td>\n",
       "      <td>89.40</td>\n",
       "      <td>33.20</td>\n",
       "      <td>41.38</td>\n",
       "      <td>8.00</td>\n",
       "      <td>20.19</td>\n",
       "    </tr>\n",
       "    <tr>\n",
       "      <th>75%</th>\n",
       "      <td>5240.00</td>\n",
       "      <td>102.00</td>\n",
       "      <td>37.20</td>\n",
       "      <td>41.38</td>\n",
       "      <td>10.00</td>\n",
       "      <td>21.74</td>\n",
       "    </tr>\n",
       "    <tr>\n",
       "      <th>max</th>\n",
       "      <td>15700.00</td>\n",
       "      <td>573.10</td>\n",
       "      <td>80.40</td>\n",
       "      <td>71.00</td>\n",
       "      <td>27.00</td>\n",
       "      <td>80.50</td>\n",
       "    </tr>\n",
       "  </tbody>\n",
       "</table>\n",
       "</div>"
      ],
      "text/plain": [
       "       charge_duration  delta_mileage  charge_start_soc  charge_delta_soc  \\\n",
       "count            53.00          53.00             53.00             53.00   \n",
       "mean           4603.87          98.56             33.29             37.65   \n",
       "std            2129.10          70.84             10.30             14.20   \n",
       "min             280.00           9.30              6.40              0.80   \n",
       "25%            4260.00          81.94             29.20             41.38   \n",
       "50%            4840.00          89.40             33.20             41.38   \n",
       "75%            5240.00         102.00             37.20             41.38   \n",
       "max           15700.00         573.10             80.40             71.00   \n",
       "\n",
       "       charge_min_temp  charge_energy  \n",
       "count            53.00          53.00  \n",
       "mean              8.26          21.82  \n",
       "std               4.72          14.81  \n",
       "min               1.00           0.96  \n",
       "25%               5.00          18.07  \n",
       "50%               8.00          20.19  \n",
       "75%              10.00          21.74  \n",
       "max              27.00          80.50  "
      ]
     },
     "execution_count": 9,
     "metadata": {},
     "output_type": "execute_result"
    }
   ],
   "source": [
    "#填充结果覆盖到不完美数据集\n",
    "dataset_with_null_filled = pd.DataFrame(dataset_with_null_values,columns=compute_header)\n",
    "dataset_with_null_filled.describe()"
   ]
  },
  {
   "cell_type": "code",
   "execution_count": 10,
   "metadata": {
    "scrolled": false
   },
   "outputs": [],
   "source": [
    "dataset_with_null_filled['charge_end_soc'] = dataset_with_null_filled['charge_start_soc'] + dataset_with_null_filled['charge_delta_soc']\n",
    "temp = pd.DataFrame()\n",
    "for col in compute_header:\n",
    "    temp[col] = dataset_with_null_filled[col]\n",
    "\n",
    "for col in list(set(header).difference(set(compute_header))):\n",
    "    temp[col] = dataset_with_null[col].tolist()\n",
    "\n",
    "temp['charge_end_soc'] = dataset_with_null_filled['charge_end_soc'].tolist()\n",
    "temp = temp[header]\n",
    "\n",
    "# 填充后的完整数据集合\n",
    "dataset_whole = pd.DataFrame(\n",
    "    np.insert(dataset_without_null.values, null_index_list, temp.values, axis=0), \n",
    "    columns=dataset_without_null.columns)"
   ]
  },
  {
   "cell_type": "markdown",
   "metadata": {},
   "source": [
    "### 保存完美数据、缺失数据及填充后的完整数据集"
   ]
  },
  {
   "cell_type": "code",
   "execution_count": 11,
   "metadata": {
    "collapsed": true
   },
   "outputs": [],
   "source": [
    "dataset_with_null.to_csv(\"./energy_predict_data/train_data_filter/4_fill_null/not_perfect/unfilled/predict_data_e_train.csv\", index=False)\n",
    "dataset_without_null.to_csv(\"./energy_predict_data/train_data_filter/4_fill_null/perfect/predict_data_e_train.csv\", index=False)\n",
    "temp.to_csv(\"./energy_predict_data/train_data_filter/4_fill_null/not_perfect/filled_by_kmeans/predict_data_e_train.csv\", index=False)\n",
    "dataset_whole.to_csv(\"./energy_predict_data/train_data_filter/4_fill_null/whole/filled_by_kmeans/predict_data_e_train.csv\", index=False)\n",
    "\n",
    "for i in range(1, count+1):\n",
    "    data_with_null = dataset_with_null[(dataset_with_null['vehicle_id']==i)]\n",
    "    data_with_null.to_csv(\"./energy_predict_data/train_data_filter/4_fill_null/not_perfect/unfilled/predict_data_e_train_%d.csv\" % i, index=False)\n",
    "    \n",
    "    data_without_null = dataset_without_null[(dataset_without_null['vehicle_id']==i)]\n",
    "    data_without_null.to_csv(\"./energy_predict_data/train_data_filter/4_fill_null/perfect/predict_data_e_train_%d.csv\" % i, index=False)\n",
    "    \n",
    "    data_fill_null = temp[(temp['vehicle_id']==i)]\n",
    "    data_fill_null.to_csv(\"./energy_predict_data/train_data_filter/4_fill_null/not_perfect/filled_by_kmeans/predict_data_e_train_%d.csv\" % i, index=False)\n",
    "    \n",
    "    data_whole = dataset_whole[(dataset_whole['vehicle_id']==i)]\n",
    "    data_whole.to_csv(\"./energy_predict_data/train_data_filter/4_fill_null/whole/filled_by_kmeans/predict_data_e_train_%d.csv\" % i, index=False)\n",
    "    "
   ]
  },
  {
   "cell_type": "code",
   "execution_count": null,
   "metadata": {
    "collapsed": true
   },
   "outputs": [],
   "source": []
  }
 ],
 "metadata": {
  "kernelspec": {
   "display_name": "Python 3",
   "language": "python",
   "name": "python3"
  },
  "language_info": {
   "codemirror_mode": {
    "name": "ipython",
    "version": 3
   },
   "file_extension": ".py",
   "mimetype": "text/x-python",
   "name": "python",
   "nbconvert_exporter": "python",
   "pygments_lexer": "ipython3",
   "version": "3.6.2"
  }
 },
 "nbformat": 4,
 "nbformat_minor": 2
}
