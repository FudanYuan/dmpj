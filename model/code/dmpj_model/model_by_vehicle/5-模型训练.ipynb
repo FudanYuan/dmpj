{
 "cells": [
  {
   "cell_type": "markdown",
   "metadata": {},
   "source": [
    "## 新能源电动汽车动力电池充电能量预测（五）——模型训练"
   ]
  },
  {
   "cell_type": "code",
   "execution_count": 1,
   "metadata": {
    "collapsed": true
   },
   "outputs": [],
   "source": [
    "import pandas as pd\n",
    "import matplotlib.pyplot as plt\n",
    "import seaborn as sns\n",
    "%matplotlib inline\n",
    "import numpy as np\n",
    "from datetime import date, datetime"
   ]
  },
  {
   "cell_type": "markdown",
   "metadata": {},
   "source": [
    "### 导入数据"
   ]
  },
  {
   "cell_type": "code",
   "execution_count": 5,
   "metadata": {},
   "outputs": [
    {
     "data": {
      "text/html": [
       "<div>\n",
       "<style scoped>\n",
       "    .dataframe tbody tr th:only-of-type {\n",
       "        vertical-align: middle;\n",
       "    }\n",
       "\n",
       "    .dataframe tbody tr th {\n",
       "        vertical-align: top;\n",
       "    }\n",
       "\n",
       "    .dataframe thead th {\n",
       "        text-align: right;\n",
       "    }\n",
       "</style>\n",
       "<table border=\"1\" class=\"dataframe\">\n",
       "  <thead>\n",
       "    <tr style=\"text-align: right;\">\n",
       "      <th></th>\n",
       "      <th>vehicle_id</th>\n",
       "      <th>charge_start_time</th>\n",
       "      <th>charge_end_time</th>\n",
       "      <th>charge_duration</th>\n",
       "      <th>mileage</th>\n",
       "      <th>delta_mileage</th>\n",
       "      <th>charge_start_soc</th>\n",
       "      <th>charge_end_soc</th>\n",
       "      <th>charge_delta_soc</th>\n",
       "      <th>charge_start_U</th>\n",
       "      <th>charge_end_U</th>\n",
       "      <th>charge_start_I</th>\n",
       "      <th>charge_end_I</th>\n",
       "      <th>charge_max_temp</th>\n",
       "      <th>charge_min_temp</th>\n",
       "      <th>charge_energy</th>\n",
       "    </tr>\n",
       "  </thead>\n",
       "  <tbody>\n",
       "    <tr>\n",
       "      <th>count</th>\n",
       "      <td>4818.00</td>\n",
       "      <td>4.82e+03</td>\n",
       "      <td>4.82e+03</td>\n",
       "      <td>4818.00</td>\n",
       "      <td>4818.00</td>\n",
       "      <td>4818.00</td>\n",
       "      <td>4818.00</td>\n",
       "      <td>4818.00</td>\n",
       "      <td>4818.00</td>\n",
       "      <td>4818.00</td>\n",
       "      <td>4818.00</td>\n",
       "      <td>4818.00</td>\n",
       "      <td>4818.00</td>\n",
       "      <td>4818.00</td>\n",
       "      <td>4818.00</td>\n",
       "      <td>4818.00</td>\n",
       "    </tr>\n",
       "    <tr>\n",
       "      <th>mean</th>\n",
       "      <td>5.43</td>\n",
       "      <td>2.02e+13</td>\n",
       "      <td>2.02e+13</td>\n",
       "      <td>4346.83</td>\n",
       "      <td>111192.41</td>\n",
       "      <td>98.94</td>\n",
       "      <td>38.10</td>\n",
       "      <td>64.27</td>\n",
       "      <td>26.17</td>\n",
       "      <td>440.65</td>\n",
       "      <td>415.62</td>\n",
       "      <td>-54.07</td>\n",
       "      <td>-23.52</td>\n",
       "      <td>28.23</td>\n",
       "      <td>12.70</td>\n",
       "      <td>28.46</td>\n",
       "    </tr>\n",
       "    <tr>\n",
       "      <th>std</th>\n",
       "      <td>2.97</td>\n",
       "      <td>4.04e+09</td>\n",
       "      <td>4.04e+09</td>\n",
       "      <td>4628.47</td>\n",
       "      <td>32314.21</td>\n",
       "      <td>219.41</td>\n",
       "      <td>20.73</td>\n",
       "      <td>34.70</td>\n",
       "      <td>33.31</td>\n",
       "      <td>102.62</td>\n",
       "      <td>162.30</td>\n",
       "      <td>57.55</td>\n",
       "      <td>43.73</td>\n",
       "      <td>10.99</td>\n",
       "      <td>12.03</td>\n",
       "      <td>24.10</td>\n",
       "    </tr>\n",
       "    <tr>\n",
       "      <th>min</th>\n",
       "      <td>1.00</td>\n",
       "      <td>2.02e+13</td>\n",
       "      <td>2.02e+13</td>\n",
       "      <td>10.00</td>\n",
       "      <td>45631.70</td>\n",
       "      <td>-146.40</td>\n",
       "      <td>0.80</td>\n",
       "      <td>0.00</td>\n",
       "      <td>-100.00</td>\n",
       "      <td>252.00</td>\n",
       "      <td>0.00</td>\n",
       "      <td>-202.00</td>\n",
       "      <td>-400.00</td>\n",
       "      <td>-2.00</td>\n",
       "      <td>-7.00</td>\n",
       "      <td>0.10</td>\n",
       "    </tr>\n",
       "    <tr>\n",
       "      <th>25%</th>\n",
       "      <td>3.00</td>\n",
       "      <td>2.02e+13</td>\n",
       "      <td>2.02e+13</td>\n",
       "      <td>1630.00</td>\n",
       "      <td>84895.15</td>\n",
       "      <td>61.10</td>\n",
       "      <td>21.60</td>\n",
       "      <td>32.80</td>\n",
       "      <td>11.60</td>\n",
       "      <td>339.20</td>\n",
       "      <td>370.50</td>\n",
       "      <td>-84.50</td>\n",
       "      <td>-16.20</td>\n",
       "      <td>19.00</td>\n",
       "      <td>0.00</td>\n",
       "      <td>11.51</td>\n",
       "    </tr>\n",
       "    <tr>\n",
       "      <th>50%</th>\n",
       "      <td>5.00</td>\n",
       "      <td>2.02e+13</td>\n",
       "      <td>2.02e+13</td>\n",
       "      <td>3085.50</td>\n",
       "      <td>109703.30</td>\n",
       "      <td>86.00</td>\n",
       "      <td>36.00</td>\n",
       "      <td>79.00</td>\n",
       "      <td>26.40</td>\n",
       "      <td>371.90</td>\n",
       "      <td>375.60</td>\n",
       "      <td>-24.80</td>\n",
       "      <td>-8.60</td>\n",
       "      <td>30.00</td>\n",
       "      <td>9.00</td>\n",
       "      <td>19.87</td>\n",
       "    </tr>\n",
       "    <tr>\n",
       "      <th>75%</th>\n",
       "      <td>8.00</td>\n",
       "      <td>2.02e+13</td>\n",
       "      <td>2.02e+13</td>\n",
       "      <td>4920.00</td>\n",
       "      <td>138055.25</td>\n",
       "      <td>122.98</td>\n",
       "      <td>53.00</td>\n",
       "      <td>100.00</td>\n",
       "      <td>51.00</td>\n",
       "      <td>540.77</td>\n",
       "      <td>565.08</td>\n",
       "      <td>-12.03</td>\n",
       "      <td>-2.00</td>\n",
       "      <td>36.00</td>\n",
       "      <td>23.00</td>\n",
       "      <td>41.42</td>\n",
       "    </tr>\n",
       "    <tr>\n",
       "      <th>max</th>\n",
       "      <td>10.00</td>\n",
       "      <td>2.02e+13</td>\n",
       "      <td>2.02e+13</td>\n",
       "      <td>42770.00</td>\n",
       "      <td>184014.00</td>\n",
       "      <td>9703.00</td>\n",
       "      <td>100.00</td>\n",
       "      <td>100.00</td>\n",
       "      <td>88.00</td>\n",
       "      <td>585.10</td>\n",
       "      <td>604.80</td>\n",
       "      <td>-0.10</td>\n",
       "      <td>9.00</td>\n",
       "      <td>52.00</td>\n",
       "      <td>44.00</td>\n",
       "      <td>109.84</td>\n",
       "    </tr>\n",
       "  </tbody>\n",
       "</table>\n",
       "</div>"
      ],
      "text/plain": [
       "       vehicle_id  charge_start_time  charge_end_time  charge_duration  \\\n",
       "count     4818.00           4.82e+03         4.82e+03          4818.00   \n",
       "mean         5.43           2.02e+13         2.02e+13          4346.83   \n",
       "std          2.97           4.04e+09         4.04e+09          4628.47   \n",
       "min          1.00           2.02e+13         2.02e+13            10.00   \n",
       "25%          3.00           2.02e+13         2.02e+13          1630.00   \n",
       "50%          5.00           2.02e+13         2.02e+13          3085.50   \n",
       "75%          8.00           2.02e+13         2.02e+13          4920.00   \n",
       "max         10.00           2.02e+13         2.02e+13         42770.00   \n",
       "\n",
       "         mileage  delta_mileage  charge_start_soc  charge_end_soc  \\\n",
       "count    4818.00        4818.00           4818.00         4818.00   \n",
       "mean   111192.41          98.94             38.10           64.27   \n",
       "std     32314.21         219.41             20.73           34.70   \n",
       "min     45631.70        -146.40              0.80            0.00   \n",
       "25%     84895.15          61.10             21.60           32.80   \n",
       "50%    109703.30          86.00             36.00           79.00   \n",
       "75%    138055.25         122.98             53.00          100.00   \n",
       "max    184014.00        9703.00            100.00          100.00   \n",
       "\n",
       "       charge_delta_soc  charge_start_U  charge_end_U  charge_start_I  \\\n",
       "count           4818.00         4818.00       4818.00         4818.00   \n",
       "mean              26.17          440.65        415.62          -54.07   \n",
       "std               33.31          102.62        162.30           57.55   \n",
       "min             -100.00          252.00          0.00         -202.00   \n",
       "25%               11.60          339.20        370.50          -84.50   \n",
       "50%               26.40          371.90        375.60          -24.80   \n",
       "75%               51.00          540.77        565.08          -12.03   \n",
       "max               88.00          585.10        604.80           -0.10   \n",
       "\n",
       "       charge_end_I  charge_max_temp  charge_min_temp  charge_energy  \n",
       "count       4818.00          4818.00          4818.00        4818.00  \n",
       "mean         -23.52            28.23            12.70          28.46  \n",
       "std           43.73            10.99            12.03          24.10  \n",
       "min         -400.00            -2.00            -7.00           0.10  \n",
       "25%          -16.20            19.00             0.00          11.51  \n",
       "50%           -8.60            30.00             9.00          19.87  \n",
       "75%           -2.00            36.00            23.00          41.42  \n",
       "max            9.00            52.00            44.00         109.84  "
      ]
     },
     "execution_count": 5,
     "metadata": {},
     "output_type": "execute_result"
    }
   ],
   "source": [
    "# 导入经过填充之后的数据集合\n",
    "dataset = pd.read_csv('./energy_predict_data/train_data_filter/4_fill_null/whole/filled_by_kmeans/predict_data_e_train.csv')\n",
    "# 数据字段\n",
    "header = dataset.columns.values.tolist()\n",
    "# 数据集大小\n",
    "count = np.max(dataset['vehicle_id'])\n",
    "# 数据描述\n",
    "pd.set_option('precision', 2)\n",
    "dataset.describe()"
   ]
  },
  {
   "cell_type": "markdown",
   "metadata": {},
   "source": [
    "### 选取不同的车辆 "
   ]
  },
  {
   "cell_type": "markdown",
   "metadata": {},
   "source": [
    "### 特征选取"
   ]
  },
  {
   "cell_type": "code",
   "execution_count": 46,
   "metadata": {},
   "outputs": [
    {
     "data": {
      "text/plain": [
       "'charge_energy'"
      ]
     },
     "execution_count": 46,
     "metadata": {},
     "output_type": "execute_result"
    }
   ],
   "source": [
    "features = ['charge_duration',\n",
    " 'delta_mileage',\n",
    " 'mileage',\n",
    " 'charge_start_soc',\n",
    " 'charge_delta_soc',\n",
    " 'charge_end_soc',\n",
    " 'charge_start_U',\n",
    " 'charge_end_U',\n",
    " 'charge_start_I',\n",
    " 'charge_end_I',\n",
    " 'charge_max_temp',\n",
    " 'charge_min_temp']\n",
    "label = header[15]\n",
    "label"
   ]
  },
  {
   "cell_type": "code",
   "execution_count": 10,
   "metadata": {
    "collapsed": true
   },
   "outputs": [],
   "source": [
    "X = dataset[features]\n",
    "y = dataset[label]"
   ]
  },
  {
   "cell_type": "markdown",
   "metadata": {},
   "source": [
    "### 创建训练后的预测值数据集"
   ]
  },
  {
   "cell_type": "code",
   "execution_count": 6,
   "metadata": {
    "collapsed": true
   },
   "outputs": [],
   "source": [
    "data_proced = pd.DataFrame()"
   ]
  },
  {
   "cell_type": "code",
   "execution_count": 7,
   "metadata": {
    "collapsed": true
   },
   "outputs": [],
   "source": [
    "data_proced['id'] = dataset['id']"
   ]
  },
  {
   "cell_type": "code",
   "execution_count": 8,
   "metadata": {
    "collapsed": true
   },
   "outputs": [],
   "source": [
    "data_proced['type'] = 3 #补充空值"
   ]
  },
  {
   "cell_type": "markdown",
   "metadata": {},
   "source": [
    "### 划分训练集和测试集"
   ]
  },
  {
   "cell_type": "code",
   "execution_count": 11,
   "metadata": {
    "collapsed": true
   },
   "outputs": [],
   "source": [
    "from sklearn.model_selection import train_test_split\n",
    "X_train, X_test, y_train, y_test = train_test_split(X, y, test_size=0.25, random_state=42)##训练集划分"
   ]
  },
  {
   "cell_type": "markdown",
   "metadata": {},
   "source": [
    "### 标准化"
   ]
  },
  {
   "cell_type": "code",
   "execution_count": 12,
   "metadata": {
    "collapsed": true
   },
   "outputs": [],
   "source": [
    "from sklearn import preprocessing\n",
    "scaler = preprocessing.MinMaxScaler()\n",
    "X_train = scaler.fit_transform(X_train.astype(np.float64))\n",
    "X_test = scaler.fit_transform(X_test.astype(np.float64))\n",
    "X = scaler.fit_transform(X.astype(np.float64))"
   ]
  },
  {
   "cell_type": "code",
   "execution_count": 13,
   "metadata": {
    "collapsed": true
   },
   "outputs": [],
   "source": [
    "### 开始算法"
   ]
  },
  {
   "cell_type": "code",
   "execution_count": 14,
   "metadata": {
    "collapsed": true
   },
   "outputs": [],
   "source": [
    "#导入sklearn库中的VarianceThreshold\n",
    "from sklearn.feature_selection import VarianceThreshold\n",
    "#设置方差的阈值为0.08\n",
    "sel = VarianceThreshold(threshold=0.08)\n",
    "#选择方差大于0.08的特征\n",
    "X_sel = sel.fit_transform(X_train.astype(np.float64))"
   ]
  },
  {
   "cell_type": "code",
   "execution_count": 15,
   "metadata": {},
   "outputs": [
    {
     "data": {
      "text/plain": [
       "LinearRegression(copy_X=True, fit_intercept=True, n_jobs=1, normalize=False)"
      ]
     },
     "execution_count": 15,
     "metadata": {},
     "output_type": "execute_result"
    }
   ],
   "source": [
    "from sklearn.linear_model import LinearRegression\n",
    "linreg = LinearRegression()\n",
    "linreg.fit(X_train, y_train)"
   ]
  },
  {
   "cell_type": "code",
   "execution_count": 16,
   "metadata": {
    "collapsed": true
   },
   "outputs": [],
   "source": [
    "y_pred = linreg.predict(X)"
   ]
  },
  {
   "cell_type": "code",
   "execution_count": 17,
   "metadata": {},
   "outputs": [
    {
     "name": "stdout",
     "output_type": "stream",
     "text": [
      "MSE: 78.8939868239\n",
      "RMSE: 8.88222870815\n",
      "MAE: 6.50559411867\n",
      "accuracy: 1.568705\n"
     ]
    }
   ],
   "source": [
    "#评估模型\n",
    "from sklearn import metrics\n",
    "# 用scikit-learn计算MSE\n",
    "print(\"MSE:\",metrics.mean_squared_error(y, y_pred))\n",
    "# 用scikit-learn计算RMSE\n",
    "print(\"RMSE:\",np.sqrt(metrics.mean_squared_error(y, y_pred)))\n",
    "# 用scikit-learn计算MAE\n",
    "print(\"MAE:\",metrics.mean_absolute_error(y, y_pred))\n",
    "# 计算精确度\n",
    "# for i in range(len(y_pred)):\n",
    "#     if y_pred[i] < 0:\n",
    "#         y_pred[i] = 0.4\n",
    "accuracy = np.mean(abs(y - y_pred) / y)\n",
    "print(\"accuracy: %f\" % accuracy)"
   ]
  },
  {
   "cell_type": "code",
   "execution_count": 18,
   "metadata": {},
   "outputs": [
    {
     "ename": "NameError",
     "evalue": "name 'data_proced' is not defined",
     "output_type": "error",
     "traceback": [
      "\u001b[0;31m---------------------------------------------------------------------------\u001b[0m",
      "\u001b[0;31mNameError\u001b[0m                                 Traceback (most recent call last)",
      "\u001b[0;32m<ipython-input-18-aad29b30227b>\u001b[0m in \u001b[0;36m<module>\u001b[0;34m()\u001b[0m\n\u001b[0;32m----> 1\u001b[0;31m \u001b[0mdata_proced\u001b[0m\u001b[0;34m[\u001b[0m\u001b[0;34m'lr'\u001b[0m\u001b[0;34m]\u001b[0m \u001b[0;34m=\u001b[0m \u001b[0my_pred\u001b[0m\u001b[0;34m\u001b[0m\u001b[0m\n\u001b[0m",
      "\u001b[0;31mNameError\u001b[0m: name 'data_proced' is not defined"
     ]
    }
   ],
   "source": [
    "data_proced['lr'] = y_pred"
   ]
  },
  {
   "cell_type": "code",
   "execution_count": 19,
   "metadata": {
    "collapsed": true
   },
   "outputs": [],
   "source": [
    "from sklearn.preprocessing import PolynomialFeatures\n",
    "featurizer = PolynomialFeatures(degree=3)\n",
    "X_train_cubic = featurizer.fit_transform(X_train)\n",
    "from sklearn.linear_model import LinearRegression\n",
    "linreg = LinearRegression()\n",
    "linreg.fit(X_train_cubic, y_train)\n",
    "X_test_cubic = featurizer.transform(X_test)\n",
    "y_pred = linreg.predict(X_test_cubic)"
   ]
  },
  {
   "cell_type": "code",
   "execution_count": 20,
   "metadata": {},
   "outputs": [
    {
     "name": "stdout",
     "output_type": "stream",
     "text": [
      "MSE: 4.76619071556e+18\n",
      "RMSE: 2183160716.84\n",
      "MAE: 1867551879.43\n",
      "error_rate: 67130783904.904472\n"
     ]
    }
   ],
   "source": [
    "#评估模型\n",
    "from sklearn import metrics\n",
    "# 用scikit-learn计算MSE\n",
    "print(\"MSE:\",metrics.mean_squared_error(y_test, y_pred))\n",
    "# 用scikit-learn计算RMSE\n",
    "print(\"RMSE:\",np.sqrt(metrics.mean_squared_error(y_test, y_pred)))\n",
    "# 用scikit-learn计算MAE\n",
    "print(\"MAE:\",metrics.mean_absolute_error(y_test, y_pred))\n",
    "# 计算精确度\n",
    "# for i in range(len(y_pred)):\n",
    "#     if y_pred[i] < 0:\n",
    "#         y_pred[i] = 0.04\n",
    "\n",
    "error_array = np.array(((y_test - y_pred) / y_test))\n",
    "error_rate = np.sqrt(np.sum(np.power(error_array,2)))\n",
    "print(\"error_rate: %f\" % error_rate)"
   ]
  },
  {
   "cell_type": "code",
   "execution_count": 21,
   "metadata": {
    "collapsed": true
   },
   "outputs": [],
   "source": [
    "X_te11 = featurizer.fit_transform(X)\n",
    "y_pred = linreg.predict(X_te11)"
   ]
  },
  {
   "cell_type": "code",
   "execution_count": 22,
   "metadata": {},
   "outputs": [
    {
     "ename": "NameError",
     "evalue": "name 'data_proced' is not defined",
     "output_type": "error",
     "traceback": [
      "\u001b[0;31m---------------------------------------------------------------------------\u001b[0m",
      "\u001b[0;31mNameError\u001b[0m                                 Traceback (most recent call last)",
      "\u001b[0;32m<ipython-input-22-c383986ada80>\u001b[0m in \u001b[0;36m<module>\u001b[0;34m()\u001b[0m\n\u001b[0;32m----> 1\u001b[0;31m \u001b[0mdata_proced\u001b[0m\u001b[0;34m[\u001b[0m\u001b[0;34m'plr'\u001b[0m\u001b[0;34m]\u001b[0m \u001b[0;34m=\u001b[0m \u001b[0my_pred\u001b[0m\u001b[0;34m\u001b[0m\u001b[0m\n\u001b[0m",
      "\u001b[0;31mNameError\u001b[0m: name 'data_proced' is not defined"
     ]
    }
   ],
   "source": [
    "data_proced['plr'] = y_pred"
   ]
  },
  {
   "cell_type": "code",
   "execution_count": 23,
   "metadata": {},
   "outputs": [
    {
     "name": "stdout",
     "output_type": "stream",
     "text": [
      "MSE: 90.0217438813\n",
      "RMSE: 9.48797891446\n",
      "MAE: 6.49898778776\n"
     ]
    }
   ],
   "source": [
    "from sklearn.svm import SVR\n",
    "l_svr = SVR(kernel='linear')\n",
    "l_svr.fit(X_train,y_train)\n",
    "y_pred = l_svr.predict(X_test)\n",
    "#评估模型\n",
    "from sklearn import metrics\n",
    "# 用scikit-learn计算MSE\n",
    "print(\"MSE:\",metrics.mean_squared_error(y_test, y_pred))\n",
    "# 用scikit-learn计算RMSE\n",
    "print(\"RMSE:\",np.sqrt(metrics.mean_squared_error(y_test, y_pred)))\n",
    "# 用scikit-learn计算MAE\n",
    "print(\"MAE:\",metrics.mean_absolute_error(y_test, y_pred))"
   ]
  },
  {
   "cell_type": "code",
   "execution_count": 24,
   "metadata": {
    "collapsed": true
   },
   "outputs": [],
   "source": [
    "y_pred = l_svr.predict(X)"
   ]
  },
  {
   "cell_type": "code",
   "execution_count": 23,
   "metadata": {
    "collapsed": true
   },
   "outputs": [],
   "source": [
    "data_proced['svr_lr'] = y_pred"
   ]
  },
  {
   "cell_type": "markdown",
   "metadata": {},
   "source": [
    "###  svr poly不进行标准化死循环"
   ]
  },
  {
   "cell_type": "markdown",
   "metadata": {},
   "source": [
    "import time\n",
    "from sklearn.svm import SVR\n",
    "l_svr=SVR(kernel='poly')\n",
    "#记录训练开始时间\n",
    "time_start=time.clock()\n",
    "l_svr.fit(X_train,y_train)\n",
    "#记录训练结束时间\n",
    "time_end=time.clock()\n",
    "print('Running time: %s Seconds'%(time_end-time_start))\n",
    "l_svr.score(X_test,y_test)"
   ]
  },
  {
   "cell_type": "code",
   "execution_count": 25,
   "metadata": {},
   "outputs": [
    {
     "name": "stdout",
     "output_type": "stream",
     "text": [
      "MSE: 260.297400263\n",
      "RMSE: 16.1337348516\n",
      "MAE: 10.9611986888\n"
     ]
    }
   ],
   "source": [
    "from sklearn.svm import SVR\n",
    "n_svr = SVR(kernel=\"poly\")\n",
    "n_svr.fit(X_train,y_train)\n",
    "y_pred = n_svr.predict(X_test)\n",
    "\n",
    "#评估模型\n",
    "from sklearn import metrics\n",
    "# 用scikit-learn计算MSE\n",
    "print(\"MSE:\",metrics.mean_squared_error(y_test, y_pred))\n",
    "# 用scikit-learn计算RMSE\n",
    "print(\"RMSE:\",np.sqrt(metrics.mean_squared_error(y_test, y_pred)))\n",
    "# 用scikit-learn计算MAE\n",
    "print(\"MAE:\",metrics.mean_absolute_error(y_test, y_pred))"
   ]
  },
  {
   "cell_type": "code",
   "execution_count": 26,
   "metadata": {
    "collapsed": true
   },
   "outputs": [],
   "source": [
    "y_pred = n_svr.predict(X)"
   ]
  },
  {
   "cell_type": "code",
   "execution_count": 26,
   "metadata": {
    "collapsed": true
   },
   "outputs": [],
   "source": [
    "data_proced['svr_plr'] = y_pred"
   ]
  },
  {
   "cell_type": "markdown",
   "metadata": {},
   "source": [
    "###  继续其他算法"
   ]
  },
  {
   "cell_type": "code",
   "execution_count": 27,
   "metadata": {},
   "outputs": [
    {
     "name": "stdout",
     "output_type": "stream",
     "text": [
      "Running time: 0.543704 Seconds\n"
     ]
    },
    {
     "data": {
      "text/plain": [
       "0.78372541123921002"
      ]
     },
     "execution_count": 27,
     "metadata": {},
     "output_type": "execute_result"
    }
   ],
   "source": [
    "import time\n",
    "from sklearn.svm import SVR\n",
    "l_svr = SVR(kernel='rbf')\n",
    "#记录训练开始时间\n",
    "time_start=time.clock()\n",
    "l_svr.fit(X_train,y_train)\n",
    "#记录训练结束时间\n",
    "time_end=time.clock()\n",
    "print('Running time: %s Seconds'%(time_end-time_start))\n",
    "l_svr.score(X_test,y_test)"
   ]
  },
  {
   "cell_type": "code",
   "execution_count": 28,
   "metadata": {
    "collapsed": true
   },
   "outputs": [],
   "source": [
    "y_pred=l_svr.predict(X)"
   ]
  },
  {
   "cell_type": "code",
   "execution_count": 29,
   "metadata": {
    "collapsed": true
   },
   "outputs": [],
   "source": [
    "data_proced['svr_rbf'] = y_pred"
   ]
  },
  {
   "cell_type": "markdown",
   "metadata": {},
   "source": [
    "###  dtr 回归树"
   ]
  },
  {
   "cell_type": "code",
   "execution_count": 29,
   "metadata": {},
   "outputs": [
    {
     "name": "stdout",
     "output_type": "stream",
     "text": [
      "Running time: 0.03218800000000055 Seconds\n",
      "MSE: 89.1769597585\n",
      "RMSE: 9.44335532311\n",
      "MAE: 5.26445892116\n"
     ]
    }
   ],
   "source": [
    "import time\n",
    "from sklearn.tree import DecisionTreeRegressor\n",
    "dt = DecisionTreeRegressor()\n",
    "#记录训练开始时间\n",
    "time_start = time.clock()\n",
    "dt.fit(X_train,y_train)\n",
    "#记录训练结束时间\n",
    "time_end = time.clock()\n",
    "print('Running time: %s Seconds'%(time_end -time_start))\n",
    "y_pred = dt.predict(X_test)\n",
    "\n",
    "#评估模型\n",
    "from sklearn import metrics\n",
    "# 用scikit-learn计算MSE\n",
    "print(\"MSE:\",metrics.mean_squared_error(y_test, y_pred))\n",
    "# 用scikit-learn计算RMSE\n",
    "print(\"RMSE:\",np.sqrt(metrics.mean_squared_error(y_test, y_pred)))\n",
    "# 用scikit-learn计算MAE\n",
    "print(\"MAE:\",metrics.mean_absolute_error(y_test, y_pred))"
   ]
  },
  {
   "cell_type": "code",
   "execution_count": 30,
   "metadata": {},
   "outputs": [
    {
     "ename": "NameError",
     "evalue": "name 'data_proced' is not defined",
     "output_type": "error",
     "traceback": [
      "\u001b[0;31m---------------------------------------------------------------------------\u001b[0m",
      "\u001b[0;31mNameError\u001b[0m                                 Traceback (most recent call last)",
      "\u001b[0;32m<ipython-input-30-9f563078e636>\u001b[0m in \u001b[0;36m<module>\u001b[0;34m()\u001b[0m\n\u001b[1;32m      1\u001b[0m \u001b[0my_pred\u001b[0m \u001b[0;34m=\u001b[0m \u001b[0mdt\u001b[0m\u001b[0;34m.\u001b[0m\u001b[0mpredict\u001b[0m\u001b[0;34m(\u001b[0m\u001b[0mX\u001b[0m\u001b[0;34m)\u001b[0m\u001b[0;34m\u001b[0m\u001b[0m\n\u001b[0;32m----> 2\u001b[0;31m \u001b[0mdata_proced\u001b[0m\u001b[0;34m[\u001b[0m\u001b[0;34m'dtr'\u001b[0m\u001b[0;34m]\u001b[0m \u001b[0;34m=\u001b[0m \u001b[0my_pred\u001b[0m\u001b[0;34m\u001b[0m\u001b[0m\n\u001b[0m",
      "\u001b[0;31mNameError\u001b[0m: name 'data_proced' is not defined"
     ]
    }
   ],
   "source": [
    "y_pred = dt.predict(X)\n",
    "data_proced['dtr'] = y_pred"
   ]
  },
  {
   "cell_type": "markdown",
   "metadata": {},
   "source": [
    "### etr极端森林"
   ]
  },
  {
   "cell_type": "code",
   "execution_count": 31,
   "metadata": {},
   "outputs": [
    {
     "name": "stdout",
     "output_type": "stream",
     "text": [
      "Running time: 0.1122999999999994 Seconds\n",
      "MSE: 29.3130967435\n",
      "RMSE: 5.41415706675\n",
      "MAE: 3.37878999664\n"
     ]
    }
   ],
   "source": [
    "import time\n",
    "from sklearn.ensemble import ExtraTreesRegressor\n",
    "etr = ExtraTreesRegressor()\n",
    "#记录训练开始时间\n",
    "time_start = time.clock()\n",
    "etr.fit(X_train,y_train)\n",
    "#记录训练结束时间\n",
    "time_end = time.clock()\n",
    "print('Running time: %s Seconds'%(time_end -time_start))\n",
    "y_pred = etr.predict(X_test)\n",
    "\n",
    "#评估模型\n",
    "from sklearn import metrics\n",
    "# 用scikit-learn计算MSE\n",
    "print(\"MSE:\",metrics.mean_squared_error(y_test, y_pred))\n",
    "# 用scikit-learn计算RMSE\n",
    "print(\"RMSE:\",np.sqrt(metrics.mean_squared_error(y_test, y_pred)))\n",
    "# 用scikit-learn计算MAE\n",
    "print(\"MAE:\",metrics.mean_absolute_error(y_test, y_pred))"
   ]
  },
  {
   "cell_type": "code",
   "execution_count": 32,
   "metadata": {},
   "outputs": [
    {
     "ename": "NameError",
     "evalue": "name 'data_proced' is not defined",
     "output_type": "error",
     "traceback": [
      "\u001b[0;31m---------------------------------------------------------------------------\u001b[0m",
      "\u001b[0;31mNameError\u001b[0m                                 Traceback (most recent call last)",
      "\u001b[0;32m<ipython-input-32-ab098b459aa9>\u001b[0m in \u001b[0;36m<module>\u001b[0;34m()\u001b[0m\n\u001b[1;32m      1\u001b[0m \u001b[0my_pred\u001b[0m \u001b[0;34m=\u001b[0m \u001b[0metr\u001b[0m\u001b[0;34m.\u001b[0m\u001b[0mpredict\u001b[0m\u001b[0;34m(\u001b[0m\u001b[0mX\u001b[0m\u001b[0;34m)\u001b[0m\u001b[0;34m\u001b[0m\u001b[0m\n\u001b[0;32m----> 2\u001b[0;31m \u001b[0mdata_proced\u001b[0m\u001b[0;34m[\u001b[0m\u001b[0;34m'etr'\u001b[0m\u001b[0;34m]\u001b[0m \u001b[0;34m=\u001b[0m \u001b[0my_pred\u001b[0m\u001b[0;34m\u001b[0m\u001b[0m\n\u001b[0m",
      "\u001b[0;31mNameError\u001b[0m: name 'data_proced' is not defined"
     ]
    }
   ],
   "source": [
    "y_pred = etr.predict(X)\n",
    "data_proced['etr'] = y_pred"
   ]
  },
  {
   "cell_type": "markdown",
   "metadata": {},
   "source": [
    "###  rtr随机森林"
   ]
  },
  {
   "cell_type": "code",
   "execution_count": 33,
   "metadata": {},
   "outputs": [
    {
     "name": "stdout",
     "output_type": "stream",
     "text": [
      "Running time: 0.19997500000000024 Seconds\n",
      "MSE: 53.3051808722\n",
      "RMSE: 7.30103971173\n",
      "MAE: 4.33296542055\n"
     ]
    }
   ],
   "source": [
    "import time\n",
    "from sklearn.ensemble import RandomForestRegressor\n",
    "rfr = RandomForestRegressor()\n",
    "#记录训练开始时间\n",
    "time_start = time.clock()\n",
    "rfr.fit(X_train,y_train)\n",
    "#记录训练结束时间\n",
    "time_end = time.clock()\n",
    "print('Running time: %s Seconds'%(time_end -time_start))\n",
    "y_pred = rfr.predict(X_test)\n",
    "\n",
    "#评估模型\n",
    "from sklearn import metrics\n",
    "# 用scikit-learn计算MSE\n",
    "print(\"MSE:\",metrics.mean_squared_error(y_test, y_pred))\n",
    "# 用scikit-learn计算RMSE\n",
    "print(\"RMSE:\",np.sqrt(metrics.mean_squared_error(y_test, y_pred)))\n",
    "# 用scikit-learn计算MAE\n",
    "print(\"MAE:\",metrics.mean_absolute_error(y_test, y_pred))"
   ]
  },
  {
   "cell_type": "code",
   "execution_count": 34,
   "metadata": {},
   "outputs": [
    {
     "ename": "NameError",
     "evalue": "name 'data_proced' is not defined",
     "output_type": "error",
     "traceback": [
      "\u001b[0;31m---------------------------------------------------------------------------\u001b[0m",
      "\u001b[0;31mNameError\u001b[0m                                 Traceback (most recent call last)",
      "\u001b[0;32m<ipython-input-34-8a6d0ce18c9b>\u001b[0m in \u001b[0;36m<module>\u001b[0;34m()\u001b[0m\n\u001b[1;32m      1\u001b[0m \u001b[0my_pred\u001b[0m \u001b[0;34m=\u001b[0m \u001b[0mrfr\u001b[0m\u001b[0;34m.\u001b[0m\u001b[0mpredict\u001b[0m\u001b[0;34m(\u001b[0m\u001b[0mX\u001b[0m\u001b[0;34m)\u001b[0m\u001b[0;34m\u001b[0m\u001b[0m\n\u001b[0;32m----> 2\u001b[0;31m \u001b[0mdata_proced\u001b[0m\u001b[0;34m[\u001b[0m\u001b[0;34m'rtr'\u001b[0m\u001b[0;34m]\u001b[0m \u001b[0;34m=\u001b[0m \u001b[0my_pred\u001b[0m\u001b[0;34m\u001b[0m\u001b[0m\n\u001b[0m",
      "\u001b[0;31mNameError\u001b[0m: name 'data_proced' is not defined"
     ]
    }
   ],
   "source": [
    "y_pred = rfr.predict(X)\n",
    "data_proced['rtr'] = y_pred"
   ]
  },
  {
   "cell_type": "markdown",
   "metadata": {},
   "source": [
    "### 自适应增强决策树模型预测值"
   ]
  },
  {
   "cell_type": "code",
   "execution_count": 35,
   "metadata": {},
   "outputs": [
    {
     "name": "stdout",
     "output_type": "stream",
     "text": [
      "Running time: 0.2945330000000004 Seconds\n",
      "MSE: 63.051968692\n",
      "RMSE: 7.94052697823\n",
      "MAE: 6.39324150035\n"
     ]
    }
   ],
   "source": [
    "from sklearn.ensemble import AdaBoostRegressor\n",
    "abr = AdaBoostRegressor()\n",
    "time_start = time.clock()\n",
    "abr.fit(X_train,y_train)\n",
    "#记录训练结束时间\n",
    "time_end = time.clock()\n",
    "print('Running time: %s Seconds'%(time_end -time_start))\n",
    "y_pred = abr.predict(X_test)\n",
    "\n",
    "#评估模型\n",
    "from sklearn import metrics\n",
    "# 用scikit-learn计算MSE\n",
    "print(\"MSE:\",metrics.mean_squared_error(y_test, y_pred))\n",
    "# 用scikit-learn计算RMSE\n",
    "print(\"RMSE:\",np.sqrt(metrics.mean_squared_error(y_test, y_pred)))\n",
    "# 用scikit-learn计算MAE\n",
    "print(\"MAE:\",metrics.mean_absolute_error(y_test, y_pred))"
   ]
  },
  {
   "cell_type": "code",
   "execution_count": 36,
   "metadata": {},
   "outputs": [
    {
     "ename": "NameError",
     "evalue": "name 'data_proced' is not defined",
     "output_type": "error",
     "traceback": [
      "\u001b[0;31m---------------------------------------------------------------------------\u001b[0m",
      "\u001b[0;31mNameError\u001b[0m                                 Traceback (most recent call last)",
      "\u001b[0;32m<ipython-input-36-5a3d6e999c64>\u001b[0m in \u001b[0;36m<module>\u001b[0;34m()\u001b[0m\n\u001b[1;32m      1\u001b[0m \u001b[0my_pred\u001b[0m \u001b[0;34m=\u001b[0m \u001b[0mabr\u001b[0m\u001b[0;34m.\u001b[0m\u001b[0mpredict\u001b[0m\u001b[0;34m(\u001b[0m\u001b[0mX\u001b[0m\u001b[0;34m)\u001b[0m\u001b[0;34m\u001b[0m\u001b[0m\n\u001b[0;32m----> 2\u001b[0;31m \u001b[0mdata_proced\u001b[0m\u001b[0;34m[\u001b[0m\u001b[0;34m'abr'\u001b[0m\u001b[0;34m]\u001b[0m \u001b[0;34m=\u001b[0m \u001b[0my_pred\u001b[0m\u001b[0;34m\u001b[0m\u001b[0m\n\u001b[0m",
      "\u001b[0;31mNameError\u001b[0m: name 'data_proced' is not defined"
     ]
    }
   ],
   "source": [
    "y_pred = abr.predict(X)\n",
    "data_proced['abr'] = y_pred"
   ]
  },
  {
   "cell_type": "markdown",
   "metadata": {},
   "source": [
    "### br BaggingRegressor模型预测值"
   ]
  },
  {
   "cell_type": "code",
   "execution_count": 37,
   "metadata": {},
   "outputs": [
    {
     "name": "stdout",
     "output_type": "stream",
     "text": [
      "Running time: 0.2125679999999992 Seconds\n",
      "MSE: 48.9162487532\n",
      "RMSE: 6.99401520967\n",
      "MAE: 4.31823482646\n"
     ]
    }
   ],
   "source": [
    "from sklearn.ensemble import BaggingRegressor\n",
    "br = BaggingRegressor()\n",
    "time_start = time.clock()\n",
    "br.fit(X_train,y_train)\n",
    "#记录训练结束时间\n",
    "time_end = time.clock()\n",
    "print('Running time: %s Seconds'%(time_end -time_start))\n",
    "y_pred = br.predict(X_test)\n",
    "\n",
    "#评估模型\n",
    "from sklearn import metrics\n",
    "# 用scikit-learn计算MSE\n",
    "print(\"MSE:\",metrics.mean_squared_error(y_test, y_pred))\n",
    "# 用scikit-learn计算RMSE\n",
    "print(\"RMSE:\",np.sqrt(metrics.mean_squared_error(y_test, y_pred)))\n",
    "# 用scikit-learn计算MAE\n",
    "print(\"MAE:\",metrics.mean_absolute_error(y_test, y_pred))"
   ]
  },
  {
   "cell_type": "code",
   "execution_count": 38,
   "metadata": {},
   "outputs": [
    {
     "ename": "NameError",
     "evalue": "name 'data_proced' is not defined",
     "output_type": "error",
     "traceback": [
      "\u001b[0;31m---------------------------------------------------------------------------\u001b[0m",
      "\u001b[0;31mNameError\u001b[0m                                 Traceback (most recent call last)",
      "\u001b[0;32m<ipython-input-38-d29d62e97d72>\u001b[0m in \u001b[0;36m<module>\u001b[0;34m()\u001b[0m\n\u001b[1;32m      1\u001b[0m \u001b[0my_pred\u001b[0m \u001b[0;34m=\u001b[0m \u001b[0mbr\u001b[0m\u001b[0;34m.\u001b[0m\u001b[0mpredict\u001b[0m\u001b[0;34m(\u001b[0m\u001b[0mX\u001b[0m\u001b[0;34m)\u001b[0m\u001b[0;34m\u001b[0m\u001b[0m\n\u001b[0;32m----> 2\u001b[0;31m \u001b[0mdata_proced\u001b[0m\u001b[0;34m[\u001b[0m\u001b[0;34m'br'\u001b[0m\u001b[0;34m]\u001b[0m \u001b[0;34m=\u001b[0m \u001b[0my_pred\u001b[0m\u001b[0;34m\u001b[0m\u001b[0m\n\u001b[0m",
      "\u001b[0;31mNameError\u001b[0m: name 'data_proced' is not defined"
     ]
    }
   ],
   "source": [
    "y_pred = br.predict(X)\n",
    "data_proced['br'] = y_pred"
   ]
  },
  {
   "cell_type": "markdown",
   "metadata": {},
   "source": [
    "### GradientBoostingRegressor"
   ]
  },
  {
   "cell_type": "code",
   "execution_count": 39,
   "metadata": {},
   "outputs": [
    {
     "name": "stdout",
     "output_type": "stream",
     "text": [
      "Running time: 0.2511939999999999 Seconds\n",
      "MSE: 72.504150398\n",
      "RMSE: 8.51493689924\n",
      "MAE: 5.64233772299\n"
     ]
    }
   ],
   "source": [
    "from sklearn.ensemble import GradientBoostingRegressor\n",
    "gbr = GradientBoostingRegressor()\n",
    "time_start = time.clock()\n",
    "gbr.fit(X_train,y_train)\n",
    "#记录训练结束时间\n",
    "time_end = time.clock()\n",
    "print('Running time: %s Seconds'%(time_end -time_start))\n",
    "y_pred = gbr.predict(X_test)\n",
    "\n",
    "#评估模型\n",
    "from sklearn import metrics\n",
    "# 用scikit-learn计算MSE\n",
    "print(\"MSE:\",metrics.mean_squared_error(y_test, y_pred))\n",
    "# 用scikit-learn计算RMSE\n",
    "print(\"RMSE:\",np.sqrt(metrics.mean_squared_error(y_test, y_pred)))\n",
    "# 用scikit-learn计算MAE\n",
    "print(\"MAE:\",metrics.mean_absolute_error(y_test, y_pred))"
   ]
  },
  {
   "cell_type": "code",
   "execution_count": 40,
   "metadata": {},
   "outputs": [
    {
     "ename": "NameError",
     "evalue": "name 'data_proced' is not defined",
     "output_type": "error",
     "traceback": [
      "\u001b[0;31m---------------------------------------------------------------------------\u001b[0m",
      "\u001b[0;31mNameError\u001b[0m                                 Traceback (most recent call last)",
      "\u001b[0;32m<ipython-input-40-bc527ba162a5>\u001b[0m in \u001b[0;36m<module>\u001b[0;34m()\u001b[0m\n\u001b[1;32m      1\u001b[0m \u001b[0my_pred\u001b[0m \u001b[0;34m=\u001b[0m \u001b[0mgbr\u001b[0m\u001b[0;34m.\u001b[0m\u001b[0mpredict\u001b[0m\u001b[0;34m(\u001b[0m\u001b[0mX\u001b[0m\u001b[0;34m)\u001b[0m\u001b[0;34m\u001b[0m\u001b[0m\n\u001b[0;32m----> 2\u001b[0;31m \u001b[0mdata_proced\u001b[0m\u001b[0;34m[\u001b[0m\u001b[0;34m'gbr'\u001b[0m\u001b[0;34m]\u001b[0m \u001b[0;34m=\u001b[0m \u001b[0my_pred\u001b[0m\u001b[0;34m\u001b[0m\u001b[0m\n\u001b[0m",
      "\u001b[0;31mNameError\u001b[0m: name 'data_proced' is not defined"
     ]
    }
   ],
   "source": [
    "y_pred = gbr.predict(X)\n",
    "data_proced['gbr'] = y_pred"
   ]
  },
  {
   "cell_type": "markdown",
   "metadata": {},
   "source": [
    "###  XGBRegressor"
   ]
  },
  {
   "cell_type": "code",
   "execution_count": 41,
   "metadata": {},
   "outputs": [
    {
     "name": "stderr",
     "output_type": "stream",
     "text": [
      "/Users/Jeremy/miniconda3/envs/test/lib/python3.6/site-packages/sklearn/cross_validation.py:41: DeprecationWarning: This module was deprecated in version 0.18 in favor of the model_selection module into which all the refactored classes and functions are moved. Also note that the interface of the new CV iterators are different from that of this module. This module will be removed in 0.20.\n",
      "  \"This module will be removed in 0.20.\", DeprecationWarning)\n"
     ]
    },
    {
     "name": "stdout",
     "output_type": "stream",
     "text": [
      "Running time: 0.26371500000000037 Seconds\n",
      "MSE: 72.7972775048\n",
      "RMSE: 8.53213206091\n",
      "MAE: 5.64291533819\n"
     ]
    }
   ],
   "source": [
    "from xgboost import XGBRegressor\n",
    "xgbr = GradientBoostingRegressor()\n",
    "time_start = time.clock()\n",
    "xgbr.fit(X_train,y_train)\n",
    "#记录训练结束时间\n",
    "time_end = time.clock()\n",
    "print('Running time: %s Seconds'%(time_end -time_start))\n",
    "y_pred = xgbr.predict(X_test)\n",
    "\n",
    "#评估模型\n",
    "from sklearn import metrics\n",
    "# 用scikit-learn计算MSE\n",
    "print(\"MSE:\",metrics.mean_squared_error(y_test, y_pred))\n",
    "# 用scikit-learn计算RMSE\n",
    "print(\"RMSE:\",np.sqrt(metrics.mean_squared_error(y_test, y_pred)))\n",
    "# 用scikit-learn计算MAE\n",
    "print(\"MAE:\",metrics.mean_absolute_error(y_test, y_pred))"
   ]
  },
  {
   "cell_type": "code",
   "execution_count": 42,
   "metadata": {},
   "outputs": [
    {
     "ename": "NameError",
     "evalue": "name 'data_proced' is not defined",
     "output_type": "error",
     "traceback": [
      "\u001b[0;31m---------------------------------------------------------------------------\u001b[0m",
      "\u001b[0;31mNameError\u001b[0m                                 Traceback (most recent call last)",
      "\u001b[0;32m<ipython-input-42-1cb1b98360db>\u001b[0m in \u001b[0;36m<module>\u001b[0;34m()\u001b[0m\n\u001b[1;32m      1\u001b[0m \u001b[0my_pred\u001b[0m \u001b[0;34m=\u001b[0m \u001b[0mxgbr\u001b[0m\u001b[0;34m.\u001b[0m\u001b[0mpredict\u001b[0m\u001b[0;34m(\u001b[0m\u001b[0mX\u001b[0m\u001b[0;34m)\u001b[0m\u001b[0;34m\u001b[0m\u001b[0m\n\u001b[0;32m----> 2\u001b[0;31m \u001b[0mdata_proced\u001b[0m\u001b[0;34m[\u001b[0m\u001b[0;34m'xgbr'\u001b[0m\u001b[0;34m]\u001b[0m \u001b[0;34m=\u001b[0m \u001b[0my_pred\u001b[0m\u001b[0;34m\u001b[0m\u001b[0m\n\u001b[0m",
      "\u001b[0;31mNameError\u001b[0m: name 'data_proced' is not defined"
     ]
    }
   ],
   "source": [
    "y_pred = xgbr.predict(X)\n",
    "data_proced['xgbr'] = y_pred"
   ]
  },
  {
   "cell_type": "markdown",
   "metadata": {},
   "source": [
    "### import MLPRegressor"
   ]
  },
  {
   "cell_type": "code",
   "execution_count": 43,
   "metadata": {},
   "outputs": [
    {
     "name": "stdout",
     "output_type": "stream",
     "text": [
      "Running time: 0.24348599999999898 Seconds\n",
      "MSE: 71.7820191896\n",
      "RMSE: 8.47242699523\n",
      "MAE: 5.60498029694\n"
     ]
    }
   ],
   "source": [
    "from sklearn.neural_network import MLPRegressor\n",
    "mlpr = GradientBoostingRegressor()\n",
    "time_start = time.clock()\n",
    "mlpr.fit(X_train,y_train)\n",
    "#记录训练结束时间\n",
    "time_end = time.clock()\n",
    "print('Running time: %s Seconds'%(time_end -time_start))\n",
    "y_pred = mlpr.predict(X_test)\n",
    "\n",
    "#评估模型\n",
    "from sklearn import metrics\n",
    "# 用scikit-learn计算MSE\n",
    "print(\"MSE:\",metrics.mean_squared_error(y_test, y_pred))\n",
    "# 用scikit-learn计算RMSE\n",
    "print(\"RMSE:\",np.sqrt(metrics.mean_squared_error(y_test, y_pred)))\n",
    "# 用scikit-learn计算MAE\n",
    "print(\"MAE:\",metrics.mean_absolute_error(y_test, y_pred))"
   ]
  },
  {
   "cell_type": "code",
   "execution_count": 44,
   "metadata": {},
   "outputs": [
    {
     "ename": "NameError",
     "evalue": "name 'data_proced' is not defined",
     "output_type": "error",
     "traceback": [
      "\u001b[0;31m---------------------------------------------------------------------------\u001b[0m",
      "\u001b[0;31mNameError\u001b[0m                                 Traceback (most recent call last)",
      "\u001b[0;32m<ipython-input-44-fd08039b0bb0>\u001b[0m in \u001b[0;36m<module>\u001b[0;34m()\u001b[0m\n\u001b[1;32m      1\u001b[0m \u001b[0my_pred\u001b[0m \u001b[0;34m=\u001b[0m \u001b[0mmlpr\u001b[0m\u001b[0;34m.\u001b[0m\u001b[0mpredict\u001b[0m\u001b[0;34m(\u001b[0m\u001b[0mX\u001b[0m\u001b[0;34m)\u001b[0m\u001b[0;34m\u001b[0m\u001b[0m\n\u001b[0;32m----> 2\u001b[0;31m \u001b[0mdata_proced\u001b[0m\u001b[0;34m[\u001b[0m\u001b[0;34m'mlpr'\u001b[0m\u001b[0;34m]\u001b[0m \u001b[0;34m=\u001b[0m \u001b[0my_pred\u001b[0m\u001b[0;34m\u001b[0m\u001b[0m\n\u001b[0m",
      "\u001b[0;31mNameError\u001b[0m: name 'data_proced' is not defined"
     ]
    }
   ],
   "source": [
    "y_pred = mlpr.predict(X)\n",
    "data_proced['mlpr'] = y_pred"
   ]
  },
  {
   "cell_type": "markdown",
   "metadata": {},
   "source": [
    "### bp神经网络 不进行标准化预测值为NAN"
   ]
  },
  {
   "cell_type": "code",
   "execution_count": 45,
   "metadata": {},
   "outputs": [
    {
     "name": "stderr",
     "output_type": "stream",
     "text": [
      "Using TensorFlow backend.\n",
      "/Users/Jeremy/miniconda3/envs/test/lib/python3.6/importlib/_bootstrap.py:205: RuntimeWarning: compiletime version 3.5 of module 'tensorflow.python.framework.fast_tensor_util' does not match runtime version 3.6\n",
      "  return f(*args, **kwds)\n",
      "/Users/Jeremy/miniconda3/envs/test/lib/python3.6/site-packages/ipykernel_launcher.py:5: UserWarning: Update your `Dense` call to the Keras 2 API: `Dense(24, input_dim=12, kernel_initializer=\"uniform\")`\n",
      "  \"\"\"\n",
      "/Users/Jeremy/miniconda3/envs/test/lib/python3.6/site-packages/keras/models.py:939: UserWarning: The `nb_epoch` argument in `fit` has been renamed `epochs`.\n",
      "  warnings.warn('The `nb_epoch` argument in `fit` '\n"
     ]
    },
    {
     "name": "stdout",
     "output_type": "stream",
     "text": [
      "Epoch 1/1000\n",
      "3613/3613 [==============================] - 0s 87us/step - loss: 1393.9199\n",
      "Epoch 2/1000\n",
      "3613/3613 [==============================] - 0s 65us/step - loss: 587.6135\n",
      "Epoch 3/1000\n",
      "3613/3613 [==============================] - 0s 67us/step - loss: 534.5454\n",
      "Epoch 4/1000\n",
      "3613/3613 [==============================] - 0s 58us/step - loss: 300.3561\n",
      "Epoch 5/1000\n",
      "3613/3613 [==============================] - 0s 55us/step - loss: 289.6848\n",
      "Epoch 6/1000\n",
      "3613/3613 [==============================] - 0s 54us/step - loss: 639.4294\n",
      "Epoch 7/1000\n",
      "3613/3613 [==============================] - 0s 80us/step - loss: 587.8684\n",
      "Epoch 8/1000\n",
      "3613/3613 [==============================] - 0s 59us/step - loss: 587.7818\n",
      "Epoch 9/1000\n",
      "3613/3613 [==============================] - 0s 52us/step - loss: 587.7702\n",
      "Epoch 10/1000\n",
      "3613/3613 [==============================] - 0s 63us/step - loss: 587.8100\n",
      "Epoch 11/1000\n",
      "3613/3613 [==============================] - 0s 61us/step - loss: 587.8367\n",
      "Epoch 12/1000\n",
      "3613/3613 [==============================] - 0s 58us/step - loss: 587.5029\n",
      "Epoch 13/1000\n",
      "3613/3613 [==============================] - 0s 78us/step - loss: 587.7113\n",
      "Epoch 14/1000\n",
      "3613/3613 [==============================] - 0s 66us/step - loss: 587.5114\n",
      "Epoch 15/1000\n",
      "3613/3613 [==============================] - 0s 62us/step - loss: 587.6566\n",
      "Epoch 16/1000\n",
      "3613/3613 [==============================] - 0s 58us/step - loss: 587.6766\n",
      "Epoch 17/1000\n",
      "3613/3613 [==============================] - 0s 68us/step - loss: 587.4590\n",
      "Epoch 18/1000\n",
      "3613/3613 [==============================] - 0s 56us/step - loss: 587.7853\n",
      "Epoch 19/1000\n",
      "3613/3613 [==============================] - 0s 61us/step - loss: 587.6090\n",
      "Epoch 20/1000\n",
      "3613/3613 [==============================] - 0s 70us/step - loss: 587.7576\n",
      "Epoch 21/1000\n",
      "3613/3613 [==============================] - 0s 78us/step - loss: 587.5607\n",
      "Epoch 22/1000\n",
      "3613/3613 [==============================] - 0s 59us/step - loss: 587.6633\n",
      "Epoch 23/1000\n",
      "3613/3613 [==============================] - 0s 65us/step - loss: 587.5177\n",
      "Epoch 24/1000\n",
      "3613/3613 [==============================] - 0s 74us/step - loss: 587.7874\n",
      "Epoch 25/1000\n",
      "3613/3613 [==============================] - 0s 65us/step - loss: 587.6377\n",
      "Epoch 26/1000\n",
      "3613/3613 [==============================] - 0s 59us/step - loss: 587.6851\n",
      "Epoch 27/1000\n",
      "3613/3613 [==============================] - 0s 58us/step - loss: 587.8161\n",
      "Epoch 28/1000\n",
      "3613/3613 [==============================] - 0s 66us/step - loss: 587.8171\n",
      "Epoch 29/1000\n",
      "3613/3613 [==============================] - 0s 57us/step - loss: 587.5366\n",
      "Epoch 30/1000\n",
      "3613/3613 [==============================] - 0s 58us/step - loss: 587.4693\n",
      "Epoch 31/1000\n",
      "3613/3613 [==============================] - 0s 78us/step - loss: 587.5415\n",
      "Epoch 32/1000\n",
      "3613/3613 [==============================] - 0s 63us/step - loss: 587.7353\n",
      "Epoch 33/1000\n",
      "3613/3613 [==============================] - 0s 65us/step - loss: 587.4312\n",
      "Epoch 34/1000\n",
      "3613/3613 [==============================] - 0s 73us/step - loss: 587.7414\n",
      "Epoch 35/1000\n",
      "3613/3613 [==============================] - 0s 67us/step - loss: 587.5086\n",
      "Epoch 36/1000\n",
      "3613/3613 [==============================] - 0s 59us/step - loss: 587.8176\n",
      "Epoch 37/1000\n",
      "3613/3613 [==============================] - 0s 64us/step - loss: 587.5249\n",
      "Epoch 38/1000\n",
      "3613/3613 [==============================] - 0s 75us/step - loss: 587.6244\n",
      "Epoch 39/1000\n",
      "3613/3613 [==============================] - 0s 73us/step - loss: 587.7115\n",
      "Epoch 40/1000\n",
      "3613/3613 [==============================] - 0s 63us/step - loss: 587.6674\n",
      "Epoch 41/1000\n",
      "3613/3613 [==============================] - 0s 89us/step - loss: 587.7638\n",
      "Epoch 42/1000\n",
      "3613/3613 [==============================] - 0s 64us/step - loss: 587.7525\n",
      "Epoch 43/1000\n",
      "3613/3613 [==============================] - 0s 59us/step - loss: 587.5761\n",
      "Epoch 44/1000\n",
      "3613/3613 [==============================] - 0s 67us/step - loss: 587.8113\n",
      "Epoch 45/1000\n",
      "3613/3613 [==============================] - 0s 61us/step - loss: 587.6825\n",
      "Epoch 46/1000\n",
      "3613/3613 [==============================] - 0s 60us/step - loss: 587.7177\n",
      "Epoch 47/1000\n",
      "3613/3613 [==============================] - 0s 56us/step - loss: 587.7898\n",
      "Epoch 48/1000\n",
      "3613/3613 [==============================] - 0s 61us/step - loss: 587.6716\n",
      "Epoch 49/1000\n",
      "3613/3613 [==============================] - 0s 58us/step - loss: 587.8368\n",
      "Epoch 50/1000\n",
      "3613/3613 [==============================] - 0s 55us/step - loss: 587.4565\n",
      "Epoch 51/1000\n",
      "3613/3613 [==============================] - 0s 53us/step - loss: 587.8571\n",
      "Epoch 52/1000\n",
      "3613/3613 [==============================] - 0s 60us/step - loss: 587.6639\n",
      "Epoch 53/1000\n",
      "3613/3613 [==============================] - 0s 87us/step - loss: 587.7400\n",
      "Epoch 54/1000\n",
      "3613/3613 [==============================] - 0s 68us/step - loss: 587.8806\n",
      "Epoch 55/1000\n",
      "3613/3613 [==============================] - 0s 72us/step - loss: 587.6257\n",
      "Epoch 56/1000\n",
      "3613/3613 [==============================] - 0s 62us/step - loss: 587.6732\n",
      "Epoch 57/1000\n",
      "3613/3613 [==============================] - 0s 64us/step - loss: 587.9773\n",
      "Epoch 58/1000\n",
      "3613/3613 [==============================] - 0s 72us/step - loss: 587.7068\n",
      "Epoch 59/1000\n",
      "3613/3613 [==============================] - 0s 80us/step - loss: 587.5185\n",
      "Epoch 60/1000\n",
      "3613/3613 [==============================] - 0s 63us/step - loss: 587.6600\n",
      "Epoch 61/1000\n",
      "3613/3613 [==============================] - 0s 56us/step - loss: 587.7145\n",
      "Epoch 62/1000\n",
      "3613/3613 [==============================] - 0s 56us/step - loss: 587.7776\n",
      "Epoch 63/1000\n",
      "3613/3613 [==============================] - 0s 85us/step - loss: 587.5963\n",
      "Epoch 64/1000\n",
      "3613/3613 [==============================] - 0s 62us/step - loss: 587.4804\n",
      "Epoch 65/1000\n",
      "3613/3613 [==============================] - 0s 95us/step - loss: 587.7501\n",
      "Epoch 66/1000\n",
      "3613/3613 [==============================] - 0s 83us/step - loss: 587.7786\n",
      "Epoch 67/1000\n",
      "3613/3613 [==============================] - 0s 64us/step - loss: 587.6712\n",
      "Epoch 68/1000\n",
      "3613/3613 [==============================] - 0s 66us/step - loss: 587.6772\n",
      "Epoch 69/1000\n",
      "3613/3613 [==============================] - 0s 63us/step - loss: 587.6627\n",
      "Epoch 70/1000\n",
      "3613/3613 [==============================] - 0s 58us/step - loss: 587.1650\n",
      "Epoch 71/1000\n",
      "3613/3613 [==============================] - 0s 63us/step - loss: 587.7367\n",
      "Epoch 72/1000\n",
      "3613/3613 [==============================] - 0s 76us/step - loss: 587.8017\n",
      "Epoch 73/1000\n",
      "3613/3613 [==============================] - 0s 72us/step - loss: 587.8002\n",
      "Epoch 74/1000\n",
      "3613/3613 [==============================] - 0s 71us/step - loss: 587.7024\n",
      "Epoch 75/1000\n",
      "3613/3613 [==============================] - 0s 96us/step - loss: 587.7407\n",
      "Epoch 76/1000\n",
      "3613/3613 [==============================] - 0s 68us/step - loss: 587.6288\n",
      "Epoch 77/1000\n",
      "3613/3613 [==============================] - 0s 66us/step - loss: 587.5695\n",
      "Epoch 78/1000\n",
      "3613/3613 [==============================] - 0s 75us/step - loss: 587.8767\n",
      "Epoch 79/1000\n",
      "3613/3613 [==============================] - 0s 65us/step - loss: 587.7177\n",
      "Epoch 80/1000\n",
      "3613/3613 [==============================] - 0s 60us/step - loss: 587.5721\n",
      "Epoch 81/1000\n",
      "3613/3613 [==============================] - 0s 62us/step - loss: 587.6822\n",
      "Epoch 82/1000\n",
      "3613/3613 [==============================] - 0s 48us/step - loss: 587.6664\n",
      "Epoch 83/1000\n",
      "3613/3613 [==============================] - 0s 48us/step - loss: 587.7683\n",
      "Epoch 84/1000\n",
      "3613/3613 [==============================] - 0s 82us/step - loss: 587.6786\n",
      "Epoch 85/1000\n",
      "3613/3613 [==============================] - 0s 67us/step - loss: 587.5620\n",
      "Epoch 86/1000\n",
      "3613/3613 [==============================] - 0s 77us/step - loss: 587.7422\n",
      "Epoch 87/1000\n",
      "3613/3613 [==============================] - 0s 89us/step - loss: 587.6602\n",
      "Epoch 88/1000\n",
      "3613/3613 [==============================] - 0s 81us/step - loss: 587.7808\n",
      "Epoch 89/1000\n",
      "3613/3613 [==============================] - 0s 74us/step - loss: 587.7619\n",
      "Epoch 90/1000\n",
      "3613/3613 [==============================] - 0s 79us/step - loss: 587.6132\n",
      "Epoch 91/1000\n",
      "3613/3613 [==============================] - 0s 75us/step - loss: 587.6700\n",
      "Epoch 92/1000\n",
      "3613/3613 [==============================] - 0s 68us/step - loss: 587.6929\n",
      "Epoch 93/1000\n"
     ]
    },
    {
     "name": "stdout",
     "output_type": "stream",
     "text": [
      "3613/3613 [==============================] - 0s 73us/step - loss: 587.7833\n",
      "Epoch 94/1000\n",
      "3613/3613 [==============================] - 0s 75us/step - loss: 587.7365\n",
      "Epoch 95/1000\n",
      "3613/3613 [==============================] - 0s 82us/step - loss: 587.7682\n",
      "Epoch 96/1000\n",
      "3613/3613 [==============================] - 0s 63us/step - loss: 587.7105\n",
      "Epoch 97/1000\n",
      "3613/3613 [==============================] - 0s 100us/step - loss: 587.0718\n",
      "Epoch 98/1000\n",
      "3613/3613 [==============================] - 0s 88us/step - loss: 587.7873: 0s - loss: 598.\n",
      "Epoch 99/1000\n",
      "3613/3613 [==============================] - 0s 116us/step - loss: 587.5229\n",
      "Epoch 100/1000\n",
      "3613/3613 [==============================] - 0s 114us/step - loss: 587.4083\n",
      "Epoch 101/1000\n",
      "3613/3613 [==============================] - 0s 92us/step - loss: 587.7388\n",
      "Epoch 102/1000\n",
      "3613/3613 [==============================] - 0s 105us/step - loss: 587.8153\n",
      "Epoch 103/1000\n",
      "3613/3613 [==============================] - 0s 98us/step - loss: 587.5487\n",
      "Epoch 104/1000\n",
      "3613/3613 [==============================] - 0s 107us/step - loss: 587.3014\n",
      "Epoch 105/1000\n",
      "3613/3613 [==============================] - 0s 79us/step - loss: 587.4379\n",
      "Epoch 106/1000\n",
      "3613/3613 [==============================] - 0s 54us/step - loss: 587.8801\n",
      "Epoch 107/1000\n",
      "3613/3613 [==============================] - 0s 54us/step - loss: 587.8069\n",
      "Epoch 108/1000\n",
      "3613/3613 [==============================] - 0s 59us/step - loss: 587.6742\n",
      "Epoch 109/1000\n",
      "3613/3613 [==============================] - 0s 83us/step - loss: 587.5686\n",
      "Epoch 110/1000\n",
      "3613/3613 [==============================] - 0s 60us/step - loss: 587.7376\n",
      "Epoch 111/1000\n",
      "3613/3613 [==============================] - 0s 80us/step - loss: 587.7426\n",
      "Epoch 112/1000\n",
      "3613/3613 [==============================] - 0s 60us/step - loss: 587.5803\n",
      "Epoch 113/1000\n",
      "3613/3613 [==============================] - 0s 59us/step - loss: 587.8056\n",
      "Epoch 114/1000\n",
      "3613/3613 [==============================] - 0s 59us/step - loss: 587.7288\n",
      "Epoch 115/1000\n",
      "3613/3613 [==============================] - 0s 56us/step - loss: 587.7292\n",
      "Epoch 116/1000\n",
      "3613/3613 [==============================] - 0s 54us/step - loss: 587.1579\n",
      "Epoch 117/1000\n",
      "3613/3613 [==============================] - 0s 52us/step - loss: 587.6923\n",
      "Epoch 118/1000\n",
      "3613/3613 [==============================] - 0s 63us/step - loss: 587.7906\n",
      "Epoch 119/1000\n",
      "3613/3613 [==============================] - 0s 67us/step - loss: 587.7207\n",
      "Epoch 120/1000\n",
      "3613/3613 [==============================] - 0s 57us/step - loss: 587.9406\n",
      "Epoch 121/1000\n",
      "3613/3613 [==============================] - 0s 88us/step - loss: 587.7368\n",
      "Epoch 122/1000\n",
      "3613/3613 [==============================] - 0s 73us/step - loss: 587.8939\n",
      "Epoch 123/1000\n",
      "3613/3613 [==============================] - 0s 61us/step - loss: 587.7166\n",
      "Epoch 124/1000\n",
      "3613/3613 [==============================] - 0s 60us/step - loss: 587.3618\n",
      "Epoch 125/1000\n",
      "3613/3613 [==============================] - 0s 58us/step - loss: 587.9087\n",
      "Epoch 126/1000\n",
      "3613/3613 [==============================] - 0s 56us/step - loss: 587.7553\n",
      "Epoch 127/1000\n",
      "3613/3613 [==============================] - 0s 59us/step - loss: 587.5809\n",
      "Epoch 128/1000\n",
      "3613/3613 [==============================] - 0s 50us/step - loss: 587.5476\n",
      "Epoch 129/1000\n",
      "3613/3613 [==============================] - 0s 60us/step - loss: 587.8130\n",
      "Epoch 130/1000\n",
      "3613/3613 [==============================] - 0s 101us/step - loss: 587.7784\n",
      "Epoch 131/1000\n",
      "3613/3613 [==============================] - 0s 88us/step - loss: 587.6707\n",
      "Epoch 132/1000\n",
      "3613/3613 [==============================] - 0s 78us/step - loss: 587.6624\n",
      "Epoch 133/1000\n",
      "3613/3613 [==============================] - 0s 55us/step - loss: 587.5743\n",
      "Epoch 134/1000\n",
      "3613/3613 [==============================] - 0s 83us/step - loss: 587.7569\n",
      "Epoch 135/1000\n",
      "3613/3613 [==============================] - 0s 98us/step - loss: 587.6321\n",
      "Epoch 136/1000\n",
      "3613/3613 [==============================] - 1s 228us/step - loss: 587.6867\n",
      "Epoch 137/1000\n",
      "3613/3613 [==============================] - 0s 134us/step - loss: 587.6357\n",
      "Epoch 138/1000\n",
      "3613/3613 [==============================] - 0s 55us/step - loss: 587.5767\n",
      "Epoch 139/1000\n",
      "3613/3613 [==============================] - 0s 65us/step - loss: 587.7628\n",
      "Epoch 140/1000\n",
      "3613/3613 [==============================] - 0s 60us/step - loss: 587.6798\n",
      "Epoch 141/1000\n",
      "3613/3613 [==============================] - 0s 120us/step - loss: 587.6486\n",
      "Epoch 142/1000\n",
      "3613/3613 [==============================] - 0s 104us/step - loss: 587.7538\n",
      "Epoch 143/1000\n",
      "3613/3613 [==============================] - 0s 127us/step - loss: 587.4699\n",
      "Epoch 144/1000\n",
      "3613/3613 [==============================] - 0s 81us/step - loss: 587.6503\n",
      "Epoch 145/1000\n",
      "3613/3613 [==============================] - 0s 107us/step - loss: 587.7568\n",
      "Epoch 146/1000\n",
      "3613/3613 [==============================] - 0s 59us/step - loss: 587.6353\n",
      "Epoch 147/1000\n",
      "3613/3613 [==============================] - 0s 63us/step - loss: 587.7419\n",
      "Epoch 148/1000\n",
      "3613/3613 [==============================] - 0s 58us/step - loss: 587.2604\n",
      "Epoch 149/1000\n",
      "3613/3613 [==============================] - 0s 96us/step - loss: 587.5036\n",
      "Epoch 150/1000\n",
      "3613/3613 [==============================] - 0s 65us/step - loss: 587.7053\n",
      "Epoch 151/1000\n",
      "3613/3613 [==============================] - 0s 61us/step - loss: 587.6734\n",
      "Epoch 152/1000\n",
      "3613/3613 [==============================] - 0s 73us/step - loss: 587.5377\n",
      "Epoch 153/1000\n",
      "3613/3613 [==============================] - 0s 60us/step - loss: 587.5434\n",
      "Epoch 154/1000\n",
      "3613/3613 [==============================] - 0s 61us/step - loss: 587.7289\n",
      "Epoch 155/1000\n",
      "3613/3613 [==============================] - 0s 60us/step - loss: 587.5453\n",
      "Epoch 156/1000\n",
      "3613/3613 [==============================] - 0s 59us/step - loss: 587.4870\n",
      "Epoch 157/1000\n",
      "3613/3613 [==============================] - 0s 94us/step - loss: 587.7097\n",
      "Epoch 158/1000\n",
      "3613/3613 [==============================] - 0s 63us/step - loss: 587.5652\n",
      "Epoch 159/1000\n",
      "3613/3613 [==============================] - 0s 109us/step - loss: 587.5582\n",
      "Epoch 160/1000\n",
      "3613/3613 [==============================] - 0s 68us/step - loss: 587.5847\n",
      "Epoch 161/1000\n",
      "3613/3613 [==============================] - 0s 50us/step - loss: 587.6590\n",
      "Epoch 162/1000\n",
      "3613/3613 [==============================] - 0s 96us/step - loss: 587.7077\n",
      "Epoch 163/1000\n",
      "3613/3613 [==============================] - 0s 84us/step - loss: 587.7607\n",
      "Epoch 164/1000\n",
      "3613/3613 [==============================] - 0s 86us/step - loss: 587.8227\n",
      "Epoch 165/1000\n",
      "3613/3613 [==============================] - 0s 62us/step - loss: 587.7977\n",
      "Epoch 166/1000\n",
      "3613/3613 [==============================] - 0s 63us/step - loss: 587.7654\n",
      "Epoch 167/1000\n",
      "3613/3613 [==============================] - 0s 74us/step - loss: 587.6784\n",
      "Epoch 168/1000\n",
      "3613/3613 [==============================] - 0s 62us/step - loss: 587.5529\n",
      "Epoch 169/1000\n",
      "3613/3613 [==============================] - 0s 59us/step - loss: 587.7650\n",
      "Epoch 170/1000\n",
      "3613/3613 [==============================] - 0s 55us/step - loss: 587.7993\n",
      "Epoch 171/1000\n",
      "3613/3613 [==============================] - 0s 64us/step - loss: 587.5440\n",
      "Epoch 172/1000\n",
      "3613/3613 [==============================] - 0s 58us/step - loss: 587.7589\n",
      "Epoch 173/1000\n",
      "3613/3613 [==============================] - 0s 58us/step - loss: 587.6917\n",
      "Epoch 174/1000\n",
      "3613/3613 [==============================] - 0s 66us/step - loss: 587.7253\n",
      "Epoch 175/1000\n",
      "3613/3613 [==============================] - 0s 59us/step - loss: 587.7940\n",
      "Epoch 176/1000\n",
      "3613/3613 [==============================] - 0s 68us/step - loss: 587.7044\n",
      "Epoch 177/1000\n",
      "3613/3613 [==============================] - 0s 64us/step - loss: 587.6475\n",
      "Epoch 178/1000\n",
      "3613/3613 [==============================] - 0s 64us/step - loss: 587.7423\n",
      "Epoch 179/1000\n",
      "3613/3613 [==============================] - 0s 75us/step - loss: 587.6018\n",
      "Epoch 180/1000\n",
      "3613/3613 [==============================] - 0s 94us/step - loss: 587.6824\n",
      "Epoch 181/1000\n",
      "3613/3613 [==============================] - 1s 149us/step - loss: 587.5445\n",
      "Epoch 182/1000\n",
      "3613/3613 [==============================] - 0s 131us/step - loss: 587.6687\n",
      "Epoch 183/1000\n"
     ]
    },
    {
     "name": "stdout",
     "output_type": "stream",
     "text": [
      "3613/3613 [==============================] - 1s 159us/step - loss: 587.7301\n",
      "Epoch 184/1000\n",
      "3613/3613 [==============================] - 1s 213us/step - loss: 587.7364\n",
      "Epoch 185/1000\n",
      "3613/3613 [==============================] - 1s 203us/step - loss: 587.6767\n",
      "Epoch 186/1000\n",
      "3613/3613 [==============================] - 1s 218us/step - loss: 587.7543\n",
      "Epoch 187/1000\n",
      "3613/3613 [==============================] - 1s 145us/step - loss: 587.7257\n",
      "Epoch 188/1000\n",
      "3613/3613 [==============================] - 0s 113us/step - loss: 587.6990\n",
      "Epoch 189/1000\n",
      "3613/3613 [==============================] - 0s 61us/step - loss: 587.8034\n",
      "Epoch 190/1000\n",
      "3613/3613 [==============================] - 0s 58us/step - loss: 587.6082\n",
      "Epoch 191/1000\n",
      "3613/3613 [==============================] - 0s 53us/step - loss: 587.8751\n",
      "Epoch 192/1000\n",
      "3613/3613 [==============================] - 0s 51us/step - loss: 587.4167\n",
      "Epoch 193/1000\n",
      "3613/3613 [==============================] - 0s 52us/step - loss: 587.6098\n",
      "Epoch 194/1000\n",
      "3613/3613 [==============================] - 0s 58us/step - loss: 587.4967\n",
      "Epoch 195/1000\n",
      "3613/3613 [==============================] - 0s 49us/step - loss: 587.6111\n",
      "Epoch 196/1000\n",
      "3613/3613 [==============================] - 0s 51us/step - loss: 587.8087\n",
      "Epoch 197/1000\n",
      "3613/3613 [==============================] - 0s 53us/step - loss: 587.7337\n",
      "Epoch 198/1000\n",
      "3613/3613 [==============================] - 0s 51us/step - loss: 587.7917\n",
      "Epoch 199/1000\n",
      "3613/3613 [==============================] - 0s 50us/step - loss: 587.7369\n",
      "Epoch 200/1000\n",
      "3613/3613 [==============================] - 0s 53us/step - loss: 587.6008\n",
      "Epoch 201/1000\n",
      "3613/3613 [==============================] - 0s 51us/step - loss: 587.4421\n",
      "Epoch 202/1000\n",
      "3613/3613 [==============================] - 0s 50us/step - loss: 587.7643\n",
      "Epoch 203/1000\n",
      "3613/3613 [==============================] - 0s 77us/step - loss: 587.5448\n",
      "Epoch 204/1000\n",
      "3613/3613 [==============================] - 0s 59us/step - loss: 587.7332\n",
      "Epoch 205/1000\n",
      "3613/3613 [==============================] - 0s 64us/step - loss: 587.6858\n",
      "Epoch 206/1000\n",
      "3613/3613 [==============================] - 0s 62us/step - loss: 587.9028\n",
      "Epoch 207/1000\n",
      "3613/3613 [==============================] - 0s 54us/step - loss: 587.5963\n",
      "Epoch 208/1000\n",
      "3613/3613 [==============================] - 0s 54us/step - loss: 587.4455\n",
      "Epoch 209/1000\n",
      "3613/3613 [==============================] - 0s 65us/step - loss: 587.9072\n",
      "Epoch 210/1000\n",
      "3613/3613 [==============================] - 0s 55us/step - loss: 587.6361\n",
      "Epoch 211/1000\n",
      "3613/3613 [==============================] - 0s 55us/step - loss: 587.6969\n",
      "Epoch 212/1000\n",
      "3613/3613 [==============================] - 0s 67us/step - loss: 587.6534\n",
      "Epoch 213/1000\n",
      "3613/3613 [==============================] - 0s 79us/step - loss: 587.5416\n",
      "Epoch 214/1000\n",
      "3613/3613 [==============================] - 0s 58us/step - loss: 587.7301\n",
      "Epoch 215/1000\n",
      "3613/3613 [==============================] - 0s 56us/step - loss: 587.7002\n",
      "Epoch 216/1000\n",
      "3613/3613 [==============================] - 0s 60us/step - loss: 587.7430\n",
      "Epoch 217/1000\n",
      "3613/3613 [==============================] - 0s 54us/step - loss: 587.4386\n",
      "Epoch 218/1000\n",
      "3613/3613 [==============================] - 0s 54us/step - loss: 587.8602\n",
      "Epoch 219/1000\n",
      "3613/3613 [==============================] - 0s 69us/step - loss: 587.1897\n",
      "Epoch 220/1000\n",
      "3613/3613 [==============================] - 0s 79us/step - loss: 587.5840\n",
      "Epoch 221/1000\n",
      "3613/3613 [==============================] - 0s 55us/step - loss: 587.6292\n",
      "Epoch 222/1000\n",
      "3613/3613 [==============================] - 0s 61us/step - loss: 587.7261\n",
      "Epoch 223/1000\n",
      "3613/3613 [==============================] - 0s 75us/step - loss: 587.6800\n",
      "Epoch 224/1000\n",
      "3613/3613 [==============================] - 0s 52us/step - loss: 587.6051\n",
      "Epoch 225/1000\n",
      "3613/3613 [==============================] - 0s 52us/step - loss: 587.7909\n",
      "Epoch 226/1000\n",
      "3613/3613 [==============================] - 0s 54us/step - loss: 587.5154\n",
      "Epoch 227/1000\n",
      "3613/3613 [==============================] - 0s 70us/step - loss: 587.8263\n",
      "Epoch 228/1000\n",
      "3613/3613 [==============================] - 0s 53us/step - loss: 587.5543\n",
      "Epoch 229/1000\n",
      "3613/3613 [==============================] - 0s 50us/step - loss: 587.5860\n",
      "Epoch 230/1000\n",
      "3613/3613 [==============================] - 0s 62us/step - loss: 587.6789\n",
      "Epoch 231/1000\n",
      "3613/3613 [==============================] - 0s 76us/step - loss: 587.2638\n",
      "Epoch 232/1000\n",
      "3613/3613 [==============================] - 0s 52us/step - loss: 587.7592\n",
      "Epoch 233/1000\n",
      "3613/3613 [==============================] - 0s 87us/step - loss: 587.7407\n",
      "Epoch 234/1000\n",
      "3613/3613 [==============================] - 0s 54us/step - loss: 587.7590\n",
      "Epoch 235/1000\n",
      "3613/3613 [==============================] - 0s 52us/step - loss: 587.6455\n",
      "Epoch 236/1000\n",
      "3613/3613 [==============================] - 0s 54us/step - loss: 587.4621\n",
      "Epoch 237/1000\n",
      "3613/3613 [==============================] - 0s 60us/step - loss: 587.1584\n",
      "Epoch 238/1000\n",
      "3613/3613 [==============================] - 0s 54us/step - loss: 587.6095\n",
      "Epoch 239/1000\n",
      "3613/3613 [==============================] - 0s 50us/step - loss: 587.8838\n",
      "Epoch 240/1000\n",
      "3613/3613 [==============================] - 0s 52us/step - loss: 587.7310\n",
      "Epoch 241/1000\n",
      "3613/3613 [==============================] - 0s 54us/step - loss: 587.6381\n",
      "Epoch 242/1000\n",
      "3613/3613 [==============================] - 0s 50us/step - loss: 587.6126\n",
      "Epoch 243/1000\n",
      "3613/3613 [==============================] - 0s 51us/step - loss: 587.6097\n",
      "Epoch 244/1000\n",
      "3613/3613 [==============================] - 0s 54us/step - loss: 587.8774\n",
      "Epoch 245/1000\n",
      "3613/3613 [==============================] - 0s 49us/step - loss: 587.4010\n",
      "Epoch 246/1000\n",
      "3613/3613 [==============================] - 0s 67us/step - loss: 587.6145\n",
      "Epoch 247/1000\n",
      "3613/3613 [==============================] - 0s 68us/step - loss: 587.5791\n",
      "Epoch 248/1000\n",
      "3613/3613 [==============================] - 0s 55us/step - loss: 587.5237\n",
      "Epoch 249/1000\n",
      "3613/3613 [==============================] - 0s 59us/step - loss: 587.7654\n",
      "Epoch 250/1000\n",
      "3613/3613 [==============================] - 0s 60us/step - loss: 587.5624\n",
      "Epoch 251/1000\n",
      "3613/3613 [==============================] - 0s 74us/step - loss: 587.6344\n",
      "Epoch 252/1000\n",
      "3613/3613 [==============================] - 0s 51us/step - loss: 587.6615\n",
      "Epoch 253/1000\n",
      "3613/3613 [==============================] - 0s 51us/step - loss: 587.6520\n",
      "Epoch 254/1000\n",
      "3613/3613 [==============================] - 0s 56us/step - loss: 587.6747\n",
      "Epoch 255/1000\n",
      "3613/3613 [==============================] - ETA: 0s - loss: 585.092 - 0s 54us/step - loss: 587.7380\n",
      "Epoch 256/1000\n",
      "3613/3613 [==============================] - 0s 53us/step - loss: 587.7553\n",
      "Epoch 257/1000\n",
      "3613/3613 [==============================] - 0s 76us/step - loss: 587.6774\n",
      "Epoch 258/1000\n",
      "3613/3613 [==============================] - 0s 51us/step - loss: 587.7337\n",
      "Epoch 259/1000\n",
      "3613/3613 [==============================] - 0s 54us/step - loss: 587.6604\n",
      "Epoch 260/1000\n",
      "3613/3613 [==============================] - 0s 85us/step - loss: 587.6697\n",
      "Epoch 261/1000\n",
      "3613/3613 [==============================] - 0s 69us/step - loss: 587.6867\n",
      "Epoch 262/1000\n",
      "3613/3613 [==============================] - 0s 49us/step - loss: 587.6656\n",
      "Epoch 263/1000\n",
      "3613/3613 [==============================] - 0s 62us/step - loss: 587.7539\n",
      "Epoch 264/1000\n",
      "3613/3613 [==============================] - 0s 57us/step - loss: 587.6603\n",
      "Epoch 265/1000\n",
      "3613/3613 [==============================] - 0s 53us/step - loss: 587.7545\n",
      "Epoch 266/1000\n",
      "3613/3613 [==============================] - 0s 53us/step - loss: 587.6652\n",
      "Epoch 267/1000\n",
      "3613/3613 [==============================] - 0s 52us/step - loss: 587.7477\n",
      "Epoch 268/1000\n",
      "3613/3613 [==============================] - 0s 52us/step - loss: 587.5562\n",
      "Epoch 269/1000\n",
      "3613/3613 [==============================] - 0s 62us/step - loss: 587.7107\n",
      "Epoch 270/1000\n",
      "3613/3613 [==============================] - 0s 66us/step - loss: 587.5940\n",
      "Epoch 271/1000\n",
      "3613/3613 [==============================] - 0s 51us/step - loss: 587.4924\n",
      "Epoch 272/1000\n",
      "3613/3613 [==============================] - 0s 49us/step - loss: 587.7722\n",
      "Epoch 273/1000\n"
     ]
    },
    {
     "name": "stdout",
     "output_type": "stream",
     "text": [
      "3613/3613 [==============================] - 0s 54us/step - loss: 587.7684\n",
      "Epoch 274/1000\n",
      "3613/3613 [==============================] - 0s 54us/step - loss: 587.6508\n",
      "Epoch 275/1000\n",
      "3613/3613 [==============================] - 0s 52us/step - loss: 587.8069\n",
      "Epoch 276/1000\n",
      "3613/3613 [==============================] - 0s 53us/step - loss: 587.8299\n",
      "Epoch 277/1000\n",
      "3613/3613 [==============================] - 0s 51us/step - loss: 587.6164\n",
      "Epoch 278/1000\n",
      "3613/3613 [==============================] - 0s 53us/step - loss: 587.7334\n",
      "Epoch 279/1000\n",
      "3613/3613 [==============================] - 0s 50us/step - loss: 587.6502\n",
      "Epoch 280/1000\n",
      "3613/3613 [==============================] - 0s 73us/step - loss: 587.6324\n",
      "Epoch 281/1000\n",
      "3613/3613 [==============================] - 0s 109us/step - loss: 587.6824\n",
      "Epoch 282/1000\n",
      "3613/3613 [==============================] - 0s 108us/step - loss: 587.8319\n",
      "Epoch 283/1000\n",
      "3613/3613 [==============================] - 0s 94us/step - loss: 587.6872\n",
      "Epoch 284/1000\n",
      "3613/3613 [==============================] - 0s 60us/step - loss: 587.6904\n",
      "Epoch 285/1000\n",
      "3613/3613 [==============================] - 0s 64us/step - loss: 587.5978\n",
      "Epoch 286/1000\n",
      "3613/3613 [==============================] - 0s 77us/step - loss: 587.7083\n",
      "Epoch 287/1000\n",
      "3613/3613 [==============================] - 0s 97us/step - loss: 587.6451\n",
      "Epoch 288/1000\n",
      "3613/3613 [==============================] - 0s 84us/step - loss: 587.7221\n",
      "Epoch 289/1000\n",
      "3613/3613 [==============================] - 0s 88us/step - loss: 587.0298\n",
      "Epoch 290/1000\n",
      "3613/3613 [==============================] - 0s 68us/step - loss: 587.8218\n",
      "Epoch 291/1000\n",
      "3613/3613 [==============================] - 0s 69us/step - loss: 587.4288\n",
      "Epoch 292/1000\n",
      "3613/3613 [==============================] - 0s 69us/step - loss: 587.5505\n",
      "Epoch 293/1000\n",
      "3613/3613 [==============================] - 0s 75us/step - loss: 587.8233\n",
      "Epoch 294/1000\n",
      "3613/3613 [==============================] - 0s 69us/step - loss: 587.6288\n",
      "Epoch 295/1000\n",
      "3613/3613 [==============================] - 0s 76us/step - loss: 587.6194\n",
      "Epoch 296/1000\n",
      "3613/3613 [==============================] - 0s 64us/step - loss: 587.3246\n",
      "Epoch 297/1000\n",
      "3613/3613 [==============================] - 0s 68us/step - loss: 587.7627\n",
      "Epoch 298/1000\n",
      "3613/3613 [==============================] - 0s 83us/step - loss: 587.8609\n",
      "Epoch 299/1000\n",
      "2900/3613 [=======================>......] - ETA: 0s - loss: 597.4907"
     ]
    },
    {
     "ename": "KeyboardInterrupt",
     "evalue": "",
     "output_type": "error",
     "traceback": [
      "\u001b[0;31m---------------------------------------------------------------------------\u001b[0m",
      "\u001b[0;31mKeyboardInterrupt\u001b[0m                         Traceback (most recent call last)",
      "\u001b[0;32m<ipython-input-45-9e09bcc555d2>\u001b[0m in \u001b[0;36m<module>\u001b[0;34m()\u001b[0m\n\u001b[1;32m     12\u001b[0m     \u001b[0;32mreturn\u001b[0m \u001b[0mK\u001b[0m\u001b[0;34m.\u001b[0m\u001b[0msqrt\u001b[0m\u001b[0;34m(\u001b[0m\u001b[0mK\u001b[0m\u001b[0;34m.\u001b[0m\u001b[0msum\u001b[0m\u001b[0;34m(\u001b[0m\u001b[0mK\u001b[0m\u001b[0;34m.\u001b[0m\u001b[0msquare\u001b[0m\u001b[0;34m(\u001b[0m\u001b[0;34m(\u001b[0m\u001b[0my_pred\u001b[0m \u001b[0;34m-\u001b[0m \u001b[0my_true\u001b[0m\u001b[0;34m)\u001b[0m \u001b[0;34m/\u001b[0m \u001b[0my_true\u001b[0m\u001b[0;34m)\u001b[0m\u001b[0;34m,\u001b[0m\u001b[0maxis\u001b[0m \u001b[0;34m=\u001b[0m \u001b[0;34m-\u001b[0m\u001b[0;36m1\u001b[0m\u001b[0;34m)\u001b[0m\u001b[0;34m)\u001b[0m\u001b[0;34m\u001b[0m\u001b[0m\n\u001b[1;32m     13\u001b[0m \u001b[0mmodel\u001b[0m\u001b[0;34m.\u001b[0m\u001b[0mcompile\u001b[0m\u001b[0;34m(\u001b[0m\u001b[0mloss\u001b[0m\u001b[0;34m=\u001b[0m\u001b[0;34m'mean_squared_error'\u001b[0m\u001b[0;34m,\u001b[0m \u001b[0moptimizer\u001b[0m\u001b[0;34m=\u001b[0m\u001b[0;34m'sgd'\u001b[0m\u001b[0;34m)\u001b[0m \u001b[0;31m#编译模型\u001b[0m\u001b[0;34m\u001b[0m\u001b[0m\n\u001b[0;32m---> 14\u001b[0;31m \u001b[0mmodel\u001b[0m\u001b[0;34m.\u001b[0m\u001b[0mfit\u001b[0m\u001b[0;34m(\u001b[0m\u001b[0mX_train\u001b[0m\u001b[0;34m,\u001b[0m \u001b[0my_train\u001b[0m\u001b[0;34m,\u001b[0m \u001b[0mnb_epoch\u001b[0m \u001b[0;34m=\u001b[0m \u001b[0;36m1000\u001b[0m\u001b[0;34m,\u001b[0m \u001b[0mbatch_size\u001b[0m \u001b[0;34m=\u001b[0m \u001b[0;36m20\u001b[0m\u001b[0;34m)\u001b[0m \u001b[0;31m#训练模型1000次\u001b[0m\u001b[0;34m\u001b[0m\u001b[0m\n\u001b[0m",
      "\u001b[0;32m~/miniconda3/envs/test/lib/python3.6/site-packages/keras/models.py\u001b[0m in \u001b[0;36mfit\u001b[0;34m(self, x, y, batch_size, epochs, verbose, callbacks, validation_split, validation_data, shuffle, class_weight, sample_weight, initial_epoch, steps_per_epoch, validation_steps, **kwargs)\u001b[0m\n\u001b[1;32m    958\u001b[0m                               \u001b[0minitial_epoch\u001b[0m\u001b[0;34m=\u001b[0m\u001b[0minitial_epoch\u001b[0m\u001b[0;34m,\u001b[0m\u001b[0;34m\u001b[0m\u001b[0m\n\u001b[1;32m    959\u001b[0m                               \u001b[0msteps_per_epoch\u001b[0m\u001b[0;34m=\u001b[0m\u001b[0msteps_per_epoch\u001b[0m\u001b[0;34m,\u001b[0m\u001b[0;34m\u001b[0m\u001b[0m\n\u001b[0;32m--> 960\u001b[0;31m                               validation_steps=validation_steps)\n\u001b[0m\u001b[1;32m    961\u001b[0m \u001b[0;34m\u001b[0m\u001b[0m\n\u001b[1;32m    962\u001b[0m     def evaluate(self, x, y, batch_size=32, verbose=1,\n",
      "\u001b[0;32m~/miniconda3/envs/test/lib/python3.6/site-packages/keras/engine/training.py\u001b[0m in \u001b[0;36mfit\u001b[0;34m(self, x, y, batch_size, epochs, verbose, callbacks, validation_split, validation_data, shuffle, class_weight, sample_weight, initial_epoch, steps_per_epoch, validation_steps, **kwargs)\u001b[0m\n\u001b[1;32m   1655\u001b[0m                               \u001b[0minitial_epoch\u001b[0m\u001b[0;34m=\u001b[0m\u001b[0minitial_epoch\u001b[0m\u001b[0;34m,\u001b[0m\u001b[0;34m\u001b[0m\u001b[0m\n\u001b[1;32m   1656\u001b[0m                               \u001b[0msteps_per_epoch\u001b[0m\u001b[0;34m=\u001b[0m\u001b[0msteps_per_epoch\u001b[0m\u001b[0;34m,\u001b[0m\u001b[0;34m\u001b[0m\u001b[0m\n\u001b[0;32m-> 1657\u001b[0;31m                               validation_steps=validation_steps)\n\u001b[0m\u001b[1;32m   1658\u001b[0m \u001b[0;34m\u001b[0m\u001b[0m\n\u001b[1;32m   1659\u001b[0m     def evaluate(self, x=None, y=None,\n",
      "\u001b[0;32m~/miniconda3/envs/test/lib/python3.6/site-packages/keras/engine/training.py\u001b[0m in \u001b[0;36m_fit_loop\u001b[0;34m(self, f, ins, out_labels, batch_size, epochs, verbose, callbacks, val_f, val_ins, shuffle, callback_metrics, initial_epoch, steps_per_epoch, validation_steps)\u001b[0m\n\u001b[1;32m   1211\u001b[0m                     \u001b[0mbatch_logs\u001b[0m\u001b[0;34m[\u001b[0m\u001b[0;34m'size'\u001b[0m\u001b[0;34m]\u001b[0m \u001b[0;34m=\u001b[0m \u001b[0mlen\u001b[0m\u001b[0;34m(\u001b[0m\u001b[0mbatch_ids\u001b[0m\u001b[0;34m)\u001b[0m\u001b[0;34m\u001b[0m\u001b[0m\n\u001b[1;32m   1212\u001b[0m                     \u001b[0mcallbacks\u001b[0m\u001b[0;34m.\u001b[0m\u001b[0mon_batch_begin\u001b[0m\u001b[0;34m(\u001b[0m\u001b[0mbatch_index\u001b[0m\u001b[0;34m,\u001b[0m \u001b[0mbatch_logs\u001b[0m\u001b[0;34m)\u001b[0m\u001b[0;34m\u001b[0m\u001b[0m\n\u001b[0;32m-> 1213\u001b[0;31m                     \u001b[0mouts\u001b[0m \u001b[0;34m=\u001b[0m \u001b[0mf\u001b[0m\u001b[0;34m(\u001b[0m\u001b[0mins_batch\u001b[0m\u001b[0;34m)\u001b[0m\u001b[0;34m\u001b[0m\u001b[0m\n\u001b[0m\u001b[1;32m   1214\u001b[0m                     \u001b[0;32mif\u001b[0m \u001b[0;32mnot\u001b[0m \u001b[0misinstance\u001b[0m\u001b[0;34m(\u001b[0m\u001b[0mouts\u001b[0m\u001b[0;34m,\u001b[0m \u001b[0mlist\u001b[0m\u001b[0;34m)\u001b[0m\u001b[0;34m:\u001b[0m\u001b[0;34m\u001b[0m\u001b[0m\n\u001b[1;32m   1215\u001b[0m                         \u001b[0mouts\u001b[0m \u001b[0;34m=\u001b[0m \u001b[0;34m[\u001b[0m\u001b[0mouts\u001b[0m\u001b[0;34m]\u001b[0m\u001b[0;34m\u001b[0m\u001b[0m\n",
      "\u001b[0;32m~/miniconda3/envs/test/lib/python3.6/site-packages/keras/backend/tensorflow_backend.py\u001b[0m in \u001b[0;36m__call__\u001b[0;34m(self, inputs)\u001b[0m\n\u001b[1;32m   2355\u001b[0m         \u001b[0msession\u001b[0m \u001b[0;34m=\u001b[0m \u001b[0mget_session\u001b[0m\u001b[0;34m(\u001b[0m\u001b[0;34m)\u001b[0m\u001b[0;34m\u001b[0m\u001b[0m\n\u001b[1;32m   2356\u001b[0m         updated = session.run(fetches=fetches, feed_dict=feed_dict,\n\u001b[0;32m-> 2357\u001b[0;31m                               **self.session_kwargs)\n\u001b[0m\u001b[1;32m   2358\u001b[0m         \u001b[0;32mreturn\u001b[0m \u001b[0mupdated\u001b[0m\u001b[0;34m[\u001b[0m\u001b[0;34m:\u001b[0m\u001b[0mlen\u001b[0m\u001b[0;34m(\u001b[0m\u001b[0mself\u001b[0m\u001b[0;34m.\u001b[0m\u001b[0moutputs\u001b[0m\u001b[0;34m)\u001b[0m\u001b[0;34m]\u001b[0m\u001b[0;34m\u001b[0m\u001b[0m\n\u001b[1;32m   2359\u001b[0m \u001b[0;34m\u001b[0m\u001b[0m\n",
      "\u001b[0;32m~/miniconda3/envs/test/lib/python3.6/site-packages/tensorflow/python/client/session.py\u001b[0m in \u001b[0;36mrun\u001b[0;34m(self, fetches, feed_dict, options, run_metadata)\u001b[0m\n\u001b[1;32m    887\u001b[0m     \u001b[0;32mtry\u001b[0m\u001b[0;34m:\u001b[0m\u001b[0;34m\u001b[0m\u001b[0m\n\u001b[1;32m    888\u001b[0m       result = self._run(None, fetches, feed_dict, options_ptr,\n\u001b[0;32m--> 889\u001b[0;31m                          run_metadata_ptr)\n\u001b[0m\u001b[1;32m    890\u001b[0m       \u001b[0;32mif\u001b[0m \u001b[0mrun_metadata\u001b[0m\u001b[0;34m:\u001b[0m\u001b[0;34m\u001b[0m\u001b[0m\n\u001b[1;32m    891\u001b[0m         \u001b[0mproto_data\u001b[0m \u001b[0;34m=\u001b[0m \u001b[0mtf_session\u001b[0m\u001b[0;34m.\u001b[0m\u001b[0mTF_GetBuffer\u001b[0m\u001b[0;34m(\u001b[0m\u001b[0mrun_metadata_ptr\u001b[0m\u001b[0;34m)\u001b[0m\u001b[0;34m\u001b[0m\u001b[0m\n",
      "\u001b[0;32m~/miniconda3/envs/test/lib/python3.6/site-packages/tensorflow/python/client/session.py\u001b[0m in \u001b[0;36m_run\u001b[0;34m(self, handle, fetches, feed_dict, options, run_metadata)\u001b[0m\n\u001b[1;32m   1118\u001b[0m     \u001b[0;32mif\u001b[0m \u001b[0mfinal_fetches\u001b[0m \u001b[0;32mor\u001b[0m \u001b[0mfinal_targets\u001b[0m \u001b[0;32mor\u001b[0m \u001b[0;34m(\u001b[0m\u001b[0mhandle\u001b[0m \u001b[0;32mand\u001b[0m \u001b[0mfeed_dict_tensor\u001b[0m\u001b[0;34m)\u001b[0m\u001b[0;34m:\u001b[0m\u001b[0;34m\u001b[0m\u001b[0m\n\u001b[1;32m   1119\u001b[0m       results = self._do_run(handle, final_targets, final_fetches,\n\u001b[0;32m-> 1120\u001b[0;31m                              feed_dict_tensor, options, run_metadata)\n\u001b[0m\u001b[1;32m   1121\u001b[0m     \u001b[0;32melse\u001b[0m\u001b[0;34m:\u001b[0m\u001b[0;34m\u001b[0m\u001b[0m\n\u001b[1;32m   1122\u001b[0m       \u001b[0mresults\u001b[0m \u001b[0;34m=\u001b[0m \u001b[0;34m[\u001b[0m\u001b[0;34m]\u001b[0m\u001b[0;34m\u001b[0m\u001b[0m\n",
      "\u001b[0;32m~/miniconda3/envs/test/lib/python3.6/site-packages/tensorflow/python/client/session.py\u001b[0m in \u001b[0;36m_do_run\u001b[0;34m(self, handle, target_list, fetch_list, feed_dict, options, run_metadata)\u001b[0m\n\u001b[1;32m   1315\u001b[0m     \u001b[0;32mif\u001b[0m \u001b[0mhandle\u001b[0m \u001b[0;32mis\u001b[0m \u001b[0;32mNone\u001b[0m\u001b[0;34m:\u001b[0m\u001b[0;34m\u001b[0m\u001b[0m\n\u001b[1;32m   1316\u001b[0m       return self._do_call(_run_fn, self._session, feeds, fetches, targets,\n\u001b[0;32m-> 1317\u001b[0;31m                            options, run_metadata)\n\u001b[0m\u001b[1;32m   1318\u001b[0m     \u001b[0;32melse\u001b[0m\u001b[0;34m:\u001b[0m\u001b[0;34m\u001b[0m\u001b[0m\n\u001b[1;32m   1319\u001b[0m       \u001b[0;32mreturn\u001b[0m \u001b[0mself\u001b[0m\u001b[0;34m.\u001b[0m\u001b[0m_do_call\u001b[0m\u001b[0;34m(\u001b[0m\u001b[0m_prun_fn\u001b[0m\u001b[0;34m,\u001b[0m \u001b[0mself\u001b[0m\u001b[0;34m.\u001b[0m\u001b[0m_session\u001b[0m\u001b[0;34m,\u001b[0m \u001b[0mhandle\u001b[0m\u001b[0;34m,\u001b[0m \u001b[0mfeeds\u001b[0m\u001b[0;34m,\u001b[0m \u001b[0mfetches\u001b[0m\u001b[0;34m)\u001b[0m\u001b[0;34m\u001b[0m\u001b[0m\n",
      "\u001b[0;32m~/miniconda3/envs/test/lib/python3.6/site-packages/tensorflow/python/client/session.py\u001b[0m in \u001b[0;36m_do_call\u001b[0;34m(self, fn, *args)\u001b[0m\n\u001b[1;32m   1321\u001b[0m   \u001b[0;32mdef\u001b[0m \u001b[0m_do_call\u001b[0m\u001b[0;34m(\u001b[0m\u001b[0mself\u001b[0m\u001b[0;34m,\u001b[0m \u001b[0mfn\u001b[0m\u001b[0;34m,\u001b[0m \u001b[0;34m*\u001b[0m\u001b[0margs\u001b[0m\u001b[0;34m)\u001b[0m\u001b[0;34m:\u001b[0m\u001b[0;34m\u001b[0m\u001b[0m\n\u001b[1;32m   1322\u001b[0m     \u001b[0;32mtry\u001b[0m\u001b[0;34m:\u001b[0m\u001b[0;34m\u001b[0m\u001b[0m\n\u001b[0;32m-> 1323\u001b[0;31m       \u001b[0;32mreturn\u001b[0m \u001b[0mfn\u001b[0m\u001b[0;34m(\u001b[0m\u001b[0;34m*\u001b[0m\u001b[0margs\u001b[0m\u001b[0;34m)\u001b[0m\u001b[0;34m\u001b[0m\u001b[0m\n\u001b[0m\u001b[1;32m   1324\u001b[0m     \u001b[0;32mexcept\u001b[0m \u001b[0merrors\u001b[0m\u001b[0;34m.\u001b[0m\u001b[0mOpError\u001b[0m \u001b[0;32mas\u001b[0m \u001b[0me\u001b[0m\u001b[0;34m:\u001b[0m\u001b[0;34m\u001b[0m\u001b[0m\n\u001b[1;32m   1325\u001b[0m       \u001b[0mmessage\u001b[0m \u001b[0;34m=\u001b[0m \u001b[0mcompat\u001b[0m\u001b[0;34m.\u001b[0m\u001b[0mas_text\u001b[0m\u001b[0;34m(\u001b[0m\u001b[0me\u001b[0m\u001b[0;34m.\u001b[0m\u001b[0mmessage\u001b[0m\u001b[0;34m)\u001b[0m\u001b[0;34m\u001b[0m\u001b[0m\n",
      "\u001b[0;32m~/miniconda3/envs/test/lib/python3.6/site-packages/tensorflow/python/client/session.py\u001b[0m in \u001b[0;36m_run_fn\u001b[0;34m(session, feed_dict, fetch_list, target_list, options, run_metadata)\u001b[0m\n\u001b[1;32m   1300\u001b[0m           return tf_session.TF_Run(session, options,\n\u001b[1;32m   1301\u001b[0m                                    \u001b[0mfeed_dict\u001b[0m\u001b[0;34m,\u001b[0m \u001b[0mfetch_list\u001b[0m\u001b[0;34m,\u001b[0m \u001b[0mtarget_list\u001b[0m\u001b[0;34m,\u001b[0m\u001b[0;34m\u001b[0m\u001b[0m\n\u001b[0;32m-> 1302\u001b[0;31m                                    status, run_metadata)\n\u001b[0m\u001b[1;32m   1303\u001b[0m \u001b[0;34m\u001b[0m\u001b[0m\n\u001b[1;32m   1304\u001b[0m     \u001b[0;32mdef\u001b[0m \u001b[0m_prun_fn\u001b[0m\u001b[0;34m(\u001b[0m\u001b[0msession\u001b[0m\u001b[0;34m,\u001b[0m \u001b[0mhandle\u001b[0m\u001b[0;34m,\u001b[0m \u001b[0mfeed_dict\u001b[0m\u001b[0;34m,\u001b[0m \u001b[0mfetch_list\u001b[0m\u001b[0;34m)\u001b[0m\u001b[0;34m:\u001b[0m\u001b[0;34m\u001b[0m\u001b[0m\n",
      "\u001b[0;31mKeyboardInterrupt\u001b[0m: "
     ]
    }
   ],
   "source": [
    "from keras.models import Sequential\n",
    "from keras.layers.core import Dense, Activation\n",
    "from keras import regularizers\n",
    "model = Sequential()  #层次模型\n",
    "model.add(Dense(24,input_dim=12,init='uniform'))\n",
    "model.add(Activation('relu'))  #添加激活函数\n",
    "model.add(Dense(1,input_dim=24))  #输出层\n",
    "\n",
    "# 自定义loss函数\n",
    "from keras import backend as K\n",
    "def my_loss(y_true,y_pred):\n",
    "    return K.sqrt(K.sum(K.square((y_pred - y_true) / y_true),axis = -1))\n",
    "model.compile(loss='mean_squared_error', optimizer='sgd') #编译模型\n",
    "model.fit(X_train, y_train, nb_epoch = 1000, batch_size = 20) #训练模型1000次"
   ]
  },
  {
   "cell_type": "code",
   "execution_count": null,
   "metadata": {
    "collapsed": true
   },
   "outputs": [],
   "source": [
    "y_pred = model.predict(X)\n",
    "data_proced['bpr'] = y_pred"
   ]
  },
  {
   "cell_type": "code",
   "execution_count": null,
   "metadata": {
    "collapsed": true
   },
   "outputs": [],
   "source": [
    "data_proced.to_csv('data_pre_3_%d.csv' % i, index = False)"
   ]
  },
  {
   "cell_type": "code",
   "execution_count": null,
   "metadata": {
    "collapsed": true
   },
   "outputs": [],
   "source": []
  }
 ],
 "metadata": {
  "kernelspec": {
   "display_name": "Python 3",
   "language": "python",
   "name": "python3"
  },
  "language_info": {
   "codemirror_mode": {
    "name": "ipython",
    "version": 3
   },
   "file_extension": ".py",
   "mimetype": "text/x-python",
   "name": "python",
   "nbconvert_exporter": "python",
   "pygments_lexer": "ipython3",
   "version": "3.6.2"
  },
  "toc": {
   "base_numbering": 1,
   "nav_menu": {},
   "number_sections": true,
   "sideBar": true,
   "skip_h1_title": false,
   "title_cell": "Table of Contents",
   "title_sidebar": "Contents",
   "toc_cell": false,
   "toc_position": {},
   "toc_section_display": true,
   "toc_window_display": false
  },
  "varInspector": {
   "cols": {
    "lenName": 16,
    "lenType": 16,
    "lenVar": 40
   },
   "kernels_config": {
    "python": {
     "delete_cmd_postfix": "",
     "delete_cmd_prefix": "del ",
     "library": "var_list.py",
     "varRefreshCmd": "print(var_dic_list())"
    },
    "r": {
     "delete_cmd_postfix": ") ",
     "delete_cmd_prefix": "rm(",
     "library": "var_list.r",
     "varRefreshCmd": "cat(var_dic_list()) "
    }
   },
   "types_to_exclude": [
    "module",
    "function",
    "builtin_function_or_method",
    "instance",
    "_Feature"
   ],
   "window_display": false
  }
 },
 "nbformat": 4,
 "nbformat_minor": 2
}
