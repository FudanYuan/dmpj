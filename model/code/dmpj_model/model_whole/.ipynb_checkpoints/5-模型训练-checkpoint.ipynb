{
 "cells": [
  {
   "cell_type": "markdown",
   "metadata": {},
   "source": [
    "## 新能源电动汽车动力电池充电能量预测（五）——模型训练"
   ]
  },
  {
   "cell_type": "code",
   "execution_count": 1,
   "metadata": {},
   "outputs": [],
   "source": [
    "import pandas as pd\n",
    "import matplotlib.pyplot as plt\n",
    "import seaborn as sns\n",
    "%matplotlib inline\n",
    "import numpy as np\n",
    "from datetime import date, datetime\n",
    "from package import utils\n",
    "import time"
   ]
  },
  {
   "cell_type": "markdown",
   "metadata": {},
   "source": [
    "### 导入数据"
   ]
  },
  {
   "cell_type": "code",
   "execution_count": 2,
   "metadata": {},
   "outputs": [
    {
     "data": {
      "text/html": [
       "<div>\n",
       "<style scoped>\n",
       "    .dataframe tbody tr th:only-of-type {\n",
       "        vertical-align: middle;\n",
       "    }\n",
       "\n",
       "    .dataframe tbody tr th {\n",
       "        vertical-align: top;\n",
       "    }\n",
       "\n",
       "    .dataframe thead th {\n",
       "        text-align: right;\n",
       "    }\n",
       "</style>\n",
       "<table border=\"1\" class=\"dataframe\">\n",
       "  <thead>\n",
       "    <tr style=\"text-align: right;\">\n",
       "      <th></th>\n",
       "      <th>vehicle_id</th>\n",
       "      <th>charge_start_time</th>\n",
       "      <th>charge_end_time</th>\n",
       "      <th>charge_duration</th>\n",
       "      <th>mileage</th>\n",
       "      <th>delta_mileage</th>\n",
       "      <th>charge_start_soc</th>\n",
       "      <th>charge_end_soc</th>\n",
       "      <th>charge_delta_soc</th>\n",
       "      <th>charge_start_U</th>\n",
       "      <th>charge_end_U</th>\n",
       "      <th>charge_start_I</th>\n",
       "      <th>charge_end_I</th>\n",
       "      <th>charge_max_temp</th>\n",
       "      <th>charge_min_temp</th>\n",
       "      <th>charge_delta_temp</th>\n",
       "      <th>charge_energy</th>\n",
       "    </tr>\n",
       "  </thead>\n",
       "  <tbody>\n",
       "    <tr>\n",
       "      <th>count</th>\n",
       "      <td>5990.00</td>\n",
       "      <td>5.99e+03</td>\n",
       "      <td>5.99e+03</td>\n",
       "      <td>5990.00</td>\n",
       "      <td>5990.00</td>\n",
       "      <td>5990.00</td>\n",
       "      <td>5990.00</td>\n",
       "      <td>5990.00</td>\n",
       "      <td>5990.00</td>\n",
       "      <td>5990.00</td>\n",
       "      <td>5980.00</td>\n",
       "      <td>5990.00</td>\n",
       "      <td>5980.00</td>\n",
       "      <td>5990.00</td>\n",
       "      <td>5990.00</td>\n",
       "      <td>5990.00</td>\n",
       "      <td>5990.00</td>\n",
       "    </tr>\n",
       "    <tr>\n",
       "      <th>mean</th>\n",
       "      <td>11.37</td>\n",
       "      <td>2.02e+13</td>\n",
       "      <td>2.02e+13</td>\n",
       "      <td>7178.32</td>\n",
       "      <td>103588.11</td>\n",
       "      <td>102.27</td>\n",
       "      <td>35.57</td>\n",
       "      <td>76.56</td>\n",
       "      <td>40.99</td>\n",
       "      <td>405.94</td>\n",
       "      <td>436.13</td>\n",
       "      <td>-43.74</td>\n",
       "      <td>-22.32</td>\n",
       "      <td>27.19</td>\n",
       "      <td>15.18</td>\n",
       "      <td>12.04</td>\n",
       "      <td>25.94</td>\n",
       "    </tr>\n",
       "    <tr>\n",
       "      <th>std</th>\n",
       "      <td>6.45</td>\n",
       "      <td>4.00e+09</td>\n",
       "      <td>4.00e+09</td>\n",
       "      <td>8366.48</td>\n",
       "      <td>30819.13</td>\n",
       "      <td>64.72</td>\n",
       "      <td>19.37</td>\n",
       "      <td>26.82</td>\n",
       "      <td>22.35</td>\n",
       "      <td>91.53</td>\n",
       "      <td>87.88</td>\n",
       "      <td>48.22</td>\n",
       "      <td>35.36</td>\n",
       "      <td>10.62</td>\n",
       "      <td>11.55</td>\n",
       "      <td>9.95</td>\n",
       "      <td>21.24</td>\n",
       "    </tr>\n",
       "    <tr>\n",
       "      <th>min</th>\n",
       "      <td>1.00</td>\n",
       "      <td>2.02e+13</td>\n",
       "      <td>2.02e+13</td>\n",
       "      <td>600.00</td>\n",
       "      <td>45631.70</td>\n",
       "      <td>0.00</td>\n",
       "      <td>0.00</td>\n",
       "      <td>4.80</td>\n",
       "      <td>0.00</td>\n",
       "      <td>252.30</td>\n",
       "      <td>0.00</td>\n",
       "      <td>-202.00</td>\n",
       "      <td>-400.00</td>\n",
       "      <td>-2.00</td>\n",
       "      <td>-7.00</td>\n",
       "      <td>0.00</td>\n",
       "      <td>0.22</td>\n",
       "    </tr>\n",
       "    <tr>\n",
       "      <th>25%</th>\n",
       "      <td>5.00</td>\n",
       "      <td>2.02e+13</td>\n",
       "      <td>2.02e+13</td>\n",
       "      <td>2168.25</td>\n",
       "      <td>78704.15</td>\n",
       "      <td>63.10</td>\n",
       "      <td>20.80</td>\n",
       "      <td>55.25</td>\n",
       "      <td>22.40</td>\n",
       "      <td>340.40</td>\n",
       "      <td>374.60</td>\n",
       "      <td>-59.80</td>\n",
       "      <td>-20.40</td>\n",
       "      <td>18.00</td>\n",
       "      <td>5.00</td>\n",
       "      <td>6.00</td>\n",
       "      <td>12.64</td>\n",
       "    </tr>\n",
       "    <tr>\n",
       "      <th>50%</th>\n",
       "      <td>11.00</td>\n",
       "      <td>2.02e+13</td>\n",
       "      <td>2.02e+13</td>\n",
       "      <td>3861.00</td>\n",
       "      <td>97276.05</td>\n",
       "      <td>93.25</td>\n",
       "      <td>34.00</td>\n",
       "      <td>87.00</td>\n",
       "      <td>40.00</td>\n",
       "      <td>361.50</td>\n",
       "      <td>391.60</td>\n",
       "      <td>-24.00</td>\n",
       "      <td>-9.30</td>\n",
       "      <td>30.00</td>\n",
       "      <td>14.00</td>\n",
       "      <td>9.00</td>\n",
       "      <td>19.61</td>\n",
       "    </tr>\n",
       "    <tr>\n",
       "      <th>75%</th>\n",
       "      <td>17.00</td>\n",
       "      <td>2.02e+13</td>\n",
       "      <td>2.02e+13</td>\n",
       "      <td>6429.00</td>\n",
       "      <td>122780.75</td>\n",
       "      <td>132.78</td>\n",
       "      <td>47.00</td>\n",
       "      <td>100.00</td>\n",
       "      <td>61.00</td>\n",
       "      <td>533.70</td>\n",
       "      <td>551.70</td>\n",
       "      <td>-9.00</td>\n",
       "      <td>-5.00</td>\n",
       "      <td>35.00</td>\n",
       "      <td>25.00</td>\n",
       "      <td>12.00</td>\n",
       "      <td>29.56</td>\n",
       "    </tr>\n",
       "    <tr>\n",
       "      <th>max</th>\n",
       "      <td>21.00</td>\n",
       "      <td>2.02e+13</td>\n",
       "      <td>2.02e+13</td>\n",
       "      <td>59960.00</td>\n",
       "      <td>182536.00</td>\n",
       "      <td>490.00</td>\n",
       "      <td>96.00</td>\n",
       "      <td>110.49</td>\n",
       "      <td>99.00</td>\n",
       "      <td>574.60</td>\n",
       "      <td>604.70</td>\n",
       "      <td>-0.10</td>\n",
       "      <td>8.00</td>\n",
       "      <td>52.00</td>\n",
       "      <td>46.00</td>\n",
       "      <td>51.00</td>\n",
       "      <td>103.72</td>\n",
       "    </tr>\n",
       "  </tbody>\n",
       "</table>\n",
       "</div>"
      ],
      "text/plain": [
       "       vehicle_id  charge_start_time  charge_end_time  charge_duration  \\\n",
       "count     5990.00           5.99e+03         5.99e+03          5990.00   \n",
       "mean        11.37           2.02e+13         2.02e+13          7178.32   \n",
       "std          6.45           4.00e+09         4.00e+09          8366.48   \n",
       "min          1.00           2.02e+13         2.02e+13           600.00   \n",
       "25%          5.00           2.02e+13         2.02e+13          2168.25   \n",
       "50%         11.00           2.02e+13         2.02e+13          3861.00   \n",
       "75%         17.00           2.02e+13         2.02e+13          6429.00   \n",
       "max         21.00           2.02e+13         2.02e+13         59960.00   \n",
       "\n",
       "         mileage  delta_mileage  charge_start_soc  charge_end_soc  \\\n",
       "count    5990.00        5990.00           5990.00         5990.00   \n",
       "mean   103588.11         102.27             35.57           76.56   \n",
       "std     30819.13          64.72             19.37           26.82   \n",
       "min     45631.70           0.00              0.00            4.80   \n",
       "25%     78704.15          63.10             20.80           55.25   \n",
       "50%     97276.05          93.25             34.00           87.00   \n",
       "75%    122780.75         132.78             47.00          100.00   \n",
       "max    182536.00         490.00             96.00          110.49   \n",
       "\n",
       "       charge_delta_soc  charge_start_U  charge_end_U  charge_start_I  \\\n",
       "count           5990.00         5990.00       5980.00         5990.00   \n",
       "mean              40.99          405.94        436.13          -43.74   \n",
       "std               22.35           91.53         87.88           48.22   \n",
       "min                0.00          252.30          0.00         -202.00   \n",
       "25%               22.40          340.40        374.60          -59.80   \n",
       "50%               40.00          361.50        391.60          -24.00   \n",
       "75%               61.00          533.70        551.70           -9.00   \n",
       "max               99.00          574.60        604.70           -0.10   \n",
       "\n",
       "       charge_end_I  charge_max_temp  charge_min_temp  charge_delta_temp  \\\n",
       "count       5980.00          5990.00          5990.00            5990.00   \n",
       "mean         -22.32            27.19            15.18              12.04   \n",
       "std           35.36            10.62            11.55               9.95   \n",
       "min         -400.00            -2.00            -7.00               0.00   \n",
       "25%          -20.40            18.00             5.00               6.00   \n",
       "50%           -9.30            30.00            14.00               9.00   \n",
       "75%           -5.00            35.00            25.00              12.00   \n",
       "max            8.00            52.00            46.00              51.00   \n",
       "\n",
       "       charge_energy  \n",
       "count        5990.00  \n",
       "mean           25.94  \n",
       "std            21.24  \n",
       "min             0.22  \n",
       "25%            12.64  \n",
       "50%            19.61  \n",
       "75%            29.56  \n",
       "max           103.72  "
      ]
     },
     "execution_count": 2,
     "metadata": {},
     "output_type": "execute_result"
    }
   ],
   "source": [
    "# 导入经过填充之后的数据集合\n",
    "dataset = pd.read_csv('./energy_predict_data/train_data_prehandle/4_fill_null/whole/filled_by_kmeans/predict_data_e_train.csv')\n",
    "# 数据字段\n",
    "header = dataset.columns.values.tolist()\n",
    "# 数据集大小\n",
    "count = np.max(dataset['vehicle_id'])\n",
    "# 数据描述\n",
    "pd.set_option('precision', 2)\n",
    "dataset.describe()"
   ]
  },
  {
   "cell_type": "code",
   "execution_count": 3,
   "metadata": {
    "scrolled": true
   },
   "outputs": [
    {
     "data": {
      "text/plain": [
       "vehicle_id            0\n",
       "charge_start_time     0\n",
       "charge_end_time       0\n",
       "charge_duration       0\n",
       "mileage               0\n",
       "delta_mileage         0\n",
       "charge_start_soc      0\n",
       "charge_end_soc        0\n",
       "charge_delta_soc      0\n",
       "charge_start_U        0\n",
       "charge_end_U         10\n",
       "charge_start_I        0\n",
       "charge_end_I         10\n",
       "charge_max_temp       0\n",
       "charge_min_temp       0\n",
       "charge_delta_temp     0\n",
       "charge_energy         0\n",
       "dtype: int64"
      ]
     },
     "execution_count": 3,
     "metadata": {},
     "output_type": "execute_result"
    }
   ],
   "source": [
    "dataset.isnull().sum()"
   ]
  },
  {
   "cell_type": "markdown",
   "metadata": {},
   "source": [
    "### 特征选取"
   ]
  },
  {
   "cell_type": "code",
   "execution_count": 4,
   "metadata": {},
   "outputs": [
    {
     "data": {
      "text/plain": [
       "(['charge_duration',\n",
       "  'delta_mileage',\n",
       "  'charge_start_soc',\n",
       "  'charge_delta_soc',\n",
       "  'charge_end_soc',\n",
       "  'charge_start_U',\n",
       "  'charge_start_I',\n",
       "  'charge_delta_temp'],\n",
       " 'charge_energy')"
      ]
     },
     "execution_count": 4,
     "metadata": {},
     "output_type": "execute_result"
    }
   ],
   "source": [
    "features = ['charge_duration', \n",
    "            'delta_mileage',\n",
    "            'charge_start_soc', \n",
    "            'charge_delta_soc', \n",
    "            'charge_end_soc',\n",
    "            'charge_start_U',\n",
    "            'charge_start_I',\n",
    "            'charge_delta_temp']\n",
    "label = header[16]\n",
    "features, label"
   ]
  },
  {
   "cell_type": "markdown",
   "metadata": {},
   "source": [
    "### 构造特征集合和输出集合"
   ]
  },
  {
   "cell_type": "code",
   "execution_count": 5,
   "metadata": {
    "collapsed": true
   },
   "outputs": [],
   "source": [
    "X = dataset[features]\n",
    "y = dataset[label]"
   ]
  },
  {
   "cell_type": "markdown",
   "metadata": {},
   "source": [
    "### 创建训练后的预测值数据集"
   ]
  },
  {
   "cell_type": "code",
   "execution_count": 6,
   "metadata": {
    "collapsed": true
   },
   "outputs": [],
   "source": [
    "type = 3\n",
    "data_proced = pd.DataFrame()\n",
    "data_proced['id'] = dataset.index\n",
    "data_proced['type'] = 3 # 使用填充值"
   ]
  },
  {
   "cell_type": "markdown",
   "metadata": {},
   "source": [
    "### 划分训练集和测试集"
   ]
  },
  {
   "cell_type": "code",
   "execution_count": 7,
   "metadata": {
    "collapsed": true
   },
   "outputs": [],
   "source": [
    "from sklearn.model_selection import train_test_split\n",
    "X_train, X_test, y_train, y_test = train_test_split(X, y, test_size=0.25, random_state=0)##训练集划分"
   ]
  },
  {
   "cell_type": "markdown",
   "metadata": {},
   "source": [
    "### 标准化"
   ]
  },
  {
   "cell_type": "code",
   "execution_count": 8,
   "metadata": {
    "collapsed": true
   },
   "outputs": [],
   "source": [
    "from sklearn import preprocessing\n",
    "scaler = preprocessing.MinMaxScaler()\n",
    "X_train = scaler.fit_transform(X_train.astype(np.float64))\n",
    "X_test = scaler.fit_transform(X_test.astype(np.float64))\n",
    "X = scaler.fit_transform(X.astype(np.float64))"
   ]
  },
  {
   "cell_type": "markdown",
   "metadata": {},
   "source": [
    "### 特征选择"
   ]
  },
  {
   "cell_type": "code",
   "execution_count": 9,
   "metadata": {
    "collapsed": true
   },
   "outputs": [],
   "source": [
    "#导入sklearn库中的VarianceThreshold\n",
    "from sklearn.feature_selection import VarianceThreshold\n",
    "#设置方差的阈值为0.08\n",
    "sel = VarianceThreshold(threshold=0.08)\n",
    "#选择方差大于0.08的特征\n",
    "X_sel = sel.fit_transform(X_train.astype(np.float64))"
   ]
  },
  {
   "cell_type": "markdown",
   "metadata": {
    "collapsed": true
   },
   "source": [
    "### 训练模型"
   ]
  },
  {
   "cell_type": "markdown",
   "metadata": {},
   "source": [
    "#### 线性回归模型（lr）"
   ]
  },
  {
   "cell_type": "code",
   "execution_count": 10,
   "metadata": {},
   "outputs": [
    {
     "name": "stdout",
     "output_type": "stream",
     "text": [
      "Running time: 0.0843370000000001 Seconds\n",
      "MSE: 54.4312272789\n",
      "RMSE: 7.37775218335\n",
      "MAE: 5.31046833228\n",
      "ER: 0.536517718509\n",
      "RANK: 84.258287004\n"
     ]
    },
    {
     "data": {
      "image/png": "[encoded data removed]",
      "text/plain": [
       "<Figure size 432x288 with 1 Axes>"
      ]
     },
     "metadata": {},
     "output_type": "display_data"
    }
   ],
   "source": [
    "from sklearn.linear_model import LinearRegression\n",
    "linreg = LinearRegression()\n",
    "# 训练\n",
    "#记录训练开始时间\n",
    "time_start=time.clock()\n",
    "linreg.fit(X_train, y_train)\n",
    "#记录训练结束时间\n",
    "time_end=time.clock()\n",
    "print('Running time: %s Seconds'%(time_end-time_start))\n",
    "\n",
    "# 预测\n",
    "# y_pred = linreg.predict(X) \n",
    "y_pred = linreg.predict(X_test)\n",
    "\n",
    "#评估\n",
    "utils.evaluate(y_test, y_pred)\n",
    "\n",
    "#可视化\n",
    "utils.visualize(y_test, y_pred)"
   ]
  },
  {
   "cell_type": "code",
   "execution_count": 11,
   "metadata": {
    "collapsed": true
   },
   "outputs": [],
   "source": [
    "# pred = linreg.predict(X)\n",
    "# data_proced['lr'] = y_pred"
   ]
  },
  {
   "cell_type": "markdown",
   "metadata": {},
   "source": [
    "#### 多项式回归模型（plr）"
   ]
  },
  {
   "cell_type": "code",
   "execution_count": 12,
   "metadata": {},
   "outputs": [
    {
     "name": "stdout",
     "output_type": "stream",
     "text": [
      "Running time: 0.07252899999999984 Seconds\n",
      "MSE: 9.73427766376e+15\n",
      "RMSE: 98662443.0255\n",
      "MAE: 90459465.6373\n",
      "ER: 11534841.0441\n",
      "RANK: 1338326909.24\n"
     ]
    },
    {
     "data": {
      "image/png": "[encoded data removed]",
      "text/plain": [
       "<Figure size 432x288 with 1 Axes>"
      ]
     },
     "metadata": {},
     "output_type": "display_data"
    }
   ],
   "source": [
    "from sklearn.preprocessing import PolynomialFeatures\n",
    "featurizer = PolynomialFeatures(degree=3)\n",
    "X_train_cubic = featurizer.fit_transform(X_train)\n",
    "linreg = LinearRegression()\n",
    "# 训练\n",
    "#记录训练开始时间\n",
    "time_start=time.clock()\n",
    "linreg.fit(X_train_cubic, y_train)\n",
    "#记录训练结束时间\n",
    "time_end=time.clock()\n",
    "print('Running time: %s Seconds'%(time_end-time_start))\n",
    "\n",
    "# 预测\n",
    "X_test_cubic = featurizer.transform(X_test)\n",
    "y_pred = linreg.predict(X_test_cubic)\n",
    "\n",
    "#评估\n",
    "utils.evaluate(y_test, y_pred)\n",
    "\n",
    "#可视化\n",
    "utils.visualize(y_test, y_pred)"
   ]
  },
  {
   "cell_type": "code",
   "execution_count": 13,
   "metadata": {
    "collapsed": true
   },
   "outputs": [],
   "source": [
    "# y_pred = linreg.predict(featurizer.fit_transform(X))\n",
    "# data_proced['plr'] = y_pred"
   ]
  },
  {
   "cell_type": "markdown",
   "metadata": {},
   "source": [
    "#### SVR_linear"
   ]
  },
  {
   "cell_type": "code",
   "execution_count": 14,
   "metadata": {},
   "outputs": [
    {
     "name": "stdout",
     "output_type": "stream",
     "text": [
      "Running time: 0.6397819999999999 Seconds\n",
      "MSE: 65.0967736923\n",
      "RMSE: 8.06825716573\n",
      "MAE: 4.90963141709\n",
      "ER: 0.35918870637\n",
      "RANK: 42.4192702316\n"
     ]
    },
    {
     "data": {
      "image/png": "[encoded data removed]",
      "text/plain": [
       "<Figure size 432x288 with 1 Axes>"
      ]
     },
     "metadata": {},
     "output_type": "display_data"
    }
   ],
   "source": [
    "import time\n",
    "from sklearn.svm import SVR\n",
    "l_svr=SVR(kernel='linear')\n",
    "# 训练\n",
    "#记录训练开始时间\n",
    "time_start=time.clock()\n",
    "l_svr.fit(X_train,y_train)\n",
    "#记录训练结束时间\n",
    "time_end=time.clock()\n",
    "print('Running time: %s Seconds'%(time_end-time_start))\n",
    "\n",
    "# 预测\n",
    "y_pred = l_svr.predict(X_test)\n",
    "\n",
    "#评估\n",
    "utils.evaluate(y_test, y_pred)\n",
    "\n",
    "#可视化\n",
    "utils.visualize(y_test, y_pred)"
   ]
  },
  {
   "cell_type": "code",
   "execution_count": 15,
   "metadata": {
    "collapsed": true
   },
   "outputs": [],
   "source": [
    "# y_pred = l_svr.predict(X)\n",
    "# data_proced['svr_lr'] = y_pred"
   ]
  },
  {
   "cell_type": "markdown",
   "metadata": {},
   "source": [
    "####  SVR_poly"
   ]
  },
  {
   "cell_type": "code",
   "execution_count": 16,
   "metadata": {},
   "outputs": [
    {
     "name": "stdout",
     "output_type": "stream",
     "text": [
      "Running time: 0.6519260000000004 Seconds\n",
      "MSE: 167.004648895\n",
      "RMSE: 12.9230278532\n",
      "MAE: 7.94880416335\n",
      "ER: 0.717586209449\n",
      "RANK: 87.3526597249\n"
     ]
    },
    {
     "data": {
      "image/png": "[encoded data removed]",
      "text/plain": [
       "<Figure size 432x288 with 1 Axes>"
      ]
     },
     "metadata": {},
     "output_type": "display_data"
    }
   ],
   "source": [
    "l_svr=SVR(kernel='poly')\n",
    "#记录训练开始时间\n",
    "time_start=time.clock()\n",
    "l_svr.fit(X_train,y_train)\n",
    "#记录训练结束时间\n",
    "time_end=time.clock()\n",
    "print('Running time: %s Seconds'%(time_end-time_start))\n",
    "\n",
    "#返回预测性能得分，值不超过1，值越大性能越好\n",
    "y_pred = l_svr.predict(X_test)\n",
    "\n",
    "#评估\n",
    "utils.evaluate(y_test, y_pred)\n",
    "\n",
    "#可视化\n",
    "utils.visualize(y_test, y_pred)"
   ]
  },
  {
   "cell_type": "code",
   "execution_count": 17,
   "metadata": {
    "collapsed": true
   },
   "outputs": [],
   "source": [
    "# y_pred = n_svr.predict(X)\n",
    "# data_proced['svr_plr'] = y_pred"
   ]
  },
  {
   "cell_type": "markdown",
   "metadata": {},
   "source": [
    "#### SVR_rbf"
   ]
  },
  {
   "cell_type": "code",
   "execution_count": 18,
   "metadata": {},
   "outputs": [
    {
     "name": "stdout",
     "output_type": "stream",
     "text": [
      "Running time: 0.8826640000000001 Seconds\n",
      "MSE: 66.9366674267\n",
      "RMSE: 8.18148320457\n",
      "MAE: 4.77145103997\n",
      "ER: 0.283537575589\n",
      "RANK: 28.1253000096\n"
     ]
    },
    {
     "data": {
      "image/png": "[encoded data removed]",
      "text/plain": [
       "<Figure size 432x288 with 1 Axes>"
      ]
     },
     "metadata": {},
     "output_type": "display_data"
    }
   ],
   "source": [
    "l_svr=SVR(kernel='rbf')\n",
    "#记录训练开始时间\n",
    "time_start=time.clock()\n",
    "l_svr.fit(X_train,y_train)\n",
    "#记录训练结束时间\n",
    "time_end=time.clock()\n",
    "print('Running time: %s Seconds'%(time_end-time_start))\n",
    "\n",
    "#返回预测性能得分，值不超过1，值越大性能越好\n",
    "y_pred = l_svr.predict(X_test)\n",
    "\n",
    "#评估模型\n",
    "utils.evaluate(y_test, y_pred)\n",
    "\n",
    "#可视化\n",
    "utils.visualize(y_test, y_pred)"
   ]
  },
  {
   "cell_type": "code",
   "execution_count": 19,
   "metadata": {
    "collapsed": true
   },
   "outputs": [],
   "source": [
    "# y_pred=l_svr.predict(X)\n",
    "# data_proced['svr_rbf'] = y_pred"
   ]
  },
  {
   "cell_type": "markdown",
   "metadata": {},
   "source": [
    "###  决策树回归（dtr）"
   ]
  },
  {
   "cell_type": "code",
   "execution_count": 20,
   "metadata": {},
   "outputs": [
    {
     "name": "stdout",
     "output_type": "stream",
     "text": [
      "Running time: 0.04349999999999987 Seconds\n",
      "MSE: 12.7592432353\n",
      "RMSE: 3.57200829161\n",
      "MAE: 1.86509008211\n",
      "ER: 0.105235779834\n",
      "RANK: 8.54385226349\n"
     ]
    },
    {
     "data": {
      "image/png": "[encoded data removed]",
      "text/plain": [
       "<Figure size 432x288 with 1 Axes>"
      ]
     },
     "metadata": {},
     "output_type": "display_data"
    }
   ],
   "source": [
    "import time\n",
    "from sklearn.tree import DecisionTreeRegressor\n",
    "dt = DecisionTreeRegressor()\n",
    "# 训练\n",
    "#记录训练开始时间\n",
    "time_start = time.clock()\n",
    "dt.fit(X_train,y_train)\n",
    "#记录训练结束时间\n",
    "time_end = time.clock()\n",
    "print('Running time: %s Seconds'%(time_end -time_start))\n",
    "\n",
    "# 预测\n",
    "y_pred = dt.predict(X_test)\n",
    "\n",
    "#评估\n",
    "utils.evaluate(y_test, y_pred)\n",
    "\n",
    "#可视化\n",
    "utils.visualize(y_test, y_pred)"
   ]
  },
  {
   "cell_type": "code",
   "execution_count": 21,
   "metadata": {
    "collapsed": true
   },
   "outputs": [],
   "source": [
    "# y_pred = dt.predict(X)\n",
    "# data_proced['dtr'] = y_pred"
   ]
  },
  {
   "cell_type": "markdown",
   "metadata": {},
   "source": [
    "### 极端森林（etr）"
   ]
  },
  {
   "cell_type": "code",
   "execution_count": 22,
   "metadata": {},
   "outputs": [
    {
     "name": "stdout",
     "output_type": "stream",
     "text": [
      "Running time: 0.09897299999999998 Seconds\n",
      "MSE: 6.0168057502\n",
      "RMSE: 2.45291780339\n",
      "MAE: 1.38221037248\n",
      "ER: 0.0785166792902\n",
      "RANK: 5.41302011798\n"
     ]
    },
    {
     "data": {
      "image/png": "[encoded data removed]",
      "text/plain": [
       "<Figure size 432x288 with 1 Axes>"
      ]
     },
     "metadata": {},
     "output_type": "display_data"
    }
   ],
   "source": [
    "import time\n",
    "from sklearn.ensemble import ExtraTreesRegressor\n",
    "etr = ExtraTreesRegressor()\n",
    "# 训练\n",
    "#记录训练开始时间\n",
    "time_start = time.clock()\n",
    "etr.fit(X_train,y_train)\n",
    "#记录训练结束时间\n",
    "time_end = time.clock()\n",
    "print('Running time: %s Seconds'%(time_end -time_start))\n",
    "\n",
    "# 预测\n",
    "y_pred = etr.predict(X_test)\n",
    "\n",
    "#评估\n",
    "utils.evaluate(y_test, y_pred)\n",
    "\n",
    "#可视化\n",
    "utils.visualize(y_test, y_pred)"
   ]
  },
  {
   "cell_type": "code",
   "execution_count": 23,
   "metadata": {
    "collapsed": true
   },
   "outputs": [],
   "source": [
    "# y_pred = etr.predict(X)\n",
    "# data_proced['etr'] = y_pred"
   ]
  },
  {
   "cell_type": "markdown",
   "metadata": {},
   "source": [
    "### 随机森林（rtr）"
   ]
  },
  {
   "cell_type": "code",
   "execution_count": 24,
   "metadata": {},
   "outputs": [
    {
     "name": "stdout",
     "output_type": "stream",
     "text": [
      "Running time: 0.17182099999999956 Seconds\n",
      "MSE: 7.88877344082\n",
      "RMSE: 2.80869603924\n",
      "MAE: 1.49190361391\n",
      "ER: 0.0883648997954\n",
      "RANK: 6.92247055882\n"
     ]
    },
    {
     "data": {
      "image/png": "[encoded data removed]",
      "text/plain": [
       "<Figure size 432x288 with 1 Axes>"
      ]
     },
     "metadata": {},
     "output_type": "display_data"
    }
   ],
   "source": [
    "import time\n",
    "from sklearn.ensemble import RandomForestRegressor\n",
    "rfr = RandomForestRegressor()\n",
    "# 训练\n",
    "#记录训练开始时间\n",
    "time_start = time.clock()\n",
    "rfr.fit(X_train,y_train)\n",
    "#记录训练结束时间\n",
    "time_end = time.clock()\n",
    "print('Running time: %s Seconds'%(time_end -time_start))\n",
    "\n",
    "# 预测\n",
    "y_pred = rfr.predict(X_test)\n",
    "\n",
    "#评估\n",
    "utils.evaluate(y_test, y_pred)\n",
    "\n",
    "#可视化\n",
    "utils.visualize(y_test, y_pred)"
   ]
  },
  {
   "cell_type": "code",
   "execution_count": 25,
   "metadata": {
    "collapsed": true
   },
   "outputs": [],
   "source": [
    "# y_pred = rfr.predict(X)\n",
    "# data_proced['rtr'] = y_pred"
   ]
  },
  {
   "cell_type": "markdown",
   "metadata": {},
   "source": [
    "### 自适应增强决策树模型（abr）"
   ]
  },
  {
   "cell_type": "code",
   "execution_count": 26,
   "metadata": {},
   "outputs": [
    {
     "name": "stdout",
     "output_type": "stream",
     "text": [
      "Running time: 0.44421 Seconds\n",
      "MSE: 28.5842945287\n",
      "RMSE: 5.34642820289\n",
      "MAE: 4.3276279744\n",
      "ER: 0.57550366051\n",
      "RANK: 77.0064929125\n"
     ]
    },
    {
     "data": {
      "image/png": "[encoded data removed]",
      "text/plain": [
       "<Figure size 432x288 with 1 Axes>"
      ]
     },
     "metadata": {},
     "output_type": "display_data"
    }
   ],
   "source": [
    "from sklearn.ensemble import AdaBoostRegressor\n",
    "abr = AdaBoostRegressor()\n",
    "# 训练\n",
    "#记录训练开始时间\n",
    "time_start = time.clock()\n",
    "abr.fit(X_train,y_train)\n",
    "#记录训练结束时间\n",
    "time_end = time.clock()\n",
    "print('Running time: %s Seconds'%(time_end -time_start))\n",
    "\n",
    "# 预测\n",
    "y_pred = abr.predict(X_test)\n",
    "\n",
    "#评估\n",
    "utils.evaluate(y_test, y_pred)\n",
    "\n",
    "#可视化\n",
    "utils.visualize(y_test, y_pred)"
   ]
  },
  {
   "cell_type": "code",
   "execution_count": 27,
   "metadata": {
    "collapsed": true
   },
   "outputs": [],
   "source": [
    "# y_pred = abr.predict(X)\n",
    "# data_proced['abr'] = y_pred"
   ]
  },
  {
   "cell_type": "markdown",
   "metadata": {},
   "source": [
    "### BaggingRegressor（br）"
   ]
  },
  {
   "cell_type": "code",
   "execution_count": 28,
   "metadata": {},
   "outputs": [
    {
     "name": "stdout",
     "output_type": "stream",
     "text": [
      "Running time: 0.26361299999999943 Seconds\n",
      "MSE: 10.3443303747\n",
      "RMSE: 3.21626030891\n",
      "MAE: 1.63257951314\n",
      "ER: 0.0899529456479\n",
      "RANK: 6.83984477399\n"
     ]
    },
    {
     "data": {
      "image/png": "[encoded data removed]",
      "text/plain": [
       "<Figure size 432x288 with 1 Axes>"
      ]
     },
     "metadata": {},
     "output_type": "display_data"
    }
   ],
   "source": [
    "from sklearn.ensemble import BaggingRegressor\n",
    "br = BaggingRegressor()\n",
    "# 训练\n",
    "#记录训练开始时间\n",
    "time_start = time.clock()\n",
    "br.fit(X_train,y_train)\n",
    "#记录训练结束时间\n",
    "time_end = time.clock()\n",
    "print('Running time: %s Seconds'%(time_end -time_start))\n",
    "\n",
    "# 预测\n",
    "y_pred = br.predict(X_test)\n",
    "\n",
    "#评估\n",
    "utils.evaluate(y_test, y_pred)\n",
    "\n",
    "#可视化\n",
    "utils.visualize(y_test, y_pred)"
   ]
  },
  {
   "cell_type": "code",
   "execution_count": 29,
   "metadata": {
    "collapsed": true
   },
   "outputs": [],
   "source": [
    "# y_pred = br.predict(X)\n",
    "# data_proced['br'] = y_pred"
   ]
  },
  {
   "cell_type": "markdown",
   "metadata": {},
   "source": [
    "### GradientBoostingRegressor（gbr）"
   ]
  },
  {
   "cell_type": "code",
   "execution_count": 30,
   "metadata": {},
   "outputs": [
    {
     "name": "stdout",
     "output_type": "stream",
     "text": [
      "Running time: 0.2851169999999996 Seconds\n",
      "MSE: 13.2876094903\n",
      "RMSE: 3.64521734472\n",
      "MAE: 2.01276828478\n",
      "ER: 0.119021036712\n",
      "RANK: 9.01687368969\n"
     ]
    },
    {
     "data": {
      "image/png": "[encoded data removed]",
      "text/plain": [
       "<Figure size 432x288 with 1 Axes>"
      ]
     },
     "metadata": {},
     "output_type": "display_data"
    }
   ],
   "source": [
    "from sklearn.ensemble import GradientBoostingRegressor\n",
    "gbr = GradientBoostingRegressor()\n",
    "# 训练\n",
    "#记录训练开始时间\n",
    "time_start = time.clock()\n",
    "gbr.fit(X_train,y_train)\n",
    "#记录训练结束时间\n",
    "time_end = time.clock()\n",
    "print('Running time: %s Seconds'%(time_end -time_start))\n",
    "\n",
    "# 预测\n",
    "y_pred = gbr.predict(X_test)\n",
    "\n",
    "#评估\n",
    "utils.evaluate(y_test, y_pred)\n",
    "\n",
    "#可视化\n",
    "utils.visualize(y_test, y_pred)"
   ]
  },
  {
   "cell_type": "code",
   "execution_count": 31,
   "metadata": {
    "collapsed": true
   },
   "outputs": [],
   "source": [
    "# y_pred = gbr.predict(X)\n",
    "# data_proced['gbr'] = y_pred"
   ]
  },
  {
   "cell_type": "markdown",
   "metadata": {},
   "source": [
    "###  XGBRegressor"
   ]
  },
  {
   "cell_type": "code",
   "execution_count": 32,
   "metadata": {},
   "outputs": [
    {
     "name": "stderr",
     "output_type": "stream",
     "text": [
      "/Users/Jeremy/miniconda3/envs/test/lib/python3.6/site-packages/sklearn/cross_validation.py:41: DeprecationWarning: This module was deprecated in version 0.18 in favor of the model_selection module into which all the refactored classes and functions are moved. Also note that the interface of the new CV iterators are different from that of this module. This module will be removed in 0.20.\n",
      "  \"This module will be removed in 0.20.\", DeprecationWarning)\n"
     ]
    },
    {
     "name": "stdout",
     "output_type": "stream",
     "text": [
      "Running time: 0.19866799999999962 Seconds\n",
      "MSE: 13.1978566422\n",
      "RMSE: 3.63288544304\n",
      "MAE: 1.98504876764\n",
      "ER: 0.117521802002\n",
      "RANK: 9.1443556946\n"
     ]
    },
    {
     "data": {
      "image/png": "[encoded data removed]",
      "text/plain": [
       "<Figure size 432x288 with 1 Axes>"
      ]
     },
     "metadata": {},
     "output_type": "display_data"
    }
   ],
   "source": [
    "from xgboost import XGBRegressor\n",
    "xgbr = XGBRegressor()\n",
    "# 训练\n",
    "#记录训练开始时间\n",
    "time_start = time.clock()\n",
    "xgbr.fit(X_train,y_train)\n",
    "#记录训练结束时间\n",
    "time_end = time.clock()\n",
    "print('Running time: %s Seconds'%(time_end -time_start))\n",
    "\n",
    "# 预测\n",
    "y_pred = xgbr.predict(X_test)\n",
    "\n",
    "#评估模型\n",
    "utils.evaluate(y_test, y_pred)\n",
    "\n",
    "#可视化\n",
    "utils.visualize(y_test, y_pred)"
   ]
  },
  {
   "cell_type": "code",
   "execution_count": 33,
   "metadata": {
    "collapsed": true
   },
   "outputs": [],
   "source": [
    "# y_pred = xgbr.predict(X)\n",
    "# data_proced['xgbr'] = y_pred"
   ]
  },
  {
   "cell_type": "markdown",
   "metadata": {},
   "source": [
    "### MLPRegressor"
   ]
  },
  {
   "cell_type": "code",
   "execution_count": 34,
   "metadata": {},
   "outputs": [
    {
     "name": "stdout",
     "output_type": "stream",
     "text": [
      "Running time: 2.8358310000000007 Seconds\n",
      "MSE: 10.6527224894\n",
      "RMSE: 3.26385086813\n",
      "MAE: 2.27781995498\n",
      "ER: 0.157136782325\n",
      "RANK: 18.2836723925\n"
     ]
    },
    {
     "data": {
      "image/png": "[encoded data removed]",
      "text/plain": [
       "<Figure size 432x288 with 1 Axes>"
      ]
     },
     "metadata": {},
     "output_type": "display_data"
    }
   ],
   "source": [
    "from sklearn.neural_network import MLPRegressor\n",
    "mlpr = MLPRegressor(solver='lbfgs')\n",
    "# 训练\n",
    "#记录训练开始时间\n",
    "time_start = time.clock()\n",
    "mlpr.fit(X_train,y_train)\n",
    "#记录训练结束时间\n",
    "time_end = time.clock()\n",
    "print('Running time: %s Seconds'%(time_end -time_start))\n",
    "\n",
    "# 预测\n",
    "y_pred = mlpr.predict(X_test)\n",
    "\n",
    "#评估\n",
    "utils.evaluate(y_test, y_pred)\n",
    "\n",
    "#可视化\n",
    "utils.visualize(y_test, y_pred)"
   ]
  },
  {
   "cell_type": "code",
   "execution_count": null,
   "metadata": {
    "collapsed": true
   },
   "outputs": [],
   "source": [
    "# y_pred = mlpr.predict(X)\n",
    "# data_proced['mlpr'] = y_pred"
   ]
  },
  {
   "cell_type": "markdown",
   "metadata": {},
   "source": [
    "### BP神经网络"
   ]
  },
  {
   "cell_type": "code",
   "execution_count": null,
   "metadata": {},
   "outputs": [
    {
     "name": "stderr",
     "output_type": "stream",
     "text": [
      "Using TensorFlow backend.\n",
      "/Users/Jeremy/miniconda3/envs/test/lib/python3.6/importlib/_bootstrap.py:205: RuntimeWarning: compiletime version 3.5 of module 'tensorflow.python.framework.fast_tensor_util' does not match runtime version 3.6\n",
      "  return f(*args, **kwds)\n"
     ]
    },
    {
     "name": "stdout",
     "output_type": "stream",
     "text": [
      "Epoch 1/1000\n",
      "\r",
      "  20/4492 [..............................] - ETA: 13s - loss: 1423.1846"
     ]
    },
    {
     "name": "stderr",
     "output_type": "stream",
     "text": [
      "/Users/Jeremy/miniconda3/envs/test/lib/python3.6/site-packages/ipykernel_launcher.py:5: UserWarning: Update your `Dense` call to the Keras 2 API: `Dense(24, input_dim=8, kernel_initializer=\"uniform\")`\n",
      "  \"\"\"\n",
      "/Users/Jeremy/miniconda3/envs/test/lib/python3.6/site-packages/keras/models.py:939: UserWarning: The `nb_epoch` argument in `fit` has been renamed `epochs`.\n",
      "  warnings.warn('The `nb_epoch` argument in `fit` '\n"
     ]
    },
    {
     "name": "stdout",
     "output_type": "stream",
     "text": [
      "4492/4492 [==============================] - 0s 77us/step - loss: 125.8183\n",
      "Epoch 2/1000\n",
      "4492/4492 [==============================] - 0s 60us/step - loss: 50.2300\n",
      "Epoch 3/1000\n",
      "4492/4492 [==============================] - 0s 61us/step - loss: 50.4731\n",
      "Epoch 4/1000\n",
      "4492/4492 [==============================] - 0s 97us/step - loss: 41.9110\n",
      "Epoch 5/1000\n",
      "4492/4492 [==============================] - 0s 71us/step - loss: 34.5296\n",
      "Epoch 6/1000\n",
      "4492/4492 [==============================] - 0s 72us/step - loss: 37.2841\n",
      "Epoch 7/1000\n",
      "4492/4492 [==============================] - 0s 61us/step - loss: 29.2709\n",
      "Epoch 8/1000\n",
      "4492/4492 [==============================] - 0s 76us/step - loss: 31.7809\n",
      "Epoch 9/1000\n",
      "4492/4492 [==============================] - 0s 75us/step - loss: 32.2798\n",
      "Epoch 10/1000\n",
      "4492/4492 [==============================] - 0s 87us/step - loss: 28.2405\n",
      "Epoch 11/1000\n",
      "4492/4492 [==============================] - 0s 100us/step - loss: 28.08690s\n",
      "Epoch 12/1000\n",
      "4492/4492 [==============================] - 0s 82us/step - loss: 27.0864\n",
      "Epoch 13/1000\n",
      "4492/4492 [==============================] - 0s 62us/step - loss: 28.5632\n",
      "Epoch 14/1000\n",
      "4492/4492 [==============================] - 0s 76us/step - loss: 28.5074\n",
      "Epoch 15/1000\n",
      "4492/4492 [==============================] - 0s 85us/step - loss: 26.6543\n",
      "Epoch 16/1000\n",
      "4492/4492 [==============================] - 0s 60us/step - loss: 26.6092\n",
      "Epoch 17/1000\n",
      "4492/4492 [==============================] - 0s 59us/step - loss: 24.2469\n",
      "Epoch 18/1000\n",
      "4492/4492 [==============================] - 0s 61us/step - loss: 26.9491\n",
      "Epoch 19/1000\n",
      "4492/4492 [==============================] - 0s 59us/step - loss: 24.5881\n",
      "Epoch 20/1000\n",
      "4492/4492 [==============================] - 0s 61us/step - loss: 23.1637\n",
      "Epoch 21/1000\n",
      "4492/4492 [==============================] - 0s 60us/step - loss: 27.0067\n",
      "Epoch 22/1000\n",
      "4492/4492 [==============================] - 0s 58us/step - loss: 24.4053\n",
      "Epoch 23/1000\n",
      "4492/4492 [==============================] - 0s 58us/step - loss: 25.8529\n",
      "Epoch 24/1000\n",
      "4492/4492 [==============================] - 0s 60us/step - loss: 26.2625\n",
      "Epoch 25/1000\n",
      "4492/4492 [==============================] - 0s 62us/step - loss: 25.2479\n",
      "Epoch 26/1000\n",
      "4492/4492 [==============================] - 0s 60us/step - loss: 25.6462\n",
      "Epoch 27/1000\n",
      "4492/4492 [==============================] - 0s 62us/step - loss: 25.2753\n",
      "Epoch 28/1000\n",
      "4492/4492 [==============================] - 0s 61us/step - loss: 24.2795\n",
      "Epoch 29/1000\n",
      "4492/4492 [==============================] - 0s 63us/step - loss: 23.5581\n",
      "Epoch 30/1000\n",
      "4492/4492 [==============================] - 0s 62us/step - loss: 19.3667\n",
      "Epoch 31/1000\n",
      "4492/4492 [==============================] - 0s 67us/step - loss: 22.6127\n",
      "Epoch 32/1000\n",
      "4492/4492 [==============================] - 0s 65us/step - loss: 20.6236\n",
      "Epoch 33/1000\n",
      "4492/4492 [==============================] - 0s 59us/step - loss: 23.7701\n",
      "Epoch 34/1000\n",
      "4492/4492 [==============================] - 0s 60us/step - loss: 22.3911\n",
      "Epoch 35/1000\n",
      "4492/4492 [==============================] - 0s 56us/step - loss: 24.6868\n",
      "Epoch 36/1000\n",
      "4492/4492 [==============================] - 0s 60us/step - loss: 21.9766\n",
      "Epoch 37/1000\n",
      "4492/4492 [==============================] - 0s 61us/step - loss: 21.5223\n",
      "Epoch 38/1000\n",
      "4492/4492 [==============================] - 0s 61us/step - loss: 22.4534\n",
      "Epoch 39/1000\n",
      "4492/4492 [==============================] - 0s 63us/step - loss: 23.6457\n",
      "Epoch 40/1000\n",
      "4492/4492 [==============================] - 0s 63us/step - loss: 26.3850\n",
      "Epoch 41/1000\n",
      "4492/4492 [==============================] - 0s 61us/step - loss: 20.6206\n",
      "Epoch 42/1000\n",
      "4492/4492 [==============================] - 0s 60us/step - loss: 20.7321\n",
      "Epoch 43/1000\n",
      "4492/4492 [==============================] - 0s 59us/step - loss: 19.5064\n",
      "Epoch 44/1000\n",
      "4492/4492 [==============================] - 0s 61us/step - loss: 20.9051\n",
      "Epoch 45/1000\n",
      "4492/4492 [==============================] - 0s 62us/step - loss: 19.4211\n",
      "Epoch 46/1000\n",
      "4492/4492 [==============================] - 0s 59us/step - loss: 19.9271\n",
      "Epoch 47/1000\n",
      "4492/4492 [==============================] - 0s 63us/step - loss: 20.8709\n",
      "Epoch 48/1000\n",
      "4492/4492 [==============================] - 0s 59us/step - loss: 18.6484\n",
      "Epoch 49/1000\n",
      "4492/4492 [==============================] - 0s 60us/step - loss: 21.0345\n",
      "Epoch 50/1000\n",
      "4492/4492 [==============================] - 0s 62us/step - loss: 20.7660\n",
      "Epoch 51/1000\n",
      "4492/4492 [==============================] - 0s 64us/step - loss: 20.3608\n",
      "Epoch 52/1000\n",
      "4492/4492 [==============================] - 0s 64us/step - loss: 23.2825\n",
      "Epoch 53/1000\n",
      "4492/4492 [==============================] - 0s 65us/step - loss: 24.1667\n",
      "Epoch 54/1000\n",
      "4492/4492 [==============================] - 0s 66us/step - loss: 17.2159\n",
      "Epoch 55/1000\n",
      "4492/4492 [==============================] - 0s 65us/step - loss: 19.1900\n",
      "Epoch 56/1000\n",
      "4492/4492 [==============================] - 0s 58us/step - loss: 17.0858\n",
      "Epoch 57/1000\n",
      "4492/4492 [==============================] - 0s 73us/step - loss: 19.8823\n",
      "Epoch 58/1000\n",
      "4492/4492 [==============================] - 0s 62us/step - loss: 19.7076\n",
      "Epoch 59/1000\n",
      "4492/4492 [==============================] - 0s 64us/step - loss: 19.5250\n",
      "Epoch 60/1000\n",
      "4492/4492 [==============================] - 0s 57us/step - loss: 16.9994\n",
      "Epoch 61/1000\n",
      "4492/4492 [==============================] - 0s 64us/step - loss: 16.9184\n",
      "Epoch 62/1000\n",
      "4492/4492 [==============================] - 0s 62us/step - loss: 18.1726\n",
      "Epoch 63/1000\n",
      "4492/4492 [==============================] - 0s 63us/step - loss: 16.4387\n",
      "Epoch 64/1000\n",
      "4492/4492 [==============================] - 0s 63us/step - loss: 16.5597\n",
      "Epoch 65/1000\n",
      "4492/4492 [==============================] - 0s 62us/step - loss: 19.2346\n",
      "Epoch 66/1000\n",
      "4492/4492 [==============================] - 0s 60us/step - loss: 16.5844\n",
      "Epoch 67/1000\n",
      "4492/4492 [==============================] - 0s 61us/step - loss: 17.7107\n",
      "Epoch 68/1000\n",
      "4492/4492 [==============================] - 0s 59us/step - loss: 17.0985\n",
      "Epoch 69/1000\n",
      "4492/4492 [==============================] - 0s 60us/step - loss: 18.8185\n",
      "Epoch 70/1000\n",
      "4492/4492 [==============================] - 0s 63us/step - loss: 17.9261\n",
      "Epoch 71/1000\n",
      "4492/4492 [==============================] - 0s 65us/step - loss: 18.6631\n",
      "Epoch 72/1000\n",
      "4492/4492 [==============================] - 0s 65us/step - loss: 22.1442\n",
      "Epoch 73/1000\n",
      "4492/4492 [==============================] - 0s 57us/step - loss: 20.0060\n",
      "Epoch 74/1000\n",
      "4492/4492 [==============================] - 0s 66us/step - loss: 17.3826\n",
      "Epoch 75/1000\n",
      "4492/4492 [==============================] - 0s 65us/step - loss: 16.3900\n",
      "Epoch 76/1000\n",
      "4492/4492 [==============================] - 0s 65us/step - loss: 16.5716\n",
      "Epoch 77/1000\n",
      "4492/4492 [==============================] - 0s 58us/step - loss: 16.1790\n",
      "Epoch 78/1000\n",
      "4492/4492 [==============================] - 0s 60us/step - loss: 16.6344\n",
      "Epoch 79/1000\n",
      "4492/4492 [==============================] - 0s 65us/step - loss: 15.2477\n",
      "Epoch 80/1000\n",
      "4492/4492 [==============================] - 0s 60us/step - loss: 14.6322\n",
      "Epoch 81/1000\n",
      "4492/4492 [==============================] - 0s 60us/step - loss: 17.2247\n",
      "Epoch 82/1000\n",
      "4492/4492 [==============================] - 0s 64us/step - loss: 15.5306\n",
      "Epoch 83/1000\n",
      "4492/4492 [==============================] - 0s 63us/step - loss: 16.4133\n",
      "Epoch 84/1000\n",
      "4492/4492 [==============================] - 0s 62us/step - loss: 15.3890\n",
      "Epoch 85/1000\n",
      "4492/4492 [==============================] - 0s 65us/step - loss: 18.3789\n",
      "Epoch 86/1000\n",
      "4492/4492 [==============================] - 0s 62us/step - loss: 15.8730\n",
      "Epoch 87/1000\n",
      "4492/4492 [==============================] - 0s 64us/step - loss: 16.8985\n",
      "Epoch 88/1000\n",
      "4492/4492 [==============================] - 0s 58us/step - loss: 16.9104\n",
      "Epoch 89/1000\n",
      "4492/4492 [==============================] - 0s 58us/step - loss: 15.8961\n",
      "Epoch 90/1000\n",
      "4492/4492 [==============================] - 0s 63us/step - loss: 17.9706\n",
      "Epoch 91/1000\n",
      "4492/4492 [==============================] - 0s 62us/step - loss: 18.3553\n",
      "Epoch 92/1000\n",
      "4492/4492 [==============================] - 0s 57us/step - loss: 16.1726\n",
      "Epoch 93/1000\n",
      "4492/4492 [==============================] - 0s 63us/step - loss: 15.2035\n",
      "Epoch 94/1000\n"
     ]
    },
    {
     "name": "stdout",
     "output_type": "stream",
     "text": [
      "4492/4492 [==============================] - 0s 58us/step - loss: 17.5402\n",
      "Epoch 95/1000\n",
      "4492/4492 [==============================] - 0s 58us/step - loss: 18.3745\n",
      "Epoch 96/1000\n",
      "4492/4492 [==============================] - 0s 54us/step - loss: 18.6972\n",
      "Epoch 97/1000\n",
      "4492/4492 [==============================] - 0s 60us/step - loss: 20.0850\n",
      "Epoch 98/1000\n",
      "4492/4492 [==============================] - 0s 60us/step - loss: 14.6641\n",
      "Epoch 99/1000\n",
      "4492/4492 [==============================] - 0s 59us/step - loss: 15.8255\n",
      "Epoch 100/1000\n",
      "4492/4492 [==============================] - 0s 61us/step - loss: 15.5738\n",
      "Epoch 101/1000\n",
      "4492/4492 [==============================] - 0s 64us/step - loss: 15.6128\n",
      "Epoch 102/1000\n",
      "4492/4492 [==============================] - 0s 57us/step - loss: 15.7365\n",
      "Epoch 103/1000\n",
      "4492/4492 [==============================] - 0s 61us/step - loss: 15.9476\n",
      "Epoch 104/1000\n",
      "4492/4492 [==============================] - 0s 61us/step - loss: 15.8365\n",
      "Epoch 105/1000\n",
      "4492/4492 [==============================] - 0s 57us/step - loss: 18.8342\n",
      "Epoch 106/1000\n",
      "4492/4492 [==============================] - 0s 59us/step - loss: 15.0156\n",
      "Epoch 107/1000\n",
      "4492/4492 [==============================] - 0s 61us/step - loss: 16.7366\n",
      "Epoch 108/1000\n",
      "4492/4492 [==============================] - 0s 58us/step - loss: 17.5653\n",
      "Epoch 109/1000\n",
      "4492/4492 [==============================] - 0s 61us/step - loss: 16.1952\n",
      "Epoch 110/1000\n",
      "4492/4492 [==============================] - 0s 64us/step - loss: 15.7746\n",
      "Epoch 111/1000\n",
      "4492/4492 [==============================] - 0s 59us/step - loss: 14.6425\n",
      "Epoch 112/1000\n",
      "4492/4492 [==============================] - 0s 59us/step - loss: 12.5459\n",
      "Epoch 113/1000\n",
      "4492/4492 [==============================] - 0s 61us/step - loss: 19.4302\n",
      "Epoch 114/1000\n",
      "4492/4492 [==============================] - 0s 59us/step - loss: 15.9189\n",
      "Epoch 115/1000\n",
      "4492/4492 [==============================] - 0s 61us/step - loss: 16.0554\n",
      "Epoch 116/1000\n",
      "4492/4492 [==============================] - 0s 58us/step - loss: 17.4805\n",
      "Epoch 117/1000\n",
      "3460/4492 [======================>.......] - ETA: 0s - loss: 14.8076"
     ]
    }
   ],
   "source": [
    "from keras.models import Sequential\n",
    "from keras.layers.core import Dense, Activation\n",
    "from keras import regularizers\n",
    "model = Sequential()  #层次模型\n",
    "model.add(Dense(24,input_dim=len(features),init='uniform'))\n",
    "model.add(Activation('relu'))  #添加激活函数\n",
    "model.add(Dense(1,input_dim=24))  #输出层\n",
    "model.compile(loss='mean_squared_error', optimizer='sgd') #编译模型\n",
    "# 训练\n",
    "#记录训练开始时间\n",
    "time_start = time.clock()\n",
    "model.fit(X_train, y_train, nb_epoch = 1000, batch_size = 20) #训练模型1000次\n",
    "#记录训练结束时间\n",
    "time_end = time.clock()\n",
    "print('Running time: %s Seconds'%(time_end -time_start))\n",
    "\n",
    "# 预测\n",
    "res = model.predict(X_test)\n",
    "y_pred = []\n",
    "for i in range(len(res)):\n",
    "    y_pred.append(res[i][0])\n",
    "#评估\n",
    "utils.evaluate(y_test, y_pred)\n",
    "\n",
    "#可视化\n",
    "utils.visualize(y_test, y_pred)"
   ]
  },
  {
   "cell_type": "code",
   "execution_count": null,
   "metadata": {},
   "outputs": [],
   "source": [
    "# y_pred = model.predict(X)\n",
    "# data_proced['bpr'] = y_pred"
   ]
  },
  {
   "cell_type": "code",
   "execution_count": null,
   "metadata": {},
   "outputs": [],
   "source": [
    "data_proced.to_csv('./energy_predict_data/predict_result/data_pre_%d.csv' % type, index = False)"
   ]
  }
 ],
 "metadata": {
  "kernelspec": {
   "display_name": "Python 3",
   "language": "python",
   "name": "python3"
  },
  "language_info": {
   "codemirror_mode": {
    "name": "ipython",
    "version": 3
   },
   "file_extension": ".py",
   "mimetype": "text/x-python",
   "name": "python",
   "nbconvert_exporter": "python",
   "pygments_lexer": "ipython3",
   "version": "3.6.2"
  },
  "toc": {
   "base_numbering": 1,
   "nav_menu": {},
   "number_sections": true,
   "sideBar": true,
   "skip_h1_title": false,
   "title_cell": "Table of Contents",
   "title_sidebar": "Contents",
   "toc_cell": false,
   "toc_position": {},
   "toc_section_display": true,
   "toc_window_display": false
  },
  "varInspector": {
   "cols": {
    "lenName": 16,
    "lenType": 16,
    "lenVar": 40
   },
   "kernels_config": {
    "python": {
     "delete_cmd_postfix": "",
     "delete_cmd_prefix": "del ",
     "library": "var_list.py",
     "varRefreshCmd": "print(var_dic_list())"
    },
    "r": {
     "delete_cmd_postfix": ") ",
     "delete_cmd_prefix": "rm(",
     "library": "var_list.r",
     "varRefreshCmd": "cat(var_dic_list()) "
    }
   },
   "types_to_exclude": [
    "module",
    "function",
    "builtin_function_or_method",
    "instance",
    "_Feature"
   ],
   "window_display": false
  }
 },
 "nbformat": 4,
 "nbformat_minor": 2
}
