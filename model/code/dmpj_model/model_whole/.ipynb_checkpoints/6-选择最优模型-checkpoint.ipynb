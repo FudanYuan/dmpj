{
 "cells": [
  {
   "cell_type": "code",
   "execution_count": 1,
   "metadata": {
    "collapsed": true
   },
   "outputs": [],
   "source": [
    "import pandas as pd\n",
    "import matplotlib.pyplot as plt\n",
    "import seaborn as sns\n",
    "%matplotlib inline\n",
    "import numpy as np"
   ]
  },
  {
   "cell_type": "code",
   "execution_count": 2,
   "metadata": {},
   "outputs": [
    {
     "data": {
      "text/plain": [
       "vehicle_id           float64\n",
       "charge_start_time    float64\n",
       "charge_end_time      float64\n",
       "charge_duration      float64\n",
       "mileage              float64\n",
       "delta_mileage        float64\n",
       "charge_start_soc     float64\n",
       "charge_end_soc       float64\n",
       "charge_delta_soc     float64\n",
       "charge_start_U       float64\n",
       "charge_end_U         float64\n",
       "charge_start_I       float64\n",
       "charge_end_I         float64\n",
       "charge_max_temp      float64\n",
       "charge_min_temp      float64\n",
       "charge_delta_temp    float64\n",
       "charge_energy        float64\n",
       "dtype: object"
      ]
     },
     "execution_count": 2,
     "metadata": {},
     "output_type": "execute_result"
    }
   ],
   "source": [
    "dataset = pd.read_csv('./energy_predict_data/data_prehandle/4_fill_null/whole/filled_by_kmeans/predict_data_e_train.csv')\n",
    "# dataset = dataset[dataset['vehicle_id']  == 9]\n",
    "header = dataset.columns.values.tolist()\n",
    "dataset.describe()\n",
    "dataset.dtypes"
   ]
  },
  {
   "cell_type": "code",
   "execution_count": 3,
   "metadata": {},
   "outputs": [
    {
     "name": "stderr",
     "output_type": "stream",
     "text": [
      "/Users/Jeremy/miniconda3/envs/test/lib/python3.6/site-packages/matplotlib/axes/_axes.py:6462: UserWarning: The 'normed' kwarg is deprecated, and has been replaced by the 'density' kwarg.\n",
      "  warnings.warn(\"The 'normed' kwarg is deprecated, and has been \"\n"
     ]
    },
    {
     "data": {
      "image/png": "[encoded data removed]",
      "text/plain": [
       "<Figure size 432x288 with 1 Axes>"
      ]
     },
     "metadata": {},
     "output_type": "display_data"
    }
   ],
   "source": [
    "sns.distplot(dataset['charge_energy']);"
   ]
  },
  {
   "cell_type": "markdown",
   "metadata": {},
   "source": [
    "### 特征选择"
   ]
  },
  {
   "cell_type": "code",
   "execution_count": 4,
   "metadata": {},
   "outputs": [
    {
     "data": {
      "text/plain": [
       "(['charge_duration',\n",
       "  'delta_mileage',\n",
       "  'charge_start_soc',\n",
       "  'charge_delta_soc',\n",
       "  'charge_end_soc',\n",
       "  'charge_start_U',\n",
       "  'charge_start_I',\n",
       "  'charge_max_temp',\n",
       "  'charge_min_temp',\n",
       "  'charge_delta_temp'],\n",
       " 'charge_energy')"
      ]
     },
     "execution_count": 4,
     "metadata": {},
     "output_type": "execute_result"
    }
   ],
   "source": [
    "features = ['charge_duration', \n",
    "            'delta_mileage',\n",
    "            'charge_start_soc', \n",
    "            'charge_delta_soc', \n",
    "            'charge_end_soc',\n",
    "            'charge_start_U',\n",
    "            'charge_start_I',\n",
    "            'charge_max_temp',\n",
    "            'charge_min_temp',\n",
    "            'charge_delta_temp']\n",
    "label = header[16]\n",
    "features, label"
   ]
  },
  {
   "cell_type": "markdown",
   "metadata": {},
   "source": [
    "### 数据标准化"
   ]
  },
  {
   "cell_type": "code",
   "execution_count": 5,
   "metadata": {
    "collapsed": true
   },
   "outputs": [],
   "source": [
    "X = dataset[features]\n",
    "y = dataset[label]\n",
    "\n",
    "from sklearn import preprocessing\n",
    "scaler = preprocessing.StandardScaler()\n",
    "X = scaler.fit_transform(X.astype(np.float64))"
   ]
  },
  {
   "cell_type": "markdown",
   "metadata": {},
   "source": [
    "### 选择最优模型"
   ]
  },
  {
   "cell_type": "code",
   "execution_count": null,
   "metadata": {},
   "outputs": [
    {
     "name": "stderr",
     "output_type": "stream",
     "text": [
      "/Users/Jeremy/miniconda3/envs/test/lib/python3.6/site-packages/sklearn/cross_validation.py:41: DeprecationWarning: This module was deprecated in version 0.18 in favor of the model_selection module into which all the refactored classes and functions are moved. Also note that the interface of the new CV iterators are different from that of this module. This module will be removed in 0.20.\n",
      "  \"This module will be removed in 0.20.\", DeprecationWarning)\n"
     ]
    },
    {
     "name": "stdout",
     "output_type": "stream",
     "text": [
      "0 LinearRegression\n",
      "[ 0.66467464  0.74175883  0.73305082  0.74460656  0.60139944  0.76466135]\n",
      "1 DecisionTreeRegressor\n",
      "[ 0.52222524  0.65851289  0.92320268  0.69822222  0.92407027  0.92842507]\n",
      "2 GradientBoostingRegressor\n",
      "[ 0.63841254  0.74754292  0.89458799  0.88682329  0.9427727   0.92396541]\n",
      "3 MLPRegressor\n",
      "[ 0.73322949  0.75162169  0.73012635  0.90602685  0.60255814  0.75769064]\n",
      "4 AdaBoostRegressor\n",
      "[ 0.58515744  0.63723281  0.80025948  0.86570413  0.8609444   0.94489543]\n",
      "5 BaggingRegressor\n",
      "[ 0.69251076  0.72156038  0.84700762  0.78223624  0.90631229  0.95046064]\n",
      "6 ExtraTreesRegressor\n",
      "[ 0.69856827  0.84409355  0.89286108  0.91178835  0.81626077  0.92922427]\n",
      "7 RandomForestRegressor\n",
      "[ 0.65369555  0.72849966  0.91003416  0.84513887  0.90688229  0.95027336]\n",
      "8 LinearSVR\n",
      "[ 0.52508245  0.61093162  0.7098364   0.70216655  0.57144348  0.61520003]\n",
      "9 NuSVR\n",
      "[ 0.3622835   0.20452699  0.48098104  0.40652665  0.39401922  0.31302068]\n",
      "10 SVR\n",
      "[ 0.35481402  0.19437947  0.49021827  0.4095776   0.39841834  0.30708639]\n",
      "11 XGBRegressor\n",
      "[ 0.62253036  0.6633146   0.87440524  0.8663362   0.86368692  0.93092827]\n"
     ]
    },
    {
     "data": {
      "text/html": [
       "<div>\n",
       "<style scoped>\n",
       "    .dataframe tbody tr th:only-of-type {\n",
       "        vertical-align: middle;\n",
       "    }\n",
       "\n",
       "    .dataframe tbody tr th {\n",
       "        vertical-align: top;\n",
       "    }\n",
       "\n",
       "    .dataframe thead th {\n",
       "        text-align: right;\n",
       "    }\n",
       "</style>\n",
       "<table border=\"1\" class=\"dataframe\">\n",
       "  <thead>\n",
       "    <tr style=\"text-align: right;\">\n",
       "      <th></th>\n",
       "      <th>Name</th>\n",
       "      <th>Parameters</th>\n",
       "      <th>Train Accuracy Mean</th>\n",
       "      <th>Test Accuracy Mean</th>\n",
       "      <th>Test Accuracy Std</th>\n",
       "      <th>Comsumed Time</th>\n",
       "    </tr>\n",
       "  </thead>\n",
       "  <tbody>\n",
       "    <tr>\n",
       "      <th>6</th>\n",
       "      <td>ExtraTreesRegressor</td>\n",
       "      <td>{'bootstrap': False, 'criterion': 'mse', 'max_...</td>\n",
       "      <td>1</td>\n",
       "      <td>0.848799</td>\n",
       "      <td>0.0774892</td>\n",
       "      <td>0.0119679</td>\n",
       "    </tr>\n",
       "    <tr>\n",
       "      <th>2</th>\n",
       "      <td>GradientBoostingRegressor</td>\n",
       "      <td>{'alpha': 0.9, 'criterion': 'friedman_mse', 'i...</td>\n",
       "      <td>0.996662</td>\n",
       "      <td>0.839017</td>\n",
       "      <td>0.109518</td>\n",
       "      <td>0.0261246</td>\n",
       "    </tr>\n",
       "    <tr>\n",
       "      <th>7</th>\n",
       "      <td>RandomForestRegressor</td>\n",
       "      <td>{'bootstrap': True, 'criterion': 'mse', 'max_d...</td>\n",
       "      <td>0.948184</td>\n",
       "      <td>0.832421</td>\n",
       "      <td>0.106741</td>\n",
       "      <td>0.0156122</td>\n",
       "    </tr>\n",
       "    <tr>\n",
       "      <th>5</th>\n",
       "      <td>BaggingRegressor</td>\n",
       "      <td>{'base_estimator': None, 'bootstrap': True, 'b...</td>\n",
       "      <td>0.949165</td>\n",
       "      <td>0.816681</td>\n",
       "      <td>0.0935442</td>\n",
       "      <td>0.0138108</td>\n",
       "    </tr>\n",
       "    <tr>\n",
       "      <th>11</th>\n",
       "      <td>XGBRegressor</td>\n",
       "      <td>{'base_score': 0.5, 'colsample_bylevel': 1, 'c...</td>\n",
       "      <td>0.990368</td>\n",
       "      <td>0.803534</td>\n",
       "      <td>0.11636</td>\n",
       "      <td>0.0113006</td>\n",
       "    </tr>\n",
       "    <tr>\n",
       "      <th>4</th>\n",
       "      <td>AdaBoostRegressor</td>\n",
       "      <td>{'base_estimator': None, 'learning_rate': 1.0,...</td>\n",
       "      <td>0.927526</td>\n",
       "      <td>0.782366</td>\n",
       "      <td>0.128977</td>\n",
       "      <td>0.0557071</td>\n",
       "    </tr>\n",
       "    <tr>\n",
       "      <th>1</th>\n",
       "      <td>DecisionTreeRegressor</td>\n",
       "      <td>{'criterion': 'mse', 'max_depth': None, 'max_f...</td>\n",
       "      <td>1</td>\n",
       "      <td>0.775776</td>\n",
       "      <td>0.158682</td>\n",
       "      <td>0.00119289</td>\n",
       "    </tr>\n",
       "    <tr>\n",
       "      <th>3</th>\n",
       "      <td>MLPRegressor</td>\n",
       "      <td>{'activation': 'relu', 'alpha': 0.0001, 'batch...</td>\n",
       "      <td>0.999997</td>\n",
       "      <td>0.746876</td>\n",
       "      <td>0.0882826</td>\n",
       "      <td>0.56217</td>\n",
       "    </tr>\n",
       "    <tr>\n",
       "      <th>0</th>\n",
       "      <td>LinearRegression</td>\n",
       "      <td>{'copy_X': True, 'fit_intercept': True, 'n_job...</td>\n",
       "      <td>0.74313</td>\n",
       "      <td>0.708359</td>\n",
       "      <td>0.0570931</td>\n",
       "      <td>0.00103557</td>\n",
       "    </tr>\n",
       "    <tr>\n",
       "      <th>8</th>\n",
       "      <td>LinearSVR</td>\n",
       "      <td>{'C': 1.0, 'dual': True, 'epsilon': 0.0, 'fit_...</td>\n",
       "      <td>0.634908</td>\n",
       "      <td>0.622443</td>\n",
       "      <td>0.0661544</td>\n",
       "      <td>0.00146703</td>\n",
       "    </tr>\n",
       "    <tr>\n",
       "      <th>9</th>\n",
       "      <td>NuSVR</td>\n",
       "      <td>{'C': 1.0, 'cache_size': 200, 'coef0': 0.0, 'd...</td>\n",
       "      <td>0.433657</td>\n",
       "      <td>0.360226</td>\n",
       "      <td>0.0859673</td>\n",
       "      <td>0.0019182</td>\n",
       "    </tr>\n",
       "    <tr>\n",
       "      <th>10</th>\n",
       "      <td>SVR</td>\n",
       "      <td>{'C': 1.0, 'cache_size': 200, 'coef0': 0.0, 'd...</td>\n",
       "      <td>0.432394</td>\n",
       "      <td>0.359082</td>\n",
       "      <td>0.0923242</td>\n",
       "      <td>0.00171884</td>\n",
       "    </tr>\n",
       "  </tbody>\n",
       "</table>\n",
       "</div>"
      ],
      "text/plain": [
       "                         Name  \\\n",
       "6         ExtraTreesRegressor   \n",
       "2   GradientBoostingRegressor   \n",
       "7       RandomForestRegressor   \n",
       "5            BaggingRegressor   \n",
       "11               XGBRegressor   \n",
       "4           AdaBoostRegressor   \n",
       "1       DecisionTreeRegressor   \n",
       "3                MLPRegressor   \n",
       "0            LinearRegression   \n",
       "8                   LinearSVR   \n",
       "9                       NuSVR   \n",
       "10                        SVR   \n",
       "\n",
       "                                           Parameters Train Accuracy Mean  \\\n",
       "6   {'bootstrap': False, 'criterion': 'mse', 'max_...                   1   \n",
       "2   {'alpha': 0.9, 'criterion': 'friedman_mse', 'i...            0.996662   \n",
       "7   {'bootstrap': True, 'criterion': 'mse', 'max_d...            0.948184   \n",
       "5   {'base_estimator': None, 'bootstrap': True, 'b...            0.949165   \n",
       "11  {'base_score': 0.5, 'colsample_bylevel': 1, 'c...            0.990368   \n",
       "4   {'base_estimator': None, 'learning_rate': 1.0,...            0.927526   \n",
       "1   {'criterion': 'mse', 'max_depth': None, 'max_f...                   1   \n",
       "3   {'activation': 'relu', 'alpha': 0.0001, 'batch...            0.999997   \n",
       "0   {'copy_X': True, 'fit_intercept': True, 'n_job...             0.74313   \n",
       "8   {'C': 1.0, 'dual': True, 'epsilon': 0.0, 'fit_...            0.634908   \n",
       "9   {'C': 1.0, 'cache_size': 200, 'coef0': 0.0, 'd...            0.433657   \n",
       "10  {'C': 1.0, 'cache_size': 200, 'coef0': 0.0, 'd...            0.432394   \n",
       "\n",
       "   Test Accuracy Mean Test Accuracy Std Comsumed Time  \n",
       "6            0.848799         0.0774892     0.0119679  \n",
       "2            0.839017          0.109518     0.0261246  \n",
       "7            0.832421          0.106741     0.0156122  \n",
       "5            0.816681         0.0935442     0.0138108  \n",
       "11           0.803534           0.11636     0.0113006  \n",
       "4            0.782366          0.128977     0.0557071  \n",
       "1            0.775776          0.158682    0.00119289  \n",
       "3            0.746876         0.0882826       0.56217  \n",
       "0            0.708359         0.0570931    0.00103557  \n",
       "8            0.622443         0.0661544    0.00146703  \n",
       "9            0.360226         0.0859673     0.0019182  \n",
       "10           0.359082         0.0923242    0.00171884  "
      ]
     },
     "execution_count": 6,
     "metadata": {},
     "output_type": "execute_result"
    }
   ],
   "source": [
    "from sklearn.model_selection import cross_validate\n",
    "from sklearn.model_selection import ShuffleSplit\n",
    "\n",
    "from sklearn.linear_model import LinearRegression\n",
    "from sklearn.tree import DecisionTreeRegressor\n",
    "from sklearn.ensemble import GradientBoostingRegressor\n",
    "from sklearn.neural_network import MLPRegressor\n",
    "from sklearn.ensemble import AdaBoostRegressor\n",
    "from sklearn.ensemble import BaggingRegressor\n",
    "from sklearn.ensemble import ExtraTreesRegressor\n",
    "from sklearn.ensemble import RandomForestRegressor\n",
    "from sklearn.svm import LinearSVR\n",
    "from sklearn.svm import NuSVR\n",
    "from sklearn.svm import SVR\n",
    "from xgboost import XGBRegressor\n",
    "\n",
    "estimator_list = [\n",
    "    LinearRegression(),\n",
    "    DecisionTreeRegressor(),\n",
    "    GradientBoostingRegressor(),\n",
    "    MLPRegressor(solver='lbfgs', max_iter=1000),\n",
    "    AdaBoostRegressor(),\n",
    "    BaggingRegressor(),\n",
    "    ExtraTreesRegressor(),\n",
    "    RandomForestRegressor(),\n",
    "    LinearSVR(),\n",
    "    NuSVR(),\n",
    "    SVR(),\n",
    "    XGBRegressor()\n",
    "]\n",
    "\n",
    "cv_split = ShuffleSplit(n_splits=6, train_size=0.75, test_size=0.25, random_state=13)\n",
    "df_columns = ['Name', 'Parameters', 'Train Accuracy Mean', 'Test Accuracy Mean', 'Test Accuracy Std', 'Comsumed Time']\n",
    "df = pd.DataFrame(columns=df_columns)\n",
    "\n",
    "row_index = 0\n",
    "for estimator in estimator_list:\n",
    "    df.loc[row_index, 'Name'] = estimator.__class__.__name__\n",
    "    df.loc[row_index, 'Parameters'] = str(estimator.get_params())\n",
    "    cv_results = cross_validate(estimator, X, y, cv=cv_split)\n",
    "    df.loc[row_index, 'Train Accuracy Mean'] = cv_results['train_score'].mean()\n",
    "    df.loc[row_index, 'Test Accuracy Mean'] = cv_results['test_score'].mean()\n",
    "    df.loc[row_index, 'Test Accuracy Std'] = cv_results['test_score'].std()\n",
    "    df.loc[row_index, 'Comsumed Time'] = cv_results['fit_time'].mean()\n",
    "    print(row_index, estimator.__class__.__name__)\n",
    "    print(cv_results['test_score'])\n",
    "    row_index += 1\n",
    "df = df.sort_values(by='Test Accuracy Mean', ascending=False)\n",
    "df.to_csv('./energy_predict_data/cross_validate/score.csv', index=False)\n",
    "df"
   ]
  },
  {
   "cell_type": "markdown",
   "metadata": {},
   "source": [
    "### 搜索模型最优参数"
   ]
  },
  {
   "cell_type": "code",
   "execution_count": null,
   "metadata": {},
   "outputs": [],
   "source": [
    "from sklearn.model_selection import ShuffleSplit\n",
    "from sklearn.model_selection import GridSearchCV\n",
    "import numpy as np \n",
    "import time\n",
    "\n",
    "model = ExtraTreesRegressor()\n",
    "\n",
    "cv_split = ShuffleSplit(n_splits=6, train_size=0.7, test_size=0.2)\n",
    "param_grid = dict(\n",
    "    max_depth = [4, 5, 6, 7, 8, 9, 10],\n",
    "    min_samples_leaf = [1, 2, 3, 4, 5],\n",
    "    min_samples_split = [0.1, 0.3, 0.5, 0.7, 0.9, 1.0],\n",
    "#     learning_rate = np.linspace(0.03, 0.3, 10),\n",
    "    n_estimators = [50, 100, 200, 300]\n",
    ")\n",
    "start = time.time()\n",
    "grid = GridSearchCV(model, param_grid, cv=cv_split, scoring='neg_mean_squared_error')\n",
    "grid.fit(X, y)\n",
    "print('GridSearchCV process use %.2f seconds'%(time.time()-start))"
   ]
  },
  {
   "cell_type": "code",
   "execution_count": null,
   "metadata": {},
   "outputs": [],
   "source": [
    "print(grid.best_params_)\n",
    "print(grid.best_score_)\n",
    "print(len(grid._get_param_iterator()))"
   ]
  },
  {
   "cell_type": "code",
   "execution_count": null,
   "metadata": {
    "collapsed": true
   },
   "outputs": [],
   "source": []
  }
 ],
 "metadata": {
  "kernelspec": {
   "display_name": "Python 3",
   "language": "python",
   "name": "python3"
  },
  "language_info": {
   "codemirror_mode": {
    "name": "ipython",
    "version": 3
   },
   "file_extension": ".py",
   "mimetype": "text/x-python",
   "name": "python",
   "nbconvert_exporter": "python",
   "pygments_lexer": "ipython3",
   "version": "3.6.2"
  }
 },
 "nbformat": 4,
 "nbformat_minor": 2
}
