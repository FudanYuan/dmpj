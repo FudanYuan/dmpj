{
 "cells": [
  {
   "cell_type": "markdown",
   "metadata": {},
   "source": [
    "## 新能源电动汽车动力电池充电能量预测（八）——导入数据库"
   ]
  },
  {
   "cell_type": "code",
   "execution_count": 3,
   "metadata": {
    "ExecuteTime": {
     "end_time": "2018-12-21T06:53:57.145937Z",
     "start_time": "2018-12-21T06:53:57.143936Z"
    },
    "collapsed": true
   },
   "outputs": [],
   "source": [
    "import pandas as pd \n",
    "from sklearn import metrics\n",
    "import numpy as np\n",
    "from package import utils"
   ]
  },
  {
   "cell_type": "markdown",
   "metadata": {},
   "source": [
    "### 根据数据库字段导出填充后的数据，方便直接导入数据库"
   ]
  },
  {
   "cell_type": "code",
   "execution_count": 11,
   "metadata": {
    "ExecuteTime": {
     "end_time": "2018-12-21T06:53:57.875018Z",
     "start_time": "2018-12-21T06:53:57.827109Z"
    }
   },
   "outputs": [
    {
     "data": {
      "text/html": [
       "<div>\n",
       "<style scoped>\n",
       "    .dataframe tbody tr th:only-of-type {\n",
       "        vertical-align: middle;\n",
       "    }\n",
       "\n",
       "    .dataframe tbody tr th {\n",
       "        vertical-align: top;\n",
       "    }\n",
       "\n",
       "    .dataframe thead th {\n",
       "        text-align: right;\n",
       "    }\n",
       "</style>\n",
       "<table border=\"1\" class=\"dataframe\">\n",
       "  <thead>\n",
       "    <tr style=\"text-align: right;\">\n",
       "      <th></th>\n",
       "      <th>vehicle_id</th>\n",
       "      <th>charge_start_time</th>\n",
       "      <th>charge_end_time</th>\n",
       "      <th>mileage</th>\n",
       "      <th>charge_start_soc</th>\n",
       "      <th>charge_end_soc</th>\n",
       "      <th>charge_start_U</th>\n",
       "      <th>charge_end_U</th>\n",
       "      <th>charge_start_I</th>\n",
       "      <th>charge_end_I</th>\n",
       "      <th>charge_max_temp</th>\n",
       "      <th>charge_min_temp</th>\n",
       "      <th>charge_energy</th>\n",
       "    </tr>\n",
       "  </thead>\n",
       "  <tbody>\n",
       "    <tr>\n",
       "      <th>count</th>\n",
       "      <td>5990.00</td>\n",
       "      <td>5.99e+03</td>\n",
       "      <td>5.99e+03</td>\n",
       "      <td>5990.00</td>\n",
       "      <td>5990.00</td>\n",
       "      <td>5990.00</td>\n",
       "      <td>5990.00</td>\n",
       "      <td>5980.00</td>\n",
       "      <td>5990.00</td>\n",
       "      <td>5980.00</td>\n",
       "      <td>5990.00</td>\n",
       "      <td>5990.00</td>\n",
       "      <td>5990.00</td>\n",
       "    </tr>\n",
       "    <tr>\n",
       "      <th>mean</th>\n",
       "      <td>11.37</td>\n",
       "      <td>2.02e+13</td>\n",
       "      <td>2.02e+13</td>\n",
       "      <td>103588.11</td>\n",
       "      <td>35.57</td>\n",
       "      <td>76.56</td>\n",
       "      <td>405.94</td>\n",
       "      <td>436.13</td>\n",
       "      <td>-43.74</td>\n",
       "      <td>-22.32</td>\n",
       "      <td>27.19</td>\n",
       "      <td>15.18</td>\n",
       "      <td>25.94</td>\n",
       "    </tr>\n",
       "    <tr>\n",
       "      <th>std</th>\n",
       "      <td>6.45</td>\n",
       "      <td>4.00e+09</td>\n",
       "      <td>4.00e+09</td>\n",
       "      <td>30819.13</td>\n",
       "      <td>19.37</td>\n",
       "      <td>26.82</td>\n",
       "      <td>91.53</td>\n",
       "      <td>87.88</td>\n",
       "      <td>48.22</td>\n",
       "      <td>35.36</td>\n",
       "      <td>10.62</td>\n",
       "      <td>11.55</td>\n",
       "      <td>21.24</td>\n",
       "    </tr>\n",
       "    <tr>\n",
       "      <th>min</th>\n",
       "      <td>1.00</td>\n",
       "      <td>2.02e+13</td>\n",
       "      <td>2.02e+13</td>\n",
       "      <td>45631.70</td>\n",
       "      <td>0.00</td>\n",
       "      <td>4.80</td>\n",
       "      <td>252.30</td>\n",
       "      <td>0.00</td>\n",
       "      <td>-202.00</td>\n",
       "      <td>-400.00</td>\n",
       "      <td>-2.00</td>\n",
       "      <td>-7.00</td>\n",
       "      <td>0.22</td>\n",
       "    </tr>\n",
       "    <tr>\n",
       "      <th>25%</th>\n",
       "      <td>5.00</td>\n",
       "      <td>2.02e+13</td>\n",
       "      <td>2.02e+13</td>\n",
       "      <td>78704.15</td>\n",
       "      <td>20.80</td>\n",
       "      <td>55.25</td>\n",
       "      <td>340.40</td>\n",
       "      <td>374.60</td>\n",
       "      <td>-59.80</td>\n",
       "      <td>-20.40</td>\n",
       "      <td>18.00</td>\n",
       "      <td>5.00</td>\n",
       "      <td>12.64</td>\n",
       "    </tr>\n",
       "    <tr>\n",
       "      <th>50%</th>\n",
       "      <td>11.00</td>\n",
       "      <td>2.02e+13</td>\n",
       "      <td>2.02e+13</td>\n",
       "      <td>97276.05</td>\n",
       "      <td>34.00</td>\n",
       "      <td>87.00</td>\n",
       "      <td>361.50</td>\n",
       "      <td>391.60</td>\n",
       "      <td>-24.00</td>\n",
       "      <td>-9.30</td>\n",
       "      <td>30.00</td>\n",
       "      <td>14.00</td>\n",
       "      <td>19.61</td>\n",
       "    </tr>\n",
       "    <tr>\n",
       "      <th>75%</th>\n",
       "      <td>17.00</td>\n",
       "      <td>2.02e+13</td>\n",
       "      <td>2.02e+13</td>\n",
       "      <td>122780.75</td>\n",
       "      <td>47.00</td>\n",
       "      <td>100.00</td>\n",
       "      <td>533.70</td>\n",
       "      <td>551.70</td>\n",
       "      <td>-9.00</td>\n",
       "      <td>-5.00</td>\n",
       "      <td>35.00</td>\n",
       "      <td>25.00</td>\n",
       "      <td>29.56</td>\n",
       "    </tr>\n",
       "    <tr>\n",
       "      <th>max</th>\n",
       "      <td>21.00</td>\n",
       "      <td>2.02e+13</td>\n",
       "      <td>2.02e+13</td>\n",
       "      <td>182536.00</td>\n",
       "      <td>96.00</td>\n",
       "      <td>110.49</td>\n",
       "      <td>574.60</td>\n",
       "      <td>604.70</td>\n",
       "      <td>-0.10</td>\n",
       "      <td>8.00</td>\n",
       "      <td>52.00</td>\n",
       "      <td>46.00</td>\n",
       "      <td>103.72</td>\n",
       "    </tr>\n",
       "  </tbody>\n",
       "</table>\n",
       "</div>"
      ],
      "text/plain": [
       "       vehicle_id  charge_start_time  charge_end_time    mileage  \\\n",
       "count     5990.00           5.99e+03         5.99e+03    5990.00   \n",
       "mean        11.37           2.02e+13         2.02e+13  103588.11   \n",
       "std          6.45           4.00e+09         4.00e+09   30819.13   \n",
       "min          1.00           2.02e+13         2.02e+13   45631.70   \n",
       "25%          5.00           2.02e+13         2.02e+13   78704.15   \n",
       "50%         11.00           2.02e+13         2.02e+13   97276.05   \n",
       "75%         17.00           2.02e+13         2.02e+13  122780.75   \n",
       "max         21.00           2.02e+13         2.02e+13  182536.00   \n",
       "\n",
       "       charge_start_soc  charge_end_soc  charge_start_U  charge_end_U  \\\n",
       "count           5990.00         5990.00         5990.00       5980.00   \n",
       "mean              35.57           76.56          405.94        436.13   \n",
       "std               19.37           26.82           91.53         87.88   \n",
       "min                0.00            4.80          252.30          0.00   \n",
       "25%               20.80           55.25          340.40        374.60   \n",
       "50%               34.00           87.00          361.50        391.60   \n",
       "75%               47.00          100.00          533.70        551.70   \n",
       "max               96.00          110.49          574.60        604.70   \n",
       "\n",
       "       charge_start_I  charge_end_I  charge_max_temp  charge_min_temp  \\\n",
       "count         5990.00       5980.00          5990.00          5990.00   \n",
       "mean           -43.74        -22.32            27.19            15.18   \n",
       "std             48.22         35.36            10.62            11.55   \n",
       "min           -202.00       -400.00            -2.00            -7.00   \n",
       "25%            -59.80        -20.40            18.00             5.00   \n",
       "50%            -24.00         -9.30            30.00            14.00   \n",
       "75%             -9.00         -5.00            35.00            25.00   \n",
       "max             -0.10          8.00            52.00            46.00   \n",
       "\n",
       "       charge_energy  \n",
       "count        5990.00  \n",
       "mean           25.94  \n",
       "std            21.24  \n",
       "min             0.22  \n",
       "25%            12.64  \n",
       "50%            19.61  \n",
       "75%            29.56  \n",
       "max           103.72  "
      ]
     },
     "execution_count": 11,
     "metadata": {},
     "output_type": "execute_result"
    }
   ],
   "source": [
    "# 数据库需要的字段\n",
    "header = ['vehicle_id','charge_start_time','charge_end_time','mileage',\n",
    "          'charge_start_soc','charge_end_soc','charge_start_U','charge_end_U',\n",
    "          'charge_start_I','charge_end_I','charge_max_temp','charge_min_temp','charge_energy']\n",
    "# 导入填充后的数据集\n",
    "dataset_train_test = pd.read_csv('./energy_predict_data/data_prehandle/4_fill_null/whole/filled_by_kmeans/predict_data_e_train.csv')\n",
    "dataset_train_test = dataset_train_test[header]\n",
    "# 数据集大小\n",
    "count = (int)(np.max(dataset_train_test['vehicle_id']))\n",
    "# 数据描述\n",
    "pd.set_option('precision', 2)\n",
    "dataset_train_test.describe()"
   ]
  },
  {
   "cell_type": "markdown",
   "metadata": {},
   "source": [
    "### 定义数据处理的类型：1.with_fill（使用填充数据）；2.without_fill（不使用填充数据）"
   ]
  },
  {
   "cell_type": "code",
   "execution_count": 12,
   "metadata": {
    "collapsed": true
   },
   "outputs": [],
   "source": [
    "type = 1"
   ]
  },
  {
   "cell_type": "markdown",
   "metadata": {},
   "source": [
    "### 导出预测表，注意外键的限制。"
   ]
  },
  {
   "cell_type": "markdown",
   "metadata": {},
   "source": [
    "#### 先获取外键"
   ]
  },
  {
   "cell_type": "code",
   "execution_count": 18,
   "metadata": {},
   "outputs": [
    {
     "data": {
      "text/plain": [
       "1506"
      ]
     },
     "execution_count": 18,
     "metadata": {},
     "output_type": "execute_result"
    }
   ],
   "source": [
    "ref_key_list = []\n",
    "for i in range(1, count+1):\n",
    "    data_vehicle = dataset_train_test[dataset['vehicle_id'] == i]\n",
    "    index_list = data_vehicle.index.tolist()\n",
    "    ref_key = index_list[int(0.75*len(data_vehicle)):len(data_vehicle)]\n",
    "    for i in range(len(ref_key)):\n",
    "        ref_key_list.append(ref_key[i])\n",
    "len(ref_key_list)"
   ]
  },
  {
   "cell_type": "markdown",
   "metadata": {},
   "source": [
    "#### 导入预测数据"
   ]
  },
  {
   "cell_type": "code",
   "execution_count": 20,
   "metadata": {},
   "outputs": [
    {
     "data": {
      "text/html": [
       "<div>\n",
       "<style scoped>\n",
       "    .dataframe tbody tr th:only-of-type {\n",
       "        vertical-align: middle;\n",
       "    }\n",
       "\n",
       "    .dataframe tbody tr th {\n",
       "        vertical-align: top;\n",
       "    }\n",
       "\n",
       "    .dataframe thead th {\n",
       "        text-align: right;\n",
       "    }\n",
       "</style>\n",
       "<table border=\"1\" class=\"dataframe\">\n",
       "  <thead>\n",
       "    <tr style=\"text-align: right;\">\n",
       "      <th></th>\n",
       "      <th>svr_lr</th>\n",
       "      <th>svr_rbf</th>\n",
       "      <th>dtr</th>\n",
       "      <th>rtr</th>\n",
       "      <th>etr</th>\n",
       "      <th>abr</th>\n",
       "      <th>br</th>\n",
       "      <th>gbr</th>\n",
       "      <th>xgbr</th>\n",
       "      <th>mlpr</th>\n",
       "    </tr>\n",
       "  </thead>\n",
       "  <tbody>\n",
       "    <tr>\n",
       "      <th>count</th>\n",
       "      <td>6.00</td>\n",
       "      <td>6.00</td>\n",
       "      <td>6.00</td>\n",
       "      <td>6.00</td>\n",
       "      <td>6.00</td>\n",
       "      <td>6.00</td>\n",
       "      <td>6.00</td>\n",
       "      <td>6.00</td>\n",
       "      <td>6.00</td>\n",
       "      <td>6.00</td>\n",
       "    </tr>\n",
       "    <tr>\n",
       "      <th>mean</th>\n",
       "      <td>23.14</td>\n",
       "      <td>17.44</td>\n",
       "      <td>4.22</td>\n",
       "      <td>3.48</td>\n",
       "      <td>3.59</td>\n",
       "      <td>19.84</td>\n",
       "      <td>3.24</td>\n",
       "      <td>3.87</td>\n",
       "      <td>3.77</td>\n",
       "      <td>6.19</td>\n",
       "    </tr>\n",
       "    <tr>\n",
       "      <th>std</th>\n",
       "      <td>30.51</td>\n",
       "      <td>26.09</td>\n",
       "      <td>4.15</td>\n",
       "      <td>3.50</td>\n",
       "      <td>3.68</td>\n",
       "      <td>31.86</td>\n",
       "      <td>3.20</td>\n",
       "      <td>3.98</td>\n",
       "      <td>3.86</td>\n",
       "      <td>7.68</td>\n",
       "    </tr>\n",
       "    <tr>\n",
       "      <th>min</th>\n",
       "      <td>0.54</td>\n",
       "      <td>0.74</td>\n",
       "      <td>0.91</td>\n",
       "      <td>0.91</td>\n",
       "      <td>0.91</td>\n",
       "      <td>0.38</td>\n",
       "      <td>0.92</td>\n",
       "      <td>0.88</td>\n",
       "      <td>0.89</td>\n",
       "      <td>0.79</td>\n",
       "    </tr>\n",
       "    <tr>\n",
       "      <th>25%</th>\n",
       "      <td>1.89</td>\n",
       "      <td>1.79</td>\n",
       "      <td>1.08</td>\n",
       "      <td>1.04</td>\n",
       "      <td>1.05</td>\n",
       "      <td>1.75</td>\n",
       "      <td>1.04</td>\n",
       "      <td>1.14</td>\n",
       "      <td>1.14</td>\n",
       "      <td>1.31</td>\n",
       "    </tr>\n",
       "    <tr>\n",
       "      <th>50%</th>\n",
       "      <td>6.60</td>\n",
       "      <td>6.42</td>\n",
       "      <td>2.23</td>\n",
       "      <td>1.81</td>\n",
       "      <td>1.83</td>\n",
       "      <td>4.67</td>\n",
       "      <td>1.73</td>\n",
       "      <td>2.07</td>\n",
       "      <td>2.02</td>\n",
       "      <td>2.70</td>\n",
       "    </tr>\n",
       "    <tr>\n",
       "      <th>75%</th>\n",
       "      <td>44.76</td>\n",
       "      <td>18.56</td>\n",
       "      <td>7.79</td>\n",
       "      <td>4.96</td>\n",
       "      <td>5.07</td>\n",
       "      <td>21.25</td>\n",
       "      <td>4.46</td>\n",
       "      <td>5.44</td>\n",
       "      <td>5.18</td>\n",
       "      <td>7.95</td>\n",
       "    </tr>\n",
       "    <tr>\n",
       "      <th>max</th>\n",
       "      <td>67.32</td>\n",
       "      <td>68.23</td>\n",
       "      <td>9.59</td>\n",
       "      <td>9.55</td>\n",
       "      <td>10.02</td>\n",
       "      <td>81.74</td>\n",
       "      <td>8.89</td>\n",
       "      <td>10.83</td>\n",
       "      <td>10.60</td>\n",
       "      <td>20.41</td>\n",
       "    </tr>\n",
       "  </tbody>\n",
       "</table>\n",
       "</div>"
      ],
      "text/plain": [
       "       svr_lr  svr_rbf   dtr   rtr    etr    abr    br    gbr   xgbr   mlpr\n",
       "count    6.00     6.00  6.00  6.00   6.00   6.00  6.00   6.00   6.00   6.00\n",
       "mean    23.14    17.44  4.22  3.48   3.59  19.84  3.24   3.87   3.77   6.19\n",
       "std     30.51    26.09  4.15  3.50   3.68  31.86  3.20   3.98   3.86   7.68\n",
       "min      0.54     0.74  0.91  0.91   0.91   0.38  0.92   0.88   0.89   0.79\n",
       "25%      1.89     1.79  1.08  1.04   1.05   1.75  1.04   1.14   1.14   1.31\n",
       "50%      6.60     6.42  2.23  1.81   1.83   4.67  1.73   2.07   2.02   2.70\n",
       "75%     44.76    18.56  7.79  4.96   5.07  21.25  4.46   5.44   5.18   7.95\n",
       "max     67.32    68.23  9.59  9.55  10.02  81.74  8.89  10.83  10.60  20.41"
      ]
     },
     "execution_count": 20,
     "metadata": {},
     "output_type": "execute_result"
    }
   ],
   "source": [
    "dataset_predict = pd.read_csv('./energy_predict_data/predict_result/model_score_%s.csv' % utils.getType(type))\n",
    "# 数据描述\n",
    "pd.set_option('precision', 2)\n",
    "dataset_predict.describe()"
   ]
  },
  {
   "cell_type": "markdown",
   "metadata": {},
   "source": [
    "#### 预测表所需字段"
   ]
  },
  {
   "cell_type": "code",
   "execution_count": null,
   "metadata": {
    "collapsed": true
   },
   "outputs": [],
   "source": [
    "columns_pred = ['id', 'type', 'lr', 'plr', 'svr_lr', 'svr_lr',\n",
    "           'svr_rbf', 'dtr', 'rtr', 'etr', 'abr', 'br', \n",
    "           'gbr', 'xgbr', 'mlpr', 'bpr']"
   ]
  },
  {
   "cell_type": "markdown",
   "metadata": {},
   "source": [
    "### 构造预测表的数据"
   ]
  },
  {
   "cell_type": "code",
   "execution_count": null,
   "metadata": {
    "collapsed": true
   },
   "outputs": [],
   "source": []
  }
 ],
 "metadata": {
  "kernelspec": {
   "display_name": "Python 3",
   "language": "python",
   "name": "python3"
  },
  "language_info": {
   "codemirror_mode": {
    "name": "ipython",
    "version": 3
   },
   "file_extension": ".py",
   "mimetype": "text/x-python",
   "name": "python",
   "nbconvert_exporter": "python",
   "pygments_lexer": "ipython3",
   "version": "3.6.2"
  },
  "toc": {
   "base_numbering": 1,
   "nav_menu": {},
   "number_sections": true,
   "sideBar": true,
   "skip_h1_title": false,
   "title_cell": "Table of Contents",
   "title_sidebar": "Contents",
   "toc_cell": false,
   "toc_position": {},
   "toc_section_display": true,
   "toc_window_display": false
  },
  "varInspector": {
   "cols": {
    "lenName": 16,
    "lenType": 16,
    "lenVar": 40
   },
   "kernels_config": {
    "python": {
     "delete_cmd_postfix": "",
     "delete_cmd_prefix": "del ",
     "library": "var_list.py",
     "varRefreshCmd": "print(var_dic_list())"
    },
    "r": {
     "delete_cmd_postfix": ") ",
     "delete_cmd_prefix": "rm(",
     "library": "var_list.r",
     "varRefreshCmd": "cat(var_dic_list()) "
    }
   },
   "types_to_exclude": [
    "module",
    "function",
    "builtin_function_or_method",
    "instance",
    "_Feature"
   ],
   "window_display": true
  }
 },
 "nbformat": 4,
 "nbformat_minor": 2
}
