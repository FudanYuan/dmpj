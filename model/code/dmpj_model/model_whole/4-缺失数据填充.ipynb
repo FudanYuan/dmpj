{
 "cells": [
  {
   "cell_type": "markdown",
   "metadata": {},
   "source": [
    "## 新能源电动汽车动力电池充电能量预测（四）——缺失数据填充"
   ]
  },
  {
   "cell_type": "code",
   "execution_count": 1,
   "metadata": {
    "collapsed": true
   },
   "outputs": [],
   "source": [
    "import pandas as pd\n",
    "import matplotlib.pyplot as plt\n",
    "import seaborn as sns\n",
    "%matplotlib inline\n",
    "import numpy as np\n",
    "from datetime import date, datetime\n",
    "from package import utils\n",
    "from scipy import stats"
   ]
  },
  {
   "cell_type": "markdown",
   "metadata": {},
   "source": [
    "### 数据导入"
   ]
  },
  {
   "cell_type": "code",
   "execution_count": 2,
   "metadata": {},
   "outputs": [
    {
     "data": {
      "text/html": [
       "<div>\n",
       "<style scoped>\n",
       "    .dataframe tbody tr th:only-of-type {\n",
       "        vertical-align: middle;\n",
       "    }\n",
       "\n",
       "    .dataframe tbody tr th {\n",
       "        vertical-align: top;\n",
       "    }\n",
       "\n",
       "    .dataframe thead th {\n",
       "        text-align: right;\n",
       "    }\n",
       "</style>\n",
       "<table border=\"1\" class=\"dataframe\">\n",
       "  <thead>\n",
       "    <tr style=\"text-align: right;\">\n",
       "      <th></th>\n",
       "      <th>vehicle_id</th>\n",
       "      <th>charge_start_time</th>\n",
       "      <th>charge_end_time</th>\n",
       "      <th>charge_duration</th>\n",
       "      <th>mileage</th>\n",
       "      <th>delta_mileage</th>\n",
       "      <th>charge_start_soc</th>\n",
       "      <th>charge_end_soc</th>\n",
       "      <th>charge_delta_soc</th>\n",
       "      <th>charge_start_U</th>\n",
       "      <th>charge_end_U</th>\n",
       "      <th>charge_start_I</th>\n",
       "      <th>charge_end_I</th>\n",
       "      <th>charge_max_temp</th>\n",
       "      <th>charge_min_temp</th>\n",
       "      <th>charge_delta_temp</th>\n",
       "      <th>charge_energy</th>\n",
       "    </tr>\n",
       "  </thead>\n",
       "  <tbody>\n",
       "    <tr>\n",
       "      <th>count</th>\n",
       "      <td>5990.00</td>\n",
       "      <td>5.99e+03</td>\n",
       "      <td>5.99e+03</td>\n",
       "      <td>5990.00</td>\n",
       "      <td>5990.00</td>\n",
       "      <td>5972.00</td>\n",
       "      <td>5913.00</td>\n",
       "      <td>5790.00</td>\n",
       "      <td>5788.00</td>\n",
       "      <td>5990.00</td>\n",
       "      <td>5980.00</td>\n",
       "      <td>5990.00</td>\n",
       "      <td>5980.00</td>\n",
       "      <td>5990.00</td>\n",
       "      <td>5990.00</td>\n",
       "      <td>5990.00</td>\n",
       "      <td>5978.00</td>\n",
       "    </tr>\n",
       "    <tr>\n",
       "      <th>mean</th>\n",
       "      <td>11.37</td>\n",
       "      <td>2.02e+13</td>\n",
       "      <td>2.02e+13</td>\n",
       "      <td>7178.32</td>\n",
       "      <td>103588.11</td>\n",
       "      <td>102.13</td>\n",
       "      <td>35.57</td>\n",
       "      <td>76.31</td>\n",
       "      <td>40.73</td>\n",
       "      <td>405.94</td>\n",
       "      <td>436.13</td>\n",
       "      <td>-43.74</td>\n",
       "      <td>-22.32</td>\n",
       "      <td>27.19</td>\n",
       "      <td>15.15</td>\n",
       "      <td>12.04</td>\n",
       "      <td>25.94</td>\n",
       "    </tr>\n",
       "    <tr>\n",
       "      <th>std</th>\n",
       "      <td>6.45</td>\n",
       "      <td>4.00e+09</td>\n",
       "      <td>4.00e+09</td>\n",
       "      <td>8366.48</td>\n",
       "      <td>30819.13</td>\n",
       "      <td>64.93</td>\n",
       "      <td>19.47</td>\n",
       "      <td>27.23</td>\n",
       "      <td>22.59</td>\n",
       "      <td>91.53</td>\n",
       "      <td>87.88</td>\n",
       "      <td>48.22</td>\n",
       "      <td>35.36</td>\n",
       "      <td>10.62</td>\n",
       "      <td>11.57</td>\n",
       "      <td>9.95</td>\n",
       "      <td>21.26</td>\n",
       "    </tr>\n",
       "    <tr>\n",
       "      <th>min</th>\n",
       "      <td>1.00</td>\n",
       "      <td>2.02e+13</td>\n",
       "      <td>2.02e+13</td>\n",
       "      <td>600.00</td>\n",
       "      <td>45631.70</td>\n",
       "      <td>0.00</td>\n",
       "      <td>0.00</td>\n",
       "      <td>0.00</td>\n",
       "      <td>0.00</td>\n",
       "      <td>252.30</td>\n",
       "      <td>0.00</td>\n",
       "      <td>-202.00</td>\n",
       "      <td>-400.00</td>\n",
       "      <td>-2.00</td>\n",
       "      <td>-7.00</td>\n",
       "      <td>0.00</td>\n",
       "      <td>0.22</td>\n",
       "    </tr>\n",
       "    <tr>\n",
       "      <th>25%</th>\n",
       "      <td>5.00</td>\n",
       "      <td>2.02e+13</td>\n",
       "      <td>2.02e+13</td>\n",
       "      <td>2168.25</td>\n",
       "      <td>78704.15</td>\n",
       "      <td>63.00</td>\n",
       "      <td>20.40</td>\n",
       "      <td>50.00</td>\n",
       "      <td>22.00</td>\n",
       "      <td>340.40</td>\n",
       "      <td>374.60</td>\n",
       "      <td>-59.80</td>\n",
       "      <td>-20.40</td>\n",
       "      <td>18.00</td>\n",
       "      <td>5.00</td>\n",
       "      <td>6.00</td>\n",
       "      <td>12.61</td>\n",
       "    </tr>\n",
       "    <tr>\n",
       "      <th>50%</th>\n",
       "      <td>11.00</td>\n",
       "      <td>2.02e+13</td>\n",
       "      <td>2.02e+13</td>\n",
       "      <td>3861.00</td>\n",
       "      <td>97276.05</td>\n",
       "      <td>93.15</td>\n",
       "      <td>34.00</td>\n",
       "      <td>88.00</td>\n",
       "      <td>38.00</td>\n",
       "      <td>361.50</td>\n",
       "      <td>391.60</td>\n",
       "      <td>-24.00</td>\n",
       "      <td>-9.30</td>\n",
       "      <td>30.00</td>\n",
       "      <td>14.00</td>\n",
       "      <td>9.00</td>\n",
       "      <td>19.59</td>\n",
       "    </tr>\n",
       "    <tr>\n",
       "      <th>75%</th>\n",
       "      <td>17.00</td>\n",
       "      <td>2.02e+13</td>\n",
       "      <td>2.02e+13</td>\n",
       "      <td>6429.00</td>\n",
       "      <td>122780.75</td>\n",
       "      <td>133.00</td>\n",
       "      <td>47.00</td>\n",
       "      <td>100.00</td>\n",
       "      <td>61.05</td>\n",
       "      <td>533.70</td>\n",
       "      <td>551.70</td>\n",
       "      <td>-9.00</td>\n",
       "      <td>-5.00</td>\n",
       "      <td>35.00</td>\n",
       "      <td>25.00</td>\n",
       "      <td>12.00</td>\n",
       "      <td>29.58</td>\n",
       "    </tr>\n",
       "    <tr>\n",
       "      <th>max</th>\n",
       "      <td>21.00</td>\n",
       "      <td>2.02e+13</td>\n",
       "      <td>2.02e+13</td>\n",
       "      <td>59960.00</td>\n",
       "      <td>182536.00</td>\n",
       "      <td>490.00</td>\n",
       "      <td>96.00</td>\n",
       "      <td>100.00</td>\n",
       "      <td>99.00</td>\n",
       "      <td>574.60</td>\n",
       "      <td>604.70</td>\n",
       "      <td>-0.10</td>\n",
       "      <td>8.00</td>\n",
       "      <td>52.00</td>\n",
       "      <td>46.00</td>\n",
       "      <td>51.00</td>\n",
       "      <td>103.72</td>\n",
       "    </tr>\n",
       "  </tbody>\n",
       "</table>\n",
       "</div>"
      ],
      "text/plain": [
       "       vehicle_id  charge_start_time  charge_end_time  charge_duration  \\\n",
       "count     5990.00           5.99e+03         5.99e+03          5990.00   \n",
       "mean        11.37           2.02e+13         2.02e+13          7178.32   \n",
       "std          6.45           4.00e+09         4.00e+09          8366.48   \n",
       "min          1.00           2.02e+13         2.02e+13           600.00   \n",
       "25%          5.00           2.02e+13         2.02e+13          2168.25   \n",
       "50%         11.00           2.02e+13         2.02e+13          3861.00   \n",
       "75%         17.00           2.02e+13         2.02e+13          6429.00   \n",
       "max         21.00           2.02e+13         2.02e+13         59960.00   \n",
       "\n",
       "         mileage  delta_mileage  charge_start_soc  charge_end_soc  \\\n",
       "count    5990.00        5972.00           5913.00         5790.00   \n",
       "mean   103588.11         102.13             35.57           76.31   \n",
       "std     30819.13          64.93             19.47           27.23   \n",
       "min     45631.70           0.00              0.00            0.00   \n",
       "25%     78704.15          63.00             20.40           50.00   \n",
       "50%     97276.05          93.15             34.00           88.00   \n",
       "75%    122780.75         133.00             47.00          100.00   \n",
       "max    182536.00         490.00             96.00          100.00   \n",
       "\n",
       "       charge_delta_soc  charge_start_U  charge_end_U  charge_start_I  \\\n",
       "count           5788.00         5990.00       5980.00         5990.00   \n",
       "mean              40.73          405.94        436.13          -43.74   \n",
       "std               22.59           91.53         87.88           48.22   \n",
       "min                0.00          252.30          0.00         -202.00   \n",
       "25%               22.00          340.40        374.60          -59.80   \n",
       "50%               38.00          361.50        391.60          -24.00   \n",
       "75%               61.05          533.70        551.70           -9.00   \n",
       "max               99.00          574.60        604.70           -0.10   \n",
       "\n",
       "       charge_end_I  charge_max_temp  charge_min_temp  charge_delta_temp  \\\n",
       "count       5980.00          5990.00          5990.00            5990.00   \n",
       "mean         -22.32            27.19            15.15              12.04   \n",
       "std           35.36            10.62            11.57               9.95   \n",
       "min         -400.00            -2.00            -7.00               0.00   \n",
       "25%          -20.40            18.00             5.00               6.00   \n",
       "50%           -9.30            30.00            14.00               9.00   \n",
       "75%           -5.00            35.00            25.00              12.00   \n",
       "max            8.00            52.00            46.00              51.00   \n",
       "\n",
       "       charge_energy  \n",
       "count        5978.00  \n",
       "mean           25.94  \n",
       "std            21.26  \n",
       "min             0.22  \n",
       "25%            12.61  \n",
       "50%            19.59  \n",
       "75%            29.58  \n",
       "max           103.72  "
      ]
     },
     "execution_count": 2,
     "metadata": {},
     "output_type": "execute_result"
    }
   ],
   "source": [
    "# 导入经过异常检测后的数据集合\n",
    "dataset = pd.read_csv('./energy_predict_data/data_prehandle/3_outlier_detection/predict_data_e_train.csv')\n",
    "# 数据字段\n",
    "header = dataset.columns.values.tolist()\n",
    "# 数据集大小\n",
    "count = np.max(dataset['vehicle_id'])\n",
    "# 数据描述\n",
    "pd.set_option('precision', 2)\n",
    "dataset.describe()"
   ]
  },
  {
   "cell_type": "markdown",
   "metadata": {},
   "source": [
    "#### 数据缺失情况"
   ]
  },
  {
   "cell_type": "code",
   "execution_count": 3,
   "metadata": {
    "scrolled": false
   },
   "outputs": [
    {
     "data": {
      "text/plain": [
       "vehicle_id             0\n",
       "charge_start_time      0\n",
       "charge_end_time        0\n",
       "charge_duration        0\n",
       "mileage                0\n",
       "delta_mileage         18\n",
       "charge_start_soc      77\n",
       "charge_end_soc       200\n",
       "charge_delta_soc     202\n",
       "charge_start_U         0\n",
       "charge_end_U          10\n",
       "charge_start_I         0\n",
       "charge_end_I          10\n",
       "charge_max_temp        0\n",
       "charge_min_temp        0\n",
       "charge_delta_temp      0\n",
       "charge_energy         12\n",
       "dtype: int64"
      ]
     },
     "execution_count": 3,
     "metadata": {},
     "output_type": "execute_result"
    }
   ],
   "source": [
    "dataset.isnull().sum()"
   ]
  },
  {
   "cell_type": "markdown",
   "metadata": {},
   "source": [
    "#### 每辆车上含有缺失值的数量分布"
   ]
  },
  {
   "cell_type": "code",
   "execution_count": 4,
   "metadata": {},
   "outputs": [
    {
     "name": "stderr",
     "output_type": "stream",
     "text": [
      "/Users/Jeremy/miniconda3/envs/test/lib/python3.6/site-packages/seaborn/categorical.py:1460: FutureWarning: remove_na is deprecated and is a private function. Do not use.\n",
      "  stat_data = remove_na(group_data)\n"
     ]
    },
    {
     "data": {
      "text/plain": [
       "<matplotlib.axes._subplots.AxesSubplot at 0x112ca09e8>"
      ]
     },
     "execution_count": 4,
     "metadata": {},
     "output_type": "execute_result"
    },
    {
     "data": {
      "image/png": "[encoded data removed]",
      "text/plain": [
       "<Figure size 432x288 with 1 Axes>"
      ]
     },
     "metadata": {},
     "output_type": "display_data"
    }
   ],
   "source": [
    "# 缺失数据集\n",
    "dataset_with_null = dataset[dataset.T.isnull().any()]\n",
    "null_index_list = dataset_with_null.index.tolist()\n",
    "for i in range(len(null_index_list)):\n",
    "    null_index_list[i] = null_index_list[i] - i\n",
    "sns.countplot(x='vehicle_id', data=dataset_with_null)"
   ]
  },
  {
   "cell_type": "markdown",
   "metadata": {},
   "source": [
    ">观察1：整体来说，缺失情况不是很严重；只有delta_mileage、charge_start_soc、charge_end_soc、charge_delta_soc、charge_energy这些字段存在缺失。\n",
    "\n",
    ">观察2：相对来说，第6辆车缺失较多。\n",
    "\n",
    ">方法：采用聚类思想进行数据填充：选择参与聚类的字段是很重要的，根据第2步特征工程的结论，我们选择charge_duration、delta_mileage、charge_start_soc、charge_delta_soc、charge_start_U、charge_min_temp这些特征信息进行聚类。然后，对含有缺失值记录按照欧式距离寻找距其最近的类，然后用该类中心属性值对缺失值进行填充。"
   ]
  },
  {
   "cell_type": "markdown",
   "metadata": {},
   "source": [
    "### 数据填充。"
   ]
  },
  {
   "cell_type": "markdown",
   "metadata": {},
   "source": [
    "#### 获取完美数据集"
   ]
  },
  {
   "cell_type": "code",
   "execution_count": 5,
   "metadata": {
    "collapsed": true
   },
   "outputs": [],
   "source": [
    "# 完美数据集\n",
    "dataset_without_null = dataset[~dataset.T.isnull().any()]"
   ]
  },
  {
   "cell_type": "code",
   "execution_count": 6,
   "metadata": {},
   "outputs": [
    {
     "name": "stderr",
     "output_type": "stream",
     "text": [
      "/Users/Jeremy/miniconda3/envs/test/lib/python3.6/site-packages/matplotlib/axes/_axes.py:6462: UserWarning: The 'normed' kwarg is deprecated, and has been replaced by the 'density' kwarg.\n",
      "  warnings.warn(\"The 'normed' kwarg is deprecated, and has been \"\n"
     ]
    },
    {
     "data": {
      "text/plain": [
       "((array([-3.67190921, -3.43876825, -3.31038175, ...,  3.31038175,\n",
       "          3.43876825,  3.67190921]),\n",
       "  array([   0.217,    0.413,    0.413, ...,  102.7  ,  103.674,  103.722])),\n",
       " (19.576391466200469, 26.242362278568947, 0.90849802418473746))"
      ]
     },
     "execution_count": 6,
     "metadata": {},
     "output_type": "execute_result"
    },
    {
     "data": {
      "image/png": "[encoded data removed]",
      "text/plain": [
       "<Figure size 432x288 with 1 Axes>"
      ]
     },
     "metadata": {},
     "output_type": "display_data"
    },
    {
     "data": {
      "image/png": "[encoded data removed]",
      "text/plain": [
       "<Figure size 432x288 with 1 Axes>"
      ]
     },
     "metadata": {},
     "output_type": "display_data"
    }
   ],
   "source": [
    "from scipy import stats\n",
    "fig = plt.figure()\n",
    "sns.distplot(dataset_without_null['charge_energy']);\n",
    "fig = plt.figure()\n",
    "stats.probplot(dataset_without_null['charge_energy'], plot=plt)"
   ]
  },
  {
   "cell_type": "markdown",
   "metadata": {},
   "source": [
    "#### 使用KMeans对用完美数据集进行聚类"
   ]
  },
  {
   "cell_type": "code",
   "execution_count": 7,
   "metadata": {},
   "outputs": [
    {
     "name": "stdout",
     "output_type": "stream",
     "text": [
      "<bound method KMeans.score of KMeans(algorithm='auto', copy_x=True, init='k-means++', max_iter=300,\n",
      "    n_clusters=5, n_init=10, n_jobs=1, precompute_distances='auto',\n",
      "    random_state=3, tol=0.0001, verbose=0)>\n"
     ]
    },
    {
     "name": "stderr",
     "output_type": "stream",
     "text": [
      "/Users/Jeremy/miniconda3/envs/test/lib/python3.6/site-packages/seaborn/categorical.py:1460: FutureWarning: remove_na is deprecated and is a private function. Do not use.\n",
      "  stat_data = remove_na(group_data)\n"
     ]
    },
    {
     "data": {
      "text/plain": [
       "<matplotlib.axes._subplots.AxesSubplot at 0x11758eef0>"
      ]
     },
     "execution_count": 7,
     "metadata": {},
     "output_type": "execute_result"
    },
    {
     "data": {
      "image/png": "[encoded data removed]",
      "text/plain": [
       "<Figure size 432x288 with 1 Axes>"
      ]
     },
     "metadata": {},
     "output_type": "display_data"
    }
   ],
   "source": [
    "from sklearn.cluster import KMeans\n",
    "#聚类和填充需要操作的列名\n",
    "compute_header = ['charge_duration', 'delta_mileage', 'charge_start_soc', 'charge_delta_soc', 'charge_min_temp', 'charge_energy']\n",
    "cluster_source = dataset_without_null[compute_header]\n",
    "kmeans = KMeans(n_clusters=5, random_state=3).fit(cluster_source)\n",
    "cluster = kmeans.cluster_centers_\n",
    "labels = kmeans.labels_\n",
    "print(kmeans.score)\n",
    "sns.countplot(labels)"
   ]
  },
  {
   "cell_type": "markdown",
   "metadata": {},
   "source": [
    "#### 利用聚类结果进行数据填充"
   ]
  },
  {
   "cell_type": "code",
   "execution_count": 8,
   "metadata": {
    "collapsed": true
   },
   "outputs": [],
   "source": [
    "#转化为array\n",
    "dataset_with_null_values = dataset_with_null[compute_header].values\n",
    "for i in range(len(dataset_with_null_values)):\n",
    "    maxD = float('inf')\n",
    "    maxV = []\n",
    "    data = dataset_with_null_values[i]\n",
    "    for center in cluster:\n",
    "        dis = utils.distance(center, data)\n",
    "        if dis < maxD:\n",
    "            maxD = dis\n",
    "            maxV = center\n",
    "    dataset_with_null_values[i] = utils.filling(maxV,data)\n",
    "    "
   ]
  },
  {
   "cell_type": "code",
   "execution_count": 9,
   "metadata": {},
   "outputs": [
    {
     "data": {
      "text/html": [
       "<div>\n",
       "<style scoped>\n",
       "    .dataframe tbody tr th:only-of-type {\n",
       "        vertical-align: middle;\n",
       "    }\n",
       "\n",
       "    .dataframe tbody tr th {\n",
       "        vertical-align: top;\n",
       "    }\n",
       "\n",
       "    .dataframe thead th {\n",
       "        text-align: right;\n",
       "    }\n",
       "</style>\n",
       "<table border=\"1\" class=\"dataframe\">\n",
       "  <thead>\n",
       "    <tr style=\"text-align: right;\">\n",
       "      <th></th>\n",
       "      <th>charge_duration</th>\n",
       "      <th>delta_mileage</th>\n",
       "      <th>charge_start_soc</th>\n",
       "      <th>charge_delta_soc</th>\n",
       "      <th>charge_min_temp</th>\n",
       "      <th>charge_energy</th>\n",
       "    </tr>\n",
       "  </thead>\n",
       "  <tbody>\n",
       "    <tr>\n",
       "      <th>count</th>\n",
       "      <td>232.00</td>\n",
       "      <td>232.00</td>\n",
       "      <td>232.00</td>\n",
       "      <td>232.00</td>\n",
       "      <td>232.00</td>\n",
       "      <td>232.00</td>\n",
       "    </tr>\n",
       "    <tr>\n",
       "      <th>mean</th>\n",
       "      <td>12019.18</td>\n",
       "      <td>98.98</td>\n",
       "      <td>34.08</td>\n",
       "      <td>48.25</td>\n",
       "      <td>7.94</td>\n",
       "      <td>18.38</td>\n",
       "    </tr>\n",
       "    <tr>\n",
       "      <th>std</th>\n",
       "      <td>10578.16</td>\n",
       "      <td>45.02</td>\n",
       "      <td>10.04</td>\n",
       "      <td>14.05</td>\n",
       "      <td>6.63</td>\n",
       "      <td>8.70</td>\n",
       "    </tr>\n",
       "    <tr>\n",
       "      <th>min</th>\n",
       "      <td>690.00</td>\n",
       "      <td>0.10</td>\n",
       "      <td>1.00</td>\n",
       "      <td>5.60</td>\n",
       "      <td>-2.00</td>\n",
       "      <td>1.99</td>\n",
       "    </tr>\n",
       "    <tr>\n",
       "      <th>25%</th>\n",
       "      <td>3852.50</td>\n",
       "      <td>80.65</td>\n",
       "      <td>29.20</td>\n",
       "      <td>45.44</td>\n",
       "      <td>3.00</td>\n",
       "      <td>14.51</td>\n",
       "    </tr>\n",
       "    <tr>\n",
       "      <th>50%</th>\n",
       "      <td>5275.00</td>\n",
       "      <td>92.75</td>\n",
       "      <td>33.60</td>\n",
       "      <td>45.44</td>\n",
       "      <td>7.00</td>\n",
       "      <td>19.58</td>\n",
       "    </tr>\n",
       "    <tr>\n",
       "      <th>75%</th>\n",
       "      <td>24200.75</td>\n",
       "      <td>108.55</td>\n",
       "      <td>38.84</td>\n",
       "      <td>60.52</td>\n",
       "      <td>10.00</td>\n",
       "      <td>21.23</td>\n",
       "    </tr>\n",
       "    <tr>\n",
       "      <th>max</th>\n",
       "      <td>35652.00</td>\n",
       "      <td>418.00</td>\n",
       "      <td>94.00</td>\n",
       "      <td>93.00</td>\n",
       "      <td>35.00</td>\n",
       "      <td>80.50</td>\n",
       "    </tr>\n",
       "  </tbody>\n",
       "</table>\n",
       "</div>"
      ],
      "text/plain": [
       "       charge_duration  delta_mileage  charge_start_soc  charge_delta_soc  \\\n",
       "count           232.00         232.00            232.00            232.00   \n",
       "mean          12019.18          98.98             34.08             48.25   \n",
       "std           10578.16          45.02             10.04             14.05   \n",
       "min             690.00           0.10              1.00              5.60   \n",
       "25%            3852.50          80.65             29.20             45.44   \n",
       "50%            5275.00          92.75             33.60             45.44   \n",
       "75%           24200.75         108.55             38.84             60.52   \n",
       "max           35652.00         418.00             94.00             93.00   \n",
       "\n",
       "       charge_min_temp  charge_energy  \n",
       "count           232.00         232.00  \n",
       "mean              7.94          18.38  \n",
       "std               6.63           8.70  \n",
       "min              -2.00           1.99  \n",
       "25%               3.00          14.51  \n",
       "50%               7.00          19.58  \n",
       "75%              10.00          21.23  \n",
       "max              35.00          80.50  "
      ]
     },
     "execution_count": 9,
     "metadata": {},
     "output_type": "execute_result"
    }
   ],
   "source": [
    "#填充结果覆盖到不完美数据集\n",
    "dataset_with_null_filled = pd.DataFrame(dataset_with_null_values,columns=compute_header)\n",
    "dataset_with_null_filled.describe()"
   ]
  },
  {
   "cell_type": "code",
   "execution_count": 10,
   "metadata": {
    "collapsed": true,
    "scrolled": false
   },
   "outputs": [],
   "source": [
    "dataset_with_null_filled['charge_end_soc'] = dataset_with_null_filled['charge_start_soc'] + dataset_with_null_filled['charge_delta_soc']\n",
    "temp = pd.DataFrame()\n",
    "for col in compute_header:\n",
    "    temp[col] = dataset_with_null_filled[col]\n",
    "\n",
    "for col in list(set(header).difference(set(compute_header))):\n",
    "    temp[col] = dataset_with_null[col].tolist()\n",
    "\n",
    "temp['charge_end_soc'] = dataset_with_null_filled['charge_end_soc'].tolist()\n",
    "temp = temp[header]\n",
    "\n",
    "# 填充后的完整数据集合\n",
    "dataset_whole = pd.DataFrame(\n",
    "    np.insert(dataset_without_null.values, null_index_list, temp.values, axis=0), \n",
    "    columns=dataset_without_null.columns)"
   ]
  },
  {
   "cell_type": "code",
   "execution_count": 11,
   "metadata": {},
   "outputs": [
    {
     "data": {
      "image/png": "[encoded data removed]",
      "text/plain": [
       "<Figure size 864x720 with 9 Axes>"
      ]
     },
     "metadata": {},
     "output_type": "display_data"
    }
   ],
   "source": [
    "features = ['charge_duration', \n",
    "            'delta_mileage',\n",
    "            'charge_start_soc', \n",
    "            'charge_delta_soc', \n",
    "            'charge_end_soc',\n",
    "            'charge_start_U',\n",
    "            'charge_start_I',\n",
    "            'charge_delta_temp']\n",
    "dataset_whole[features].hist(bins=20,figsize=(12,10),grid=False);"
   ]
  },
  {
   "cell_type": "markdown",
   "metadata": {},
   "source": [
    "### 保存完美数据、缺失数据及填充后的完整数据集"
   ]
  },
  {
   "cell_type": "code",
   "execution_count": 12,
   "metadata": {
    "collapsed": true
   },
   "outputs": [],
   "source": [
    "dataset_with_null.to_csv(\"./energy_predict_data/data_prehandle/4_fill_null/not_perfect/unfilled/predict_data_e_train.csv\", index=False)\n",
    "dataset_without_null.to_csv(\"./energy_predict_data/data_prehandle/4_fill_null/perfect/predict_data_e_train.csv\", index=False)\n",
    "temp.to_csv(\"./energy_predict_data/data_prehandle/4_fill_null/not_perfect/filled_by_kmeans/predict_data_e_train.csv\", index=False)\n",
    "dataset_whole.to_csv(\"./energy_predict_data/data_prehandle/4_fill_null/whole/filled_by_kmeans/predict_data_e_train.csv\", index=False)\n",
    "\n",
    "for i in range(1, count+1):\n",
    "    data_with_null = dataset_with_null[(dataset_with_null['vehicle_id']==i)]\n",
    "    data_with_null.to_csv(\"./energy_predict_data/data_prehandle/4_fill_null/not_perfect/unfilled/predict_data_e_train_%d.csv\" % i, index=False)\n",
    "    \n",
    "    data_without_null = dataset_without_null[(dataset_without_null['vehicle_id']==i)]\n",
    "    data_without_null.to_csv(\"./energy_predict_data/data_prehandle/4_fill_null/perfect/predict_data_e_train_%d.csv\" % i, index=False)\n",
    "    \n",
    "    data_fill_null = temp[(temp['vehicle_id']==i)]\n",
    "    data_fill_null.to_csv(\"./energy_predict_data/data_prehandle/4_fill_null/not_perfect/filled_by_kmeans/predict_data_e_train_%d.csv\" % i, index=False)\n",
    "    \n",
    "    data_whole = dataset_whole[(dataset_whole['vehicle_id']==i)]\n",
    "    data_whole.to_csv(\"./energy_predict_data/data_prehandle/4_fill_null/whole/filled_by_kmeans/predict_data_e_train_%d.csv\" % i, index=False)\n",
    "    "
   ]
  }
 ],
 "metadata": {
  "kernelspec": {
   "display_name": "Python 3",
   "language": "python",
   "name": "python3"
  },
  "language_info": {
   "codemirror_mode": {
    "name": "ipython",
    "version": 3
   },
   "file_extension": ".py",
   "mimetype": "text/x-python",
   "name": "python",
   "nbconvert_exporter": "python",
   "pygments_lexer": "ipython3",
   "version": "3.6.2"
  }
 },
 "nbformat": 4,
 "nbformat_minor": 2
}
