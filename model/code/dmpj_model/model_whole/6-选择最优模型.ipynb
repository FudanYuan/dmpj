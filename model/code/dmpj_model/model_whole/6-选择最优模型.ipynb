{
 "cells": [
  {
   "cell_type": "code",
   "execution_count": 1,
   "metadata": {
    "collapsed": true
   },
   "outputs": [],
   "source": [
    "import pandas as pd\n",
    "import matplotlib.pyplot as plt\n",
    "import seaborn as sns\n",
    "%matplotlib inline\n",
    "import numpy as np"
   ]
  },
  {
   "cell_type": "code",
   "execution_count": 2,
   "metadata": {},
   "outputs": [
    {
     "data": {
      "text/plain": [
       "vehicle_id           float64\n",
       "charge_start_time    float64\n",
       "charge_end_time      float64\n",
       "charge_duration      float64\n",
       "mileage              float64\n",
       "delta_mileage        float64\n",
       "charge_start_soc     float64\n",
       "charge_end_soc       float64\n",
       "charge_delta_soc     float64\n",
       "charge_start_U       float64\n",
       "charge_end_U         float64\n",
       "charge_start_I       float64\n",
       "charge_end_I         float64\n",
       "charge_max_temp      float64\n",
       "charge_min_temp      float64\n",
       "charge_delta_temp    float64\n",
       "charge_energy        float64\n",
       "dtype: object"
      ]
     },
     "execution_count": 2,
     "metadata": {},
     "output_type": "execute_result"
    }
   ],
   "source": [
    "dataset = pd.read_csv('./energy_predict_data/data_prehandle/4_fill_null/whole/filled_by_kmeans/predict_data_e_train.csv')\n",
    "# dataset = dataset[dataset['vehicle_id']  == 9]\n",
    "header = dataset.columns.values.tolist()\n",
    "dataset.describe()\n",
    "dataset.dtypes"
   ]
  },
  {
   "cell_type": "code",
   "execution_count": 3,
   "metadata": {},
   "outputs": [
    {
     "name": "stderr",
     "output_type": "stream",
     "text": [
      "/Users/Jeremy/miniconda3/envs/test/lib/python3.6/site-packages/matplotlib/axes/_axes.py:6462: UserWarning: The 'normed' kwarg is deprecated, and has been replaced by the 'density' kwarg.\n",
      "  warnings.warn(\"The 'normed' kwarg is deprecated, and has been \"\n"
     ]
    },
    {
     "data": {
      "image/png": "[encoded data removed]",
      "text/plain": [
       "<Figure size 432x288 with 1 Axes>"
      ]
     },
     "metadata": {},
     "output_type": "display_data"
    }
   ],
   "source": [
    "sns.distplot(dataset['charge_energy']);"
   ]
  },
  {
   "cell_type": "markdown",
   "metadata": {},
   "source": [
    "### 特征选择"
   ]
  },
  {
   "cell_type": "code",
   "execution_count": 4,
   "metadata": {},
   "outputs": [
    {
     "data": {
      "text/plain": [
       "(['charge_duration',\n",
       "  'delta_mileage',\n",
       "  'charge_start_soc',\n",
       "  'charge_delta_soc',\n",
       "  'charge_end_soc',\n",
       "  'charge_start_U',\n",
       "  'charge_start_I',\n",
       "  'charge_max_temp',\n",
       "  'charge_min_temp',\n",
       "  'charge_delta_temp'],\n",
       " 'charge_energy')"
      ]
     },
     "execution_count": 4,
     "metadata": {},
     "output_type": "execute_result"
    }
   ],
   "source": [
    "features = ['charge_duration', \n",
    "            'delta_mileage',\n",
    "            'charge_start_soc', \n",
    "            'charge_delta_soc', \n",
    "            'charge_end_soc',\n",
    "            'charge_start_U',\n",
    "            'charge_start_I',\n",
    "            'charge_max_temp',\n",
    "            'charge_min_temp',\n",
    "            'charge_delta_temp']\n",
    "label = header[16]\n",
    "features, label"
   ]
  },
  {
   "cell_type": "markdown",
   "metadata": {},
   "source": [
    "### 数据标准化"
   ]
  },
  {
   "cell_type": "code",
   "execution_count": 5,
   "metadata": {
    "collapsed": true
   },
   "outputs": [],
   "source": [
    "X = dataset[features]\n",
    "y = dataset[label]\n",
    "\n",
    "from sklearn import preprocessing\n",
    "scaler = preprocessing.StandardScaler()\n",
    "X = scaler.fit_transform(X.astype(np.float64))"
   ]
  },
  {
   "cell_type": "markdown",
   "metadata": {},
   "source": [
    "### 选择最优模型"
   ]
  },
  {
   "cell_type": "code",
   "execution_count": 6,
   "metadata": {},
   "outputs": [
    {
     "name": "stderr",
     "output_type": "stream",
     "text": [
      "/Users/Jeremy/miniconda3/envs/test/lib/python3.6/site-packages/sklearn/cross_validation.py:41: DeprecationWarning: This module was deprecated in version 0.18 in favor of the model_selection module into which all the refactored classes and functions are moved. Also note that the interface of the new CV iterators are different from that of this module. This module will be removed in 0.20.\n",
      "  \"This module will be removed in 0.20.\", DeprecationWarning)\n"
     ]
    },
    {
     "name": "stdout",
     "output_type": "stream",
     "text": [
      "0 LinearRegression\n",
      "[ 0.8766394   0.87517044  0.87060959  0.88103638  0.87260396  0.88030763]\n",
      "1 DecisionTreeRegressor\n",
      "[ 0.98986593  0.9942319   0.99239181  0.9948659   0.99128665  0.99089655]\n",
      "2 GradientBoostingRegressor\n",
      "[ 0.99067713  0.99134765  0.99075407  0.98956507  0.9898087   0.98666775]\n",
      "3 MLPRegressor\n",
      "[ 0.99139993  0.99241034  0.99256762  0.99368872  0.99119527  0.99054003]\n",
      "4 AdaBoostRegressor\n",
      "[ 0.94913585  0.9474208   0.94889354  0.95096957  0.95096738  0.95093738]\n",
      "5 BaggingRegressor\n",
      "[ 0.99395576  0.99582115  0.99567974  0.99574113  0.99348443  0.992611  ]\n",
      "6 ExtraTreesRegressor\n",
      "[ 0.99396633  0.99569659  0.99583936  0.99551598  0.99382367  0.99344887]\n",
      "7 RandomForestRegressor\n",
      "[ 0.99347314  0.99600935  0.99570742  0.99406558  0.99364325  0.99244436]\n",
      "8 LinearSVR\n",
      "[ 0.85731064  0.85056182  0.84877114  0.85912768  0.84745909  0.8586633 ]\n",
      "9 NuSVR\n",
      "[ 0.9325262   0.93531531  0.9366662   0.93183178  0.92706338  0.93960208]\n",
      "10 SVR\n",
      "[ 0.93346836  0.93657061  0.93714844  0.93217477  0.92740425  0.93969062]\n",
      "11 XGBRegressor\n",
      "[ 0.99050039  0.9914816   0.99036174  0.98994374  0.98988595  0.98641295]\n"
     ]
    },
    {
     "data": {
      "text/html": [
       "<div>\n",
       "<style scoped>\n",
       "    .dataframe tbody tr th:only-of-type {\n",
       "        vertical-align: middle;\n",
       "    }\n",
       "\n",
       "    .dataframe tbody tr th {\n",
       "        vertical-align: top;\n",
       "    }\n",
       "\n",
       "    .dataframe thead th {\n",
       "        text-align: right;\n",
       "    }\n",
       "</style>\n",
       "<table border=\"1\" class=\"dataframe\">\n",
       "  <thead>\n",
       "    <tr style=\"text-align: right;\">\n",
       "      <th></th>\n",
       "      <th>Name</th>\n",
       "      <th>Parameters</th>\n",
       "      <th>Train Accuracy Mean</th>\n",
       "      <th>Test Accuracy Mean</th>\n",
       "      <th>Test Accuracy Std</th>\n",
       "      <th>Comsumed Time</th>\n",
       "    </tr>\n",
       "  </thead>\n",
       "  <tbody>\n",
       "    <tr>\n",
       "      <th>6</th>\n",
       "      <td>ExtraTreesRegressor</td>\n",
       "      <td>{'bootstrap': False, 'criterion': 'mse', 'max_...</td>\n",
       "      <td>1</td>\n",
       "      <td>0.994715</td>\n",
       "      <td>0.000985506</td>\n",
       "      <td>0.102913</td>\n",
       "    </tr>\n",
       "    <tr>\n",
       "      <th>5</th>\n",
       "      <td>BaggingRegressor</td>\n",
       "      <td>{'base_estimator': None, 'bootstrap': True, 'b...</td>\n",
       "      <td>0.998879</td>\n",
       "      <td>0.994549</td>\n",
       "      <td>0.00126222</td>\n",
       "      <td>0.198187</td>\n",
       "    </tr>\n",
       "    <tr>\n",
       "      <th>7</th>\n",
       "      <td>RandomForestRegressor</td>\n",
       "      <td>{'bootstrap': True, 'criterion': 'mse', 'max_d...</td>\n",
       "      <td>0.998899</td>\n",
       "      <td>0.994224</td>\n",
       "      <td>0.00125707</td>\n",
       "      <td>0.196331</td>\n",
       "    </tr>\n",
       "    <tr>\n",
       "      <th>1</th>\n",
       "      <td>DecisionTreeRegressor</td>\n",
       "      <td>{'criterion': 'mse', 'max_depth': None, 'max_f...</td>\n",
       "      <td>1</td>\n",
       "      <td>0.992256</td>\n",
       "      <td>0.00179045</td>\n",
       "      <td>0.0326154</td>\n",
       "    </tr>\n",
       "    <tr>\n",
       "      <th>3</th>\n",
       "      <td>MLPRegressor</td>\n",
       "      <td>{'activation': 'relu', 'alpha': 0.0001, 'batch...</td>\n",
       "      <td>0.996449</td>\n",
       "      <td>0.991967</td>\n",
       "      <td>0.00103883</td>\n",
       "      <td>9.26397</td>\n",
       "    </tr>\n",
       "    <tr>\n",
       "      <th>2</th>\n",
       "      <td>GradientBoostingRegressor</td>\n",
       "      <td>{'alpha': 0.9, 'criterion': 'friedman_mse', 'i...</td>\n",
       "      <td>0.993029</td>\n",
       "      <td>0.989803</td>\n",
       "      <td>0.0015243</td>\n",
       "      <td>0.233652</td>\n",
       "    </tr>\n",
       "    <tr>\n",
       "      <th>11</th>\n",
       "      <td>XGBRegressor</td>\n",
       "      <td>{'base_score': 0.5, 'colsample_bylevel': 1, 'c...</td>\n",
       "      <td>0.992812</td>\n",
       "      <td>0.989764</td>\n",
       "      <td>0.00158779</td>\n",
       "      <td>0.153949</td>\n",
       "    </tr>\n",
       "    <tr>\n",
       "      <th>4</th>\n",
       "      <td>AdaBoostRegressor</td>\n",
       "      <td>{'base_estimator': None, 'learning_rate': 1.0,...</td>\n",
       "      <td>0.951639</td>\n",
       "      <td>0.949721</td>\n",
       "      <td>0.00134846</td>\n",
       "      <td>0.350389</td>\n",
       "    </tr>\n",
       "    <tr>\n",
       "      <th>10</th>\n",
       "      <td>SVR</td>\n",
       "      <td>{'C': 1.0, 'cache_size': 200, 'coef0': 0.0, 'd...</td>\n",
       "      <td>0.937389</td>\n",
       "      <td>0.93441</td>\n",
       "      <td>0.00397944</td>\n",
       "      <td>0.769866</td>\n",
       "    </tr>\n",
       "    <tr>\n",
       "      <th>9</th>\n",
       "      <td>NuSVR</td>\n",
       "      <td>{'C': 1.0, 'cache_size': 200, 'coef0': 0.0, 'd...</td>\n",
       "      <td>0.936619</td>\n",
       "      <td>0.933834</td>\n",
       "      <td>0.0039801</td>\n",
       "      <td>0.579691</td>\n",
       "    </tr>\n",
       "    <tr>\n",
       "      <th>0</th>\n",
       "      <td>LinearRegression</td>\n",
       "      <td>{'copy_X': True, 'fit_intercept': True, 'n_job...</td>\n",
       "      <td>0.878693</td>\n",
       "      <td>0.876061</td>\n",
       "      <td>0.00377679</td>\n",
       "      <td>0.00249465</td>\n",
       "    </tr>\n",
       "    <tr>\n",
       "      <th>8</th>\n",
       "      <td>LinearSVR</td>\n",
       "      <td>{'C': 1.0, 'dual': True, 'epsilon': 0.0, 'fit_...</td>\n",
       "      <td>0.859353</td>\n",
       "      <td>0.853649</td>\n",
       "      <td>0.00483401</td>\n",
       "      <td>0.013292</td>\n",
       "    </tr>\n",
       "  </tbody>\n",
       "</table>\n",
       "</div>"
      ],
      "text/plain": [
       "                         Name  \\\n",
       "6         ExtraTreesRegressor   \n",
       "5            BaggingRegressor   \n",
       "7       RandomForestRegressor   \n",
       "1       DecisionTreeRegressor   \n",
       "3                MLPRegressor   \n",
       "2   GradientBoostingRegressor   \n",
       "11               XGBRegressor   \n",
       "4           AdaBoostRegressor   \n",
       "10                        SVR   \n",
       "9                       NuSVR   \n",
       "0            LinearRegression   \n",
       "8                   LinearSVR   \n",
       "\n",
       "                                           Parameters Train Accuracy Mean  \\\n",
       "6   {'bootstrap': False, 'criterion': 'mse', 'max_...                   1   \n",
       "5   {'base_estimator': None, 'bootstrap': True, 'b...            0.998879   \n",
       "7   {'bootstrap': True, 'criterion': 'mse', 'max_d...            0.998899   \n",
       "1   {'criterion': 'mse', 'max_depth': None, 'max_f...                   1   \n",
       "3   {'activation': 'relu', 'alpha': 0.0001, 'batch...            0.996449   \n",
       "2   {'alpha': 0.9, 'criterion': 'friedman_mse', 'i...            0.993029   \n",
       "11  {'base_score': 0.5, 'colsample_bylevel': 1, 'c...            0.992812   \n",
       "4   {'base_estimator': None, 'learning_rate': 1.0,...            0.951639   \n",
       "10  {'C': 1.0, 'cache_size': 200, 'coef0': 0.0, 'd...            0.937389   \n",
       "9   {'C': 1.0, 'cache_size': 200, 'coef0': 0.0, 'd...            0.936619   \n",
       "0   {'copy_X': True, 'fit_intercept': True, 'n_job...            0.878693   \n",
       "8   {'C': 1.0, 'dual': True, 'epsilon': 0.0, 'fit_...            0.859353   \n",
       "\n",
       "   Test Accuracy Mean Test Accuracy Std Comsumed Time  \n",
       "6            0.994715       0.000985506      0.102913  \n",
       "5            0.994549        0.00126222      0.198187  \n",
       "7            0.994224        0.00125707      0.196331  \n",
       "1            0.992256        0.00179045     0.0326154  \n",
       "3            0.991967        0.00103883       9.26397  \n",
       "2            0.989803         0.0015243      0.233652  \n",
       "11           0.989764        0.00158779      0.153949  \n",
       "4            0.949721        0.00134846      0.350389  \n",
       "10            0.93441        0.00397944      0.769866  \n",
       "9            0.933834         0.0039801      0.579691  \n",
       "0            0.876061        0.00377679    0.00249465  \n",
       "8            0.853649        0.00483401      0.013292  "
      ]
     },
     "execution_count": 6,
     "metadata": {},
     "output_type": "execute_result"
    }
   ],
   "source": [
    "from sklearn.model_selection import cross_validate\n",
    "from sklearn.model_selection import ShuffleSplit\n",
    "\n",
    "from sklearn.linear_model import LinearRegression\n",
    "from sklearn.tree import DecisionTreeRegressor\n",
    "from sklearn.ensemble import GradientBoostingRegressor\n",
    "from sklearn.neural_network import MLPRegressor\n",
    "from sklearn.ensemble import AdaBoostRegressor\n",
    "from sklearn.ensemble import BaggingRegressor\n",
    "from sklearn.ensemble import ExtraTreesRegressor\n",
    "from sklearn.ensemble import RandomForestRegressor\n",
    "from sklearn.svm import LinearSVR\n",
    "from sklearn.svm import NuSVR\n",
    "from sklearn.svm import SVR\n",
    "from xgboost import XGBRegressor\n",
    "\n",
    "estimator_list = [\n",
    "    LinearRegression(),\n",
    "    DecisionTreeRegressor(),\n",
    "    GradientBoostingRegressor(),\n",
    "    MLPRegressor(solver='lbfgs', max_iter=1000),\n",
    "    AdaBoostRegressor(),\n",
    "    BaggingRegressor(),\n",
    "    ExtraTreesRegressor(),\n",
    "    RandomForestRegressor(),\n",
    "    LinearSVR(),\n",
    "    NuSVR(),\n",
    "    SVR(),\n",
    "    XGBRegressor()\n",
    "]\n",
    "\n",
    "cv_split = ShuffleSplit(n_splits=6, train_size=0.75, test_size=0.25, random_state=13)\n",
    "df_columns = ['Name', 'Parameters', 'Train Accuracy Mean', 'Test Accuracy Mean', 'Test Accuracy Std', 'Comsumed Time']\n",
    "df = pd.DataFrame(columns=df_columns)\n",
    "\n",
    "row_index = 0\n",
    "for estimator in estimator_list:\n",
    "    df.loc[row_index, 'Name'] = estimator.__class__.__name__\n",
    "    df.loc[row_index, 'Parameters'] = str(estimator.get_params())\n",
    "    cv_results = cross_validate(estimator, X, y, cv=cv_split)\n",
    "    df.loc[row_index, 'Train Accuracy Mean'] = cv_results['train_score'].mean()\n",
    "    df.loc[row_index, 'Test Accuracy Mean'] = cv_results['test_score'].mean()\n",
    "    df.loc[row_index, 'Test Accuracy Std'] = cv_results['test_score'].std()\n",
    "    df.loc[row_index, 'Comsumed Time'] = cv_results['fit_time'].mean()\n",
    "    print(row_index, estimator.__class__.__name__)\n",
    "    print(cv_results['test_score'])\n",
    "    row_index += 1\n",
    "df = df.sort_values(by='Test Accuracy Mean', ascending=False)\n",
    "df.to_csv('./energy_predict_data/cross_validate/score.csv', index=False)\n",
    "df"
   ]
  },
  {
   "cell_type": "markdown",
   "metadata": {},
   "source": [
    "### 搜索模型最优参数"
   ]
  },
  {
   "cell_type": "code",
   "execution_count": 7,
   "metadata": {},
   "outputs": [
    {
     "name": "stdout",
     "output_type": "stream",
     "text": [
      "GridSearchCV process use 1438.27 seconds\n"
     ]
    }
   ],
   "source": [
    "from sklearn.model_selection import ShuffleSplit\n",
    "from sklearn.model_selection import GridSearchCV\n",
    "import numpy as np \n",
    "import time\n",
    "\n",
    "model = ExtraTreesRegressor()\n",
    "\n",
    "cv_split = ShuffleSplit(n_splits=6, train_size=0.7, test_size=0.2)\n",
    "param_grid = dict(\n",
    "    max_depth = [4, 5, 6, 7, 8, 9, 10],\n",
    "    min_samples_leaf = [1, 2, 3, 4, 5],\n",
    "    min_samples_split = [0.1, 0.3, 0.5, 0.7, 0.9, 1.0],\n",
    "#     learning_rate = np.linspace(0.03, 0.3, 10),\n",
    "    n_estimators = [50, 100, 200, 300]\n",
    ")\n",
    "start = time.time()\n",
    "grid = GridSearchCV(model, param_grid, cv=cv_split, scoring='neg_mean_squared_error')\n",
    "grid.fit(X, y)\n",
    "print('GridSearchCV process use %.2f seconds'%(time.time()-start))"
   ]
  },
  {
   "cell_type": "code",
   "execution_count": 8,
   "metadata": {},
   "outputs": [
    {
     "name": "stdout",
     "output_type": "stream",
     "text": [
      "{'max_depth': 8, 'min_samples_leaf': 1, 'min_samples_split': 0.1, 'n_estimators': 50}\n",
      "-29.204392866\n",
      "840\n"
     ]
    }
   ],
   "source": [
    "print(grid.best_params_)\n",
    "print(grid.best_score_)\n",
    "print(len(grid._get_param_iterator()))"
   ]
  },
  {
   "cell_type": "code",
   "execution_count": null,
   "metadata": {
    "collapsed": true
   },
   "outputs": [],
   "source": []
  }
 ],
 "metadata": {
  "kernelspec": {
   "display_name": "Python 3",
   "language": "python",
   "name": "python3"
  },
  "language_info": {
   "codemirror_mode": {
    "name": "ipython",
    "version": 3
   },
   "file_extension": ".py",
   "mimetype": "text/x-python",
   "name": "python",
   "nbconvert_exporter": "python",
   "pygments_lexer": "ipython3",
   "version": "3.6.2"
  }
 },
 "nbformat": 4,
 "nbformat_minor": 2
}
