{
 "cells": [
  {
   "cell_type": "code",
   "execution_count": 31,
   "metadata": {
    "ExecuteTime": {
     "end_time": "2018-12-21T06:53:57.145937Z",
     "start_time": "2018-12-21T06:53:57.143936Z"
    },
    "collapsed": true
   },
   "outputs": [],
   "source": [
    "import pandas as pd \n",
    "from sklearn import metrics\n",
    "import numpy as np"
   ]
  },
  {
   "cell_type": "code",
   "execution_count": 32,
   "metadata": {
    "ExecuteTime": {
     "end_time": "2018-12-21T06:53:57.875018Z",
     "start_time": "2018-12-21T06:53:57.827109Z"
    },
    "collapsed": true
   },
   "outputs": [],
   "source": [
    "i = 4 # i的值为读取第几辆车 读取第一辆车  type值为 3 的时候是既填充也标准化 预计填充并标准化后效果好 所以只写了对这一种的处理\n",
    "data_pre = pd.read_csv('data_pre_3_%d.csv' %i)\n",
    "data_train = pd.read_csv('predict_data_e_train_%d.csv' %i)"
   ]
  },
  {
   "cell_type": "code",
   "execution_count": 33,
   "metadata": {
    "ExecuteTime": {
     "end_time": "2018-12-21T06:53:58.531447Z",
     "start_time": "2018-12-21T06:53:58.527451Z"
    }
   },
   "outputs": [
    {
     "data": {
      "text/plain": [
       "'type'"
      ]
     },
     "execution_count": 33,
     "metadata": {},
     "output_type": "execute_result"
    }
   ],
   "source": [
    "list_columns = data_pre.columns.tolist()\n",
    "list_columns.pop(0)\n",
    "list_columns.pop(0) #执行两次pop 将id和type抛出"
   ]
  },
  {
   "cell_type": "code",
   "execution_count": 34,
   "metadata": {
    "ExecuteTime": {
     "end_time": "2018-12-21T06:53:59.199654Z",
     "start_time": "2018-12-21T06:53:59.193669Z"
    },
    "collapsed": true
   },
   "outputs": [],
   "source": [
    "def get_error(data_pre, data_train, list_algorithm):\n",
    "    error = pd.DataFrame(columns=list_columns,index=['MSE', 'RMSE', 'MAE', 'RANK'])\n",
    "    for i in list_columns:\n",
    "        error.loc['MSE',[i]] = metrics.mean_squared_error(data_train['charge_energy'], data_pre[i])\n",
    "        error.loc['RMSE',[i]] = np.sqrt(metrics.mean_squared_error(data_train['charge_energy'], data_pre[i]))\n",
    "        error.loc['MAE',[i]] = metrics.mean_absolute_error(data_train['charge_energy'], data_pre[i])\n",
    "        error.loc['RANK',[i]] = get_rank(data_train['charge_energy'], data_pre[i])\n",
    "    return error\n",
    "def get_rank(y_test, y_pred):\n",
    "    '''\n",
    "        比赛指标  根据阴振生改的  可能存在问题\n",
    "    '''\n",
    "    error_array = np.array(y_pred - y_test)\n",
    "    error_rate = np.sqrt(np.sum(np.power(error_array,2)))\n",
    "    return error_rate"
   ]
  },
  {
   "cell_type": "code",
   "execution_count": 35,
   "metadata": {
    "ExecuteTime": {
     "end_time": "2018-12-21T06:53:59.938679Z",
     "start_time": "2018-12-21T06:53:59.899790Z"
    },
    "collapsed": true
   },
   "outputs": [],
   "source": [
    "error = get_error(data_pre, data_train, list_columns)\n",
    "error.to_csv('data_error_3_%d.csv' % i, index = True)"
   ]
  },
  {
   "cell_type": "code",
   "execution_count": 7,
   "metadata": {},
   "outputs": [
    {
     "data": {
      "text/plain": [
       "0.052083333333333322"
      ]
     },
     "execution_count": 7,
     "metadata": {},
     "output_type": "execute_result"
    }
   ],
   "source": [
    "import numpy as np\n",
    "y_test = np.array([1, 2, 3, 4])\n",
    "y_pred = np.array([0.9, 1.9, 2.9, 4.1])\n",
    "np.sum(np.abs(np.array(((y_test - y_pred) / y_test))) / len(y_test))"
   ]
  }
 ],
 "metadata": {
  "kernelspec": {
   "display_name": "Python 3",
   "language": "python",
   "name": "python3"
  },
  "language_info": {
   "codemirror_mode": {
    "name": "ipython",
    "version": 3
   },
   "file_extension": ".py",
   "mimetype": "text/x-python",
   "name": "python",
   "nbconvert_exporter": "python",
   "pygments_lexer": "ipython3",
   "version": "3.6.2"
  },
  "toc": {
   "base_numbering": 1,
   "nav_menu": {},
   "number_sections": true,
   "sideBar": true,
   "skip_h1_title": false,
   "title_cell": "Table of Contents",
   "title_sidebar": "Contents",
   "toc_cell": false,
   "toc_position": {},
   "toc_section_display": true,
   "toc_window_display": false
  },
  "varInspector": {
   "cols": {
    "lenName": 16,
    "lenType": 16,
    "lenVar": 40
   },
   "kernels_config": {
    "python": {
     "delete_cmd_postfix": "",
     "delete_cmd_prefix": "del ",
     "library": "var_list.py",
     "varRefreshCmd": "print(var_dic_list())"
    },
    "r": {
     "delete_cmd_postfix": ") ",
     "delete_cmd_prefix": "rm(",
     "library": "var_list.r",
     "varRefreshCmd": "cat(var_dic_list()) "
    }
   },
   "types_to_exclude": [
    "module",
    "function",
    "builtin_function_or_method",
    "instance",
    "_Feature"
   ],
   "window_display": true
  }
 },
 "nbformat": 4,
 "nbformat_minor": 2
}
