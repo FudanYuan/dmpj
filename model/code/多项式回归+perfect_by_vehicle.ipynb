{
 "cells": [
  {
   "cell_type": "code",
   "execution_count": 1,
   "metadata": {
    "collapsed": true
   },
   "outputs": [],
   "source": [
    "import pandas as pd\n",
    "import matplotlib.pyplot as plt\n",
    "import seaborn as sns\n",
    "%matplotlib inline\n",
    "import numpy as np"
   ]
  },
  {
   "cell_type": "markdown",
   "metadata": {},
   "source": [
    "### 加载数据集"
   ]
  },
  {
   "cell_type": "code",
   "execution_count": 2,
   "metadata": {},
   "outputs": [
    {
     "data": {
      "text/html": [
       "<div>\n",
       "<style scoped>\n",
       "    .dataframe tbody tr th:only-of-type {\n",
       "        vertical-align: middle;\n",
       "    }\n",
       "\n",
       "    .dataframe tbody tr th {\n",
       "        vertical-align: top;\n",
       "    }\n",
       "\n",
       "    .dataframe thead th {\n",
       "        text-align: right;\n",
       "    }\n",
       "</style>\n",
       "<table border=\"1\" class=\"dataframe\">\n",
       "  <thead>\n",
       "    <tr style=\"text-align: right;\">\n",
       "      <th></th>\n",
       "      <th>vehicle_id</th>\n",
       "      <th>charge_start_time</th>\n",
       "      <th>charge_end_time</th>\n",
       "      <th>charge_duration</th>\n",
       "      <th>mileage</th>\n",
       "      <th>delta_mileage</th>\n",
       "      <th>charge_start_soc</th>\n",
       "      <th>charge_end_soc</th>\n",
       "      <th>charge_delta_soc</th>\n",
       "      <th>charge_start_U</th>\n",
       "      <th>charge_end_U</th>\n",
       "      <th>charge_start_I</th>\n",
       "      <th>charge_end_I</th>\n",
       "      <th>charge_max_temp</th>\n",
       "      <th>charge_min_temp</th>\n",
       "      <th>charge_energy</th>\n",
       "    </tr>\n",
       "  </thead>\n",
       "  <tbody>\n",
       "    <tr>\n",
       "      <th>count</th>\n",
       "      <td>172.0</td>\n",
       "      <td>1.720000e+02</td>\n",
       "      <td>1.720000e+02</td>\n",
       "      <td>172.000000</td>\n",
       "      <td>172.000000</td>\n",
       "      <td>172.000000</td>\n",
       "      <td>172.000000</td>\n",
       "      <td>172.000000</td>\n",
       "      <td>172.000000</td>\n",
       "      <td>172.000000</td>\n",
       "      <td>172.000000</td>\n",
       "      <td>172.000000</td>\n",
       "      <td>172.00000</td>\n",
       "      <td>172.000000</td>\n",
       "      <td>172.000000</td>\n",
       "      <td>172.000000</td>\n",
       "    </tr>\n",
       "    <tr>\n",
       "      <th>mean</th>\n",
       "      <td>5.0</td>\n",
       "      <td>2.017711e+13</td>\n",
       "      <td>2.017711e+13</td>\n",
       "      <td>2716.110465</td>\n",
       "      <td>93807.004651</td>\n",
       "      <td>138.541860</td>\n",
       "      <td>44.552326</td>\n",
       "      <td>92.116279</td>\n",
       "      <td>47.563953</td>\n",
       "      <td>557.552326</td>\n",
       "      <td>579.100000</td>\n",
       "      <td>-126.587209</td>\n",
       "      <td>-91.47093</td>\n",
       "      <td>38.755814</td>\n",
       "      <td>27.238372</td>\n",
       "      <td>60.479291</td>\n",
       "    </tr>\n",
       "    <tr>\n",
       "      <th>std</th>\n",
       "      <td>0.0</td>\n",
       "      <td>4.423509e+09</td>\n",
       "      <td>4.423505e+09</td>\n",
       "      <td>1704.842636</td>\n",
       "      <td>18672.648535</td>\n",
       "      <td>87.348396</td>\n",
       "      <td>16.058834</td>\n",
       "      <td>10.631982</td>\n",
       "      <td>20.967016</td>\n",
       "      <td>6.242183</td>\n",
       "      <td>10.429726</td>\n",
       "      <td>65.818805</td>\n",
       "      <td>88.61253</td>\n",
       "      <td>5.087391</td>\n",
       "      <td>5.620153</td>\n",
       "      <td>25.706147</td>\n",
       "    </tr>\n",
       "    <tr>\n",
       "      <th>min</th>\n",
       "      <td>5.0</td>\n",
       "      <td>2.017110e+13</td>\n",
       "      <td>2.017110e+13</td>\n",
       "      <td>240.000000</td>\n",
       "      <td>65877.400000</td>\n",
       "      <td>34.100000</td>\n",
       "      <td>20.000000</td>\n",
       "      <td>41.000000</td>\n",
       "      <td>4.000000</td>\n",
       "      <td>543.300000</td>\n",
       "      <td>561.000000</td>\n",
       "      <td>-200.000000</td>\n",
       "      <td>-199.00000</td>\n",
       "      <td>28.000000</td>\n",
       "      <td>13.000000</td>\n",
       "      <td>2.041000</td>\n",
       "    </tr>\n",
       "    <tr>\n",
       "      <th>25%</th>\n",
       "      <td>5.0</td>\n",
       "      <td>2.017121e+13</td>\n",
       "      <td>2.017121e+13</td>\n",
       "      <td>1572.500000</td>\n",
       "      <td>77089.175000</td>\n",
       "      <td>94.175000</td>\n",
       "      <td>31.000000</td>\n",
       "      <td>85.000000</td>\n",
       "      <td>35.000000</td>\n",
       "      <td>552.800000</td>\n",
       "      <td>572.775000</td>\n",
       "      <td>-189.000000</td>\n",
       "      <td>-189.25000</td>\n",
       "      <td>35.000000</td>\n",
       "      <td>23.750000</td>\n",
       "      <td>45.124750</td>\n",
       "    </tr>\n",
       "    <tr>\n",
       "      <th>50%</th>\n",
       "      <td>5.0</td>\n",
       "      <td>2.018020e+13</td>\n",
       "      <td>2.018020e+13</td>\n",
       "      <td>2240.000000</td>\n",
       "      <td>90870.650000</td>\n",
       "      <td>143.850000</td>\n",
       "      <td>42.000000</td>\n",
       "      <td>98.000000</td>\n",
       "      <td>46.500000</td>\n",
       "      <td>558.150000</td>\n",
       "      <td>575.050000</td>\n",
       "      <td>-151.000000</td>\n",
       "      <td>-39.50000</td>\n",
       "      <td>38.000000</td>\n",
       "      <td>27.000000</td>\n",
       "      <td>60.896000</td>\n",
       "    </tr>\n",
       "    <tr>\n",
       "      <th>75%</th>\n",
       "      <td>5.0</td>\n",
       "      <td>2.018050e+13</td>\n",
       "      <td>2.018050e+13</td>\n",
       "      <td>3635.000000</td>\n",
       "      <td>111906.300000</td>\n",
       "      <td>146.700000</td>\n",
       "      <td>54.000000</td>\n",
       "      <td>100.000000</td>\n",
       "      <td>68.000000</td>\n",
       "      <td>561.500000</td>\n",
       "      <td>587.325000</td>\n",
       "      <td>-69.500000</td>\n",
       "      <td>-5.00000</td>\n",
       "      <td>43.000000</td>\n",
       "      <td>31.000000</td>\n",
       "      <td>84.717750</td>\n",
       "    </tr>\n",
       "    <tr>\n",
       "      <th>max</th>\n",
       "      <td>5.0</td>\n",
       "      <td>2.018071e+13</td>\n",
       "      <td>2.018071e+13</td>\n",
       "      <td>6980.000000</td>\n",
       "      <td>128177.500000</td>\n",
       "      <td>869.000000</td>\n",
       "      <td>96.000000</td>\n",
       "      <td>100.000000</td>\n",
       "      <td>79.000000</td>\n",
       "      <td>585.100000</td>\n",
       "      <td>604.800000</td>\n",
       "      <td>-3.000000</td>\n",
       "      <td>-1.00000</td>\n",
       "      <td>50.000000</td>\n",
       "      <td>41.000000</td>\n",
       "      <td>100.792000</td>\n",
       "    </tr>\n",
       "  </tbody>\n",
       "</table>\n",
       "</div>"
      ],
      "text/plain": [
       "       vehicle_id  charge_start_time  charge_end_time  charge_duration  \\\n",
       "count       172.0       1.720000e+02     1.720000e+02       172.000000   \n",
       "mean          5.0       2.017711e+13     2.017711e+13      2716.110465   \n",
       "std           0.0       4.423509e+09     4.423505e+09      1704.842636   \n",
       "min           5.0       2.017110e+13     2.017110e+13       240.000000   \n",
       "25%           5.0       2.017121e+13     2.017121e+13      1572.500000   \n",
       "50%           5.0       2.018020e+13     2.018020e+13      2240.000000   \n",
       "75%           5.0       2.018050e+13     2.018050e+13      3635.000000   \n",
       "max           5.0       2.018071e+13     2.018071e+13      6980.000000   \n",
       "\n",
       "             mileage  delta_mileage  charge_start_soc  charge_end_soc  \\\n",
       "count     172.000000     172.000000        172.000000      172.000000   \n",
       "mean    93807.004651     138.541860         44.552326       92.116279   \n",
       "std     18672.648535      87.348396         16.058834       10.631982   \n",
       "min     65877.400000      34.100000         20.000000       41.000000   \n",
       "25%     77089.175000      94.175000         31.000000       85.000000   \n",
       "50%     90870.650000     143.850000         42.000000       98.000000   \n",
       "75%    111906.300000     146.700000         54.000000      100.000000   \n",
       "max    128177.500000     869.000000         96.000000      100.000000   \n",
       "\n",
       "       charge_delta_soc  charge_start_U  charge_end_U  charge_start_I  \\\n",
       "count        172.000000      172.000000    172.000000      172.000000   \n",
       "mean          47.563953      557.552326    579.100000     -126.587209   \n",
       "std           20.967016        6.242183     10.429726       65.818805   \n",
       "min            4.000000      543.300000    561.000000     -200.000000   \n",
       "25%           35.000000      552.800000    572.775000     -189.000000   \n",
       "50%           46.500000      558.150000    575.050000     -151.000000   \n",
       "75%           68.000000      561.500000    587.325000      -69.500000   \n",
       "max           79.000000      585.100000    604.800000       -3.000000   \n",
       "\n",
       "       charge_end_I  charge_max_temp  charge_min_temp  charge_energy  \n",
       "count     172.00000       172.000000       172.000000     172.000000  \n",
       "mean      -91.47093        38.755814        27.238372      60.479291  \n",
       "std        88.61253         5.087391         5.620153      25.706147  \n",
       "min      -199.00000        28.000000        13.000000       2.041000  \n",
       "25%      -189.25000        35.000000        23.750000      45.124750  \n",
       "50%       -39.50000        38.000000        27.000000      60.896000  \n",
       "75%        -5.00000        43.000000        31.000000      84.717750  \n",
       "max        -1.00000        50.000000        41.000000     100.792000  "
      ]
     },
     "execution_count": 2,
     "metadata": {},
     "output_type": "execute_result"
    }
   ],
   "source": [
    "data_root = '.'  # 改成自己电脑上的路径即可\n",
    "dataset = pd.read_csv(data_root + '/perfect_5.csv')\n",
    "header = dataset.columns.values.tolist()\n",
    "dataset.describe()"
   ]
  },
  {
   "cell_type": "code",
   "execution_count": 3,
   "metadata": {},
   "outputs": [
    {
     "name": "stderr",
     "output_type": "stream",
     "text": [
      "/Users/Jeremy/miniconda3/envs/test/lib/python3.6/site-packages/matplotlib/axes/_axes.py:6462: UserWarning: The 'normed' kwarg is deprecated, and has been replaced by the 'density' kwarg.\n",
      "  warnings.warn(\"The 'normed' kwarg is deprecated, and has been \"\n"
     ]
    },
    {
     "data": {
      "image/png": "[encoded data removed]",
      "text/plain": [
       "<Figure size 432x288 with 1 Axes>"
      ]
     },
     "metadata": {},
     "output_type": "display_data"
    }
   ],
   "source": [
    "sns.distplot(dataset['charge_energy']);"
   ]
  },
  {
   "cell_type": "markdown",
   "metadata": {},
   "source": [
    "### 特征选择"
   ]
  },
  {
   "cell_type": "code",
   "execution_count": 4,
   "metadata": {
    "collapsed": true
   },
   "outputs": [],
   "source": [
    "features = ['charge_duration', 'charge_start_soc', 'charge_start_U']\n",
    "X = dataset[header[3:14]] # \n",
    "y = dataset[header[15]]"
   ]
  },
  {
   "cell_type": "markdown",
   "metadata": {},
   "source": [
    "### 将数据区分为训练集和测试集"
   ]
  },
  {
   "cell_type": "code",
   "execution_count": 5,
   "metadata": {},
   "outputs": [
    {
     "name": "stdout",
     "output_type": "stream",
     "text": [
      "(129, 11)\n",
      "(129,)\n",
      "(43, 11)\n",
      "(43,)\n"
     ]
    }
   ],
   "source": [
    "from sklearn.model_selection import train_test_split\n",
    "X_train, X_test, y_train, y_test = train_test_split(X, y, test_size=0.25, random_state=42)\n",
    "print(X_train.shape)\n",
    "print(y_train.shape)\n",
    "print(X_test.shape)\n",
    "print(y_test.shape)"
   ]
  },
  {
   "cell_type": "markdown",
   "metadata": {},
   "source": [
    "### 数据标准化"
   ]
  },
  {
   "cell_type": "code",
   "execution_count": 6,
   "metadata": {},
   "outputs": [
    {
     "data": {
      "text/plain": [
       "array([[-1.00590417,  1.37707404,  0.69965026, ..., -0.55172977,\n",
       "        -0.77028433, -0.563786  ],\n",
       "       [-1.33039519,  0.73466919, -0.94294493, ..., -0.76707967,\n",
       "        -1.14435464,  0.22246691],\n",
       "       [ 2.47657974,  0.01903231,  0.4996721 , ...,  1.60176918,\n",
       "         0.98671261, -0.563786  ],\n",
       "       ..., \n",
       "       [-0.58290696, -1.37730507,  0.12630247, ..., -0.05950144,\n",
       "        -1.13301918,  0.81215659],\n",
       "       [ 0.60496193, -0.11869767,  0.07775286, ...,  0.14046632,\n",
       "         0.99804807, -0.76034923],\n",
       "       [-0.72197454,  0.24018499,  1.77236549, ...,  1.41718356,\n",
       "        -0.95165175, -1.35003891]])"
      ]
     },
     "execution_count": 6,
     "metadata": {},
     "output_type": "execute_result"
    }
   ],
   "source": [
    "from sklearn import preprocessing\n",
    "scaler = preprocessing.StandardScaler()\n",
    "# scaler = preprocessing.MinMaxScaler()\n",
    "X_train_scaled = scaler.fit_transform(X_train.astype(np.float64))\n",
    "X_train_scaled"
   ]
  },
  {
   "cell_type": "markdown",
   "metadata": {},
   "source": [
    "### 参数选择"
   ]
  },
  {
   "cell_type": "code",
   "execution_count": 7,
   "metadata": {},
   "outputs": [
    {
     "data": {
      "text/plain": [
       "(129, 11)"
      ]
     },
     "execution_count": 7,
     "metadata": {},
     "output_type": "execute_result"
    }
   ],
   "source": [
    "#导入sklearn库中的VarianceThreshold\n",
    "from sklearn.feature_selection import VarianceThreshold\n",
    "#设置方差的阈值为0.08\n",
    "sel = VarianceThreshold(threshold=0.08)\n",
    "#选择方差大于0.08的特征\n",
    "X_sel=sel.fit_transform(X_train.astype(np.float64))\n",
    "X_sel.shape"
   ]
  },
  {
   "cell_type": "markdown",
   "metadata": {},
   "source": [
    "### 训练数据，使用多项式回归"
   ]
  },
  {
   "cell_type": "code",
   "execution_count": 8,
   "metadata": {},
   "outputs": [
    {
     "data": {
      "text/plain": [
       "(129, 78)"
      ]
     },
     "execution_count": 8,
     "metadata": {},
     "output_type": "execute_result"
    }
   ],
   "source": [
    "from sklearn.preprocessing import PolynomialFeatures\n",
    "featurizer = PolynomialFeatures(degree=2)\n",
    "X_train_cubic = featurizer.fit_transform(X_train_scaled)\n",
    "X_train_cubic.shape"
   ]
  },
  {
   "cell_type": "code",
   "execution_count": 9,
   "metadata": {},
   "outputs": [
    {
     "data": {
      "text/plain": [
       "LinearRegression(copy_X=True, fit_intercept=True, n_jobs=1, normalize=False)"
      ]
     },
     "execution_count": 9,
     "metadata": {},
     "output_type": "execute_result"
    }
   ],
   "source": [
    "from sklearn.linear_model import LinearRegression\n",
    "linreg = LinearRegression()\n",
    "linreg.fit(X_train_cubic, y_train)"
   ]
  },
  {
   "cell_type": "markdown",
   "metadata": {},
   "source": [
    "### 预测结果并评价\n",
    "> [评价方法点击这里](https://blog.csdn.net/SA14023053/article/details/51707305)"
   ]
  },
  {
   "cell_type": "code",
   "execution_count": 10,
   "metadata": {
    "scrolled": true
   },
   "outputs": [
    {
     "name": "stdout",
     "output_type": "stream",
     "text": [
      "MSE: 28.6460504093\n",
      "RMSE: 5.35220052028\n",
      "MAE: 3.31553488372\n",
      "error_rate: 0.568509\n"
     ]
    }
   ],
   "source": [
    "#模型拟合测试集\n",
    "X_test_cubic = featurizer.transform(scaler.transform(X_test))\n",
    "y_pred = linreg.predict(X_test_cubic)\n",
    "\n",
    "#评估模型\n",
    "from sklearn import metrics\n",
    "# 用scikit-learn计算MSE\n",
    "print(\"MSE:\",metrics.mean_squared_error(y_test, y_pred))\n",
    "# 用scikit-learn计算RMSE\n",
    "print(\"RMSE:\",np.sqrt(metrics.mean_squared_error(y_test, y_pred)))\n",
    "# 用scikit-learn计算MAE\n",
    "print(\"MAE:\",metrics.mean_absolute_error(y_test, y_pred))\n",
    "# 计算精确度\n",
    "# for i in range(len(y_pred)):\n",
    "#     if y_pred[i] < 0:\n",
    "#         y_pred[i] = 0.04\n",
    "\n",
    "error_array = np.array(((y_test - y_pred) / y_test))\n",
    "error_rate = np.sqrt(np.sum(np.power(error_array,2)))\n",
    "print(\"error_rate: %f\" % error_rate)"
   ]
  },
  {
   "cell_type": "markdown",
   "metadata": {},
   "source": [
    "### 真实值与预测值越接近y=x表明预测越准确"
   ]
  },
  {
   "cell_type": "code",
   "execution_count": 11,
   "metadata": {},
   "outputs": [
    {
     "data": {
      "image/png": "[encoded data removed]",
      "text/plain": [
       "<Figure size 432x288 with 1 Axes>"
      ]
     },
     "metadata": {},
     "output_type": "display_data"
    }
   ],
   "source": [
    "fig, ax = plt.subplots()\n",
    "ax.scatter(y_test, y_pred)\n",
    "ax.plot([y.min(), y.max()], [y.min(), y.max()], 'k--', lw=4)\n",
    "ax.set_xlabel('Measured')\n",
    "ax.set_ylabel('Predicted')\n",
    "plt.show()"
   ]
  },
  {
   "cell_type": "markdown",
   "metadata": {},
   "source": [
    "### 探索性工作"
   ]
  },
  {
   "cell_type": "code",
   "execution_count": 12,
   "metadata": {},
   "outputs": [
    {
     "data": {
      "text/plain": [
       "'\\nfrom sklearn.preprocessing import PolynomialFeatures\\nfrom sklearn.linear_model import LinearRegression\\ndegrees = [2,3,5,10]\\nfor degree in degrees:\\n    # 多项式\\n    featurizer = PolynomialFeatures(degree=degree)\\n    X_train_cubic = featurizer.fit_transform(X_train_scaled)\\n\\n    # 线性回归\\n    linreg = LinearRegression()\\n    linreg.fit(X_train_cubic, y_train)\\n    \\n    #模型拟合测试集\\n    X_test_cubic = featurizer.transform(scaler.transform(X_test))\\n    y_pred = linreg.predict(X_test_cubic)\\n\\n    #评估模型\\n    from sklearn import metrics\\n    # 用scikit-learn计算MSE\\n    print(\"MSE:\",metrics.mean_squared_error(y_test, y_pred))\\n    # 用scikit-learn计算RMSE\\n    print(\"RMSE:\",np.sqrt(metrics.mean_squared_error(y_test, y_pred)))\\n    # 用scikit-learn计算MAE\\n    print(\"MAE:\",metrics.mean_absolute_error(y_test, y_pred))\\n    # 计算精确度\\n    # for i in range(len(y_pred)):\\n    #     if y_pred[i] < 0:\\n    #         y_pred[i] = 0.04\\n\\n    error_array = np.array(((y_test - y_pred) / y_test))\\n    error_rate = np.sqrt(np.sum(np.power(error_array,2)))\\n    print(\"error_rate: %f\\n\" % error_rate)\\n'"
      ]
     },
     "execution_count": 12,
     "metadata": {},
     "output_type": "execute_result"
    }
   ],
   "source": [
    "'''\n",
    "from sklearn.preprocessing import PolynomialFeatures\n",
    "from sklearn.linear_model import LinearRegression\n",
    "degrees = [2,3,5,10]\n",
    "for degree in degrees:\n",
    "    # 多项式\n",
    "    featurizer = PolynomialFeatures(degree=degree)\n",
    "    X_train_cubic = featurizer.fit_transform(X_train_scaled)\n",
    "\n",
    "    # 线性回归\n",
    "    linreg = LinearRegression()\n",
    "    linreg.fit(X_train_cubic, y_train)\n",
    "    \n",
    "    #模型拟合测试集\n",
    "    X_test_cubic = featurizer.transform(scaler.transform(X_test))\n",
    "    y_pred = linreg.predict(X_test_cubic)\n",
    "\n",
    "    #评估模型\n",
    "    from sklearn import metrics\n",
    "    # 用scikit-learn计算MSE\n",
    "    print(\"MSE:\",metrics.mean_squared_error(y_test, y_pred))\n",
    "    # 用scikit-learn计算RMSE\n",
    "    print(\"RMSE:\",np.sqrt(metrics.mean_squared_error(y_test, y_pred)))\n",
    "    # 用scikit-learn计算MAE\n",
    "    print(\"MAE:\",metrics.mean_absolute_error(y_test, y_pred))\n",
    "    # 计算精确度\n",
    "    # for i in range(len(y_pred)):\n",
    "    #     if y_pred[i] < 0:\n",
    "    #         y_pred[i] = 0.04\n",
    "\n",
    "    error_array = np.array(((y_test - y_pred) / y_test))\n",
    "    error_rate = np.sqrt(np.sum(np.power(error_array,2)))\n",
    "    print(\"error_rate: %f\\n\" % error_rate)\n",
    "'''"
   ]
  },
  {
   "cell_type": "markdown",
   "metadata": {},
   "source": [
    "### Q-Q图（分位数概率分布）\n",
    "> Q-Q图是一种散点图,对应于正态分布的Q-Q图,就是由标准正态分布的分位数为横坐标,样本值为纵坐标的散点图. 要利用QQ图鉴别样本数据是否近似于正态分布,只需看Q-Q图上的点是否近似地在一条直线附近,而且该直线的斜率为标准差,截距为均值. 用QQ图还可获得样本偏度和峰度的粗略信息."
   ]
  },
  {
   "cell_type": "code",
   "execution_count": 13,
   "metadata": {},
   "outputs": [
    {
     "data": {
      "image/png": "[encoded data removed]",
      "text/plain": [
       "<Figure size 576x432 with 1 Axes>"
      ]
     },
     "metadata": {},
     "output_type": "display_data"
    }
   ],
   "source": [
    "from scipy.stats import probplot\n",
    "f = plt.figure(figsize=(8, 6))\n",
    "ax = f.add_subplot(111)\n",
    "probplot(y_test - y_pred, plot=ax);"
   ]
  },
  {
   "cell_type": "markdown",
   "metadata": {},
   "source": [
    "### 残差直方图"
   ]
  },
  {
   "cell_type": "code",
   "execution_count": 14,
   "metadata": {},
   "outputs": [
    {
     "data": {
      "image/png": "[encoded data removed]",
      "text/plain": [
       "<Figure size 504x360 with 1 Axes>"
      ]
     },
     "metadata": {},
     "output_type": "display_data"
    }
   ],
   "source": [
    "f, ax = plt.subplots(figsize=(7, 5))\n",
    "f.tight_layout()\n",
    "ax.hist(y_test - y_pred, bins=40, label='Residuals Linear', color='b', alpha=.5);\n",
    "ax.set_title(\"Histogram of Residuals\")\n",
    "ax.legend(loc='best');"
   ]
  },
  {
   "cell_type": "markdown",
   "metadata": {},
   "source": [
    "### 下面的内容是持续优化模型，交叉验证，可忽略"
   ]
  },
  {
   "cell_type": "code",
   "execution_count": 15,
   "metadata": {},
   "outputs": [
    {
     "data": {
      "text/plain": [
       "'\\nfrom sklearn.model_selection import cross_val_predict\\npredicted = cross_val_predict(linreg, featurizer.transform(scaler.transform(X)), y, cv=10)\\n\\nfrom sklearn import metrics\\n# 用scikit-learn计算MSE\\nprint(\"MSE:\",metrics.mean_squared_error(y, predicted))\\n# 用scikit-learn计算RMSE\\nprint(\"RMSE:\",np.sqrt(metrics.mean_squared_error(y, predicted)))\\n# 用scikit-learn计算MAE\\nprint(\"MAE:\",metrics.mean_absolute_error(y, predicted))\\n# 计算精确度\\nfor i in range(len(predicted)):\\n    if predicted[i] < 0:\\n        predicted[i] = 0.4\\nerror_array = np.array(((y - predicted) / y))\\nerror_rate = np.sqrt(np.sum(np.power(error_array,2)))\\nprint(\"error_rate: %f\" % error_rate)\\n'"
      ]
     },
     "execution_count": 15,
     "metadata": {},
     "output_type": "execute_result"
    }
   ],
   "source": [
    "'''\n",
    "from sklearn.model_selection import cross_val_predict\n",
    "predicted = cross_val_predict(linreg, featurizer.transform(scaler.transform(X)), y, cv=10)\n",
    "\n",
    "from sklearn import metrics\n",
    "# 用scikit-learn计算MSE\n",
    "print(\"MSE:\",metrics.mean_squared_error(y, predicted))\n",
    "# 用scikit-learn计算RMSE\n",
    "print(\"RMSE:\",np.sqrt(metrics.mean_squared_error(y, predicted)))\n",
    "# 用scikit-learn计算MAE\n",
    "print(\"MAE:\",metrics.mean_absolute_error(y, predicted))\n",
    "# 计算精确度\n",
    "for i in range(len(predicted)):\n",
    "    if predicted[i] < 0:\n",
    "        predicted[i] = 0.4\n",
    "error_array = np.array(((y - predicted) / y))\n",
    "error_rate = np.sqrt(np.sum(np.power(error_array,2)))\n",
    "print(\"error_rate: %f\" % error_rate)\n",
    "'''"
   ]
  },
  {
   "cell_type": "markdown",
   "metadata": {},
   "source": [
    "### 可视化预测结果"
   ]
  },
  {
   "cell_type": "code",
   "execution_count": 16,
   "metadata": {},
   "outputs": [
    {
     "data": {
      "text/plain": [
       "\"\\nfig, ax = plt.subplots()\\nax.scatter(y, predicted)\\nax.plot([y.min(), y.max()], [y.min(), y.max()], 'k--', lw=4)\\nax.set_xlabel('Measured')\\nax.set_ylabel('Predicted')\\nplt.show()\\n\""
      ]
     },
     "execution_count": 16,
     "metadata": {},
     "output_type": "execute_result"
    }
   ],
   "source": [
    "'''\n",
    "fig, ax = plt.subplots()\n",
    "ax.scatter(y, predicted)\n",
    "ax.plot([y.min(), y.max()], [y.min(), y.max()], 'k--', lw=4)\n",
    "ax.set_xlabel('Measured')\n",
    "ax.set_ylabel('Predicted')\n",
    "plt.show()\n",
    "'''"
   ]
  },
  {
   "cell_type": "code",
   "execution_count": 17,
   "metadata": {},
   "outputs": [
    {
     "data": {
      "text/html": [
       "<div>\n",
       "<style scoped>\n",
       "    .dataframe tbody tr th:only-of-type {\n",
       "        vertical-align: middle;\n",
       "    }\n",
       "\n",
       "    .dataframe tbody tr th {\n",
       "        vertical-align: top;\n",
       "    }\n",
       "\n",
       "    .dataframe thead th {\n",
       "        text-align: right;\n",
       "    }\n",
       "</style>\n",
       "<table border=\"1\" class=\"dataframe\">\n",
       "  <thead>\n",
       "    <tr style=\"text-align: right;\">\n",
       "      <th></th>\n",
       "      <th>vehicle_id</th>\n",
       "      <th>charge_start_time</th>\n",
       "      <th>charge_end_time</th>\n",
       "      <th>mileage</th>\n",
       "      <th>charge_start_soc</th>\n",
       "      <th>charge_end_soc</th>\n",
       "      <th>charge_start_U</th>\n",
       "      <th>charge_end_U</th>\n",
       "      <th>charge_start_I</th>\n",
       "      <th>charge_end_I</th>\n",
       "      <th>charge_max_temp</th>\n",
       "      <th>charge_min_temp</th>\n",
       "    </tr>\n",
       "  </thead>\n",
       "  <tbody>\n",
       "    <tr>\n",
       "      <th>count</th>\n",
       "      <td>27.00</td>\n",
       "      <td>2.70e+01</td>\n",
       "      <td>2.70e+01</td>\n",
       "      <td>27.00</td>\n",
       "      <td>27.00</td>\n",
       "      <td>27.00</td>\n",
       "      <td>27.00</td>\n",
       "      <td>27.00</td>\n",
       "      <td>27.00</td>\n",
       "      <td>27.00</td>\n",
       "      <td>27.00</td>\n",
       "      <td>27.00</td>\n",
       "    </tr>\n",
       "    <tr>\n",
       "      <th>mean</th>\n",
       "      <td>3.44</td>\n",
       "      <td>2.02e+13</td>\n",
       "      <td>2.02e+13</td>\n",
       "      <td>102782.61</td>\n",
       "      <td>43.74</td>\n",
       "      <td>86.71</td>\n",
       "      <td>461.57</td>\n",
       "      <td>486.01</td>\n",
       "      <td>-60.94</td>\n",
       "      <td>-34.06</td>\n",
       "      <td>31.78</td>\n",
       "      <td>16.15</td>\n",
       "    </tr>\n",
       "    <tr>\n",
       "      <th>std</th>\n",
       "      <td>1.42</td>\n",
       "      <td>4.31e+09</td>\n",
       "      <td>4.31e+09</td>\n",
       "      <td>34057.19</td>\n",
       "      <td>14.32</td>\n",
       "      <td>15.94</td>\n",
       "      <td>99.50</td>\n",
       "      <td>93.22</td>\n",
       "      <td>67.60</td>\n",
       "      <td>57.02</td>\n",
       "      <td>11.38</td>\n",
       "      <td>14.05</td>\n",
       "    </tr>\n",
       "    <tr>\n",
       "      <th>min</th>\n",
       "      <td>1.00</td>\n",
       "      <td>2.02e+13</td>\n",
       "      <td>2.02e+13</td>\n",
       "      <td>56684.40</td>\n",
       "      <td>21.00</td>\n",
       "      <td>34.40</td>\n",
       "      <td>328.80</td>\n",
       "      <td>361.90</td>\n",
       "      <td>-197.00</td>\n",
       "      <td>-191.00</td>\n",
       "      <td>9.00</td>\n",
       "      <td>0.00</td>\n",
       "    </tr>\n",
       "    <tr>\n",
       "      <th>25%</th>\n",
       "      <td>2.50</td>\n",
       "      <td>2.02e+13</td>\n",
       "      <td>2.02e+13</td>\n",
       "      <td>75730.50</td>\n",
       "      <td>35.00</td>\n",
       "      <td>78.50</td>\n",
       "      <td>357.70</td>\n",
       "      <td>394.70</td>\n",
       "      <td>-90.00</td>\n",
       "      <td>-37.70</td>\n",
       "      <td>27.00</td>\n",
       "      <td>1.50</td>\n",
       "    </tr>\n",
       "    <tr>\n",
       "      <th>50%</th>\n",
       "      <td>4.00</td>\n",
       "      <td>2.02e+13</td>\n",
       "      <td>2.02e+13</td>\n",
       "      <td>95911.70</td>\n",
       "      <td>42.00</td>\n",
       "      <td>90.00</td>\n",
       "      <td>532.90</td>\n",
       "      <td>548.70</td>\n",
       "      <td>-26.00</td>\n",
       "      <td>-7.90</td>\n",
       "      <td>34.00</td>\n",
       "      <td>16.00</td>\n",
       "    </tr>\n",
       "    <tr>\n",
       "      <th>75%</th>\n",
       "      <td>5.00</td>\n",
       "      <td>2.02e+13</td>\n",
       "      <td>2.02e+13</td>\n",
       "      <td>120779.40</td>\n",
       "      <td>51.50</td>\n",
       "      <td>100.00</td>\n",
       "      <td>552.85</td>\n",
       "      <td>566.85</td>\n",
       "      <td>-12.35</td>\n",
       "      <td>-5.05</td>\n",
       "      <td>37.50</td>\n",
       "      <td>27.00</td>\n",
       "    </tr>\n",
       "    <tr>\n",
       "      <th>max</th>\n",
       "      <td>5.00</td>\n",
       "      <td>2.02e+13</td>\n",
       "      <td>2.02e+13</td>\n",
       "      <td>172178.00</td>\n",
       "      <td>73.00</td>\n",
       "      <td>100.00</td>\n",
       "      <td>566.20</td>\n",
       "      <td>600.60</td>\n",
       "      <td>-5.60</td>\n",
       "      <td>0.00</td>\n",
       "      <td>49.00</td>\n",
       "      <td>40.00</td>\n",
       "    </tr>\n",
       "  </tbody>\n",
       "</table>\n",
       "</div>"
      ],
      "text/plain": [
       "       vehicle_id  charge_start_time  charge_end_time    mileage  \\\n",
       "count       27.00           2.70e+01         2.70e+01      27.00   \n",
       "mean         3.44           2.02e+13         2.02e+13  102782.61   \n",
       "std          1.42           4.31e+09         4.31e+09   34057.19   \n",
       "min          1.00           2.02e+13         2.02e+13   56684.40   \n",
       "25%          2.50           2.02e+13         2.02e+13   75730.50   \n",
       "50%          4.00           2.02e+13         2.02e+13   95911.70   \n",
       "75%          5.00           2.02e+13         2.02e+13  120779.40   \n",
       "max          5.00           2.02e+13         2.02e+13  172178.00   \n",
       "\n",
       "       charge_start_soc  charge_end_soc  charge_start_U  charge_end_U  \\\n",
       "count             27.00           27.00           27.00         27.00   \n",
       "mean              43.74           86.71          461.57        486.01   \n",
       "std               14.32           15.94           99.50         93.22   \n",
       "min               21.00           34.40          328.80        361.90   \n",
       "25%               35.00           78.50          357.70        394.70   \n",
       "50%               42.00           90.00          532.90        548.70   \n",
       "75%               51.50          100.00          552.85        566.85   \n",
       "max               73.00          100.00          566.20        600.60   \n",
       "\n",
       "       charge_start_I  charge_end_I  charge_max_temp  charge_min_temp  \n",
       "count           27.00         27.00            27.00            27.00  \n",
       "mean           -60.94        -34.06            31.78            16.15  \n",
       "std             67.60         57.02            11.38            14.05  \n",
       "min           -197.00       -191.00             9.00             0.00  \n",
       "25%            -90.00        -37.70            27.00             1.50  \n",
       "50%            -26.00         -7.90            34.00            16.00  \n",
       "75%            -12.35         -5.05            37.50            27.00  \n",
       "max             -5.60          0.00            49.00            40.00  "
      ]
     },
     "execution_count": 17,
     "metadata": {},
     "output_type": "execute_result"
    }
   ],
   "source": [
    "dataset = pd.read_csv('../energy_predict_data/testB.csv')\n",
    "pd.set_option('precision', 2)\n",
    "header = dataset.columns.values.tolist()\n",
    "dataset.describe()"
   ]
  },
  {
   "cell_type": "code",
   "execution_count": 18,
   "metadata": {
    "collapsed": true
   },
   "outputs": [],
   "source": [
    "import time\n",
    "# 将时间字符串转化为时间\n",
    "def str2time(string):\n",
    "    year = string[0:4]\n",
    "    month = string[4:6]\n",
    "    day = string[6:8]\n",
    "    hour = string[8:10]\n",
    "    minute = string[10:12]\n",
    "    second = string[12:14]\n",
    "    time_str = '%s-%s-%s %s:%s:%s' % (year, month, day, hour, minute, second)\n",
    "    timestamp = time.mktime(time.strptime(time_str, '%Y-%m-%d %H:%M:%S'))  # 变为时间戳\n",
    "    return int(timestamp)\n",
    "\n",
    "# 将矩阵内的字符串转化为时间戳\n",
    "def calVecTimeStamp(vector):\n",
    "    timestamps = []\n",
    "    for v in vector:\n",
    "        timestamp = str2time(str(v))\n",
    "        timestamps.append(timestamp)\n",
    "    return timestamps\n",
    "\n",
    "charge_end_time_array = np.array(calVecTimeStamp(dataset['charge_end_time']))\n",
    "charge_start_time_array = np.array(calVecTimeStamp(dataset['charge_start_time']))\n",
    "charge_start_soc_array = np.array(dataset['charge_start_soc'])\n",
    "charge_end_soc_array = np.array(dataset['charge_end_soc'])\n",
    "dataset['charge_duration'] = (charge_end_time_array - charge_start_time_array).tolist()\n",
    "dataset['charge_delta_soc'] = (charge_end_soc_array - charge_start_soc_array).tolist()\n",
    "header.insert(3, 'charge_duration')\n",
    "header.insert(7, 'charge_delta_soc')\n",
    "dataset = dataset[header]"
   ]
  },
  {
   "cell_type": "code",
   "execution_count": 19,
   "metadata": {
    "collapsed": true
   },
   "outputs": [],
   "source": [
    "# 数据转化\n",
    "def standard_to_real(standard, mean, std):\n",
    "    return standard * std + mean;"
   ]
  },
  {
   "cell_type": "code",
   "execution_count": null,
   "metadata": {
    "collapsed": true
   },
   "outputs": [],
   "source": []
  }
 ],
 "metadata": {
  "kernelspec": {
   "display_name": "Python 3",
   "language": "python",
   "name": "python3"
  },
  "language_info": {
   "codemirror_mode": {
    "name": "ipython",
    "version": 3
   },
   "file_extension": ".py",
   "mimetype": "text/x-python",
   "name": "python",
   "nbconvert_exporter": "python",
   "pygments_lexer": "ipython3",
   "version": "3.6.2"
  }
 },
 "nbformat": 4,
 "nbformat_minor": 2
}
