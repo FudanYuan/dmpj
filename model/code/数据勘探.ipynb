{
 "cells": [
  {
   "cell_type": "code",
   "execution_count": 1,
   "metadata": {
    "collapsed": true
   },
   "outputs": [],
   "source": [
    "import pandas as pd\n",
    "import matplotlib.pyplot as plt\n",
    "import seaborn as sns\n",
    "%matplotlib inline\n",
    "import numpy as np\n",
    "from datetime import date, datetime"
   ]
  },
  {
   "cell_type": "markdown",
   "metadata": {},
   "source": [
    "### 加载训练数据"
   ]
  },
  {
   "cell_type": "code",
   "execution_count": 2,
   "metadata": {},
   "outputs": [
    {
     "ename": "FileNotFoundError",
     "evalue": "File b'../energy_predict_data/train_datapredict_data_e_train.csv' does not exist",
     "output_type": "error",
     "traceback": [
      "\u001b[0;31m---------------------------------------------------------------------------\u001b[0m",
      "\u001b[0;31mFileNotFoundError\u001b[0m                         Traceback (most recent call last)",
      "\u001b[0;32m<ipython-input-2-0283ca21a958>\u001b[0m in \u001b[0;36m<module>\u001b[0;34m()\u001b[0m\n\u001b[1;32m      1\u001b[0m \u001b[0mdata_root\u001b[0m \u001b[0;34m=\u001b[0m \u001b[0;34m'../energy_predict_data/train_data'\u001b[0m\u001b[0;34m\u001b[0m\u001b[0m\n\u001b[0;32m----> 2\u001b[0;31m \u001b[0mdataset\u001b[0m \u001b[0;34m=\u001b[0m \u001b[0mpd\u001b[0m\u001b[0;34m.\u001b[0m\u001b[0mread_csv\u001b[0m\u001b[0;34m(\u001b[0m\u001b[0mdata_root\u001b[0m \u001b[0;34m+\u001b[0m \u001b[0;34m'predict_data_e_train.csv'\u001b[0m\u001b[0;34m)\u001b[0m\u001b[0;34m\u001b[0m\u001b[0m\n\u001b[0m\u001b[1;32m      3\u001b[0m \u001b[0mcount\u001b[0m \u001b[0;34m=\u001b[0m \u001b[0mnp\u001b[0m\u001b[0;34m.\u001b[0m\u001b[0mmax\u001b[0m\u001b[0;34m(\u001b[0m\u001b[0mdataset\u001b[0m\u001b[0;34m[\u001b[0m\u001b[0;34m'vehicle_id'\u001b[0m\u001b[0;34m]\u001b[0m\u001b[0;34m)\u001b[0m  \u001b[0;31m# max id\u001b[0m\u001b[0;34m\u001b[0m\u001b[0m\n\u001b[1;32m      4\u001b[0m \u001b[0mdataset\u001b[0m\u001b[0;34m.\u001b[0m\u001b[0mhead\u001b[0m\u001b[0;34m(\u001b[0m\u001b[0;34m)\u001b[0m\u001b[0;34m\u001b[0m\u001b[0m\n",
      "\u001b[0;32m~/miniconda3/envs/test/lib/python3.6/site-packages/pandas/io/parsers.py\u001b[0m in \u001b[0;36mparser_f\u001b[0;34m(filepath_or_buffer, sep, delimiter, header, names, index_col, usecols, squeeze, prefix, mangle_dupe_cols, dtype, engine, converters, true_values, false_values, skipinitialspace, skiprows, nrows, na_values, keep_default_na, na_filter, verbose, skip_blank_lines, parse_dates, infer_datetime_format, keep_date_col, date_parser, dayfirst, iterator, chunksize, compression, thousands, decimal, lineterminator, quotechar, quoting, escapechar, comment, encoding, dialect, tupleize_cols, error_bad_lines, warn_bad_lines, skipfooter, doublequote, delim_whitespace, low_memory, memory_map, float_precision)\u001b[0m\n\u001b[1;32m    676\u001b[0m                     skip_blank_lines=skip_blank_lines)\n\u001b[1;32m    677\u001b[0m \u001b[0;34m\u001b[0m\u001b[0m\n\u001b[0;32m--> 678\u001b[0;31m         \u001b[0;32mreturn\u001b[0m \u001b[0m_read\u001b[0m\u001b[0;34m(\u001b[0m\u001b[0mfilepath_or_buffer\u001b[0m\u001b[0;34m,\u001b[0m \u001b[0mkwds\u001b[0m\u001b[0;34m)\u001b[0m\u001b[0;34m\u001b[0m\u001b[0m\n\u001b[0m\u001b[1;32m    679\u001b[0m \u001b[0;34m\u001b[0m\u001b[0m\n\u001b[1;32m    680\u001b[0m     \u001b[0mparser_f\u001b[0m\u001b[0;34m.\u001b[0m\u001b[0m__name__\u001b[0m \u001b[0;34m=\u001b[0m \u001b[0mname\u001b[0m\u001b[0;34m\u001b[0m\u001b[0m\n",
      "\u001b[0;32m~/miniconda3/envs/test/lib/python3.6/site-packages/pandas/io/parsers.py\u001b[0m in \u001b[0;36m_read\u001b[0;34m(filepath_or_buffer, kwds)\u001b[0m\n\u001b[1;32m    438\u001b[0m \u001b[0;34m\u001b[0m\u001b[0m\n\u001b[1;32m    439\u001b[0m     \u001b[0;31m# Create the parser.\u001b[0m\u001b[0;34m\u001b[0m\u001b[0;34m\u001b[0m\u001b[0m\n\u001b[0;32m--> 440\u001b[0;31m     \u001b[0mparser\u001b[0m \u001b[0;34m=\u001b[0m \u001b[0mTextFileReader\u001b[0m\u001b[0;34m(\u001b[0m\u001b[0mfilepath_or_buffer\u001b[0m\u001b[0;34m,\u001b[0m \u001b[0;34m**\u001b[0m\u001b[0mkwds\u001b[0m\u001b[0;34m)\u001b[0m\u001b[0;34m\u001b[0m\u001b[0m\n\u001b[0m\u001b[1;32m    441\u001b[0m \u001b[0;34m\u001b[0m\u001b[0m\n\u001b[1;32m    442\u001b[0m     \u001b[0;32mif\u001b[0m \u001b[0mchunksize\u001b[0m \u001b[0;32mor\u001b[0m \u001b[0miterator\u001b[0m\u001b[0;34m:\u001b[0m\u001b[0;34m\u001b[0m\u001b[0m\n",
      "\u001b[0;32m~/miniconda3/envs/test/lib/python3.6/site-packages/pandas/io/parsers.py\u001b[0m in \u001b[0;36m__init__\u001b[0;34m(self, f, engine, **kwds)\u001b[0m\n\u001b[1;32m    785\u001b[0m             \u001b[0mself\u001b[0m\u001b[0;34m.\u001b[0m\u001b[0moptions\u001b[0m\u001b[0;34m[\u001b[0m\u001b[0;34m'has_index_names'\u001b[0m\u001b[0;34m]\u001b[0m \u001b[0;34m=\u001b[0m \u001b[0mkwds\u001b[0m\u001b[0;34m[\u001b[0m\u001b[0;34m'has_index_names'\u001b[0m\u001b[0;34m]\u001b[0m\u001b[0;34m\u001b[0m\u001b[0m\n\u001b[1;32m    786\u001b[0m \u001b[0;34m\u001b[0m\u001b[0m\n\u001b[0;32m--> 787\u001b[0;31m         \u001b[0mself\u001b[0m\u001b[0;34m.\u001b[0m\u001b[0m_make_engine\u001b[0m\u001b[0;34m(\u001b[0m\u001b[0mself\u001b[0m\u001b[0;34m.\u001b[0m\u001b[0mengine\u001b[0m\u001b[0;34m)\u001b[0m\u001b[0;34m\u001b[0m\u001b[0m\n\u001b[0m\u001b[1;32m    788\u001b[0m \u001b[0;34m\u001b[0m\u001b[0m\n\u001b[1;32m    789\u001b[0m     \u001b[0;32mdef\u001b[0m \u001b[0mclose\u001b[0m\u001b[0;34m(\u001b[0m\u001b[0mself\u001b[0m\u001b[0;34m)\u001b[0m\u001b[0;34m:\u001b[0m\u001b[0;34m\u001b[0m\u001b[0m\n",
      "\u001b[0;32m~/miniconda3/envs/test/lib/python3.6/site-packages/pandas/io/parsers.py\u001b[0m in \u001b[0;36m_make_engine\u001b[0;34m(self, engine)\u001b[0m\n\u001b[1;32m   1012\u001b[0m     \u001b[0;32mdef\u001b[0m \u001b[0m_make_engine\u001b[0m\u001b[0;34m(\u001b[0m\u001b[0mself\u001b[0m\u001b[0;34m,\u001b[0m \u001b[0mengine\u001b[0m\u001b[0;34m=\u001b[0m\u001b[0;34m'c'\u001b[0m\u001b[0;34m)\u001b[0m\u001b[0;34m:\u001b[0m\u001b[0;34m\u001b[0m\u001b[0m\n\u001b[1;32m   1013\u001b[0m         \u001b[0;32mif\u001b[0m \u001b[0mengine\u001b[0m \u001b[0;34m==\u001b[0m \u001b[0;34m'c'\u001b[0m\u001b[0;34m:\u001b[0m\u001b[0;34m\u001b[0m\u001b[0m\n\u001b[0;32m-> 1014\u001b[0;31m             \u001b[0mself\u001b[0m\u001b[0;34m.\u001b[0m\u001b[0m_engine\u001b[0m \u001b[0;34m=\u001b[0m \u001b[0mCParserWrapper\u001b[0m\u001b[0;34m(\u001b[0m\u001b[0mself\u001b[0m\u001b[0;34m.\u001b[0m\u001b[0mf\u001b[0m\u001b[0;34m,\u001b[0m \u001b[0;34m**\u001b[0m\u001b[0mself\u001b[0m\u001b[0;34m.\u001b[0m\u001b[0moptions\u001b[0m\u001b[0;34m)\u001b[0m\u001b[0;34m\u001b[0m\u001b[0m\n\u001b[0m\u001b[1;32m   1015\u001b[0m         \u001b[0;32melse\u001b[0m\u001b[0;34m:\u001b[0m\u001b[0;34m\u001b[0m\u001b[0m\n\u001b[1;32m   1016\u001b[0m             \u001b[0;32mif\u001b[0m \u001b[0mengine\u001b[0m \u001b[0;34m==\u001b[0m \u001b[0;34m'python'\u001b[0m\u001b[0;34m:\u001b[0m\u001b[0;34m\u001b[0m\u001b[0m\n",
      "\u001b[0;32m~/miniconda3/envs/test/lib/python3.6/site-packages/pandas/io/parsers.py\u001b[0m in \u001b[0;36m__init__\u001b[0;34m(self, src, **kwds)\u001b[0m\n\u001b[1;32m   1706\u001b[0m         \u001b[0mkwds\u001b[0m\u001b[0;34m[\u001b[0m\u001b[0;34m'usecols'\u001b[0m\u001b[0;34m]\u001b[0m \u001b[0;34m=\u001b[0m \u001b[0mself\u001b[0m\u001b[0;34m.\u001b[0m\u001b[0musecols\u001b[0m\u001b[0;34m\u001b[0m\u001b[0m\n\u001b[1;32m   1707\u001b[0m \u001b[0;34m\u001b[0m\u001b[0m\n\u001b[0;32m-> 1708\u001b[0;31m         \u001b[0mself\u001b[0m\u001b[0;34m.\u001b[0m\u001b[0m_reader\u001b[0m \u001b[0;34m=\u001b[0m \u001b[0mparsers\u001b[0m\u001b[0;34m.\u001b[0m\u001b[0mTextReader\u001b[0m\u001b[0;34m(\u001b[0m\u001b[0msrc\u001b[0m\u001b[0;34m,\u001b[0m \u001b[0;34m**\u001b[0m\u001b[0mkwds\u001b[0m\u001b[0;34m)\u001b[0m\u001b[0;34m\u001b[0m\u001b[0m\n\u001b[0m\u001b[1;32m   1709\u001b[0m \u001b[0;34m\u001b[0m\u001b[0m\n\u001b[1;32m   1710\u001b[0m         \u001b[0mpassed_names\u001b[0m \u001b[0;34m=\u001b[0m \u001b[0mself\u001b[0m\u001b[0;34m.\u001b[0m\u001b[0mnames\u001b[0m \u001b[0;32mis\u001b[0m \u001b[0;32mNone\u001b[0m\u001b[0;34m\u001b[0m\u001b[0m\n",
      "\u001b[0;32mpandas/_libs/parsers.pyx\u001b[0m in \u001b[0;36mpandas._libs.parsers.TextReader.__cinit__ (pandas/_libs/parsers.c:4278)\u001b[0;34m()\u001b[0m\n",
      "\u001b[0;32mpandas/_libs/parsers.pyx\u001b[0m in \u001b[0;36mpandas._libs.parsers.TextReader._setup_parser_source (pandas/_libs/parsers.c:8902)\u001b[0;34m()\u001b[0m\n",
      "\u001b[0;31mFileNotFoundError\u001b[0m: File b'../energy_predict_data/train_datapredict_data_e_train.csv' does not exist"
     ]
    }
   ],
   "source": [
    "data_root = '../energy_predict_data/train_data'\n",
    "dataset = pd.read_csv(data_root + 'predict_data_e_train.csv')\n",
    "count = np.max(dataset['vehicle_id'])  # max id\n",
    "dataset.head()"
   ]
  },
  {
   "cell_type": "markdown",
   "metadata": {},
   "source": [
    "### 数据类型"
   ]
  },
  {
   "cell_type": "code",
   "execution_count": null,
   "metadata": {},
   "outputs": [],
   "source": [
    "dataset.dtypes"
   ]
  },
  {
   "cell_type": "markdown",
   "metadata": {},
   "source": [
    "### 数据描述"
   ]
  },
  {
   "cell_type": "code",
   "execution_count": null,
   "metadata": {},
   "outputs": [],
   "source": [
    "pd.set_option('precision', 2)\n",
    "header = dataset.columns.values.tolist()\n",
    "dataset.describe()"
   ]
  },
  {
   "cell_type": "markdown",
   "metadata": {},
   "source": [
    "### 数据缺失情况"
   ]
  },
  {
   "cell_type": "code",
   "execution_count": null,
   "metadata": {},
   "outputs": [],
   "source": [
    "dataset.isnull().sum()"
   ]
  },
  {
   "cell_type": "markdown",
   "metadata": {},
   "source": [
    "### 数据间相关性探索"
   ]
  },
  {
   "cell_type": "code",
   "execution_count": null,
   "metadata": {},
   "outputs": [],
   "source": [
    "# correlation\n",
    "pd.set_option('precision', 2)\n",
    "dataset.corr(method='pearson')"
   ]
  },
  {
   "cell_type": "code",
   "execution_count": null,
   "metadata": {
    "scrolled": true
   },
   "outputs": [],
   "source": [
    "# 对不同车的数据进行相关性分析，会发现更多信息\n",
    "for i in range(1, count+1):\n",
    "    data = dataset[(dataset['vehicle_id']==i)]\n",
    "    data = data[header[1:]]\n",
    "    corr=data.corr()\n",
    "    plt.figure(figsize=(10, 10))\n",
    "    sns.heatmap(corr, vmax=0.8, linewidths=0.01,\n",
    "                square=True,annot=True,cmap='YlGnBu',linecolor=\"white\")\n",
    "    plt.title('Correlation between features for vehicle # %d' % i);"
   ]
  },
  {
   "cell_type": "markdown",
   "metadata": {},
   "source": [
    "### 增加新的特征集——充电时间间隔（charge_duration）与SOC变化值（charge_delta_soc）以及里程变化值（此次充电前该汽车行驶里程数）；"
   ]
  },
  {
   "cell_type": "code",
   "execution_count": null,
   "metadata": {
    "collapsed": true
   },
   "outputs": [],
   "source": [
    "import time\n",
    "# 将时间字符串转化为时间\n",
    "def str2time(string):\n",
    "    year = string[0:4]\n",
    "    month = string[4:6]\n",
    "    day = string[6:8]\n",
    "    hour = string[8:10]\n",
    "    minute = string[10:12]\n",
    "    second = string[12:14]\n",
    "    time_str = '%s-%s-%s %s:%s:%s' % (year, month, day, hour, minute, second)\n",
    "    timestamp = time.mktime(time.strptime(time_str, '%Y-%m-%d %H:%M:%S'))  # 变为时间戳\n",
    "    return int(timestamp)\n",
    "\n",
    "# 将矩阵内的字符串转化为时间戳\n",
    "def calVecTimeStamp(vector):\n",
    "    timestamps = []\n",
    "    for v in vector:\n",
    "        timestamp = str2time(str(v))\n",
    "        timestamps.append(timestamp)\n",
    "    return timestamps\n",
    "\n",
    "charge_end_time_array = np.array(calVecTimeStamp(dataset['charge_end_time']))\n",
    "charge_start_time_array = np.array(calVecTimeStamp(dataset['charge_start_time']))\n",
    "charge_start_soc_array = np.array(dataset['charge_start_soc'])\n",
    "charge_end_soc_array = np.array(dataset['charge_end_soc'])\n",
    "dataset['charge_duration'] = (charge_end_time_array - charge_start_time_array).tolist()\n",
    "dataset['charge_delta_soc'] = (charge_end_soc_array - charge_start_soc_array).tolist()\n",
    "header.insert(3, 'charge_duration')\n",
    "header.insert(7, 'charge_delta_soc')\n",
    "dataset = dataset[header]"
   ]
  },
  {
   "cell_type": "code",
   "execution_count": null,
   "metadata": {},
   "outputs": [],
   "source": [
    "# correlation\n",
    "pd.set_option('precision', 2)\n",
    "dataset.corr(method='pearson')"
   ]
  },
  {
   "cell_type": "code",
   "execution_count": null,
   "metadata": {
    "scrolled": true
   },
   "outputs": [],
   "source": [
    "# 对不同车的数据进行相关性分析，会发现更多信息\n",
    "import copy;\n",
    "header_v1=copy.deepcopy(header)  # 深拷贝\n",
    "#header_v1.remove('vehicle_id')\n",
    "header_v1.insert(5, 'delta_mileage')\n",
    "\n",
    "for i in range(1, count+1):\n",
    "    data = dataset[(dataset['vehicle_id']==i)]\n",
    "    data = data[header]\n",
    "    mileage_list = data['mileage'].tolist()\n",
    "    # 增加里程充电前汽车行驶里程数\n",
    "    delta_mileage_list = [0] * len(mileage_list)\n",
    "    for j in range(1, len(mileage_list)):\n",
    "        delta_mileage = mileage_list[j] - mileage_list[j-1]\n",
    "        delta_mileage_list[j] = delta_mileage\n",
    "    data['delta_mileage'] = delta_mileage_list\n",
    "    data = data[header_v1]\n",
    "    corr=data.corr()\n",
    "    plt.figure(figsize=(10, 10))\n",
    "    sns.heatmap(corr, vmax=0.8, linewidths=0.01,\n",
    "                square=True,annot=True,cmap='YlGnBu',linecolor=\"white\")\n",
    "    plt.title('Correlation between features for vehicle # %d' % i);\n",
    "    \n",
    "    # 保存data\n",
    "    data.to_csv(data_root + \"predict_data_e_train_%d.csv\" % i, index=False)"
   ]
  },
  {
   "cell_type": "markdown",
   "metadata": {},
   "source": [
    "> 1. 增加新的三列之后，发现charge_energy与charge_duration、charge_start_soc、charge_delta_soc、charge_start_U、charge_start_I具有较强的相关性。\n",
    "    下面分别记录了不同车的与charge_energy相关性大于0.5的特征（按照由大到小排序，只考虑大小，不考虑正负）。\n",
    "\n",
    "> 2. 对不同的车进行相关性分析，某些相关性会变强"
   ]
  },
  {
   "cell_type": "markdown",
   "metadata": {},
   "source": [
    "    \n",
    "    | No1    | No2    | No3    | No4    | No5    |\n",
    "    | ------ | ------ | ------ | ------ | ------ |\n",
    "    | charge_duration(0.88) | charge_delta_soc(1)   | charge_start_U(0.77)   | charge_start_soc(0.96) | charge_start_soc(0.86) |\n",
    "    | charge_start_U(0.81)  | charge_end_soc(0.75)  | charge_delta_soc(0.75) | charge_duration(0.93) | charge_delta_soc(0.61) |\n",
    "    | charge_delta_soc(0.76)| charge_end_U(0.74)    | charge_start_soc(0.63) | delta_mileage(0.76) | charge_start_U(0.57) |\n",
    "    | charge_start_I(0.68)  | charge_duration(0.73) |                        | charge_delta_soc(0.71) |  |\n",
    "    | charge_start_soc(0.65)| charge_start_U(0.58)  | | charge_start_I(0.66)| |\n",
    "    |                       | charge_start_soc(0.51)| | charge_start_U(9.54) | |"
   ]
  },
  {
   "cell_type": "markdown",
   "metadata": {},
   "source": [
    "### 数据可视化"
   ]
  },
  {
   "cell_type": "markdown",
   "metadata": {},
   "source": [
    "#### 充电能量分布图"
   ]
  },
  {
   "cell_type": "code",
   "execution_count": null,
   "metadata": {
    "scrolled": true
   },
   "outputs": [],
   "source": [
    "from scipy import stats\n",
    "for i in range(1, count+1):\n",
    "    NONE_VIN = (dataset[\"charge_energy\"].notnull() & (dataset['vehicle_id']==i))\n",
    "    fig = plt.figure()\n",
    "    sns.distplot(dataset[NONE_VIN]['charge_energy']);\n",
    "    fig = plt.figure()\n",
    "    res = stats.probplot(dataset[NONE_VIN]['charge_energy'], plot=plt)"
   ]
  },
  {
   "cell_type": "markdown",
   "metadata": {},
   "source": [
    "> 由上图可以发现，充电能量分布不均衡，并且0附近的值占比较大，分析数据可得这是由于充电时间过短造成的，而这将很大程度上会影响最终模型的表现，因此，对于建议**这类数据应视为一种“异常”，应该给予特殊处理**。"
   ]
  },
  {
   "cell_type": "markdown",
   "metadata": {},
   "source": [
    "#### 充电能量低数据集"
   ]
  },
  {
   "cell_type": "code",
   "execution_count": null,
   "metadata": {},
   "outputs": [],
   "source": [
    "dataset[dataset['charge_energy'] < 1].head()"
   ]
  },
  {
   "cell_type": "markdown",
   "metadata": {},
   "source": [
    "> 对这些充电能量较低的数据分析可得，充电能量低是由于充电时间较短造成的。"
   ]
  },
  {
   "cell_type": "markdown",
   "metadata": {},
   "source": [
    "#### 不同车辆记录数直方图"
   ]
  },
  {
   "cell_type": "code",
   "execution_count": null,
   "metadata": {
    "scrolled": false
   },
   "outputs": [],
   "source": [
    "sns.countplot(x='vehicle_id', data=dataset)"
   ]
  },
  {
   "cell_type": "markdown",
   "metadata": {},
   "source": [
    "#### 对于每一列数据其值的分布情况直方图"
   ]
  },
  {
   "cell_type": "code",
   "execution_count": null,
   "metadata": {
    "scrolled": true
   },
   "outputs": [],
   "source": [
    "# histograms\n",
    "for i in range(1, count+1):\n",
    "    dataset[dataset['vehicle_id']==i].hist(bins=20,figsize=(12,10),grid=False);"
   ]
  },
  {
   "cell_type": "markdown",
   "metadata": {},
   "source": [
    "不同车辆的里程数与充电能量的关系"
   ]
  },
  {
   "cell_type": "code",
   "execution_count": null,
   "metadata": {},
   "outputs": [],
   "source": [
    "_, ax = plt.subplots(2, 3)\n",
    "for id in range(0, count+1):\n",
    "    row = int(id / 3)\n",
    "    col = int(id % 3)\n",
    "    dataset[dataset['vehicle_id']==id+1]['mileage'].plot(ax=ax[row][col], figsize=(9, 6))\n",
    "plt.show()"
   ]
  },
  {
   "cell_type": "code",
   "execution_count": null,
   "metadata": {},
   "outputs": [],
   "source": [
    "for id in range(0, count+1):\n",
    "    plt.subplot(2,3,id+1)\n",
    "    sns.regplot(dataset[dataset['vehicle_id']==id+1]['mileage'], dataset[dataset['vehicle_id']==id+1]['charge_energy'])\n",
    "plt.show()"
   ]
  },
  {
   "cell_type": "markdown",
   "metadata": {},
   "source": [
    "不同车辆充电开始SOC与充电能量的关系"
   ]
  },
  {
   "cell_type": "code",
   "execution_count": null,
   "metadata": {},
   "outputs": [],
   "source": [
    "for id in range(0, count+1):\n",
    "    plt.subplot(2,3,id+1)\n",
    "    sns.regplot(dataset[dataset['vehicle_id']==id+1]['charge_start_soc'], dataset[dataset['vehicle_id']==id+1]['charge_energy'])\n",
    "plt.show()"
   ]
  },
  {
   "cell_type": "code",
   "execution_count": null,
   "metadata": {},
   "outputs": [],
   "source": [
    "for id in range(0, count+1):\n",
    "    plt.subplot(2,3,id+1)\n",
    "    sns.regplot(dataset[dataset['vehicle_id']==id+1]['charge_end_soc'], dataset[dataset['vehicle_id']==id+1]['charge_energy'])\n",
    "plt.show()"
   ]
  },
  {
   "cell_type": "code",
   "execution_count": null,
   "metadata": {},
   "outputs": [],
   "source": [
    "for id in range(0, count+1):\n",
    "    plt.subplot(2,3,id+1)\n",
    "    sns.regplot(dataset[dataset['vehicle_id']==id+1]['charge_delta_soc'], dataset[dataset['vehicle_id']==id+1]['charge_energy'])\n",
    "plt.show()"
   ]
  },
  {
   "cell_type": "markdown",
   "metadata": {},
   "source": [
    "不同车辆充电开始、结束电压与充电能量的关系"
   ]
  },
  {
   "cell_type": "code",
   "execution_count": null,
   "metadata": {},
   "outputs": [],
   "source": [
    "for id in range(0, count+1):\n",
    "    plt.subplot(2,3,id+1)\n",
    "    sns.regplot(dataset[dataset['vehicle_id']==id+1]['charge_start_U'], dataset[dataset['vehicle_id']==id+1]['charge_energy'])\n",
    "plt.show()"
   ]
  },
  {
   "cell_type": "code",
   "execution_count": null,
   "metadata": {},
   "outputs": [],
   "source": [
    "for id in range(0, count+1):\n",
    "    plt.subplot(2,3,id+1)\n",
    "    sns.regplot(dataset[dataset['vehicle_id']==id+1]['charge_end_U'], dataset[dataset['vehicle_id']==id+1]['charge_energy'])\n",
    "plt.show()"
   ]
  },
  {
   "cell_type": "markdown",
   "metadata": {},
   "source": [
    "不同车辆充电开始、结束电流与充电能量的关系"
   ]
  },
  {
   "cell_type": "code",
   "execution_count": null,
   "metadata": {},
   "outputs": [],
   "source": [
    "for id in range(0, count+1):\n",
    "    plt.subplot(2,3,id+1)\n",
    "    sns.regplot(dataset[dataset['vehicle_id']==id+1]['charge_start_I'], dataset[dataset['vehicle_id']==id+1]['charge_energy'])\n",
    "plt.show()"
   ]
  },
  {
   "cell_type": "code",
   "execution_count": null,
   "metadata": {},
   "outputs": [],
   "source": [
    "for id in range(0, 5):\n",
    "    plt.subplot(2,3,id+1)\n",
    "    sns.regplot(dataset[dataset['vehicle_id']==id+1]['charge_end_I'], dataset[dataset['vehicle_id']==id+1]['charge_energy'])\n",
    "plt.show()"
   ]
  },
  {
   "cell_type": "markdown",
   "metadata": {},
   "source": [
    "不同车辆充电充电过程中温度与充电能量的关系"
   ]
  },
  {
   "cell_type": "code",
   "execution_count": null,
   "metadata": {},
   "outputs": [],
   "source": [
    "for id in range(0, count+1):\n",
    "    plt.subplot(2,3,id+1)\n",
    "    sns.regplot(dataset[dataset['vehicle_id']==id+1]['charge_max_temp'], dataset[dataset['vehicle_id']==id+1]['charge_energy'])\n",
    "plt.show()"
   ]
  },
  {
   "cell_type": "code",
   "execution_count": null,
   "metadata": {},
   "outputs": [],
   "source": [
    "for id in range(0, count+1):\n",
    "    plt.subplot(2,3,id+1)\n",
    "    sns.regplot(dataset[dataset['vehicle_id']==id+1]['charge_min_temp'], dataset[dataset['vehicle_id']==id+1]['charge_energy'])\n",
    "plt.show()"
   ]
  },
  {
   "cell_type": "markdown",
   "metadata": {},
   "source": [
    "### 结论\n",
    "* 每辆车的数据都有相应的分布，所以建立的模型要针对不同的电动汽车。\n",
    "* 虽然每辆车的数据分布不同，但是充电能量的影响因素大体上来说是一致的。即充电能量与充电时间、充电开始能量、充电开始电压等因素息息相关。"
   ]
  }
 ],
 "metadata": {
  "kernelspec": {
   "display_name": "Python 3",
   "language": "python",
   "name": "python3"
  },
  "language_info": {
   "codemirror_mode": {
    "name": "ipython",
    "version": 3
   },
   "file_extension": ".py",
   "mimetype": "text/x-python",
   "name": "python",
   "nbconvert_exporter": "python",
   "pygments_lexer": "ipython3",
   "version": "3.6.2"
  }
 },
 "nbformat": 4,
 "nbformat_minor": 2
}
