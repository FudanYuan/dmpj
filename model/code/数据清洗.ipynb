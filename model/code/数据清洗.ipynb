{
 "cells": [
  {
   "cell_type": "code",
   "execution_count": 1,
   "metadata": {
    "collapsed": true
   },
   "outputs": [],
   "source": [
    "import csv\n",
    "import codecs\n",
    "\n",
    "for i in range(1, 6):\n",
    "    csv_file = csv.reader(open('../energy_predict_data/predict_data_e_train_%d.csv' % i,'r'))\n",
    "    file_name='perfect_%d.csv' % i\n",
    "    with open(file_name,'w',newline='') as write_file:\n",
    "            writer = csv.writer(write_file, dialect='excel')\n",
    "            for line in csv_file:\n",
    "                if '' in line:\n",
    "                    pass\n",
    "                elif '0.0' in line:\n",
    "                    pass\n",
    "                else:\n",
    "                    writer.writerow(line)\n"
   ]
  },
  {
   "cell_type": "code",
   "execution_count": 2,
   "metadata": {
    "collapsed": true
   },
   "outputs": [],
   "source": [
    "import csv\n",
    "import codecs\n",
    "\n",
    "for i in range(1, 6):\n",
    "    csv_file = csv.reader(open('../energy_predict_data/predict_data_e_train_%d.csv' % i,'r'))\n",
    "    file_name='perfect_not_%d.csv' % i\n",
    "    with open(file_name,'w',newline='') as write_file:\n",
    "            writer = csv.writer(write_file, dialect='excel')\n",
    "            row_counter = 0\n",
    "            for line in csv_file:\n",
    "                if row_counter == 0:\n",
    "                    writer.writerow(line)\n",
    "                row_counter += 1\n",
    "                if '' in line:\n",
    "                    writer.writerow(line)\n",
    "                elif '0.0' in line:\n",
    "                    writer.writerow(line)\n",
    "                else:\n",
    "                    pass\n"
   ]
  },
  {
   "cell_type": "code",
   "execution_count": null,
   "metadata": {
    "collapsed": true
   },
   "outputs": [],
   "source": []
  }
 ],
 "metadata": {
  "kernelspec": {
   "display_name": "Python 3",
   "language": "python",
   "name": "python3"
  },
  "language_info": {
   "codemirror_mode": {
    "name": "ipython",
    "version": 3
   },
   "file_extension": ".py",
   "mimetype": "text/x-python",
   "name": "python",
   "nbconvert_exporter": "python",
   "pygments_lexer": "ipython3",
   "version": "3.6.2"
  }
 },
 "nbformat": 4,
 "nbformat_minor": 2
}
