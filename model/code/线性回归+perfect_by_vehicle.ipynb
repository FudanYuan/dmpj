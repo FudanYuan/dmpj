{
 "cells": [
  {
   "cell_type": "code",
   "execution_count": 1,
   "metadata": {
    "collapsed": true
   },
   "outputs": [],
   "source": [
    "import pandas as pd\n",
    "import matplotlib.pyplot as plt\n",
    "import seaborn as sns\n",
    "%matplotlib inline\n",
    "import numpy as np"
   ]
  },
  {
   "cell_type": "markdown",
   "metadata": {},
   "source": [
    "### 加载数据集"
   ]
  },
  {
   "cell_type": "code",
   "execution_count": 2,
   "metadata": {},
   "outputs": [
    {
     "data": {
      "text/html": [
       "<div>\n",
       "<style scoped>\n",
       "    .dataframe tbody tr th:only-of-type {\n",
       "        vertical-align: middle;\n",
       "    }\n",
       "\n",
       "    .dataframe tbody tr th {\n",
       "        vertical-align: top;\n",
       "    }\n",
       "\n",
       "    .dataframe thead th {\n",
       "        text-align: right;\n",
       "    }\n",
       "</style>\n",
       "<table border=\"1\" class=\"dataframe\">\n",
       "  <thead>\n",
       "    <tr style=\"text-align: right;\">\n",
       "      <th></th>\n",
       "      <th>vehicle_id</th>\n",
       "      <th>charge_start_time</th>\n",
       "      <th>charge_end_time</th>\n",
       "      <th>charge_duration</th>\n",
       "      <th>mileage</th>\n",
       "      <th>delta_mileage</th>\n",
       "      <th>charge_start_soc</th>\n",
       "      <th>charge_end_soc</th>\n",
       "      <th>charge_delta_soc</th>\n",
       "      <th>charge_start_U</th>\n",
       "      <th>charge_end_U</th>\n",
       "      <th>charge_start_I</th>\n",
       "      <th>charge_end_I</th>\n",
       "      <th>charge_max_temp</th>\n",
       "      <th>charge_min_temp</th>\n",
       "      <th>charge_energy</th>\n",
       "    </tr>\n",
       "  </thead>\n",
       "  <tbody>\n",
       "    <tr>\n",
       "      <th>count</th>\n",
       "      <td>257.0</td>\n",
       "      <td>2.570000e+02</td>\n",
       "      <td>2.570000e+02</td>\n",
       "      <td>257.000000</td>\n",
       "      <td>257.000000</td>\n",
       "      <td>257.000000</td>\n",
       "      <td>257.000000</td>\n",
       "      <td>257.000000</td>\n",
       "      <td>257.000000</td>\n",
       "      <td>257.000000</td>\n",
       "      <td>257.000000</td>\n",
       "      <td>257.000000</td>\n",
       "      <td>257.000000</td>\n",
       "      <td>257.000000</td>\n",
       "      <td>257.000000</td>\n",
       "      <td>257.000000</td>\n",
       "    </tr>\n",
       "    <tr>\n",
       "      <th>mean</th>\n",
       "      <td>3.0</td>\n",
       "      <td>2.017741e+13</td>\n",
       "      <td>2.017745e+13</td>\n",
       "      <td>5059.521401</td>\n",
       "      <td>152351.112840</td>\n",
       "      <td>138.315175</td>\n",
       "      <td>24.373541</td>\n",
       "      <td>46.296498</td>\n",
       "      <td>21.922957</td>\n",
       "      <td>333.768093</td>\n",
       "      <td>368.296109</td>\n",
       "      <td>-40.590272</td>\n",
       "      <td>-22.291829</td>\n",
       "      <td>20.171206</td>\n",
       "      <td>10.424125</td>\n",
       "      <td>12.805245</td>\n",
       "    </tr>\n",
       "    <tr>\n",
       "      <th>std</th>\n",
       "      <td>0.0</td>\n",
       "      <td>4.227176e+09</td>\n",
       "      <td>4.212916e+09</td>\n",
       "      <td>4905.722032</td>\n",
       "      <td>8903.017228</td>\n",
       "      <td>632.343142</td>\n",
       "      <td>20.998428</td>\n",
       "      <td>25.133370</td>\n",
       "      <td>13.071467</td>\n",
       "      <td>19.044387</td>\n",
       "      <td>9.145409</td>\n",
       "      <td>37.395150</td>\n",
       "      <td>23.156795</td>\n",
       "      <td>7.453100</td>\n",
       "      <td>7.918227</td>\n",
       "      <td>6.114158</td>\n",
       "    </tr>\n",
       "    <tr>\n",
       "      <th>min</th>\n",
       "      <td>3.0</td>\n",
       "      <td>2.017110e+13</td>\n",
       "      <td>2.017110e+13</td>\n",
       "      <td>240.000000</td>\n",
       "      <td>136494.000000</td>\n",
       "      <td>1.000000</td>\n",
       "      <td>0.800000</td>\n",
       "      <td>8.800000</td>\n",
       "      <td>0.400000</td>\n",
       "      <td>255.900000</td>\n",
       "      <td>329.000000</td>\n",
       "      <td>-134.700000</td>\n",
       "      <td>-121.600000</td>\n",
       "      <td>-1.000000</td>\n",
       "      <td>-3.000000</td>\n",
       "      <td>0.106000</td>\n",
       "    </tr>\n",
       "    <tr>\n",
       "      <th>25%</th>\n",
       "      <td>3.0</td>\n",
       "      <td>2.017122e+13</td>\n",
       "      <td>2.017122e+13</td>\n",
       "      <td>2130.000000</td>\n",
       "      <td>146326.000000</td>\n",
       "      <td>57.000000</td>\n",
       "      <td>8.800000</td>\n",
       "      <td>29.600000</td>\n",
       "      <td>14.000000</td>\n",
       "      <td>325.800000</td>\n",
       "      <td>366.800000</td>\n",
       "      <td>-84.700000</td>\n",
       "      <td>-17.400000</td>\n",
       "      <td>16.000000</td>\n",
       "      <td>6.000000</td>\n",
       "      <td>8.193000</td>\n",
       "    </tr>\n",
       "    <tr>\n",
       "      <th>50%</th>\n",
       "      <td>3.0</td>\n",
       "      <td>2.018012e+13</td>\n",
       "      <td>2.018012e+13</td>\n",
       "      <td>3620.000000</td>\n",
       "      <td>151019.000000</td>\n",
       "      <td>81.000000</td>\n",
       "      <td>15.200000</td>\n",
       "      <td>33.600000</td>\n",
       "      <td>19.200000</td>\n",
       "      <td>333.200000</td>\n",
       "      <td>372.100000</td>\n",
       "      <td>-24.100000</td>\n",
       "      <td>-16.200000</td>\n",
       "      <td>19.000000</td>\n",
       "      <td>8.000000</td>\n",
       "      <td>13.495000</td>\n",
       "    </tr>\n",
       "    <tr>\n",
       "      <th>75%</th>\n",
       "      <td>3.0</td>\n",
       "      <td>2.018031e+13</td>\n",
       "      <td>2.018031e+13</td>\n",
       "      <td>5170.000000</td>\n",
       "      <td>155903.000000</td>\n",
       "      <td>101.000000</td>\n",
       "      <td>38.000000</td>\n",
       "      <td>77.000000</td>\n",
       "      <td>27.200000</td>\n",
       "      <td>344.300000</td>\n",
       "      <td>374.400000</td>\n",
       "      <td>-8.100000</td>\n",
       "      <td>-8.600000</td>\n",
       "      <td>24.000000</td>\n",
       "      <td>12.000000</td>\n",
       "      <td>17.616000</td>\n",
       "    </tr>\n",
       "    <tr>\n",
       "      <th>max</th>\n",
       "      <td>3.0</td>\n",
       "      <td>2.018061e+13</td>\n",
       "      <td>2.018061e+13</td>\n",
       "      <td>26071.000000</td>\n",
       "      <td>172430.000000</td>\n",
       "      <td>9703.000000</td>\n",
       "      <td>90.000000</td>\n",
       "      <td>100.000000</td>\n",
       "      <td>64.000000</td>\n",
       "      <td>373.100000</td>\n",
       "      <td>374.700000</td>\n",
       "      <td>-0.600000</td>\n",
       "      <td>-0.100000</td>\n",
       "      <td>43.000000</td>\n",
       "      <td>35.000000</td>\n",
       "      <td>25.175000</td>\n",
       "    </tr>\n",
       "  </tbody>\n",
       "</table>\n",
       "</div>"
      ],
      "text/plain": [
       "       vehicle_id  charge_start_time  charge_end_time  charge_duration  \\\n",
       "count       257.0       2.570000e+02     2.570000e+02       257.000000   \n",
       "mean          3.0       2.017741e+13     2.017745e+13      5059.521401   \n",
       "std           0.0       4.227176e+09     4.212916e+09      4905.722032   \n",
       "min           3.0       2.017110e+13     2.017110e+13       240.000000   \n",
       "25%           3.0       2.017122e+13     2.017122e+13      2130.000000   \n",
       "50%           3.0       2.018012e+13     2.018012e+13      3620.000000   \n",
       "75%           3.0       2.018031e+13     2.018031e+13      5170.000000   \n",
       "max           3.0       2.018061e+13     2.018061e+13     26071.000000   \n",
       "\n",
       "             mileage  delta_mileage  charge_start_soc  charge_end_soc  \\\n",
       "count     257.000000     257.000000        257.000000      257.000000   \n",
       "mean   152351.112840     138.315175         24.373541       46.296498   \n",
       "std      8903.017228     632.343142         20.998428       25.133370   \n",
       "min    136494.000000       1.000000          0.800000        8.800000   \n",
       "25%    146326.000000      57.000000          8.800000       29.600000   \n",
       "50%    151019.000000      81.000000         15.200000       33.600000   \n",
       "75%    155903.000000     101.000000         38.000000       77.000000   \n",
       "max    172430.000000    9703.000000         90.000000      100.000000   \n",
       "\n",
       "       charge_delta_soc  charge_start_U  charge_end_U  charge_start_I  \\\n",
       "count        257.000000      257.000000    257.000000      257.000000   \n",
       "mean          21.922957      333.768093    368.296109      -40.590272   \n",
       "std           13.071467       19.044387      9.145409       37.395150   \n",
       "min            0.400000      255.900000    329.000000     -134.700000   \n",
       "25%           14.000000      325.800000    366.800000      -84.700000   \n",
       "50%           19.200000      333.200000    372.100000      -24.100000   \n",
       "75%           27.200000      344.300000    374.400000       -8.100000   \n",
       "max           64.000000      373.100000    374.700000       -0.600000   \n",
       "\n",
       "       charge_end_I  charge_max_temp  charge_min_temp  charge_energy  \n",
       "count    257.000000       257.000000       257.000000     257.000000  \n",
       "mean     -22.291829        20.171206        10.424125      12.805245  \n",
       "std       23.156795         7.453100         7.918227       6.114158  \n",
       "min     -121.600000        -1.000000        -3.000000       0.106000  \n",
       "25%      -17.400000        16.000000         6.000000       8.193000  \n",
       "50%      -16.200000        19.000000         8.000000      13.495000  \n",
       "75%       -8.600000        24.000000        12.000000      17.616000  \n",
       "max       -0.100000        43.000000        35.000000      25.175000  "
      ]
     },
     "execution_count": 2,
     "metadata": {},
     "output_type": "execute_result"
    }
   ],
   "source": [
    "data_root = '.'  # 改成自己电脑上的路径即可\n",
    "dataset = pd.read_csv(data_root + '/perfect_3.csv')\n",
    "header = dataset.columns.values.tolist()\n",
    "dataset.describe()"
   ]
  },
  {
   "cell_type": "code",
   "execution_count": 3,
   "metadata": {},
   "outputs": [
    {
     "name": "stderr",
     "output_type": "stream",
     "text": [
      "/Users/Jeremy/miniconda3/envs/test/lib/python3.6/site-packages/matplotlib/axes/_axes.py:6462: UserWarning: The 'normed' kwarg is deprecated, and has been replaced by the 'density' kwarg.\n",
      "  warnings.warn(\"The 'normed' kwarg is deprecated, and has been \"\n"
     ]
    },
    {
     "data": {
      "image/png": "[encoded data removed]",
      "text/plain": [
       "<Figure size 432x288 with 1 Axes>"
      ]
     },
     "metadata": {},
     "output_type": "display_data"
    }
   ],
   "source": [
    "sns.distplot(dataset['charge_energy']);"
   ]
  },
  {
   "cell_type": "markdown",
   "metadata": {},
   "source": [
    "### 特征选择"
   ]
  },
  {
   "cell_type": "code",
   "execution_count": 4,
   "metadata": {
    "collapsed": true
   },
   "outputs": [],
   "source": [
    "features = ['charge_duration', 'charge_start_soc', 'charge_start_U']\n",
    "X = dataset[header[3:14]] # \n",
    "y = dataset[header[15]]"
   ]
  },
  {
   "cell_type": "markdown",
   "metadata": {},
   "source": [
    "### 将数据区分为训练集和测试集"
   ]
  },
  {
   "cell_type": "code",
   "execution_count": 5,
   "metadata": {},
   "outputs": [
    {
     "name": "stdout",
     "output_type": "stream",
     "text": [
      "(192, 11)\n",
      "(192,)\n",
      "(65, 11)\n",
      "(65,)\n"
     ]
    }
   ],
   "source": [
    "from sklearn.model_selection import train_test_split\n",
    "X_train, X_test, y_train, y_test = train_test_split(X, y, test_size=0.25, random_state=42)\n",
    "print(X_train.shape)\n",
    "print(y_train.shape)\n",
    "print(X_test.shape)\n",
    "print(y_test.shape)"
   ]
  },
  {
   "cell_type": "markdown",
   "metadata": {},
   "source": [
    "### 数据标准化"
   ]
  },
  {
   "cell_type": "code",
   "execution_count": 6,
   "metadata": {},
   "outputs": [
    {
     "data": {
      "text/plain": [
       "array([[ 0.45793814,  0.4851959 ,  0.00742115, ...,  0.93959732,\n",
       "         0.93072015,  0.275     ],\n",
       "       [ 0.07355503,  0.49023264,  0.00721501, ...,  0.37061894,\n",
       "         0.85232452,  0.375     ],\n",
       "       [ 0.11846231,  0.91907836,  0.00391672, ...,  0.9448173 ,\n",
       "         0.92980857,  0.775     ],\n",
       "       ..., \n",
       "       [ 0.10181565,  0.33442787,  0.00298907, ...,  0.37061894,\n",
       "         0.89152233,  0.5       ],\n",
       "       [ 0.42468352,  0.50779163,  0.00608122, ...,  0.94407159,\n",
       "         0.93163172,  0.25      ],\n",
       "       [ 0.2024699 ,  0.35329475,  0.01473923, ...,  0.96271439,\n",
       "         0.88787603,  0.425     ]])"
      ]
     },
     "execution_count": 6,
     "metadata": {},
     "output_type": "execute_result"
    }
   ],
   "source": [
    "from sklearn import preprocessing\n",
    "# scaler = preprocessing.StandardScaler()\n",
    "scaler = preprocessing.MinMaxScaler()\n",
    "X_train_scaled = scaler.fit_transform(X_train.astype(np.float64))\n",
    "X_train_scaled"
   ]
  },
  {
   "cell_type": "markdown",
   "metadata": {},
   "source": [
    "### 参数选择"
   ]
  },
  {
   "cell_type": "code",
   "execution_count": 7,
   "metadata": {},
   "outputs": [
    {
     "data": {
      "text/plain": [
       "(192, 11)"
      ]
     },
     "execution_count": 7,
     "metadata": {},
     "output_type": "execute_result"
    }
   ],
   "source": [
    "#导入sklearn库中的VarianceThreshold\n",
    "from sklearn.feature_selection import VarianceThreshold\n",
    "#设置方差的阈值为0.08\n",
    "sel = VarianceThreshold(threshold=0.08)\n",
    "#选择方差大于0.08的特征\n",
    "X_sel=sel.fit_transform(X_train.astype(np.float64))\n",
    "X_sel.shape"
   ]
  },
  {
   "cell_type": "markdown",
   "metadata": {},
   "source": [
    "### 训练模型"
   ]
  },
  {
   "cell_type": "code",
   "execution_count": 8,
   "metadata": {},
   "outputs": [
    {
     "name": "stdout",
     "output_type": "stream",
     "text": [
      "LinearRegression(copy_X=True, fit_intercept=True, n_jobs=1, normalize=False)\n",
      "12.0233650726\n",
      "[  3.20583679  -1.0766599   -0.59319437  -7.0491568   -1.95286288\n",
      "   6.53204258 -18.48546806  12.38854268  -3.19372246   4.31151996\n",
      "   3.98651047]\n"
     ]
    }
   ],
   "source": [
    "from sklearn.linear_model import LinearRegression\n",
    "linreg = LinearRegression()\n",
    "linreg.fit(X_train_scaled, y_train)\n",
    "print(linreg)\n",
    "print(linreg.intercept_)\n",
    "print(linreg.coef_)"
   ]
  },
  {
   "cell_type": "markdown",
   "metadata": {},
   "source": [
    "### 预测结果并评价\n",
    "> [评价方法点击这里](https://blog.csdn.net/SA14023053/article/details/51707305)"
   ]
  },
  {
   "cell_type": "code",
   "execution_count": 9,
   "metadata": {},
   "outputs": [
    {
     "name": "stdout",
     "output_type": "stream",
     "text": [
      "MSE: 2.45115001357\n",
      "RMSE: 1.56561489951\n",
      "MAE: 1.23343833513\n",
      "error_rate: 6.221141\n"
     ]
    }
   ],
   "source": [
    "#模型拟合测试集\n",
    "y_pred = linreg.predict(scaler.transform(X_test))\n",
    "\n",
    "#评估模型\n",
    "from sklearn import metrics\n",
    "# 用scikit-learn计算MSE\n",
    "print(\"MSE:\",metrics.mean_squared_error(y_test, y_pred))\n",
    "# 用scikit-learn计算RMSE\n",
    "print(\"RMSE:\",np.sqrt(metrics.mean_squared_error(y_test, y_pred)))\n",
    "# 用scikit-learn计算MAE\n",
    "print(\"MAE:\",metrics.mean_absolute_error(y_test, y_pred))\n",
    "# 计算精确度\n",
    "# for i in range(len(y_pred)):\n",
    "#     if y_pred[i] < 0:\n",
    "#         y_pred[i] = 0.4\n",
    "\n",
    "error_array = np.array(((y_test - y_pred) / y_test))\n",
    "error_rate = np.sqrt(np.sum(np.power(error_array,2)))\n",
    "print(\"error_rate: %f\" % error_rate)"
   ]
  },
  {
   "cell_type": "markdown",
   "metadata": {},
   "source": [
    "### 真实值与预测值越接近y=x表明预测越准确"
   ]
  },
  {
   "cell_type": "code",
   "execution_count": 10,
   "metadata": {},
   "outputs": [
    {
     "data": {
      "image/png": "[encoded data removed]",
      "text/plain": [
       "<Figure size 432x288 with 1 Axes>"
      ]
     },
     "metadata": {},
     "output_type": "display_data"
    }
   ],
   "source": [
    "fig, ax = plt.subplots()\n",
    "ax.scatter(y_test, y_pred)\n",
    "ax.plot([y.min(), y.max()], [y.min(), y.max()], 'k--', lw=4)\n",
    "ax.set_xlabel('Measured')\n",
    "ax.set_ylabel('Predicted')\n",
    "plt.show()"
   ]
  },
  {
   "cell_type": "markdown",
   "metadata": {},
   "source": [
    "### Q-Q图（分位数概率分布）\n",
    "> Q-Q图是一种散点图,对应于正态分布的Q-Q图,就是由标准正态分布的分位数为横坐标,样本值为纵坐标的散点图. 要利用QQ图鉴别样本数据是否近似于正态分布,只需看Q-Q图上的点是否近似地在一条直线附近,而且该直线的斜率为标准差,截距为均值. 用QQ图还可获得样本偏度和峰度的粗略信息."
   ]
  },
  {
   "cell_type": "code",
   "execution_count": 11,
   "metadata": {},
   "outputs": [
    {
     "data": {
      "image/png": "[encoded data removed]",
      "text/plain": [
       "<Figure size 576x432 with 1 Axes>"
      ]
     },
     "metadata": {},
     "output_type": "display_data"
    }
   ],
   "source": [
    "from scipy.stats import probplot\n",
    "f = plt.figure(figsize=(8, 6))\n",
    "ax = f.add_subplot(111)\n",
    "probplot(y_test - y_pred, plot=ax);"
   ]
  },
  {
   "cell_type": "markdown",
   "metadata": {},
   "source": [
    "### 残差直方图"
   ]
  },
  {
   "cell_type": "code",
   "execution_count": 12,
   "metadata": {},
   "outputs": [
    {
     "data": {
      "image/png": "[encoded data removed]",
      "text/plain": [
       "<Figure size 504x360 with 1 Axes>"
      ]
     },
     "metadata": {},
     "output_type": "display_data"
    }
   ],
   "source": [
    "f, ax = plt.subplots(figsize=(7, 5))\n",
    "f.tight_layout()\n",
    "ax.hist(y_test - y_pred, bins=40, label='Residuals Linear', color='b', alpha=.5);\n",
    "ax.set_title(\"Histogram of Residuals\")\n",
    "ax.legend(loc='best');"
   ]
  },
  {
   "cell_type": "markdown",
   "metadata": {},
   "source": [
    "### 下面的内容是持续优化模型，交叉验证，可忽略"
   ]
  },
  {
   "cell_type": "code",
   "execution_count": 13,
   "metadata": {},
   "outputs": [
    {
     "name": "stdout",
     "output_type": "stream",
     "text": [
      "MSE: 3.39478234446\n",
      "RMSE: 1.84249351273\n",
      "MAE: 1.33037881982\n",
      "error_rate: 35.356645\n"
     ]
    }
   ],
   "source": [
    "from sklearn.model_selection import cross_val_predict\n",
    "predicted = cross_val_predict(linreg, scaler.transform(X), y, cv=10)\n",
    "\n",
    "from sklearn import metrics\n",
    "# 用scikit-learn计算MSE\n",
    "print(\"MSE:\",metrics.mean_squared_error(y, predicted))\n",
    "# 用scikit-learn计算RMSE\n",
    "print(\"RMSE:\",np.sqrt(metrics.mean_squared_error(y, predicted)))\n",
    "# 用scikit-learn计算MAE\n",
    "print(\"MAE:\",metrics.mean_absolute_error(y, predicted))\n",
    "# 计算精确度\n",
    "# for i in range(len(y_pred)):\n",
    "#     if y_pred[i] < 0:\n",
    "#         y_pred[i] = 0.4\n",
    "error_array = np.array(((y - predicted) / y))\n",
    "error_rate = np.sqrt(np.sum(np.power(error_array,2)))\n",
    "print(\"error_rate: %f\" % error_rate)"
   ]
  },
  {
   "cell_type": "markdown",
   "metadata": {},
   "source": [
    "### 可视化预测结果"
   ]
  },
  {
   "cell_type": "code",
   "execution_count": 14,
   "metadata": {},
   "outputs": [
    {
     "data": {
      "image/png": "[encoded data removed]",
      "text/plain": [
       "<Figure size 432x288 with 1 Axes>"
      ]
     },
     "metadata": {},
     "output_type": "display_data"
    }
   ],
   "source": [
    "fig, ax = plt.subplots()\n",
    "ax.scatter(y, predicted)\n",
    "ax.plot([y.min(), y.max()], [y.min(), y.max()], 'k--', lw=4)\n",
    "ax.set_xlabel('Measured')\n",
    "ax.set_ylabel('Predicted')\n",
    "plt.show()"
   ]
  },
  {
   "cell_type": "code",
   "execution_count": null,
   "metadata": {
    "collapsed": true
   },
   "outputs": [],
   "source": []
  }
 ],
 "metadata": {
  "kernelspec": {
   "display_name": "Python 3",
   "language": "python",
   "name": "python3"
  },
  "language_info": {
   "codemirror_mode": {
    "name": "ipython",
    "version": 3
   },
   "file_extension": ".py",
   "mimetype": "text/x-python",
   "name": "python",
   "nbconvert_exporter": "python",
   "pygments_lexer": "ipython3",
   "version": "3.6.2"
  }
 },
 "nbformat": 4,
 "nbformat_minor": 2
}
